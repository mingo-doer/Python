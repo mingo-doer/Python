{
 "cells": [
  {
   "cell_type": "markdown",
   "metadata": {},
   "source": [
    "## 1.    理解名称空间的概念\n",
    "\n",
    "2.    理解绑定方法的概念3.    理解Python中一切皆对象思考话题：怎么理解Python中一切皆对象打卡要求：完成以下练习（前面四题可以口述或者发文，第五题上传代码链接地址）：1.    初始化函数的作用是什么,有什么特点2.    什么是绑定方法,有什么特点3.    对象与类的属性查找顺序什么怎么样的4.    什么是类 什么是对象（复习）\n"
   ]
  },
  {
   "cell_type": "markdown",
   "metadata": {},
   "source": [
    "对象会先从他自己对象名称空间中找属性 \n",
    "然后再在类的名称空间里找"
   ]
  },
  {
   "cell_type": "markdown",
   "metadata": {},
   "source": [
    "5.    程序设计：简易王者荣耀\n",
    "1.    设计王者荣耀中的英雄类,每个英雄对象可以对其他英雄对象使用技能\n",
    "2.    英雄具备以下属性英雄名称,等级,血量和Q_hurt,W_hurt,E_hurt 三个伤害属性,表示各技能的伤害量\n",
    "3.    具备以下技能Q W E三个技能都需要一个敌方英雄作为参数,当敌方血量小于等于0时输出角色死亡"
   ]
  },
  {
   "cell_type": "code",
   "execution_count": null,
   "metadata": {},
   "outputs": [],
   "source": []
  },
  {
   "cell_type": "code",
   "execution_count": 25,
   "metadata": {},
   "outputs": [],
   "source": [
    "class Hero:\n",
    "    def __init__(self,name,degree,blood,Q,W,E):\n",
    "        self.name=name\n",
    "        self.degree=degree\n",
    "        self.blood=blood\n",
    "        self.Q_hurt=Q\n",
    "        self.W_hurt=W\n",
    "        self.E_hurt=E\n",
    "    def attack(self,enemy):\n",
    "        if self.blood<0:\n",
    "            print('角色死亡')\n",
    "        else:\n",
    "            lost_blood=self.Q_hurt+self.E_hurt+self.W_hurt\n",
    "            enemy.blood-=lost_blood\n",
    "            print('''\n",
    "            英雄[%s] 打了 英雄[%s]\n",
    "        英雄[%s] 掉了[%s]\n",
    "        英雄[%s] 还剩血量[%s]\n",
    "            '''% (self.name,enemy.name,enemy.name,lost_blood,enemy.name,enemy.blood))\n",
    "    "
   ]
  },
  {
   "cell_type": "code",
   "execution_count": 26,
   "metadata": {},
   "outputs": [
    {
     "name": "stdout",
     "output_type": "stream",
     "text": [
      "\n",
      "            英雄[露可娜娜] 打了 英雄[鲁班]\n",
      "        英雄[鲁班] 掉了[102]\n",
      "        英雄[鲁班] 还剩血量[98]\n",
      "            \n"
     ]
    }
   ],
   "source": [
    "h1 = Hero('露可娜娜',12,300,12,34,56)\n",
    "h2 = Hero('鲁班',12,200,12,34,54)\n",
    "h1.attack(h2)"
   ]
  }
 ],
 "metadata": {
  "kernelspec": {
   "display_name": "Python 3",
   "language": "python",
   "name": "python3"
  },
  "language_info": {
   "codemirror_mode": {
    "name": "ipython",
    "version": 3
   },
   "file_extension": ".py",
   "mimetype": "text/x-python",
   "name": "python",
   "nbconvert_exporter": "python",
   "pygments_lexer": "ipython3",
   "version": "3.7.3"
  }
 },
 "nbformat": 4,
 "nbformat_minor": 2
}
