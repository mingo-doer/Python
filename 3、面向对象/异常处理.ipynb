{
 "cells": [
  {
   "cell_type": "markdown",
   "metadata": {},
   "source": [
    "# 一 异常的介绍\n",
    "## 1. 什么是异常\n",
    "异常处理也就是处理异常，那么我们首先要知道什么是异常？\n",
    "异常是错误发生的信号，程序一旦出错，如果程序中还没有相应的处理机制，那么该错误就会产生一个异常抛出来，程序的运行也随之终止\n",
    "\n",
    "## 2. 异常由三分部构成\n",
    "异常的追踪信息\n",
    "异常的类型  异常的类型就是异常的类，所以可以打印SyntaxError来查看\n",
    "异常的值\n",
    "## 3. 异常的分类\n",
    "语法异常 这类异常是在程序运行之前，Python解释器会通篇监测语法，发现错误，直接抛错，所以你会发现程序根本就没有执行，这种异常我们应该在程序运行前就改正，这也是最基本的素质。\n",
    "\n",
    "AttributeError 试图访问一个对象没有的属性，比如foo.x，但是foo没有属性x\n",
    "IOError 输入/输出异常；基本上是无法打开文件\n",
    "ImportError 无法引入模块或包；基本上是路径问题或名称错误\n",
    "IndentationError 语法错误（的子类） ；代码没有正确对齐\n",
    "IndexError 下标索引超出序列边界，比如当x只有三个元素，却试图访问x[5]\n",
    "KeyError 试图访问字典里不存在的键\n",
    "KeyboardInterrupt Ctrl+C被按下\n",
    "NameError 使用一个还未被赋予对象的变量\n",
    "SyntaxError Python代码非法，代码不能编译(个人认为这是语法错误，写错了）\n",
    "TypeError 传入对象类型与要求的不符合\n",
    "UnboundLocalError 试图访问一个还未被设置的局部变量，基本上是由于另有一个同名的全局变量，\n",
    "导致你以为正在访问它\n",
    "ValueError 传入一个调用者不期望的值，即使值的类型是正确的\n",
    "#  异常处理\n",
    "## 1. 异常处理的格式\n",
    "\n",
    "try 加缩进的代码块，这部分代码是尝试捕获异常的代码，except 加可以预测到的异常种类。如果发生异常，并且补捕获到了异常的种类，就会执行 except 下面缩进的代码块。如果没有异常捕捉失败，那么异常还会发生 ，整个程序就终止了，所以 except 后面的 error 要和你抛出的异常相匹配才可以"
   ]
  },
  {
   "cell_type": "markdown",
   "metadata": {},
   "source": [
    "try 与 finally 组合：\n",
    "无论有没有异常发生，finally 子代码都会执行"
   ]
  },
  {
   "cell_type": "code",
   "execution_count": 2,
   "metadata": {},
   "outputs": [
    {
     "name": "stdout",
     "output_type": "stream",
     "text": [
      "start.....\n",
      "万能异常---》 list index out of range\n",
      "无论有没有异常发生，都会执行\n",
      "other.....\n"
     ]
    }
   ],
   "source": [
    "try:\n",
    "    print('start.....')\n",
    "    x=1\n",
    "    # y\n",
    "    l=[]\n",
    "    l[3]\n",
    "    d={'a':1}\n",
    "    d['b']\n",
    "    import os\n",
    "    os.aaa\n",
    "    print('end....')\n",
    "except NameError as e:\n",
    "    print('NameError: ',e)\n",
    "except KeyError as e:\n",
    "    print('KeyError: ',e)\n",
    "except Exception as e:\n",
    "    print('万能异常---》',e)\n",
    "else:\n",
    "    print('在被检测的代码块没有出现任何异常的情况下执行')\n",
    "finally:\n",
    "    print('无论有没有异常发生，都会执行')\n",
    "print('other.....')"
   ]
  },
  {
   "cell_type": "code",
   "execution_count": 8,
   "metadata": {},
   "outputs": [
    {
     "name": "stdout",
     "output_type": "stream",
     "text": [
      "other....\n"
     ]
    }
   ],
   "source": [
    "try:\n",
    "    f = open('a.txt', mode='r', encoding='utf-8')\n",
    "    f.readline()\n",
    "    # f.close() \n",
    "finally:\n",
    "    f.close()\n",
    "print('other....')"
   ]
  },
  {
   "cell_type": "markdown",
   "metadata": {},
   "source": [
    "# 三 主动触发异常\n",
    "## 1. raise 主动触发异常\n",
    "上面讲到的是程序发生的我们不想让他发生的异常，我们已经知道怎么处理了，另外还有一种情况，我们也希望能够主动触发异常，来对使用者进行一定的限制。"
   ]
  },
  {
   "cell_type": "code",
   "execution_count": 10,
   "metadata": {},
   "outputs": [
    {
     "name": "stdout",
     "output_type": "stream",
     "text": [
      "<class 'TypeError'>\n",
      "类型错误\n"
     ]
    },
    {
     "ename": "TypeError",
     "evalue": "用户名 123 必须是str类型",
     "output_type": "error",
     "traceback": [
      "\u001b[1;31m---------------------------------------------------------------------------\u001b[0m",
      "\u001b[1;31mTypeError\u001b[0m                                 Traceback (most recent call last)",
      "\u001b[1;32m<ipython-input-10-d26ca8a487bb>\u001b[0m in \u001b[0;36m<module>\u001b[1;34m\u001b[0m\n\u001b[0;32m      7\u001b[0m             \u001b[1;32mraise\u001b[0m \u001b[0mTypeError\u001b[0m\u001b[1;33m(\u001b[0m\u001b[1;34m'用户名 %s 必须是str类型'\u001b[0m \u001b[1;33m%\u001b[0m \u001b[0mname\u001b[0m\u001b[1;33m)\u001b[0m\u001b[1;33m\u001b[0m\u001b[1;33m\u001b[0m\u001b[0m\n\u001b[0;32m      8\u001b[0m         \u001b[0mself\u001b[0m\u001b[1;33m.\u001b[0m\u001b[0mname\u001b[0m \u001b[1;33m=\u001b[0m \u001b[0mname\u001b[0m\u001b[1;33m\u001b[0m\u001b[1;33m\u001b[0m\u001b[0m\n\u001b[1;32m----> 9\u001b[1;33m \u001b[0mp\u001b[0m \u001b[1;33m=\u001b[0m \u001b[0mPeople\u001b[0m\u001b[1;33m(\u001b[0m\u001b[1;36m123\u001b[0m\u001b[1;33m)\u001b[0m\u001b[1;33m\u001b[0m\u001b[1;33m\u001b[0m\u001b[0m\n\u001b[0m",
      "\u001b[1;32m<ipython-input-10-d26ca8a487bb>\u001b[0m in \u001b[0;36m__init__\u001b[1;34m(self, name)\u001b[0m\n\u001b[0;32m      5\u001b[0m     \u001b[1;32mdef\u001b[0m \u001b[0m__init__\u001b[0m\u001b[1;33m(\u001b[0m\u001b[0mself\u001b[0m\u001b[1;33m,\u001b[0m \u001b[0mname\u001b[0m\u001b[1;33m)\u001b[0m\u001b[1;33m:\u001b[0m\u001b[1;33m\u001b[0m\u001b[1;33m\u001b[0m\u001b[0m\n\u001b[0;32m      6\u001b[0m         \u001b[1;32mif\u001b[0m \u001b[1;32mnot\u001b[0m \u001b[0misinstance\u001b[0m\u001b[1;33m(\u001b[0m\u001b[0mname\u001b[0m\u001b[1;33m,\u001b[0m \u001b[0mstr\u001b[0m\u001b[1;33m)\u001b[0m\u001b[1;33m:\u001b[0m\u001b[1;33m\u001b[0m\u001b[1;33m\u001b[0m\u001b[0m\n\u001b[1;32m----> 7\u001b[1;33m             \u001b[1;32mraise\u001b[0m \u001b[0mTypeError\u001b[0m\u001b[1;33m(\u001b[0m\u001b[1;34m'用户名 %s 必须是str类型'\u001b[0m \u001b[1;33m%\u001b[0m \u001b[0mname\u001b[0m\u001b[1;33m)\u001b[0m\u001b[1;33m\u001b[0m\u001b[1;33m\u001b[0m\u001b[0m\n\u001b[0m\u001b[0;32m      8\u001b[0m         \u001b[0mself\u001b[0m\u001b[1;33m.\u001b[0m\u001b[0mname\u001b[0m \u001b[1;33m=\u001b[0m \u001b[0mname\u001b[0m\u001b[1;33m\u001b[0m\u001b[1;33m\u001b[0m\u001b[0m\n\u001b[0;32m      9\u001b[0m \u001b[0mp\u001b[0m \u001b[1;33m=\u001b[0m \u001b[0mPeople\u001b[0m\u001b[1;33m(\u001b[0m\u001b[1;36m123\u001b[0m\u001b[1;33m)\u001b[0m\u001b[1;33m\u001b[0m\u001b[1;33m\u001b[0m\u001b[0m\n",
      "\u001b[1;31mTypeError\u001b[0m: 用户名 123 必须是str类型"
     ]
    }
   ],
   "source": [
    "print(TypeError)  # TypeError是一个类\n",
    "obj = TypeError(\"类型错误\")  # 这其实就是实例化对象的过程\n",
    "print(obj)\n",
    "class People:\n",
    "    def __init__(self, name):\n",
    "        if not isinstance(name, str):\n",
    "            raise TypeError('用户名 %s 必须是str类型' % name)\n",
    "        self.name = name\n",
    "p = People(123)"
   ]
  },
  {
   "cell_type": "markdown",
   "metadata": {},
   "source": [
    "## 2. assert 断言\n",
    "试想一个场景，假如程序执行了很多代码到了第300行代码，而第300行代码得出的变量值是否为空，将关系到下面的代码是否运行，没有断言之前我们一般会这么处理"
   ]
  },
  {
   "cell_type": "code",
   "execution_count": 11,
   "metadata": {},
   "outputs": [
    {
     "name": "stdout",
     "output_type": "stream",
     "text": [
      "part1........\n",
      "part1........\n",
      "part1........\n",
      "part1........\n",
      "part1........\n",
      "part2.........\n",
      "part2.........\n",
      "part2.........\n",
      "part2.........\n",
      "part2.........\n",
      "part2.........\n"
     ]
    }
   ],
   "source": [
    "print('part1........')\n",
    "print('part1........')\n",
    "print('part1........')\n",
    "print('part1........')\n",
    "print('part1........')\n",
    "students = ['Albert', 'Harden', 'Curry', 'Wade']\n",
    "# students = []\n",
    "# if len(students) <= 0:\n",
    "#     raise TypeError  # 这里也可以不传参数\n",
    "assert len(students) > 0\n",
    "print('part2.........')\n",
    "print('part2.........')\n",
    "print('part2.........')\n",
    "print('part2.........')\n",
    "print('part2.........')\n",
    "print('part2.........')"
   ]
  },
  {
   "cell_type": "markdown",
   "metadata": {},
   "source": [
    "3. 自定义异常\n",
    "异常也就是一个类，那么我们当然可以自定义"
   ]
  },
  {
   "cell_type": "code",
   "execution_count": 12,
   "metadata": {},
   "outputs": [
    {
     "name": "stdout",
     "output_type": "stream",
     "text": [
      "<class '__main__.RegisterError'>\n",
      "<Albert：注册失败>\n"
     ]
    },
    {
     "ename": "RegisterError",
     "evalue": "<Albert：注册失败>",
     "output_type": "error",
     "traceback": [
      "\u001b[1;31m---------------------------------------------------------------------------\u001b[0m",
      "\u001b[1;31mRegisterError\u001b[0m                             Traceback (most recent call last)",
      "\u001b[1;32m<ipython-input-12-792e7d2d3e81>\u001b[0m in \u001b[0;36m<module>\u001b[1;34m\u001b[0m\n\u001b[0;32m      9\u001b[0m \u001b[0mprint\u001b[0m\u001b[1;33m(\u001b[0m\u001b[0mobj\u001b[0m\u001b[1;33m)\u001b[0m\u001b[1;33m\u001b[0m\u001b[1;33m\u001b[0m\u001b[0m\n\u001b[0;32m     10\u001b[0m \u001b[1;31m# 这行代码就相当于先初始化对象，再打印这个对象\u001b[0m\u001b[1;33m\u001b[0m\u001b[1;33m\u001b[0m\u001b[1;33m\u001b[0m\u001b[0m\n\u001b[1;32m---> 11\u001b[1;33m \u001b[1;32mraise\u001b[0m \u001b[0mRegisterError\u001b[0m\u001b[1;33m(\u001b[0m\u001b[1;34m'注册失败'\u001b[0m\u001b[1;33m,\u001b[0m\u001b[1;34m'Albert'\u001b[0m\u001b[1;33m)\u001b[0m\u001b[1;33m\u001b[0m\u001b[1;33m\u001b[0m\u001b[0m\n\u001b[0m",
      "\u001b[1;31mRegisterError\u001b[0m: <Albert：注册失败>"
     ]
    }
   ],
   "source": [
    "class RegisterError(BaseException):  # 需要继承这个异常的基类BaseException\n",
    "    def __init__(self,massage,username):\n",
    "        self.massage=massage\n",
    "        self.username=username\n",
    "    def __str__(self):  # 自定义对象的打印格式\n",
    "        return '<%s：%s>' %(self.username,self.massage)\n",
    "print(RegisterError)\n",
    "obj = RegisterError('注册失败','Albert')\n",
    "print(obj)\n",
    "# 这行代码就相当于先初始化对象，再打印这个对象\n",
    "raise RegisterError('注册失败','Albert')"
   ]
  },
  {
   "cell_type": "markdown",
   "metadata": {},
   "source": [
    "自定义一个Integer类      -- 该类有个input方法，调用该方法一定会得到一个合法的数字(非数字为不合法，越界为不合法)            \n",
    "---- 如果是非数字不合法，需要打印不合法消息，然后用户需要重新输入              -- 如输入'abc'，不合法消息就为：invalid literal for int() with base 10: 'abc'             ---- 如果是越界不合法，需要打印不合法消息，然后用户需要重新输入              -- 如输入'2147483648'，不合法消息就为：ErrorMsg：2147483648 - 越界             提示：        \n",
    "1)该方法需要捕获并处理两次异常(内置异常ValueError，自定义异常SlopOverError) \n",
    "2)该方法运用到递归方式处理更简单，如果用不到递归也可以          \n",
    "-- 该类有个verifySlopOver方法，可以判断传入的数字是否越界(非-2147483648 ~ 2147483647为越界)   \n",
    "\n",
    "---- 如果数字越界，会主动抛出自定义SlopOverError异常，并传入数字和异常消息   自定义异常SlopOverError类    \n",
    "-- 该类需要重写__init__方法          \n",
    "---- 有number、massage两个参数，number是数字类型的数，massage是字符串类型的异常消息    \n",
    "-- 该类需要重写__str__方法        \n",
    "---- 通过number、massage两个属性格式化异常信息\n"
   ]
  },
  {
   "cell_type": "code",
   "execution_count": 51,
   "metadata": {},
   "outputs": [],
   "source": [
    "class integer:\n",
    "    def __str__(self):\n",
    "        return '<%s：%s>' %(self.number,self.massage)\n",
    "    def verifySlopOver(self,number):\n",
    "        if number<-2147483648 or number>2147483648:\n",
    "            return False\n",
    "    def input_in(self):\n",
    "        number=int(input('请输入数字'))\n",
    "        if  not isinstance(number,int):\n",
    "            raise ValueError('必须输入数字')\n",
    "            number=input_in()\n",
    "        if  self.verifySlopOver(number):\n",
    "            raise SlopOverError('越界了',number)\n",
    "class  SlopOverError(BaseException): \n",
    "    def __init__(self,massage,number):\n",
    "        self.massage=massage\n",
    "        self.number=number\n",
    "    def __str__(self):  # 自定义对象的打印格式\n",
    "        return '<%s：%s>' %(self.number,self.massage)\n",
    "    \n",
    "        "
   ]
  },
  {
   "cell_type": "code",
   "execution_count": 54,
   "metadata": {},
   "outputs": [
    {
     "name": "stdout",
     "output_type": "stream",
     "text": [
      "请输入数字111\n"
     ]
    },
    {
     "ename": "SlopOverError",
     "evalue": "<111：{0}越界了>",
     "output_type": "error",
     "traceback": [
      "\u001b[1;31m---------------------------------------------------------------------------\u001b[0m",
      "\u001b[1;31mSlopOverError\u001b[0m                             Traceback (most recent call last)",
      "\u001b[1;32m<ipython-input-54-adb42a765371>\u001b[0m in \u001b[0;36m<module>\u001b[1;34m\u001b[0m\n\u001b[0;32m      1\u001b[0m \u001b[0mi\u001b[0m\u001b[1;33m=\u001b[0m\u001b[0minteger\u001b[0m\u001b[1;33m(\u001b[0m\u001b[1;33m)\u001b[0m\u001b[1;33m\u001b[0m\u001b[1;33m\u001b[0m\u001b[0m\n\u001b[1;32m----> 2\u001b[1;33m \u001b[0mi\u001b[0m\u001b[1;33m.\u001b[0m\u001b[0minput_in\u001b[0m\u001b[1;33m(\u001b[0m\u001b[1;33m)\u001b[0m\u001b[1;33m\u001b[0m\u001b[1;33m\u001b[0m\u001b[0m\n\u001b[0m",
      "\u001b[1;32m<ipython-input-51-8f9f6c2de59a>\u001b[0m in \u001b[0;36minput_in\u001b[1;34m(self)\u001b[0m\n\u001b[0;32m     11\u001b[0m             \u001b[0mnumber\u001b[0m\u001b[1;33m=\u001b[0m\u001b[0minput_in\u001b[0m\u001b[1;33m(\u001b[0m\u001b[1;33m)\u001b[0m\u001b[1;33m\u001b[0m\u001b[1;33m\u001b[0m\u001b[0m\n\u001b[0;32m     12\u001b[0m         \u001b[1;32mif\u001b[0m \u001b[1;32mnot\u001b[0m \u001b[0mself\u001b[0m\u001b[1;33m.\u001b[0m\u001b[0mverifySlopOver\u001b[0m\u001b[1;33m(\u001b[0m\u001b[0mnumber\u001b[0m\u001b[1;33m)\u001b[0m\u001b[1;33m:\u001b[0m\u001b[1;33m\u001b[0m\u001b[1;33m\u001b[0m\u001b[0m\n\u001b[1;32m---> 13\u001b[1;33m             \u001b[1;32mraise\u001b[0m \u001b[0mSlopOverError\u001b[0m\u001b[1;33m(\u001b[0m\u001b[1;34m'{0}越界了'\u001b[0m\u001b[1;33m,\u001b[0m\u001b[0mnumber\u001b[0m\u001b[1;33m)\u001b[0m\u001b[1;33m\u001b[0m\u001b[1;33m\u001b[0m\u001b[0m\n\u001b[0m\u001b[0;32m     14\u001b[0m \u001b[1;32mclass\u001b[0m  \u001b[0mSlopOverError\u001b[0m\u001b[1;33m(\u001b[0m\u001b[0mBaseException\u001b[0m\u001b[1;33m)\u001b[0m\u001b[1;33m:\u001b[0m\u001b[1;33m\u001b[0m\u001b[1;33m\u001b[0m\u001b[0m\n\u001b[0;32m     15\u001b[0m     \u001b[1;32mdef\u001b[0m \u001b[0m__init__\u001b[0m\u001b[1;33m(\u001b[0m\u001b[0mself\u001b[0m\u001b[1;33m,\u001b[0m\u001b[0mmassage\u001b[0m\u001b[1;33m,\u001b[0m\u001b[0mnumber\u001b[0m\u001b[1;33m)\u001b[0m\u001b[1;33m:\u001b[0m\u001b[1;33m\u001b[0m\u001b[1;33m\u001b[0m\u001b[0m\n",
      "\u001b[1;31mSlopOverError\u001b[0m: <111：{0}越界了>"
     ]
    }
   ],
   "source": [
    "i=integer()\n",
    "i.input_in()"
   ]
  },
  {
   "cell_type": "code",
   "execution_count": null,
   "metadata": {},
   "outputs": [],
   "source": []
  },
  {
   "cell_type": "code",
   "execution_count": null,
   "metadata": {},
   "outputs": [],
   "source": []
  },
  {
   "cell_type": "code",
   "execution_count": null,
   "metadata": {},
   "outputs": [],
   "source": []
  }
 ],
 "metadata": {
  "kernelspec": {
   "display_name": "Python 3",
   "language": "python",
   "name": "python3"
  },
  "language_info": {
   "codemirror_mode": {
    "name": "ipython",
    "version": 3
   },
   "file_extension": ".py",
   "mimetype": "text/x-python",
   "name": "python",
   "nbconvert_exporter": "python",
   "pygments_lexer": "ipython3",
   "version": "3.7.3"
  }
 },
 "nbformat": 4,
 "nbformat_minor": 2
}
