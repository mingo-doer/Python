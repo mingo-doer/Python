{
 "cells": [
  {
   "cell_type": "markdown",
   "metadata": {},
   "source": [
    "# 反射\n",
    "正式讲反射之前，先来说两个小方法，与反射没有关系，但是有点像"
   ]
  },
  {
   "cell_type": "code",
   "execution_count": 2,
   "metadata": {},
   "outputs": [
    {
     "name": "stdout",
     "output_type": "stream",
     "text": [
      "True\n",
      "True\n",
      "True\n",
      "True\n"
     ]
    }
   ],
   "source": [
    "class Foo:\n",
    "    pass\n",
    "foo = Foo()\n",
    "# 这是我们今天讲的，以后使用这个方式判断一个对象是不是类的对象\n",
    "print(isinstance(foo,Foo))\n",
    "# 这是我们以前判断的方式，type另有用途，以后不使用这中方式判断\n",
    "print(type(foo) is Foo)\n",
    "# 同理,一切皆对象\n",
    "print(isinstance('abc',str))\n",
    "# Python3 中的一个任何类都是object子类\n",
    "print(issubclass(Foo,object))"
   ]
  },
  {
   "cell_type": "markdown",
   "metadata": {},
   "source": [
    "## 一 反射内置函数 \n",
    "下述四个函数是专门用来操作类与对象属性的，如何操作？通过字符串来操作类与对象的属性，这种操作称为反射\n",
    "\n",
    "hasattr，getattr，setsttr，delattr，根据名字猜意思，attr是属性\n",
    "\n",
    "之所以称之为反射，是因为把字符串映射成了一个具体的属性，因为我们平时是根据类或者对象来找属性的，而现在反过来找，所以叫反射。为什么我们要使用反射这种方式来对象的属性呢？从代码上看并没有简洁多少，主要是因为，反射是从字符串触发的，我们在获取用户输入的时候也是拿到的字符串，就在这里用。"
   ]
  },
  {
   "cell_type": "code",
   "execution_count": 4,
   "metadata": {},
   "outputs": [
    {
     "name": "stdout",
     "output_type": "stream",
     "text": [
      "True\n",
      "True\n",
      "True\n",
      "True\n",
      "True\n",
      "###\n",
      "None\n",
      "True\n",
      "albert is aaa\n",
      "albert is aaa\n",
      "###\n",
      "111\n",
      "{'name': 'albert', 'age': 18}\n",
      "###\n",
      "{'__module__': '__main__', '__init__': <function People.__init__ at 0x000002A11EDC1F28>, 'tell': <function People.tell at 0x000002A11EDC1B70>, '__dict__': <attribute '__dict__' of 'People' objects>, '__weakref__': <attribute '__weakref__' of 'People' objects>, '__doc__': None, 'x': 111}\n",
      "{'age': 18}\n"
     ]
    }
   ],
   "source": [
    "class People:\n",
    "    country=\"China\"\n",
    "    def __init__(self,name):\n",
    "        self.name=name\n",
    "    def tell(self):\n",
    "        print('%s is aaa' %self.name)\n",
    "obj=People('albert')\n",
    "# 1、hasattr\n",
    "print(hasattr(People,'country'))\n",
    "# 本质原理就是下面这行\n",
    "print('country' in People.__dict__)\n",
    "# 同理，一切皆对象\n",
    "print(hasattr(obj,'name'))\n",
    "print(hasattr(obj,'country'))\n",
    "print(hasattr(obj,'tell'))\n",
    "print('###')\n",
    "# 2、getattr\n",
    "x=getattr(People,'country1',None)\n",
    "# x=getattr(People,'country',None)\n",
    "# x=getattr(People,'country1') # 如果没有这个属性，不传None会报错\n",
    "print(x)\n",
    "f=getattr(obj,'tell',None)  # obj.tell\n",
    "print(f == obj.tell)\n",
    "f()\n",
    "obj.tell()\n",
    "print('###')\n",
    "# 3、setattr\n",
    "# People.x=111\n",
    "setattr(People,'x',111)\n",
    "print(People.x)\n",
    "# obj.age=18\n",
    "setattr(obj,\"age\",18)\n",
    "print(obj.__dict__)\n",
    "print('###')\n",
    "# 4、delattr\n",
    "# del People.country\n",
    "delattr(People,\"country\")\n",
    "print(People.__dict__)\n",
    "# del obj.name\n",
    "delattr(obj,\"name\")\n",
    "print(obj.__dict__)"
   ]
  },
  {
   "cell_type": "markdown",
   "metadata": {},
   "source": [
    "## 二 面向对象内置方法\n",
    "1. str方法\n",
    "通过前面的学习，我想你已经很清楚一切皆对象的概念了，既然这样，现在有一个问题"
   ]
  },
  {
   "cell_type": "code",
   "execution_count": 5,
   "metadata": {},
   "outputs": [
    {
     "name": "stdout",
     "output_type": "stream",
     "text": [
      "<__main__.Foo object at 0x000002A11EFEEA58>\n",
      "[1, 2, 3]\n"
     ]
    }
   ],
   "source": [
    "class Foo:\n",
    "    pass\n",
    "obj = Foo()\n",
    "l = [1, 2, 3, ]\n",
    "print(obj)\n",
    "print(l)"
   ]
  },
  {
   "cell_type": "markdown",
   "metadata": {},
   "source": [
    "obj和l都是对象，为什么 l 能打印出来他的值，而obj不是打印打他的值而是打印一个内存地址出来\n",
    "这说明你在在印 l 这个对象的时候一定是触发了某个方法，指定就让他打印对象的值，我们的类能不能也触发这个方法呢？\n",
    "这个方法就是__str__方法，在对象打印时自动触发"
   ]
  },
  {
   "cell_type": "code",
   "execution_count": 6,
   "metadata": {},
   "outputs": [
    {
     "name": "stdout",
     "output_type": "stream",
     "text": [
      "<名字：albert 年龄：18 性别：male>\n"
     ]
    }
   ],
   "source": [
    "class People:\n",
    "    def __init__(self, name, age, sex):  # init对象实例化自动触发\n",
    "        self.name = name\n",
    "        self.age = age\n",
    "        self.sex = sex\n",
    "    def __str__(self):  # str对象打印时自动触发\n",
    "        # print('========>')\n",
    "        return '<名字：%s 年龄：%s 性别：%s>' % (self.name, self.age, self.sex)\n",
    "obj = People('albert', 18, 'male')\n",
    "print(obj)  # print(obj.__str__())"
   ]
  },
  {
   "cell_type": "markdown",
   "metadata": {},
   "source": [
    "2. call方法\n",
    "call方法是在调用对象的时候自动执行（等下会用）"
   ]
  },
  {
   "cell_type": "code",
   "execution_count": 7,
   "metadata": {},
   "outputs": [
    {
     "name": "stdout",
     "output_type": "stream",
     "text": [
      "__call__ (1, 2, 3) {'a': 1, 'b': 2, 'c': 3}\n"
     ]
    }
   ],
   "source": [
    "class Foo:\n",
    "    def __init__(self):\n",
    "        pass\n",
    "    def __str__(self):\n",
    "        return '123123'\n",
    "    def __del__(self):\n",
    "        pass\n",
    "    # 调用对象，则会自动触发对象下的绑定方法__call__的执行，\n",
    "    # 然后将对象本身当作第一个参数传给self，将调用对象时括号内的值\n",
    "    # 传给*args与**kwargs\n",
    "    def __call__(self, *args, **kwargs):\n",
    "        print('__call__', args, kwargs)\n",
    "obj = Foo()\n",
    "# print(obj)\n",
    "obj(1, 2, 3, a=1, b=2, c=3)"
   ]
  },
  {
   "cell_type": "markdown",
   "metadata": {},
   "source": [
    "## 三 元类\n",
    "1. 补充exec的用法\n",
    "exec()可以用来执行字符串内的代码，需要传三个参数，格式exec(字符串代码，全局名称空间，局部名称空间)"
   ]
  },
  {
   "cell_type": "code",
   "execution_count": 11,
   "metadata": {},
   "outputs": [
    {
     "name": "stdout",
     "output_type": "stream",
     "text": [
      "{'x': 1, 'y': 2}\n"
     ]
    }
   ],
   "source": [
    "# 注意：字符串内的代码没有声明是全局的，默认就是局部的，这和我们常规的代码不同\n",
    "code=\"\"\"\n",
    "x=1\n",
    "y=2\n",
    "\"\"\"\n",
    "global_dic={}\n",
    "local_dic={}\n",
    "exec(code,global_dic,local_dic)\n",
    "# print(global_dic)  # 打印的东西很多，其实就是一个字典，这些都是内置的\n",
    "print(local_dic)"
   ]
  },
  {
   "cell_type": "code",
   "execution_count": 12,
   "metadata": {},
   "outputs": [
    {
     "name": "stdout",
     "output_type": "stream",
     "text": [
      "{'y': 2}\n"
     ]
    }
   ],
   "source": [
    "# 如果我们现在自己定义全局，然后在把它在code里面改了，如下\n",
    "\n",
    "code=\"\"\"\n",
    "global x  # 先声明全局，再修改\n",
    "x=111\n",
    "y=2\n",
    "\"\"\"\n",
    "global_dic={'x':999}\n",
    "local_dic={}\n",
    "exec(code,global_dic,local_dic)\n",
    "# print(global_dic)  # 重点看字典的第一组键值对\n",
    "print(local_dic)"
   ]
  },
  {
   "cell_type": "markdown",
   "metadata": {},
   "source": [
    "自定义元类 \n",
    "作业要求：\n",
    "自定义轿车元类CarMeta，实现元类为CarMeta的类至少有\n",
    "生产日期(production_date)、\n",
    "发动机编号(engine_number)\n",
    "及载客量(capacity)三个基本属性，没有就不行"
   ]
  },
  {
   "cell_type": "code",
   "execution_count": 41,
   "metadata": {
    "scrolled": true
   },
   "outputs": [
    {
     "ename": "AttributeError",
     "evalue": "必须有生产日期、发动机编号及载客量",
     "output_type": "error",
     "traceback": [
      "\u001b[1;31m---------------------------------------------------------------------------\u001b[0m",
      "\u001b[1;31mAttributeError\u001b[0m                            Traceback (most recent call last)",
      "\u001b[1;32m<ipython-input-41-6b06c1517e84>\u001b[0m in \u001b[0;36m<module>\u001b[1;34m\u001b[0m\n\u001b[0;32m      6\u001b[0m             \u001b[1;32mraise\u001b[0m \u001b[0mAttributeError\u001b[0m\u001b[1;33m(\u001b[0m\u001b[1;34m'必须有生产日期、发动机编号及载客量'\u001b[0m\u001b[1;33m)\u001b[0m\u001b[1;33m\u001b[0m\u001b[1;33m\u001b[0m\u001b[0m\n\u001b[0;32m      7\u001b[0m \u001b[1;33m\u001b[0m\u001b[0m\n\u001b[1;32m----> 8\u001b[1;33m \u001b[1;32mclass\u001b[0m \u001b[0mCar\u001b[0m\u001b[1;33m(\u001b[0m\u001b[0mmetaclass\u001b[0m\u001b[1;33m=\u001b[0m\u001b[0mCarMeta\u001b[0m\u001b[1;33m)\u001b[0m\u001b[1;33m:\u001b[0m\u001b[1;33m\u001b[0m\u001b[1;33m\u001b[0m\u001b[0m\n\u001b[0m\u001b[0;32m      9\u001b[0m     \u001b[0mproduction_date\u001b[0m\u001b[1;33m=\u001b[0m\u001b[1;34m\"production_date\"\u001b[0m\u001b[1;33m\u001b[0m\u001b[1;33m\u001b[0m\u001b[0m\n\u001b[0;32m     10\u001b[0m     \u001b[0mengine_number\u001b[0m\u001b[1;33m=\u001b[0m\u001b[1;34m\"engine_number\"\u001b[0m\u001b[1;33m\u001b[0m\u001b[1;33m\u001b[0m\u001b[0m\n",
      "\u001b[1;32m<ipython-input-41-6b06c1517e84>\u001b[0m in \u001b[0;36m__init__\u001b[1;34m(self, class_name, class_bases, class_dic)\u001b[0m\n\u001b[0;32m      4\u001b[0m         \u001b[0mdic\u001b[0m\u001b[1;33m=\u001b[0m\u001b[0mclass_dic\u001b[0m\u001b[1;33m\u001b[0m\u001b[1;33m\u001b[0m\u001b[0m\n\u001b[0;32m      5\u001b[0m         \u001b[1;32mif\u001b[0m \u001b[1;32mnot\u001b[0m \u001b[1;33m(\u001b[0m\u001b[1;34m'production_date'\u001b[0m \u001b[1;32min\u001b[0m \u001b[0mdic\u001b[0m \u001b[1;32mand\u001b[0m \u001b[1;34m'engine_number'\u001b[0m \u001b[1;32min\u001b[0m \u001b[0mdic\u001b[0m \u001b[1;32mand\u001b[0m \u001b[1;34m'capacity'\u001b[0m \u001b[1;32min\u001b[0m \u001b[0mdic\u001b[0m\u001b[1;33m)\u001b[0m\u001b[1;33m:\u001b[0m\u001b[1;33m\u001b[0m\u001b[1;33m\u001b[0m\u001b[0m\n\u001b[1;32m----> 6\u001b[1;33m             \u001b[1;32mraise\u001b[0m \u001b[0mAttributeError\u001b[0m\u001b[1;33m(\u001b[0m\u001b[1;34m'必须有生产日期、发动机编号及载客量'\u001b[0m\u001b[1;33m)\u001b[0m\u001b[1;33m\u001b[0m\u001b[1;33m\u001b[0m\u001b[0m\n\u001b[0m\u001b[0;32m      7\u001b[0m \u001b[1;33m\u001b[0m\u001b[0m\n\u001b[0;32m      8\u001b[0m \u001b[1;32mclass\u001b[0m \u001b[0mCar\u001b[0m\u001b[1;33m(\u001b[0m\u001b[0mmetaclass\u001b[0m\u001b[1;33m=\u001b[0m\u001b[0mCarMeta\u001b[0m\u001b[1;33m)\u001b[0m\u001b[1;33m:\u001b[0m\u001b[1;33m\u001b[0m\u001b[1;33m\u001b[0m\u001b[0m\n",
      "\u001b[1;31mAttributeError\u001b[0m: 必须有生产日期、发动机编号及载客量"
     ]
    }
   ],
   "source": [
    "\n",
    "class CarMeta(type):\n",
    "    def __init__(self,class_name,class_bases,class_dic):\n",
    "        dic=class_dic\n",
    "        if not ('production_date' in dic and 'engine_number' in dic and 'capacity' in dic):\n",
    "            raise AttributeError('必须有生产日期、发动机编号及载客量')\n",
    "            \n",
    "class Car(metaclass=CarMeta):\n",
    "    production_date=\"production_date\"\n",
    "    engine_number=\"engine_number\"\n",
    "    "
   ]
  },
  {
   "cell_type": "markdown",
   "metadata": {},
   "source": [
    "# 单例模式\n",
    "单例模式：顾名思义就是单个实例的意思，我们使用单例模式就是为了节省内存空间。\n",
    "\n",
    "今天我们就来讲单例模式，那么什么场景下会用到单例模式来节省内存空间呢？"
   ]
  },
  {
   "cell_type": "code",
   "execution_count": 42,
   "metadata": {},
   "outputs": [
    {
     "name": "stdout",
     "output_type": "stream",
     "text": [
      "<__main__.MySQL object at 0x000002A11F0D8518>\n",
      "<__main__.MySQL object at 0x000002A11F0D85C0>\n",
      "<__main__.MySQL object at 0x000002A11F0D8550>\n"
     ]
    }
   ],
   "source": [
    "class MySQL:\n",
    "    def __init__(self,ip,port):\n",
    "        self.ip=ip\n",
    "        self.port=port\n",
    "obj1=MySQL('1.1.1.2',3306)\n",
    "obj2=MySQL('1.1.1.3',3307)\n",
    "obj3=MySQL('1.1.1.4',3308)\n",
    "print(obj1)\n",
    "print(obj2)\n",
    "print(obj3)"
   ]
  },
  {
   "cell_type": "markdown",
   "metadata": {},
   "source": [
    "三个obj明显不是一个内存地址，因为对实例化了三次就会需要三个对象的名称空间来存他们各自的属性，但是我们存不是目的，目的是为了取，取得时候确实一样的，这样显然浪费了内存空间而毫无意义"
   ]
  },
  {
   "cell_type": "code",
   "execution_count": 47,
   "metadata": {},
   "outputs": [],
   "source": [
    "# 使用模块\n",
    "class Singleton(object):\n",
    "    def foo(self):\n",
    "        pass\n",
    "singleton = Singleton()"
   ]
  },
  {
   "cell_type": "code",
   "execution_count": 52,
   "metadata": {},
   "outputs": [
    {
     "data": {
      "text/plain": [
       "(<__main__.A at 0x2a120b718d0>, <__main__.A at 0x2a120b718d0>)"
      ]
     },
     "execution_count": 52,
     "metadata": {},
     "output_type": "execute_result"
    }
   ],
   "source": [
    "# 使用装饰器\n",
    "def Singleton(cls):\n",
    "    _instance = {}\n",
    "\n",
    "    def _singleton(*args, **kargs):\n",
    "        if cls not in _instance:\n",
    "            _instance[cls] = cls(*args, **kargs)\n",
    "        return _instance[cls]\n",
    "\n",
    "    return _singleton\n",
    "\n",
    "\n",
    "@Singleton\n",
    "class A(object):\n",
    "    a = 1\n",
    "\n",
    "    def __init__(self, x=0):\n",
    "        self.x = x\n",
    "\n",
    "\n",
    "a1 = A(2)\n",
    "a2 = A(3)\n",
    "a1,a2"
   ]
  },
  {
   "cell_type": "code",
   "execution_count": 50,
   "metadata": {},
   "outputs": [],
   "source": [
    "# 使用类\n",
    "class Singleton(object):\n",
    "\n",
    "    def __init__(self):\n",
    "        pass\n",
    "\n",
    "    @classmethod\n",
    "    def instance(cls, *args, **kwargs):\n",
    "        if not hasattr(Singleton, \"_instance\"):\n",
    "            Singleton._instance = Singleton(*args, **kwargs)\n",
    "        return Singleton._instance"
   ]
  },
  {
   "cell_type": "code",
   "execution_count": 51,
   "metadata": {},
   "outputs": [
    {
     "name": "stdout",
     "output_type": "stream",
     "text": [
      "<__main__.Singleton object at 0x000002A11F0ED0B8> <__main__.Singleton object at 0x000002A11F0ED0B8>\n",
      "<__main__.Singleton object at 0x000002A11F0ED0B8>\n",
      "<__main__.Singleton object at 0x000002A11F0ED0B8>\n",
      "<__main__.Singleton object at 0x000002A11F0ED0B8>\n",
      "<__main__.Singleton object at 0x000002A11F0ED0B8><__main__.Singleton object at 0x000002A11F0ED0B8>\n",
      "\n",
      "<__main__.Singleton object at 0x000002A11F0ED0B8>\n",
      "<__main__.Singleton object at 0x000002A11F0ED0B8>\n",
      "<__main__.Singleton object at 0x000002A11F0ED0B8>\n",
      "<__main__.Singleton object at 0x000002A11F0ED0B8>\n",
      "<__main__.Singleton object at 0x000002A11F0ED0B8>\n"
     ]
    }
   ],
   "source": [
    "# 基于new\n",
    "import threading\n",
    "class Singleton(object):\n",
    "    _instance_lock = threading.Lock()\n",
    "\n",
    "    def __init__(self):\n",
    "        pass\n",
    "\n",
    "\n",
    "    def __new__(cls, *args, **kwargs):\n",
    "        if not hasattr(Singleton, \"_instance\"):\n",
    "            with Singleton._instance_lock:\n",
    "                if not hasattr(Singleton, \"_instance\"):\n",
    "                    Singleton._instance = object.__new__(cls)  \n",
    "        return Singleton._instance\n",
    "\n",
    "obj1 = Singleton()\n",
    "obj2 = Singleton()\n",
    "print(obj1,obj2)\n",
    "\n",
    "def task(arg):\n",
    "    obj = Singleton()\n",
    "    print(obj)\n",
    "\n",
    "for i in range(10):\n",
    "    t = threading.Thread(target=task,args=[i,])\n",
    "    t.start()\n"
   ]
  }
 ],
 "metadata": {
  "kernelspec": {
   "display_name": "Python 3",
   "language": "python",
   "name": "python3"
  },
  "language_info": {
   "codemirror_mode": {
    "name": "ipython",
    "version": 3
   },
   "file_extension": ".py",
   "mimetype": "text/x-python",
   "name": "python",
   "nbconvert_exporter": "python",
   "pygments_lexer": "ipython3",
   "version": "3.6.7"
  }
 },
 "nbformat": 4,
 "nbformat_minor": 2
}
