{
 "cells": [
  {
   "cell_type": "markdown",
   "metadata": {},
   "source": [
    "# 错误与异常\n",
    "首先要了解，Python中的错误和异常是什么？两者之间又有什么联系和区别呢？\n",
    "通常来说，程序中的错误至少包括两种，一种是语法错误，另一种则是异常。\n",
    "所谓语法错误，你应该很清楚，也就是你写的代码不符合编程规范，无法被识别与执行，比如下面这个例\n",
    "子："
   ]
  },
  {
   "cell_type": "code",
   "execution_count": 1,
   "metadata": {},
   "outputs": [
    {
     "ename": "SyntaxError",
     "evalue": "invalid syntax (<ipython-input-1-46d977065f07>, line 1)",
     "output_type": "error",
     "traceback": [
      "\u001b[1;36m  File \u001b[1;32m\"<ipython-input-1-46d977065f07>\"\u001b[1;36m, line \u001b[1;32m1\u001b[0m\n\u001b[1;33m    if name is not None\u001b[0m\n\u001b[1;37m                       ^\u001b[0m\n\u001b[1;31mSyntaxError\u001b[0m\u001b[1;31m:\u001b[0m invalid syntax\n"
     ]
    }
   ],
   "source": [
    "if name is not None\n",
    "print(name)"
   ]
  },
  {
   "cell_type": "markdown",
   "metadata": {},
   "source": [
    "If语句漏掉了冒号，不符合Python的语法规范，所以程序就会报错invalid syntax。\n",
    "而异常则是指程序的语法正确，也可以被执行，但在执行过程中遇到了错误，抛出了异常，比如下面的3个\n",
    "例子：\n",
    "\n",
    "Traceback (most recent call last):\n",
    "File \"<stdin>\", line 1, in <module>\n",
    "ZeroDivisionError: integer division or modulo by zero\n",
    "    \n",
    "order * 2\n",
    "Traceback (most recent call last):\n",
    "File \"<stdin>\", line 1, in <module>\n",
    "NameError: name 'order' is not defined\n",
    "    \n",
    "1 + [1, 2]\n",
    "Traceback (most recent call last):\n",
    "File \"<stdin>\", line 1, in <module>\n",
    "TypeError: unsupported operand type(s) for +: 'int' and 'list'\n",
    "型和一个列表相加也是不可取的。\n",
    "于是，当程序运行到这些地方时，就抛出了异常，并且终止运行。例子中的ZeroDivisionError\n",
    "NameError和TypeError，就是三种常见的异常类型。\n",
    "当然，Python中还有很多其他异常类型，比如KeyError是指字典中的键找不到；FileNotFoundError\n",
    "是指发送了读取文件的请求，但相应的文件不存在等等，我在此不一一赘述，你可以自行参考相应文档。"
   ]
  },
  {
   "cell_type": "markdown",
   "metadata": {},
   "source": [
    "## 如何处理异常\n",
    "刚刚讲到，如果执行到程序中某处抛出了异常，程序就会被终止并退出。你可能会问，那有没有什么办法可\n",
    "以不终止程序，让其照样运行下去呢？答案当然是肯定的，这也就是我们所说的异常处理，通常使用try和\n",
    "except来解决，比如："
   ]
  },
  {
   "cell_type": "code",
   "execution_count": 4,
   "metadata": {},
   "outputs": [
    {
     "name": "stdout",
     "output_type": "stream",
     "text": [
      "please enter two numbers separated by comma: a\n",
      "Value Error: invalid literal for int() with base 10: 'a'\n",
      "continue\n"
     ]
    }
   ],
   "source": [
    "try:\n",
    "    s = input('please enter two numbers separated by comma: ')\n",
    "    num1 = int(s.split(',')[0].strip())\n",
    "    num2 = int(s.split(',')[1].strip())\n",
    "\n",
    "except ValueError as err:\n",
    "    print('Value Error: {}'.format(err))\n",
    "    print('continue')"
   ]
  },
  {
   "cell_type": "markdown",
   "metadata": {},
   "source": [
    "这里默认用户输入以逗号相隔的两个整形数字，将其提取后，做后续的操作（注意input函数会将输入转换\n",
    "为字符串类型）。如果我们输入a,b，程序便会抛出异常invalid literal for int() with base\n",
    "10: 'a'，然后跳出try这个block。\n",
    "由于程序抛出的异常类型是ValueError，和except block所catch的异常类型相匹配，所以except block便会\n",
    "被执行，最终输出Value Error: invalid literal for int() with base 10: 'a'，并打印出\n",
    "continue。\n",
    "\n",
    "我们知道，except block只接受与它相匹配的异常类型并执行，如果程序抛出的异常并不匹配，那么程序照\n",
    "样会终止并退出。\n",
    "所以，还是刚刚这个例子，如果我们只输入1，程序抛出的异常就是IndexError: list index out of\n",
    "range，与ValueError不匹配，那么except block就不会被执行，程序便会终止并退出（continue不会被打\n",
    "印）。"
   ]
  },
  {
   "cell_type": "code",
   "execution_count": 5,
   "metadata": {},
   "outputs": [
    {
     "name": "stdout",
     "output_type": "stream",
     "text": [
      "please enter two numbers separated by comma: 1\n"
     ]
    },
    {
     "ename": "IndexError",
     "evalue": "list index out of range",
     "output_type": "error",
     "traceback": [
      "\u001b[1;31m---------------------------------------------------------------------------\u001b[0m",
      "\u001b[1;31mIndexError\u001b[0m                                Traceback (most recent call last)",
      "\u001b[1;32m<ipython-input-5-6a97fd0238d2>\u001b[0m in \u001b[0;36m<module>\u001b[1;34m\u001b[0m\n\u001b[0;32m      2\u001b[0m     \u001b[0ms\u001b[0m \u001b[1;33m=\u001b[0m \u001b[0minput\u001b[0m\u001b[1;33m(\u001b[0m\u001b[1;34m'please enter two numbers separated by comma: '\u001b[0m\u001b[1;33m)\u001b[0m\u001b[1;33m\u001b[0m\u001b[1;33m\u001b[0m\u001b[0m\n\u001b[0;32m      3\u001b[0m     \u001b[0mnum1\u001b[0m \u001b[1;33m=\u001b[0m \u001b[0mint\u001b[0m\u001b[1;33m(\u001b[0m\u001b[0ms\u001b[0m\u001b[1;33m.\u001b[0m\u001b[0msplit\u001b[0m\u001b[1;33m(\u001b[0m\u001b[1;34m','\u001b[0m\u001b[1;33m)\u001b[0m\u001b[1;33m[\u001b[0m\u001b[1;36m0\u001b[0m\u001b[1;33m]\u001b[0m\u001b[1;33m.\u001b[0m\u001b[0mstrip\u001b[0m\u001b[1;33m(\u001b[0m\u001b[1;33m)\u001b[0m\u001b[1;33m)\u001b[0m\u001b[1;33m\u001b[0m\u001b[1;33m\u001b[0m\u001b[0m\n\u001b[1;32m----> 4\u001b[1;33m     \u001b[0mnum2\u001b[0m \u001b[1;33m=\u001b[0m \u001b[0mint\u001b[0m\u001b[1;33m(\u001b[0m\u001b[0ms\u001b[0m\u001b[1;33m.\u001b[0m\u001b[0msplit\u001b[0m\u001b[1;33m(\u001b[0m\u001b[1;34m','\u001b[0m\u001b[1;33m)\u001b[0m\u001b[1;33m[\u001b[0m\u001b[1;36m1\u001b[0m\u001b[1;33m]\u001b[0m\u001b[1;33m.\u001b[0m\u001b[0mstrip\u001b[0m\u001b[1;33m(\u001b[0m\u001b[1;33m)\u001b[0m\u001b[1;33m)\u001b[0m\u001b[1;33m\u001b[0m\u001b[1;33m\u001b[0m\u001b[0m\n\u001b[0m\u001b[0;32m      5\u001b[0m \u001b[1;33m\u001b[0m\u001b[0m\n\u001b[0;32m      6\u001b[0m \u001b[1;32mexcept\u001b[0m \u001b[0mValueError\u001b[0m \u001b[1;32mas\u001b[0m \u001b[0merr\u001b[0m\u001b[1;33m:\u001b[0m\u001b[1;33m\u001b[0m\u001b[1;33m\u001b[0m\u001b[0m\n",
      "\u001b[1;31mIndexError\u001b[0m: list index out of range"
     ]
    }
   ],
   "source": [
    "try:\n",
    "    s = input('please enter two numbers separated by comma: ')\n",
    "    num1 = int(s.split(',')[0].strip())\n",
    "    num2 = int(s.split(',')[1].strip())\n",
    "\n",
    "except ValueError as err:\n",
    "    print('Value Error: {}'.format(err))\n",
    "    print('continue')"
   ]
  },
  {
   "cell_type": "markdown",
   "metadata": {},
   "source": [
    "不过，很多时候，我们很难保证程序覆盖所有的异常类型，所以，更通常的做法，是在最后一个except\n",
    "block，声明其处理的异常类型是Exception。Exception是其他所有非系统异常的基类，能够匹配任意非系\n",
    "统异常。那么这段代码就可以写成下面这样："
   ]
  },
  {
   "cell_type": "code",
   "execution_count": 6,
   "metadata": {},
   "outputs": [
    {
     "name": "stdout",
     "output_type": "stream",
     "text": [
      "please enter two numbers separated by comma: a\n",
      "Value Error: invalid literal for int() with base 10: 'a'\n"
     ]
    }
   ],
   "source": [
    "try:\n",
    "    s = input('please enter two numbers separated by comma: ')\n",
    "    num1 = int(s.split(',')[0].strip())\n",
    "    num2 = int(s.split(',')[1].strip())\n",
    "\n",
    "except ValueError as err:\n",
    "    print('Value Error: {}'.format(err))\n",
    "except IndexError as err:as\n",
    "    \n",
    "    print('Index Error: {}'.format(err))\n",
    "except Exception as err:\n",
    "    print('Other error: {}'.format(err))\n",
    "    print('continue')"
   ]
  },
  {
   "cell_type": "markdown",
   "metadata": {},
   "source": [
    "需要注意，当程序中存在多个except block时，最多只有一个except block会被执行。换句话说，如果多个\n",
    "except声明的异常类型都与实际相匹配，那么只有最前面的except block会被执行，其他则被忽略。\n",
    "异常处理中，还有一个很常见的用法是finally，经常和try、except放在一起来用。无论发生什么情况，\n",
    "finally block中的语句都会被执行，哪怕前面的try和excep block中使用了return语句。\n",
    "一个常见的应用场景，便是文件的读取："
   ]
  },
  {
   "cell_type": "code",
   "execution_count": 11,
   "metadata": {},
   "outputs": [],
   "source": [
    "import sys\n",
    "try:\n",
    "    f=open('in.txt', 'r')\n",
    "    f.read()\n",
    "except OSError as err:\n",
    "    print('OS error: {}'.format(err))\n",
    "except:\n",
    "    print('Unexpected error:', sys.exc_info()[0])\n",
    "finally:\n",
    "    f.close()"
   ]
  },
  {
   "cell_type": "markdown",
   "metadata": {},
   "source": [
    "这段代码中，try block尝试读取file.txt这个文件，并对其中的数据进行一系列的处理，到最后，无论是读取\n",
    "成功还是读取失败，程序都会执行finally中的语句——关闭这个文件流，确保文件的完整性。因此，在\n",
    "finally中，我们通常会放一些无无论论如如何何都都要要执执行行的语句。\n",
    "值得一提的是，对于文件的读取，我们也常常使用with open，你也许在前面的例子中已经看到过，with\n",
    "open会在最后自动关闭文件，让语句更加简洁。"
   ]
  },
  {
   "cell_type": "markdown",
   "metadata": {},
   "source": [
    "## 用户自定义异常\n",
    "前面的例子里充斥了很多Python内置的异常类型，你可能会问，我可以创建自己的异常类型吗？\n",
    "答案是肯定是，Python当然允许我们这么做。下面这个例子，我们创建了自定义的异常类型\n",
    "MyInputError，定义并实现了初始化函数和str函数（直接print时调用）："
   ]
  },
  {
   "cell_type": "code",
   "execution_count": 16,
   "metadata": {},
   "outputs": [
    {
     "name": "stdout",
     "output_type": "stream",
     "text": [
      "error: 1 is invalid input\n"
     ]
    }
   ],
   "source": [
    "class MyInputError(Exception):\n",
    "# \"\"\"Exception raised when there're errors in input\"\"\"\n",
    "    def __init__(self, value): # ⾃定义异常类型的初始化\n",
    "        self.value = value\n",
    "    def __str__(self): # ⾃定义异常类型的string表达形式\n",
    "        return (\"{} is invalid input\".format(repr(self.value)))\n",
    "try:\n",
    "    raise MyInputError(1) # 抛出MyInputError这个异常\n",
    "except MyInputError as err:\n",
    "    print('error: {}'.format(err))"
   ]
  },
  {
   "cell_type": "markdown",
   "metadata": {},
   "source": [
    "异异常常的的使使用用场场景景与与注注意意点点\n",
    "学完了前面的基础知识，接下来我们着重谈一下，异常的使用场景与注意点。\n",
    "通常来说，在程序中，**如果我们不确定某段代码能否成功执行，往往这个地方就需要使用异常处理。**除了上\n",
    "述文件读取的例子，我可以再举一个例子来说明。\n",
    "大型社交网站的后台，需要针对用户发送的请求返回相应记录。用户记录往往储存在key-value结构的数据\n",
    "库中，每次有请求过来后，我们拿到用户的ID，并用ID查询数据库中此人的记录，就能返回相应的结果。\n",
    "而数据库返回的原始数据，往往是json string的形式，这就需要我们首先对json string进行decode（解\n",
    "码），你可能很容易想到下面的方法："
   ]
  },
  {
   "cell_type": "code",
   "execution_count": 17,
   "metadata": {},
   "outputs": [
    {
     "ename": "NameError",
     "evalue": "name 'queryDB' is not defined",
     "output_type": "error",
     "traceback": [
      "\u001b[1;31m---------------------------------------------------------------------------\u001b[0m",
      "\u001b[1;31mNameError\u001b[0m                                 Traceback (most recent call last)",
      "\u001b[1;32m<ipython-input-17-371c4529c558>\u001b[0m in \u001b[0;36m<module>\u001b[1;34m\u001b[0m\n\u001b[0;32m      1\u001b[0m \u001b[1;32mimport\u001b[0m \u001b[0mjson\u001b[0m\u001b[1;33m\u001b[0m\u001b[1;33m\u001b[0m\u001b[0m\n\u001b[1;32m----> 2\u001b[1;33m \u001b[0mraw_data\u001b[0m \u001b[1;33m=\u001b[0m \u001b[0mqueryDB\u001b[0m\u001b[1;33m(\u001b[0m\u001b[0muid\u001b[0m\u001b[1;33m)\u001b[0m \u001b[1;31m# 根据⽤⼾的id，返回相应的信息\u001b[0m\u001b[1;33m\u001b[0m\u001b[1;33m\u001b[0m\u001b[0m\n\u001b[0m\u001b[0;32m      3\u001b[0m \u001b[0mdata\u001b[0m \u001b[1;33m=\u001b[0m \u001b[0mjson\u001b[0m\u001b[1;33m.\u001b[0m\u001b[0mloads\u001b[0m\u001b[1;33m(\u001b[0m\u001b[0mraw_data\u001b[0m\u001b[1;33m)\u001b[0m\u001b[1;33m\u001b[0m\u001b[1;33m\u001b[0m\u001b[0m\n",
      "\u001b[1;31mNameError\u001b[0m: name 'queryDB' is not defined"
     ]
    }
   ],
   "source": [
    "import json\n",
    "raw_data = queryDB(uid) # 根据⽤⼾的id，返回相应的信息\n",
    "data = json.loads(raw_data)"
   ]
  },
  {
   "cell_type": "markdown",
   "metadata": {},
   "source": [
    "这样的代码是不是就足够了呢？\n",
    "要知道，在json.loads()函数中，输入的字符串如果不符合其规范，那么便无法解码，就会抛出异常，因此\n",
    "加上异常处理十分必要。"
   ]
  },
  {
   "cell_type": "code",
   "execution_count": null,
   "metadata": {},
   "outputs": [],
   "source": [
    "try:\n",
    "    data = json.loads(raw_data)\n",
    "\n",
    "except JSONDecodeError as err:\n",
    "    print('JSONDecodeError: {}'.format(err))"
   ]
  },
  {
   "cell_type": "markdown",
   "metadata": {},
   "source": [
    "不过，有一点切记，我们不能走向另一个极端——滥用异常处理。\n",
    "比如，当你想要查找字典中某个键对应的值时，绝不能写成下面这种形式："
   ]
  },
  {
   "cell_type": "code",
   "execution_count": 19,
   "metadata": {},
   "outputs": [
    {
     "name": "stdout",
     "output_type": "stream",
     "text": [
      "KeyError: 'dob'\n"
     ]
    }
   ],
   "source": [
    "d = {'name': 'jason', 'age': 20}\n",
    "try:\n",
    "    value = d['dob']\n",
    "\n",
    "except KeyError as err:\n",
    "    print('KeyError: {}'.format(err))"
   ]
  },
  {
   "cell_type": "markdown",
   "metadata": {},
   "source": [
    "诚然，这样的代码并没有bug，但是让人看了摸不着头脑，也显得很冗余。如果你的代码中充斥着这种写\n",
    "法，无疑对阅读、协作来说都是障碍。因此，对于**flow-control（流程控制）**的代码逻辑，我们一般不用异\n",
    "常处理。\n",
    "字典这个例子，写成下面这样就很好。\n",
    "\n"
   ]
  },
  {
   "cell_type": "code",
   "execution_count": 24,
   "metadata": {},
   "outputs": [
    {
     "name": "stdout",
     "output_type": "stream",
     "text": [
      "yes\n"
     ]
    }
   ],
   "source": [
    "# 这里是判断键是否在\n",
    "if 'dob' in d:\n",
    "#     value = d['dob']\n",
    "    print('yes')\n",
    "else:\n",
    "    print('no')"
   ]
  },
  {
   "cell_type": "markdown",
   "metadata": {},
   "source": [
    "# 总结\n",
    "这节课， 我们一起学习了Python的异常处理及其使用场景，你需要重点掌握下面几点。\n",
    "\n",
    "异常，通常是指程序运行的过程中遇到了错误，终止并退出。我们通常使用try except语句去处理异常，\n",
    "这样程序就不会被终止，仍能继续执行。\n",
    "处理异常时，如果有必须执行的语句，比如文件打开后必须关闭等等，则可以放在finally block中。\n",
    "异常处理，通常用在你不确定某段代码能否成功执行，也无法轻易判断的情况下，比如数据库的连接、读\n",
    "取等等。正常的flow-control逻辑，不要使用异常处理，直接用条件语句解决就可以了。\n",
    "\n",
    "思考题\n",
    "最后，给你留一个思考题。在异常处理时，如果try block中有多处抛出异常，需要我们使用多个try except\n",
    "block吗？以数据库的连接、读取为例，下面两种写法，你觉得哪种更好呢？\n",
    ">第一种：\n",
    "try:\n",
    "db = DB.connect('<db path>') # 可能会抛出异常\n",
    "raw_data = DB.queryData('<viewer_id>') # 可能会抛出异常\n",
    "except (DBConnectionError, DBQueryDataError) err:\n",
    "print('Error: {}'.format(err))\n",
    "    \n",
    ">第二种：\n",
    "try:\n",
    "db = DB.connect('<db path>') # 可能会抛出异常\n",
    "try:\n",
    "raw_data = DB.queryData('<viewer_id>')\n",
    "except DBQueryDataError as err:\n",
    "print('DB query data error: {}'.format(err))\n",
    "except DBConnectionError as err:\n",
    "print('DB connection error: {}'.format(err))\n",
    "    \n",
    "    欢迎在留言区写下你的答案，还有你今天学习的心得和疑惑，也欢迎你把这篇文章分享给你的同事、朋友。\n",
    "处理异常时，如果有必须执行的语句，比如文件打开后必须关闭等等，则可以放在finally block中。\n",
    "异常处理，通常用在你不确定某段代码能否成功执行，也无法轻易判断的情况下，比如数据库的连接、读\n",
    "取等等。正常的flow-control逻辑，不要使用异常处理，直接用条件语句解决就可以了。"
   ]
  },
  {
   "cell_type": "code",
   "execution_count": null,
   "metadata": {},
   "outputs": [],
   "source": []
  },
  {
   "cell_type": "markdown",
   "metadata": {},
   "source": [
    "第一种写法更加简洁，易于阅读。而且except后面的错误类型先抛出数据库连接错误，之后才抛出查询错\n",
    "误，实现的异常处理和第二种一样。"
   ]
  }
 ],
 "metadata": {
  "kernelspec": {
   "display_name": "Python 3",
   "language": "python",
   "name": "python3"
  },
  "language_info": {
   "codemirror_mode": {
    "name": "ipython",
    "version": 3
   },
   "file_extension": ".py",
   "mimetype": "text/x-python",
   "name": "python",
   "nbconvert_exporter": "python",
   "pygments_lexer": "ipython3",
   "version": "3.7.3"
  }
 },
 "nbformat": 4,
 "nbformat_minor": 2
}
