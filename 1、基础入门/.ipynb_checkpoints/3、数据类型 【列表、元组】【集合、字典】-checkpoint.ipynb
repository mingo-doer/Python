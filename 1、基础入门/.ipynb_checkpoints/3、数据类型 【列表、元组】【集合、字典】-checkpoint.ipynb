{
 "cells": [
  {
   "cell_type": "markdown",
   "metadata": {},
   "source": [
    " 配合视频看文档学习数字类型，字符串类型，列表类型，元祖类型，字典类型，集合类型，布尔类型的常用方法2.    完成字符串类型，列表类型，字典类型，集合类型对应的练习思考话题 https://zhuanlan.zhihu.com/p/49326997"
   ]
  },
  {
   "cell_type": "code",
   "execution_count": 1,
   "metadata": {},
   "outputs": [
    {
     "name": "stdout",
     "output_type": "stream",
     "text": [
      "['age', 'weight', 'name', 'height']\n"
     ]
    }
   ],
   "source": [
    "from collections import ChainMap\n",
    "\n",
    "\"\"\"\n",
    "一个 ChainMap 类是为了将多个映射快速的链接到一起，这样它们就可以作为一个单元处理。\n",
    "它通常比创建一个新字典和多次调用 update() 要快很多。\n",
    "这个类可以用于模拟嵌套作用域，并且在模版化的时候比较有用。\n",
    "\"\"\"\n",
    "# 链映射的用法\n",
    "dict1 = {'name': 'Albert', 'age': 18}\n",
    "dict2 = {'weight': 65, 'height': 180}\n",
    "res = list(ChainMap(dict1, dict2))\n",
    "print(res)"
   ]
  },
  {
   "cell_type": "code",
   "execution_count": 2,
   "metadata": {},
   "outputs": [
    {
     "name": "stdout",
     "output_type": "stream",
     "text": [
      "Counter({'blue': 3, 'red': 2, 'green': 1})\n",
      "Counter({'a': 4, 'b': 3})\n",
      "Counter({'a': 2})\n",
      "Counter({'a': 1, 'b': 1})\n",
      "Counter({'a': 3, 'b': 2})\n"
     ]
    }
   ],
   "source": [
    "from collections import Counter\n",
    "\n",
    "# 计数\n",
    "cnt = Counter()\n",
    "for word in ['red', 'blue', 'red', 'green', 'blue', 'blue']:\n",
    "    cnt[word] += 1\n",
    "print(cnt)\n",
    "# Counter({'blue': 3, 'red': 2, 'green': 1})\n",
    "\n",
    "# 数学运算\n",
    "c = Counter(a=3, b=1)\n",
    "d = Counter(a=1, b=2)\n",
    "print(c + d)  # 相同的部分相加\n",
    "# Counter({'a': 4, 'b': 3})\n",
    "print(c - d)  # 相同的部分相减\n",
    "# Counter({'a': 2})\n",
    "print(c & d)  # 相同的部分取最小\n",
    "# Counter({'a': 1, 'b': 1})\n",
    "print(c | d)  # 相同的部分取最大\n",
    "# Counter({'a': 3, 'b': 2})"
   ]
  },
  {
   "cell_type": "markdown",
   "metadata": {},
   "source": [
    "Python中的列表和字典通常是怎么嵌套使用的详细说明：1.    多种数据类型组合使用一定要清楚所定义的变量的数据类型，并使用对应数据类型的方法2.    初次写代码，要先捋清逻辑关系，可以先写伪代码，知道先写什么，在写什么，然后再用Python语法格式写出正确的代码打卡要求：1.    不看代码完成字符串，列表，字典，集合类型对应的练习，上传代码2.    口述字符串，列表，字典常用的方法，每个不少于3分钟语音\n"
   ]
  },
  {
   "cell_type": "markdown",
   "metadata": {},
   "source": [
    "# python 中最基本的两种数据结构 ---列表和元组\n",
    "首先，我们需要弄清楚最基本的概念，什么是列表和元组呢？\n",
    "\n",
    "实际上，列表和元组，都是一个可以放置任意数据类型的有序集合。\n",
    "\n",
    "在绝大多数编程语言中，集合的数据类型必须一致。不过，对于Python的列表和元组来说，并无此要求："
   ]
  },
  {
   "cell_type": "code",
   "execution_count": null,
   "metadata": {},
   "outputs": [],
   "source": []
  }
 ],
 "metadata": {
  "kernelspec": {
   "display_name": "Python 3",
   "language": "python",
   "name": "python3"
  },
  "language_info": {
   "codemirror_mode": {
    "name": "ipython",
    "version": 3
   },
   "file_extension": ".py",
   "mimetype": "text/x-python",
   "name": "python",
   "nbconvert_exporter": "python",
   "pygments_lexer": "ipython3",
   "version": "3.7.3"
  }
 },
 "nbformat": 4,
 "nbformat_minor": 2
}
