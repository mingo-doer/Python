{
 "cells": [
  {
   "cell_type": "markdown",
   "metadata": {},
   "source": [
    "1.    理解字符编码的原理，了解字符编码的发展过程2.    清楚知道Python2 和Python3中字符串类型的区别思考话题：使用Python什么情况下会出现乱码详细说明"
   ]
  },
  {
   "cell_type": "markdown",
   "metadata": {},
   "source": [
    "python什么时候会出乱码\n",
    "1、解释器读取文件时字符编码异同\n",
    "2、解释器执行文件时字符编码异同\n",
    "3. 字符编码的转换\n",
    "4. Python2两种字符串类型的区别\n",
    "5. 字符编码的保存与取值原理"
   ]
  },
  {
   "cell_type": "markdown",
   "metadata": {},
   "source": [
    "在Python3中所有的字符串都是用unicode编码来保存（不需要前面加“u”），字符串的数据类型也只有一个，就是str，只要是用unicode来保存的，那么所有的字符串在任何情况下都不会出现乱码，"
   ]
  },
  {
   "cell_type": "markdown",
   "metadata": {},
   "source": [
    "1.    字符编码的原理8个二进制位是一个字节（byte），1000b=1kb，1000kb=1M2.    保证不乱码的核心就是用什么编码存的，就用什么编码读取，原则上，我们要在自己写的代码头部加上代码声明，详见第一章尾部文件头的概念，# -*- coding: utf-8 -*- "
   ]
  },
  {
   "cell_type": "markdown",
   "metadata": {},
   "source": [
    " Utf-8是通用的编码，如果没有特殊要求，尽可能使所有都是utf-8格式"
   ]
  },
  {
   "cell_type": "markdown",
   "metadata": {},
   "source": [
    "# 字符串基础\n",
    "什么是字符串呢？字符串是由独立字符组成的一个序列，通常包含在单引号（''）双引号（\"\"）或者三引号之中（''' '''或\"\"\" \"\"\"，两者一样），比如下面几种写法。\n",
    "\n",
    ">name = 'jason'\n",
    "\n",
    ">city = 'beijing'\n",
    "\n",
    ">text = \"welcome to jike shijian\"\n",
    "\n",
    "\n",
    "这里定义了name、city和text三个变量，都是字符串类型。我们知道，Python中单引号、双引号和三引号的字符串是一模一样的，没有区别，比如下面这个例子中的s1、s2、s3完全一样。"
   ]
  },
  {
   "cell_type": "code",
   "execution_count": 1,
   "metadata": {},
   "outputs": [
    {
     "data": {
      "text/plain": [
       "True"
      ]
     },
     "execution_count": 1,
     "metadata": {},
     "output_type": "execute_result"
    }
   ],
   "source": [
    "s1 = 'hello'\n",
    "s2 = \"hello\"\n",
    "s3 = \"\"\"hello\"\"\"\n",
    "s1 == s2 == s3"
   ]
  },
  {
   "cell_type": "markdown",
   "metadata": {},
   "source": [
    "## 字符串的常用操作\n",
    "讲完了字符串的基本原理，下面我们一起来看看字符串的常用操作。你可以把字符串想象成一个由单个字符组成的数组，所以，Python的字符串同样支持索引，切片和遍历等等操作。\n",
    "和其他数据结构，如列表、元组一样，字符串的索引同样从0开始，index=0表示第一个元素（字符），[index:index+2]则表示第index个元素到index+1个元素组成的子字符串。\n",
    "\n",
    "遍历字符串同样很简单，相当于遍历字符串中的每个字符。"
   ]
  },
  {
   "cell_type": "code",
   "execution_count": 3,
   "metadata": {},
   "outputs": [
    {
     "name": "stdout",
     "output_type": "stream",
     "text": [
      "j\n",
      "j\n",
      "a\n",
      "s\n",
      "o\n",
      "n\n"
     ]
    }
   ],
   "source": [
    "name = 'jason'\n",
    "print(name[0])\n",
    "for char in name:\n",
    "    print(char)   "
   ]
  },
  {
   "cell_type": "code",
   "execution_count": 5,
   "metadata": {},
   "outputs": [
    {
     "ename": "TypeError",
     "evalue": "'str' object does not support item assignment",
     "output_type": "error",
     "traceback": [
      "\u001b[1;31m---------------------------------------------------------------------------\u001b[0m",
      "\u001b[1;31mTypeError\u001b[0m                                 Traceback (most recent call last)",
      "\u001b[1;32m<ipython-input-5-4bfbab4aa12f>\u001b[0m in \u001b[0;36m<module>\u001b[1;34m\u001b[0m\n\u001b[0;32m      1\u001b[0m \u001b[1;31m# 特别要注意，Python的字符串是不可变的（immutable）。因此，用下面的操作，来改变一个字符串内部的字符是错误的，不允许的。'\u001b[0m\u001b[1;33m\u001b[0m\u001b[1;33m\u001b[0m\u001b[1;33m\u001b[0m\u001b[0m\n\u001b[0;32m      2\u001b[0m \u001b[0ms\u001b[0m \u001b[1;33m=\u001b[0m \u001b[1;34m'hello'\u001b[0m\u001b[1;33m\u001b[0m\u001b[1;33m\u001b[0m\u001b[0m\n\u001b[1;32m----> 3\u001b[1;33m \u001b[0ms\u001b[0m\u001b[1;33m[\u001b[0m\u001b[1;36m0\u001b[0m\u001b[1;33m]\u001b[0m \u001b[1;33m=\u001b[0m \u001b[1;34m'H'\u001b[0m\u001b[1;33m\u001b[0m\u001b[1;33m\u001b[0m\u001b[0m\n\u001b[0m",
      "\u001b[1;31mTypeError\u001b[0m: 'str' object does not support item assignment"
     ]
    }
   ],
   "source": [
    "# 特别要注意，Python的字符串是不可变的（immutable）。因此，用下面的操作，来改变一个字符串内部的字符是错误的，不允许的。'\n",
    "s = 'hello'\n",
    "s[0] = 'H'"
   ]
  },
  {
   "cell_type": "code",
   "execution_count": 6,
   "metadata": {},
   "outputs": [],
   "source": [
    "# Python中字符串的改变，通常只能通过创建新的字符串来完成。\n",
    "# 比如上述例子中，想把'hello'的第一个字符'h'，改为大写的'H'，我们可以采用下面的做法：\n",
    "\n",
    "s = 'H' + s[1:]\n",
    "s = s.replace('h', 'H')"
   ]
  },
  {
   "cell_type": "markdown",
   "metadata": {},
   "source": [
    "**第一种方法，是直接用大写的'H'，通过加号'+'操作符，与原字符串切片操作的子字符串拼接而成新的字符串。**\n",
    "\n",
    "**第二种方法，是直接扫描原字符串，把小写的'h'替换成大写的'H'，得到新的字符串。**\n",
    "\n",
    "你可能了解到，在其他语言中，如Java，有可变的字符串类型，比如StringBuilder，每次添加、改变或删除字符（串），无需创建新的字符串，时间复杂度仅为O(1)。这样就大大提高了程序的运行效率。\n",
    "\n",
    "但可惜的是，Python中并没有相关的数据类型，我们还是得老老实实创建新的字符串。因此，每次想要改变字符串，往往需要O(n)的时间复杂度，其中，n为新字符串的长度。\n",
    "\n",
    "你可能注意到了，上述例子的说明中，我用的是“往往”、“通常”这样的字眼，并没有说“一定”。这是为什么呢？显然，随着版本的更新，Python也越来越聪明，性能优化得越来越好了。\n",
    "\n",
    "这里，我着重讲解一下，使用加法操作符'+='的字符串拼接方法。因为它是一个例外，打破了字符串不可变的特性。"
   ]
  },
  {
   "cell_type": "code",
   "execution_count": 8,
   "metadata": {},
   "outputs": [],
   "source": [
    "# # 操作方法如下所示：\n",
    "\n",
    "# str1 += str2  # 表示str1 = str1 + str2\n",
    "# 我们来看下面这个例子：\n",
    "\n",
    "s = ''\n",
    "for n in range(0, 100000):\n",
    "    s += str(n)"
   ]
  },
  {
   "cell_type": "markdown",
   "metadata": {},
   "source": [
    "你觉得这个例子的时间复杂度是多少呢？\n",
    "\n",
    "每次循环，似乎都得创建一个新的字符串；而每次创建一个新的字符串，都需要O(n)的时间复杂度。因此，总的时间复杂度就为O(1) + O(2) + … + O(n) = O(n^2)。这样到底对不对呢？\n",
    "\n",
    "乍一看，这样分析确实很有道理，但是必须说明，这个结论只适用于老版本的Python了。自从Python2.5开始，每次处理字符串的拼接操作时（str1 += str2），Python首先会检测str1还有没有其他的引用。如果没有的话，就会尝试原地扩充字符串buffer的大小，而不是重新分配一块内存来创建新的字符串并拷贝。这样的话，上述例子中的时间复杂度就仅为O(n)了。\n",
    "\n",
    "因此，以后你在写程序遇到字符串拼接时，如果使用’+='更方便，就放心地去用吧，不用过分担心效率问题了。\n",
    "\n",
    "另外，对于字符串拼接问题，除了使用加法操作符，我们还可以使用字符串内置的join函数。string.join(iterable)，表示把每个元素都按照指定的格式连接起来。"
   ]
  },
  {
   "cell_type": "code",
   "execution_count": 9,
   "metadata": {},
   "outputs": [],
   "source": [
    "l = []\n",
    "for n in range(0, 100000):\n",
    "    l.append(str(n))\n",
    "l = ' '.join(l) "
   ]
  },
  {
   "cell_type": "markdown",
   "metadata": {},
   "source": [
    "由于列表的append操作是O(1)复杂度，字符串同理。因此，这个含有for循环例子的时间复杂度为n*O(1)=O(n)。\n",
    "\n",
    "接下来，我们看一下字符串的分割函数split()。string.split(separator)，表示把字符串按照separator分割成子字符串，并返回一个分割后子字符串组合的列表。它常常应用于对数据的解析处理，比如我们读取了某个文件的路径，想要调用数据库的API，去读取对应的数据，我们通常会写成下面这样："
   ]
  },
  {
   "cell_type": "markdown",
   "metadata": {},
   "source": [
    "### 此外，常见的函数还有：\n",
    "\n",
    "string.strip(str)，表示去掉首尾的str字符串；\n",
    "\n",
    "string.lstrip(str)，表示只去掉开头的str字符串；\n",
    "\n",
    "string.rstrip(str)，表示只去掉尾部的str字符串。\n",
    "\n",
    "这些在数据的解析处理中同样很常见。比如很多时候，从文件读进来的字符串中，开头和结尾都含有空字符，我们需要去掉它们，就可以用strip()函数："
   ]
  },
  {
   "cell_type": "markdown",
   "metadata": {},
   "source": [
    "## 字符串的格式化\n",
    "最后，我们一起来看看字符串的格式化。什么是字符串的格式化呢？\n",
    "\n",
    "通常，我们使用一个字符串作为模板，模板中会有格式符。这些格式符为后续真实值预留位置，以呈现出真实值应该呈现的格式。字符串的格式化，通常会用在程序的输出、logging等场景。\n",
    "\n",
    "举一个常见的例子。比如我们有一个任务，给定一个用户的userid，要去数据库中查询该用户的一些信息，并返回。而如果数据库中没有此人的信息，我们通常会记录下来，这样有利于往后的日志分析，或者是线上bug的调试等等。\n",
    "\n",
    "我们通常会用下面的方法来表示："
   ]
  },
  {
   "cell_type": "code",
   "execution_count": 11,
   "metadata": {},
   "outputs": [
    {
     "name": "stdout",
     "output_type": "stream",
     "text": [
      "no data available for person with id: 123, name: jason\n"
     ]
    }
   ],
   "source": [
    "\n",
    "id=123\n",
    "print('no data available for person with id: {}, name: {}'.format(id, name))"
   ]
  },
  {
   "cell_type": "markdown",
   "metadata": {},
   "source": [
    "也许有人会问，为什么非要使用格式化函数，上述例子用字符串的拼接不也能完成吗？没错，在很多情况下，字符串拼接确实能满足格式化函数的需求。但是使用格式化函数，更加清晰、易读，并且更加规范，不易出错。\n",
    "# 总结\n",
    "这节课，我们主要学习了Python字符串的一些基本知识和常用操作，并且结合具体的例子与场景加以说明，特别需要注意下面几点。\n",
    "\n",
    "Python中字符串使用单引号、双引号或三引号表示，三者意义相同，并没有什么区别。其中，三引号的字符串通常用在多行字符串的场景。\n",
    "\n",
    "Python中字符串是不可变的（前面所讲的新版本Python中拼接操作’+='是个例外）。因此，随意改变字符串中字符的值，是不被允许的。\n",
    "\n",
    "Python新版本（2.5+）中，字符串的拼接变得比以前高效了许多，你可以放心使用。\n",
    "\n",
    "Python中字符串的格式化（string.format）常常用在输出、日志的记录等场景。"
   ]
  },
  {
   "cell_type": "code",
   "execution_count": 14,
   "metadata": {},
   "outputs": [
    {
     "name": "stdout",
     "output_type": "stream",
     "text": [
      "Time elapse: 0.0005957529999705002\n",
      "Time elapse: 0.004767998000033913\n",
      "Time elapse: 0.00025165399983961834\n"
     ]
    }
   ],
   "source": [
    "# 测试 1000 条数据，方式一\n",
    "import time\n",
    "start_time = time.perf_counter()\n",
    "s = ''\n",
    "for n in range(0, 1000):\n",
    "    s += str(n)\n",
    "end_time = time.perf_counter()\n",
    "print('Time elapse: {}'.format(end_time - start_time))\n",
    "# 返回结果: Time elapse: 0.0004374515265226364\n",
    "\n",
    "# 测试 1000 条数据，方式二\n",
    "import time\n",
    "start_time = time.perf_counter()\n",
    "s = []\n",
    "for n in range(0, 1000):\n",
    "    s.append(str(n))\n",
    "    ''.join(s)\n",
    "end_time = time.perf_counter()\n",
    "print('Time elapse: {}'.format(end_time - start_time))\n",
    "# 返回结果: Time elapse: 0.0004917513579130173\n",
    "\n",
    "# 测试 1000 条数据，方式三\n",
    "import time\n",
    "start_time = time.perf_counter()\n",
    "s = ''.join(map(str, range(0, 1000)))\n",
    "end_time = time.perf_counter()\n",
    "print('Time elapse: {}'.format(end_time - start_time))\n",
    "# 返回结果：Time elapse: 0.00021015387028455734\n",
    "\n",
    "# 分别测试一百万和一千万条数据，结果如下：\n",
    "# 100万:\n",
    "# 方式一：Time elapse: 0.3384760869666934\n",
    "# 方式二：Time elapse: 0.34538754168897867\n",
    "# 方式三：Time elapse: 0.2445415174588561\n",
    "\n",
    "# 1000万：\n",
    "# 方式一：Time elapse: 4.24716751743108\n",
    "# 方式二：Time elapse: 3.1754934675991535\n",
    "# 方式三：Time elapse: 2.2939002392813563\n",
    "\n",
    "# 综上，方式三性能最优，其次是在超过1000万条数据以上时，方式二优于方式一，相反，方式一优于方式二。"
   ]
  },
  {
   "cell_type": "code",
   "execution_count": null,
   "metadata": {},
   "outputs": [],
   "source": []
  }
 ],
 "metadata": {
  "kernelspec": {
   "display_name": "Python 3",
   "language": "python",
   "name": "python3"
  },
  "language_info": {
   "codemirror_mode": {
    "name": "ipython",
    "version": 3
   },
   "file_extension": ".py",
   "mimetype": "text/x-python",
   "name": "python",
   "nbconvert_exporter": "python",
   "pygments_lexer": "ipython3",
   "version": "3.7.3"
  }
 },
 "nbformat": 4,
 "nbformat_minor": 2
}
