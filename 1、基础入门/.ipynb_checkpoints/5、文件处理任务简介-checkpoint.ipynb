{
 "cells": [
  {
   "cell_type": "markdown",
   "metadata": {},
   "source": [
    "1.    理解文件句柄的概念和文件操作的两种方式"
   ]
  },
  {
   "cell_type": "code",
   "execution_count": 7,
   "metadata": {},
   "outputs": [
    {
     "name": "stdout",
     "output_type": "stream",
     "text": [
      "hello\n"
     ]
    }
   ],
   "source": [
    "# 有的时候关闭文件的操作总是会被遗忘，我们有一个使用 \"with\"来操作文件的方式，它是一个上下文的操作，\n",
    "# 会帮你自动的关闭文件，代码示例如下：\n",
    "with open('a.txt', 'r', encoding='utf-8') as f:\n",
    "    data = f.read()\n",
    "    print(data)"
   ]
  },
  {
   "cell_type": "code",
   "execution_count": 11,
   "metadata": {},
   "outputs": [
    {
     "name": "stdout",
     "output_type": "stream",
     "text": [
      "helloworld\n"
     ]
    }
   ],
   "source": [
    "# 除此之外，“with” 可以连续打开多个文件，代码示例如下\n",
    "with open('a.txt', 'r', encoding='utf-8') as f1, open('b.txt', 'r', encoding='utf-8') as f2:\n",
    "    data1 = f1.read()\n",
    "    data2 = f2.read()\n",
    "    print(data1+data2)"
   ]
  },
  {
   "cell_type": "markdown",
   "metadata": {},
   "source": [
    "默认打开文件的参数说明"
   ]
  },
  {
   "cell_type": "markdown",
   "metadata": {},
   "source": [
    " ## 1. 文件打开的字符编码\n",
    "如果不指定字符编码，默认打开文件的字符编码与操作系统相匹配：\n",
    "\n",
    "Windows系统（中国大陆用户）：gbk\n",
    "Liunx系统：utf-8\n",
    "MacOS：utf-8\n",
    "在不指定字符编码的情况下，MacOS系统示例代码："
   ]
  },
  {
   "cell_type": "markdown",
   "metadata": {},
   "source": [
    "2. 文件的打开模式\n",
    "文件默认的打开模式是“t”模式，指的是文本模式，这意味着在该模式下无法打开图片，视频和音频等文件，因为这些是以二进制格式存储的，文本模式是以字符形式存储的。\n"
   ]
  },
  {
   "cell_type": "markdown",
   "metadata": {},
   "source": [
    "## 熟练掌握文件的r,w,a,b四种打开模式，并学会灵活运用\n",
    "操作文件的模式有三种，分别是：“r”，“w”和“a”模式，“r”是只读，“w”是只写，“a”是指追加，默认操作文件大模式是“r”模式，所以默认文件的打开模式是“rt”模式，对于操作文本文件，“t”模式必须与操作文件的三种模式连用，很多时候你看到的，这个“t”经常会省略不写，这是可以的。"
   ]
  },
  {
   "cell_type": "markdown",
   "metadata": {},
   "source": [
    "##  3 掌握文件操作常用的方法"
   ]
  },
  {
   "cell_type": "markdown",
   "metadata": {},
   "source": [
    " 操作文件“r”模式\n",
    "\n",
    "全部读取使用read  \n",
    " 一行一行读文件内容使用readline\n",
    " 全部读取文件内容，存入列表，每行内容为列表的一个元素使用readlines"
   ]
  },
  {
   "cell_type": "code",
   "execution_count": 21,
   "metadata": {},
   "outputs": [],
   "source": [
    "# 操作文件“w”模式\n",
    "# 在“w”只写模式下，当文件存在时，就会清空该文件，代码示例如下：\n",
    "with open('a.txt', 'w', encoding='utf-8') as f:\n",
    "    f.write('第一行')\n",
    "    f.write('第二行')\n",
    "# 当文件不存在时，就会创建空文档，"
   ]
  },
  {
   "cell_type": "markdown",
   "metadata": {},
   "source": [
    " 操作文件“a”模式\n",
    " “a”模式指的是只追加写，当文件不存在时，\n",
    " 创建空文件；当文件存在时，光标直接移至文件末尾，所以，我们在记录日志的时候都会使用“a”模式，代码示例如下："
   ]
  },
  {
   "cell_type": "markdown",
   "metadata": {},
   "source": [
    "## 二进制模式打开文件的操作\n",
    "###  b”模式基本介绍\n",
    "“b”模式指的是文件打开的模式为“b”模式， 它与“t”模式类似，不能单独使用，必须以“rb”，“wb”或者“ab”模式来使用，“b”模式读写都是以bytes为单位进行的，所以可以理解为“b”模式就是二进制模式。对于普通文本来说是以字符的形式保存的，但是对于图片，视频或者音频等等这些文件则是以二进制形式保存的，所以“t”模式无法读取，代码及报错示例如下："
   ]
  },
  {
   "cell_type": "code",
   "execution_count": 27,
   "metadata": {},
   "outputs": [
    {
     "name": "stdout",
     "output_type": "stream",
     "text": [
      "b''\n"
     ]
    }
   ],
   "source": [
    "with open('01.jpg', 'rb', ) as f:\n",
    "    data = f.read()\n",
    "    print(data)"
   ]
  },
  {
   "cell_type": "markdown",
   "metadata": {},
   "source": [
    "### 操作文件的“rb”模式\n",
    "需要说明的一点是，“b”模式也可以读取文本文件，字符的底层都是以二进制形式存储的，只不过你在使用“t”模式读取文本文件的时候open帮你把二进制转成了能够看懂的文本，这是“t”模式的便利之处，但是它有局限性，只能操作文本文件，而“b”模式具有统一性，任何文件底层存储原理都是二进制，这也就是意味着“b”模式可以操作任何文件，代码示例如下："
   ]
  },
  {
   "cell_type": "code",
   "execution_count": 28,
   "metadata": {},
   "outputs": [
    {
     "name": "stdout",
     "output_type": "stream",
     "text": [
      "第一行第二行\n"
     ]
    }
   ],
   "source": [
    "with open('01.jpg', 'rb', ) as f1, open('a.txt', 'rb') as f2:\n",
    "    img = f1.read()\n",
    "    text = f2.read()\n",
    "    print(text.decode('utf-8'))  # 把bytes转化成utf-8"
   ]
  },
  {
   "cell_type": "markdown",
   "metadata": {},
   "source": [
    "### 操作文件的“wb”模式\n",
    "“wb”模式也是操作文件“w”模式的一种，当文件存在时，就会清空该文件，当文件不存在时，就会创建空文件，代码示例如下："
   ]
  },
  {
   "cell_type": "code",
   "execution_count": 30,
   "metadata": {},
   "outputs": [
    {
     "name": "stdout",
     "output_type": "stream",
     "text": [
      "b'\\xe4\\xbd\\xa0\\xe5\\xa5\\xbd\\xef\\xbc\\x8c\\xe4\\xb8\\x96\\xe7\\x95\\x8c'\n",
      "<class 'bytes'>\n",
      "你好，世界\n"
     ]
    }
   ],
   "source": [
    "# wb模式写入\n",
    "with open('a.txt', 'wb') as f:\n",
    "    msg = '你好，世界'\n",
    "    f.write(msg.encode('utf-8'))  # 指定写入文件的字符编码\n",
    "\n",
    "# rb模式读取\n",
    "with open('a.txt', 'rb') as f:\n",
    "    data = f.read()\n",
    "    print(data)\n",
    "    print(type(data))\n",
    "    print(data.decode('utf-8'))  # 指定读取文件的字符编码"
   ]
  },
  {
   "cell_type": "markdown",
   "metadata": {},
   "source": [
    "操作文件的“ab”模式\n",
    "“ab”模式指的是以二进制形式追加写，与操作文件的“a”模式同理，代码示例如下："
   ]
  },
  {
   "cell_type": "markdown",
   "metadata": {},
   "source": [
    "1.    这一张是用Python代码来操作硬件，准确的说是操作计算机的硬盘，目的就是为了让我们的数据能够永久的保存\n",
    "2.    文件的内容可能还会有100G，但是内存也许只有32G，确切的说，一般硬盘中的数据会远大于内存，所以当我们操作文件的时候要考虑硬件的承受能力，软件的性能极限要依托的硬件的基础之上\n",
    "\n",
    "尤其在一些机器学习处理数据的时候，我们经常要使用分块读取数据。\n"
   ]
  },
  {
   "cell_type": "code",
   "execution_count": null,
   "metadata": {},
   "outputs": [],
   "source": []
  }
 ],
 "metadata": {
  "kernelspec": {
   "display_name": "Python 3",
   "language": "python",
   "name": "python3"
  },
  "language_info": {
   "codemirror_mode": {
    "name": "ipython",
    "version": 3
   },
   "file_extension": ".py",
   "mimetype": "text/x-python",
   "name": "python",
   "nbconvert_exporter": "python",
   "pygments_lexer": "ipython3",
   "version": "3.7.3"
  }
 },
 "nbformat": 4,
 "nbformat_minor": 2
}
