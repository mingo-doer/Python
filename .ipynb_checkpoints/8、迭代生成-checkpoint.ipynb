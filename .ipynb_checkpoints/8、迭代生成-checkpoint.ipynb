{
 "cells": [
  {
   "cell_type": "markdown",
   "metadata": {},
   "source": [
    "# 迭代器\n",
    "\n",
    "## 1、迭代器说明\n",
    "迭代器就是迭代的工具，迭代是一个重复的过程，并且每次重复都是基于上一次的结果而来。"
   ]
  },
  {
   "cell_type": "code",
   "execution_count": 20,
   "metadata": {},
   "outputs": [
    {
     "name": "stdout",
     "output_type": "stream",
     "text": [
      "(0, 'x')\n",
      "(1, 'y')\n",
      "=------->\n",
      "=------->\n"
     ]
    }
   ],
   "source": [
    "# 这是一个迭代过程，虽然在重复，但是每次结果不一样\n",
    "dict1 = {'x': 1, 'y': 2}\n",
    "n = 0\n",
    "j=0\n",
    "while n < len(dict1):\n",
    "    for a in enumerate(dict1):\n",
    "        print(a)\n",
    "    \n",
    "        n += 1\n",
    "\n",
    "# 这不是迭代过程，一直在重复，却没有变化\n",
    "while j < len(dict1):\n",
    "    print('=------->')\n",
    "    j+=1"
   ]
  },
  {
   "cell_type": "code",
   "execution_count": 17,
   "metadata": {},
   "outputs": [
    {
     "name": "stdout",
     "output_type": "stream",
     "text": [
      "(0, 'x')\n",
      "(1, 'y')\n"
     ]
    }
   ],
   "source": [
    "dict1 = {'x': 1, 'y': 2}\n",
    "for a in enumerate(dict1):\n",
    "    print(a)"
   ]
  },
  {
   "cell_type": "markdown",
   "metadata": {},
   "source": [
    "## 2. 可迭代对象\n",
    "要想了解迭代器到底是什么？必须先要清楚一个概念，即什么是可迭代的对象？在python中，只要内置有__iter__方法的对象，都是可迭代的对象。"
   ]
  },
  {
   "cell_type": "code",
   "execution_count": 21,
   "metadata": {},
   "outputs": [],
   "source": [
    "# 这不是可迭代对象\n",
    "num = 1\n",
    "\n",
    "# 以下都是可迭代的对象\n",
    "str1 = 'hello'\n",
    "list1 = [1, 2, 3]\n",
    "tup1 = (1, 2, 3)\n",
    "dict1 = {'x': 1}\n",
    "set1 = {'a', 'b', 'c'}\n",
    "file1 = open('a.txt', 'w', encoding='utf-8')"
   ]
  },
  {
   "cell_type": "markdown",
   "metadata": {},
   "source": [
    "## 3、迭代器用法\n",
    "可迭代的对象执行__iter__方法得到的返回值就是迭代器对象。"
   ]
  },
  {
   "cell_type": "code",
   "execution_count": 22,
   "metadata": {},
   "outputs": [
    {
     "name": "stdout",
     "output_type": "stream",
     "text": [
      "x\n",
      "y\n",
      "z\n",
      "a\n",
      "c\n",
      "b\n",
      "1\n",
      "2\n",
      "3\n"
     ]
    }
   ],
   "source": [
    "dict1 = {'x': 1, 'y': 2, 'z': 3}\n",
    "iter_dict1 = dict1.__iter__()\n",
    "print(iter_dict1.__next__())\n",
    "print(iter_dict1.__next__())\n",
    "print(iter_dict1.__next__())\n",
    "# print(iter_dict1.__next__())  # 停止迭代\n",
    "\n",
    "set1 = {'a', 'b', 'c'}\n",
    "iter_set1 = set1.__iter__()\n",
    "print(iter_set1.__next__())\n",
    "print(iter_set1.__next__())\n",
    "print(iter_set1.__next__())\n",
    "# print(iter_set1.__next__())  # 停止迭代\n",
    "\n",
    "list1 = [1, 2, 3]\n",
    "iter_list1 = list1.__iter__()\n",
    "print(iter_list1.__next__())\n",
    "print(iter_list1.__next__())\n",
    "print(iter_list1.__next__())"
   ]
  },
  {
   "cell_type": "markdown",
   "metadata": {},
   "source": [
    "## 4. 可迭代对象VS迭代器对象\n",
    "(1) 可迭代对象\n",
    "可迭代对象无须获取，Python内置str，list，tuple，dict，set，file都是可迭代对象，它的特点是内置有__iter__方法，执行该方法会拿到一个返回值就是迭代器对象。\n",
    "\n",
    "(2) 迭代器对象\n",
    "文件对象本身既是可迭代对象又是迭代器对象，可迭代对象执行__iter__方法，拿到的返回值就是迭代器对象。迭代器对象的特点是内置有__next__方法，执行该方法会拿到迭代器对象中的一个值，迭代器对象内置有__iter__方法，执行该方法会拿到迭代器本身。"
   ]
  },
  {
   "cell_type": "code",
   "execution_count": 26,
   "metadata": {},
   "outputs": [
    {
     "name": "stdout",
     "output_type": "stream",
     "text": [
      "h\n",
      "True\n",
      "True\n",
      "True\n",
      "True\n",
      "hello\n",
      "\n",
      "yes\n",
      "\n",
      "no \n",
      "\n",
      "aha\n",
      "\n"
     ]
    }
   ],
   "source": [
    "str1 = 'hello'  # 可迭代对象\n",
    "\n",
    "iter_str1 = str1.__iter__()  # 迭代器对象\n",
    "print(iter_str1.__next__())  # 取出迭代器对象中的一个值\n",
    "print(iter_str1.__iter__() is iter_str1)\n",
    "print(iter_str1.__iter__().__iter__() is iter_str1)\n",
    "print(iter_str1.__iter__().__iter__().__iter__() is iter_str1)\n",
    "\n",
    "# 文件本身既是迭代器对象又是可迭代对象\n",
    "f = open('a.txt', 'r', encoding='utf-8')\n",
    "print(f.__iter__() is f)\n",
    "# 按行读取\n",
    "print(f.__next__())\n",
    "print(f.__next__())\n",
    "print(f.__next__())\n",
    "print(f.__next__())\n",
    "# print(f.__next__())"
   ]
  },
  {
   "cell_type": "markdown",
   "metadata": {},
   "source": [
    "## 5、 for 循环\n",
    "for循环称之为迭代器循环，in后跟的必须是可迭代的对象，for循环会执行in后对象的__iter__方法，拿到迭代器对象，然后调用迭代器对象的__next__方法，拿到一个返回值赋值给一个变量，周而复始，直到取值完毕，for循环会检测到异常自动结束循环。"
   ]
  },
  {
   "cell_type": "code",
   "execution_count": 28,
   "metadata": {},
   "outputs": [
    {
     "name": "stdout",
     "output_type": "stream",
     "text": [
      "hello\n",
      "\n",
      "yes\n",
      "\n",
      "no \n",
      "\n",
      "aha\n",
      "\n",
      "x\n",
      "y\n"
     ]
    }
   ],
   "source": [
    "file1 = open('a.txt', 'r', encoding='utf-8')\n",
    "for line in file1:  # iter_file1=file1.__iter__()\n",
    "    print(line)\n",
    "\n",
    "for item in {'x': 1, 'y': 2}:\n",
    "    print(item)"
   ]
  },
  {
   "cell_type": "markdown",
   "metadata": {},
   "source": [
    "# 生成器\n",
    "## 1. 生成器说明\n",
    "我们可以把上面讲过的迭代器理解为一只老母鸡，理论上讲，老母鸡的肚子里可以有无穷个蛋，但是它需要一个一个的下蛋，Python给我们内置了几种老母鸡数据类型。\n",
    "\n",
    "生成器其实本质就是迭代器，或者说生成器是特殊的迭代器，因为生成器是我们自己制造的迭代器。\n",
    "\n",
    "## 2. yield两个用法\n",
    "yield为我们提供了一种自定义迭代器的方式，可以在函数内用yield关键字，调用函数拿到的结果就是一个生成器。\n",
    "yield可以像return一样用于返回值，区别是return只能返回一次值，而yield可返回多次，因为yield可以保存函数执行的状态。\n",
    "yield与return用法比较"
   ]
  },
  {
   "cell_type": "code",
   "execution_count": 29,
   "metadata": {},
   "outputs": [
    {
     "name": "stdout",
     "output_type": "stream",
     "text": [
      "<generator object test_yield at 0x000001B544B7AFC0>\n",
      "True\n",
      "=======>first\n",
      "1\n",
      "=======>second\n",
      "2\n",
      "=======>third\n",
      "3\n",
      "=======>first\n"
     ]
    }
   ],
   "source": [
    "# yield\n",
    "def test_yield():\n",
    "    print('=======>first')\n",
    "    yield 1\n",
    "    print('=======>second')\n",
    "    yield 2\n",
    "    print('=======>third')\n",
    "    yield 3\n",
    "\n",
    "\n",
    "# 使用yield返回，调用函数时，不会执行函数体代码，拿到的返回值就是一个生成器对象\n",
    "res = test_yield()\n",
    "print(res)  # <generator object test_yield at 0x1078f7660>\n",
    "print(res.__iter__() is res)\n",
    "print(res.__next__())\n",
    "print(res.__next__())\n",
    "print(res.__next__())\n",
    "\n",
    "# return\n",
    "def test_return():\n",
    "    print('=======>first')\n",
    "    return 1  # 使用return返回，函数执行结束\n",
    "    print('=======>second')\n",
    "    return 2\n",
    "    print('=======>third')\n",
    "    return 3\n",
    "\n",
    "\n",
    "res = test_return()"
   ]
  },
  {
   "cell_type": "markdown",
   "metadata": {},
   "source": [
    "## 3. 生成器的构造\n",
    "函数内包含有yield关键字，再调用函数，就不会执行函数体代码，拿到的返回值就是一个生成器对象。"
   ]
  },
  {
   "cell_type": "code",
   "execution_count": 30,
   "metadata": {},
   "outputs": [
    {
     "name": "stdout",
     "output_type": "stream",
     "text": [
      "<generator object chicken at 0x000001B544B7A780>\n",
      "True\n",
      "=====>first\n",
      "1\n",
      "=====>second\n",
      "2\n",
      "=====>third\n",
      "3\n"
     ]
    }
   ],
   "source": [
    "def chicken():\n",
    "    print('=====>first')\n",
    "    yield 1\n",
    "    print('=====>second')\n",
    "    yield 2\n",
    "    print('=====>third')\n",
    "    yield 3\n",
    "\n",
    "\n",
    "obj = chicken()\n",
    "print(obj)\n",
    "print(obj.__iter__() is obj)\n",
    "print(obj.__next__())\n",
    "print(obj.__next__())\n",
    "print(obj.__next__())"
   ]
  },
  {
   "cell_type": "code",
   "execution_count": 31,
   "metadata": {},
   "outputs": [
    {
     "name": "stdout",
     "output_type": "stream",
     "text": [
      "1\n",
      "4\n",
      "7\n"
     ]
    }
   ],
   "source": [
    "# (2) 自定义range\n",
    "#  简易版本range，只能接收两个位置参数或者三个位置参数，起始位置没有默认值\n",
    "def show_my_range(start, stop, step=1):\n",
    "    n = start\n",
    "    while n < stop:\n",
    "        yield n\n",
    "        n += step\n",
    "\n",
    "\n",
    "for item in show_my_range(1, 10, 3):\n",
    "    print(item)\n"
   ]
  },
  {
   "cell_type": "code",
   "execution_count": 33,
   "metadata": {},
   "outputs": [
    {
     "name": "stdout",
     "output_type": "stream",
     "text": [
      "1\n",
      "2\n",
      "3\n",
      "4\n",
      "5\n",
      "6\n",
      "7\n",
      "8\n",
      "9\n"
     ]
    }
   ],
   "source": [
    "# (1) range的用法\n",
    "\n",
    "for i in range(1, 10, 1):\n",
    "    \"\"\"\n",
    "    range最多可以接收三个参数，第一个是起始位置，默认值为0，\n",
    "    第二个是结束位置，无默认值，必须指定，\n",
    "    第三个是步长，默认值为1，\n",
    "    如果只传一个位置参数，那就是指的结束位置，\n",
    "    如果传两个位置参数，第一个为起始位置，\n",
    "    第二个为结束位置，\n",
    "    range第一个能取到，最后一个取不到，顾头不顾尾\n",
    "    \"\"\"\n",
    "    print(i)"
   ]
  },
  {
   "cell_type": "markdown",
   "metadata": {},
   "source": [
    "###  yield表达式\n",
    "yield可以把函数暂停住，那么自然就能保存函数的运行状态，我们可以使用yield表达式形式来做一些有意思的操作。"
   ]
  },
  {
   "cell_type": "code",
   "execution_count": 34,
   "metadata": {},
   "outputs": [
    {
     "name": "stdout",
     "output_type": "stream",
     "text": [
      "【1】Albert is ready for eating\n",
      "【2】Albert starts to eat None\n",
      "【1】Albert is ready for eating\n",
      "【2】Albert starts to eat 蒸羊羔\n",
      "【2】Albert starts to eat 蒸鹿茸\n",
      "【2】Albert starts to eat 蒸熊掌\n",
      "【2】Albert starts to eat 烧素鸭\n"
     ]
    }
   ],
   "source": [
    "def eat(name):\n",
    "    print('【1】%s is ready for eating' % name)\n",
    "    while True:\n",
    "        food = yield  # 这是yield表达式形式，yield可以赋值给一个变量\n",
    "        print('【2】%s starts to eat %s' % (name, food))\n",
    "\n",
    "\n",
    "person1 = eat('Albert')\n",
    "\n",
    "# 函数暂停在food = yield这行代码\n",
    "person1.__next__()\n",
    "\n",
    "# 继续执行代码，由于yield没有值，即yield = None，则food = None\n",
    "person1.__next__()\n",
    "# yield肯定不能一直为空，肯定有一种方法给yield传值，这种方法就是send。\n",
    "\n",
    "def eat(name):\n",
    "    print('【1】%s is ready for eating' % name)\n",
    "    while True:\n",
    "        food = yield\n",
    "        print('【2】%s starts to eat %s' % (name, food))\n",
    "\n",
    "\n",
    "person1 = eat('Albert')\n",
    "\"\"\"\n",
    "对于表达式形式的yield，在使用前必先初始化\n",
    "即第一次必须传None，或者用__next__方法\n",
    "\"\"\"\n",
    "# person1.send(None)  # 初始化，和下面一行代码同等效果\n",
    "person1.__next__()\n",
    "\n",
    "person1.send('蒸羊羔')  # send有两个功能：1 传值，2 初始化\n",
    "person1.send('蒸鹿茸')\n",
    "person1.send('蒸熊掌')\n",
    "person1.send('烧素鸭')\n",
    "person1.close()  # 关闭之后，后面的就吃不了了，也不能兜着走\n",
    "# person1.send('烧素鹅')\n",
    "# person1.send('烧鹿尾')"
   ]
  },
  {
   "cell_type": "code",
   "execution_count": 36,
   "metadata": {},
   "outputs": [
    {
     "name": "stdout",
     "output_type": "stream",
     "text": [
      "Albert is ready for eating\n",
      "Albert starts to eat 蒸羊羔\n",
      "Albert has eaten ['蒸羊羔']\n",
      "Albert starts to eat 蒸鹿茸\n",
      "Albert has eaten ['蒸羊羔', '蒸鹿茸']\n",
      "Albert starts to eat 蒸熊掌\n",
      "Albert has eaten ['蒸羊羔', '蒸鹿茸', '蒸熊掌']\n",
      "Albert starts to eat 烧素鸭\n",
      "Albert has eaten ['蒸羊羔', '蒸鹿茸', '蒸熊掌', '烧素鸭']\n"
     ]
    }
   ],
   "source": [
    "def eat(name):\n",
    "    print('%s is ready for eating' % name)\n",
    "    food_list = []\n",
    "    while True:\n",
    "        food = yield food_list\n",
    "        print('%s starts to eat %s' % (name, food))\n",
    "        food_list.append(food)\n",
    "        print('%s has eaten %s' % (name, food_list))\n",
    "\n",
    "\n",
    "person1 = eat('Albert')\n",
    "\n",
    "person1.send(None)\n",
    "\n",
    "person1.send('蒸羊羔')\n",
    "\n",
    "person1.send('蒸鹿茸')\n",
    "\n",
    "person1.send('蒸熊掌')\n",
    "\n",
    "person1.send('烧素鸭')\n",
    "\n",
    "person1.close()# 关闭之后，后面的就吃不了了，也不能兜着走\n"
   ]
  }
 ],
 "metadata": {
  "kernelspec": {
   "display_name": "Python 3",
   "language": "python",
   "name": "python3"
  },
  "language_info": {
   "codemirror_mode": {
    "name": "ipython",
    "version": 3
   },
   "file_extension": ".py",
   "mimetype": "text/x-python",
   "name": "python",
   "nbconvert_exporter": "python",
   "pygments_lexer": "ipython3",
   "version": "3.6.7"
  }
 },
 "nbformat": 4,
 "nbformat_minor": 2
}
