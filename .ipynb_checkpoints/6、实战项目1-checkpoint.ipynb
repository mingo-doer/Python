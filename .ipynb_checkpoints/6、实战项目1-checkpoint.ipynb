{
 "cells": [
  {
   "cell_type": "markdown",
   "metadata": {},
   "source": [
    "# 要求：\n",
    "    打印三级菜单如：汽车，种类，品牌，型号，可以自由发挥 \n",
    "    可返回上一级\n",
    "    可随时退出程序"
   ]
  },
  {
   "cell_type": "code",
   "execution_count": 1,
   "metadata": {},
   "outputs": [],
   "source": [
    "menu = {\n",
    "    '汽车': {\n",
    "        '轿车': {\n",
    "            '宝马': {\n",
    "                '宝马760': {},\n",
    "                '宝马M5': {},\n",
    "                '宝马M3': {}\n",
    "            },\n",
    "            '奔驰': {\n",
    "                '奔驰C180': {},\n",
    "                '奔驰E260': {},\n",
    "                '奔驰S600': {},\n",
    "            },\n",
    "            '奥迪': {\n",
    "                '奥迪A4L': {},\n",
    "            },\n",
    "        },\n",
    "        '越野车': {\n",
    "            '保时捷': {\n",
    "                '保时捷Macan': {},\n",
    "                '保时捷Cayenne': {},\n",
    "            },\n",
    "            '路虎': {},\n",
    "            '英菲尼迪': {},\n",
    "        },\n",
    "        '卡车': {},\n",
    "        '公交车': {},\n",
    "    },\n",
    "    '飞机': {\n",
    "        '大飞机': {\n",
    "            \"大1\": {\n",
    "                'xxx': {}\n",
    "            }\n",
    "        },\n",
    "        '小飞机': {\n",
    "            '小1': {\n",
    "                'xxx': {}\n",
    "            }\n",
    "        },\n",
    "        '直升机': {},\n",
    "    },\n",
    "    '大炮': {}\n",
    "}\n",
    "\n"
   ]
  },
  {
   "cell_type": "code",
   "execution_count": 4,
   "metadata": {},
   "outputs": [],
   "source": [
    "#  获取层数\n",
    "def getlayer(menu):\n",
    "    tag=True\n",
    "    while tag:\n",
    "        \n",
    "        for key in menu: # 打印第一层\n",
    "            print(key)\n",
    "       \n",
    "        choice1=input(\"下一层>>: \").strip() # 选择第一层\n",
    "        \n",
    "        if choice1 == 'b': # 输入b，则返回上一级\n",
    "            break\n",
    "        if choice1 == 'q': # 输入q，则退出整体\n",
    "            tag=False\n",
    "            continue\n",
    "        if choice1 not in menu: # 输入内容不在menu1内，则继续输入\n",
    "            continue\n",
    "        menu=menu[choice1] # 拿到choice1对应的一层字典    "
   ]
  },
  {
   "cell_type": "code",
   "execution_count": 7,
   "metadata": {},
   "outputs": [
    {
     "name": "stdout",
     "output_type": "stream",
     "text": [
      "汽车\n",
      "飞机\n",
      "大炮\n",
      "下一层>>: 汽车\n",
      "轿车\n",
      "越野车\n",
      "卡车\n",
      "公交车\n",
      "下一层>>: 轿车\n",
      "宝马\n",
      "奔驰\n",
      "奥迪\n",
      "下一层>>: 奔驰\n",
      "奔驰C180\n",
      "奔驰E260\n",
      "奔驰S600\n",
      "下一层>>: 奔驰c180\n",
      "奔驰C180\n",
      "奔驰E260\n",
      "奔驰S600\n",
      "下一层>>: 奔驰C180\n",
      "下一层>>: q\n"
     ]
    }
   ],
   "source": [
    "getlayer(menu)"
   ]
  },
  {
   "cell_type": "markdown",
   "metadata": {},
   "source": [
    "## 项目2 需求:\n",
    "    用户名，密码和余额存放于文件中，格式为：Albert|Albert123|3000\n",
    "    启动程序后：\n",
    "        已注册用户===>先登录===>登录成功===>读取用户余额===>开始购物\n",
    "                     登录过程中，用户密码输入超过三次则退出程序,\n",
    "                     并将用户名添加到黑名单，再次启动程序登陆改用户名，提示用户禁止登陆\n",
    "        未注册用户===>先注册===>注册成功===>输入用户工资，即为用户余额===>开始购物\n",
    "                     注册过程中，用户密码输入两次一样才可以注册\n",
    "    允许用户根据商品编号购买商品，比如：\n",
    "        1 iPhone\n",
    "        2 macbook\n",
    "        3 bike\n",
    "    用户选择商品后，检测余额是否够，够就直接扣款，修改文件中用户余额，不够就提醒\n",
    "    可随时退出，退出时，打印已购买商品和余额"
   ]
  },
  {
   "cell_type": "code",
   "execution_count": 17,
   "metadata": {},
   "outputs": [
    {
     "name": "stdout",
     "output_type": "stream",
     "text": [
      "Albert|Albert123|3000\n"
     ]
    }
   ],
   "source": [
    "\n",
    "with open ('a.txt', 'r', encoding='utf-8') as f:\n",
    "    data = f.read()\n",
    "    print(data)"
   ]
  },
  {
   "cell_type": "code",
   "execution_count": 30,
   "metadata": {},
   "outputs": [
    {
     "data": {
      "text/plain": [
       "['Albert', 'Albert123', '3000']"
      ]
     },
     "execution_count": 30,
     "metadata": {},
     "output_type": "execute_result"
    }
   ],
   "source": [
    "# 处理用户名密码\n",
    "usr=data.split('|')\n",
    "usr"
   ]
  },
  {
   "cell_type": "code",
   "execution_count": 44,
   "metadata": {},
   "outputs": [],
   "source": [
    "blackusr=[]"
   ]
  },
  {
   "cell_type": "code",
   "execution_count": 38,
   "metadata": {},
   "outputs": [],
   "source": [
    "def load(Usr,blackusr):\n",
    "    tag=True\n",
    "    count=0\n",
    "    while tag:\n",
    "        if usr not in blackusr and usr in Usr:\n",
    "            if usr[0]=='Albert' and usr[1]=='Albert123':\n",
    "                print(usr[2])\n",
    "                print('请开始购物')\n",
    "        else :\n",
    "            count+=1\n",
    "            if count >3:\n",
    "                addblackusr(usr)\n",
    "                tag=False\n",
    "                print('禁止登陆')\n",
    "    "
   ]
  },
  {
   "cell_type": "code",
   "execution_count": 40,
   "metadata": {},
   "outputs": [],
   "source": [
    "def addblackusr(usr,blackusr):\n",
    "    blackusr.append(usr)\n",
    "    return blackusr"
   ]
  },
  {
   "cell_type": "code",
   "execution_count": 58,
   "metadata": {},
   "outputs": [],
   "source": [
    "# 未注册用户===>先注册===>注册成功===>输入用户工资，即为用户余额===>开始购物\n",
    "#                  注册过程中，用户密码输入两次一样才可以注册\n",
    "def register():\n",
    "    usr=[]\n",
    "    usrname=input('请输入用户名')\n",
    "    password1=input('请输入密码')\n",
    "    password2=input('请再次输入密码')\n",
    "    if password1==password2:\n",
    "        salary=input('请输入工资')\n",
    "        usr.append(usrname)\n",
    "        usr.append(password1)\n",
    "        usr.append(salary)\n",
    "        print('开始购物')\n",
    "        return usr\n",
    "    else:\n",
    "        print('密码不一致')\n",
    "        register()\n",
    "\n",
    "    "
   ]
  },
  {
   "cell_type": "code",
   "execution_count": null,
   "metadata": {},
   "outputs": [],
   "source": [
    "# 允许用户根据商品编号购买商品，比如：\n",
    "#      iPhone\n",
    "#      macbook\n",
    "#        bike\n",
    "# 用户选择商品后，检测余额是否够，够就直接扣款，修改文件中用户余额，不够就提醒\n",
    "# 可随时退出，退出时，打印已购买商品和余额\n",
    "products=['iphone','macbook','bike']\n",
    "# def buy(products):\n",
    "    for i ,value in enumerate(products):\n",
    "        print(i,value)\n",
    "    \n",
    "    \n",
    "    \n",
    "    "
   ]
  }
 ],
 "metadata": {
  "kernelspec": {
   "display_name": "Python 3",
   "language": "python",
   "name": "python3"
  },
  "language_info": {
   "codemirror_mode": {
    "name": "ipython",
    "version": 3
   },
   "file_extension": ".py",
   "mimetype": "text/x-python",
   "name": "python",
   "nbconvert_exporter": "python",
   "pygments_lexer": "ipython3",
   "version": "3.6.7"
  }
 },
 "nbformat": 4,
 "nbformat_minor": 2
}
