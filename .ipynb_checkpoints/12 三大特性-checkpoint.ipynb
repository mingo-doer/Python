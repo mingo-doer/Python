{
 "cells": [
  {
   "cell_type": "markdown",
   "metadata": {},
   "source": [
    "一、简答题\n",
    "1.    类的属性和对象的属性有什么区别?\n",
    "对象自己的名称名空间====>对象所在的类的名称空间====>对象的所在的类的父类的名称空间\n",
    "2.    什么是绑定到对象的方法，如何定义，如何调用，给谁用？有什么特性\n",
    "绑定到对象 类中传参 包含对象  def function（对象）\n",
    "3.    什么是多态，多态有哪些优点，可以在哪些场景使用多态\n",
    "\n",
    "4.    以自己的理解简述一下Python中鸭子类型，可以查阅资料，举出一个简单实例(代码实现)\n",
    "5.    什么是封装，封装有哪些优点\n",
    "6.    教程中封装那一节的小问题二、代码优化  \n",
    "\n"
   ]
  },
  {
   "cell_type": "markdown",
   "metadata": {},
   "source": [
    "## 派生1\n",
    "派生就是在继承的基础上有自己新的东西，如果有自己新的东西，肯定就会以自己新的东西为准"
   ]
  },
  {
   "cell_type": "code",
   "execution_count": null,
   "metadata": {},
   "outputs": [],
   "source": []
  },
  {
   "cell_type": "code",
   "execution_count": null,
   "metadata": {},
   "outputs": [],
   "source": [
    "# 派生第一种方案（指名道姓的调用父类）：\n",
    "class DeepsharePeople:\n",
    "    school = 'deepshare'\n",
    "    def __init__(self, name, age, gender):\n",
    "        self.name = name\n",
    "        self.age = age\n",
    "        self.gender = gender\n",
    "    def f1(self):\n",
    "        print('爹的f1')\n",
    "class DeepshareTeacher(DeepsharePeople):\n",
    "    def __init__(self,name,age,gender,level,salary):\n",
    "        # self.name = name\n",
    "        # self.age = age\n",
    "        # self.gender = gender\n",
    "        # 用类来调用，没有自动传值，要把self写上\n",
    "        DeepsharePeople.__init__(self,name,age,gender )\n",
    "        self.level = level\n",
    "        self.salary = salary\n",
    "    def modify_score(self):\n",
    "        print('teacher %s is modifying score' % self.name)\n",
    "    def f1(self):\n",
    "        print('儿子的f1')\n",
    "tea1 = DeepshareTeacher('albert', 18, 'male','10 ','3.1')\n",
    "print(tea1.name,tea1.age,tea1.gender,tea1.level,tea1.salary )"
   ]
  },
  {
   "cell_type": "code",
   "execution_count": 1,
   "metadata": {},
   "outputs": [],
   "source": [
    "# 假如现在有这样一个需求，把老师和学生，学生可以自由选择课程学习，老师可以对学生的成绩做评分，按照原来的思路，我应该这样写代码\n",
    "\n",
    "class DeepshareTeacher:\n",
    "    school = 'deepshare'\n",
    "    def __init__(self, name, age, gender):\n",
    "        self.name = name\n",
    "        self.age = age\n",
    "        self.gender = gender\n",
    "    def modify_score(self):\n",
    "        print('teacher %s is modifying score' % self.name)\n",
    "class DeepshareStudent:\n",
    "    school = 'deepshare'\n",
    "    def __init__(self, name, age, gender):\n",
    "        self.name = name\n",
    "        self.age = age\n",
    "        self.gender = gender\n",
    "    def choose(self):\n",
    "        print('student %s is choosing course' % self.name)\n",
    "# \n",
    "\n"
   ]
  },
  {
   "cell_type": "markdown",
   "metadata": {},
   "source": [
    "代码写到这里你应可以发现了，这里面有重复的代码，为了避免代码冗余，我们应该使用继承的方式来优化我们的代码"
   ]
  },
  {
   "cell_type": "code",
   "execution_count": 2,
   "metadata": {},
   "outputs": [],
   "source": [
    "class DeepsharePeople:\n",
    "    school = 'deepshare'\n",
    "    def __init__(self, name, age, gender):\n",
    "        self.name = name\n",
    "        self.age = age\n",
    "        self.gender = gender\n",
    "class DeepshareTeacher(DeepsharePeople):\n",
    "    def modify_score(self):\n",
    "        print('teacher %s is modifying score' % self.name)\n",
    "class DeepshareStudent(DeepsharePeople):\n",
    "    def choose(self):\n",
    "        print('student %s is choosing course' % self.name)\n",
    "tea1 = DeepshareTeacher('albert',18,'male')\n",
    "stu1 = DeepshareStudent('张二狗',18,'female')"
   ]
  },
  {
   "cell_type": "code",
   "execution_count": 3,
   "metadata": {},
   "outputs": [
    {
     "name": "stdout",
     "output_type": "stream",
     "text": [
      "\n",
      "        =====个人信息=====\n",
      "        姓名：albert\n",
      "        年龄：18\n",
      "        性别：male\n",
      "        \n",
      "\n",
      "        等级：10 \n",
      "        薪资：10 \n",
      "        \n"
     ]
    }
   ],
   "source": [
    "class DeepsharePeople:\n",
    "    school = 'deepshare'\n",
    "    def __init__(self, name, age, gender):\n",
    "        self.name = name\n",
    "        self.age = age\n",
    "        self.gender = gender\n",
    "    def info(self):\n",
    "        print(\"\"\"\n",
    "        =====个人信息=====\n",
    "        姓名：%s\n",
    "        年龄：%s\n",
    "        性别：%s\n",
    "        \"\"\"%(self.name,self.age,self.gender))\n",
    "class DeepshareTeacher(DeepsharePeople):\n",
    "    def __init__(self,name,age,gender,level,salary):\n",
    "        # self.name = name\n",
    "        # self.age = age\n",
    "        # self.gender = gender\n",
    "        DeepsharePeople.__init__(self,name,age,gender )\n",
    "        self.level = level\n",
    "        self.salary = salary\n",
    "    def modify_score(self):\n",
    "        print('teacher %s is modifying score' % self.name)\n",
    "    def info(self):\n",
    "        # 注意：用类去掉不会自动传self，需要我们手动写一下\n",
    "        DeepsharePeople.info(self)\n",
    "        print(\"\"\"\n",
    "        等级：%s\n",
    "        薪资：%s\n",
    "        \"\"\"%(self.level,self.level))\n",
    "tea1 = DeepshareTeacher('albert', 18, 'male','10 ','3.1')\n",
    "tea1.info()"
   ]
  },
  {
   "cell_type": "markdown",
   "metadata": {},
   "source": [
    "## 派生2\n",
    "第二种方案（用super( )调用）：\n",
    "super（）的返回值是一个特殊的对象，该对象专门用来调用父类中的属性\n",
    "\n",
    "super的调用与第一种派生方式不同，他是严格依赖继承关系，这两种方式都可以使用，没有谁好谁坏，但是两种方式千万不要混合使用，那谁也救不了你啊"
   ]
  },
  {
   "cell_type": "code",
   "execution_count": 4,
   "metadata": {},
   "outputs": [
    {
     "name": "stdout",
     "output_type": "stream",
     "text": [
      "\n",
      "        =====个人信息=====\n",
      "        姓名：albert\n",
      "        年龄：18\n",
      "        性别：male\n",
      "        \n",
      "\n",
      "        等级：10 \n",
      "        薪资：10 \n",
      "        \n"
     ]
    }
   ],
   "source": [
    "class DeepsharePeople:\n",
    "    school = 'deepshare'\n",
    "    def __init__(self, name, age, gender):\n",
    "        self.name = name\n",
    "        self.age = age\n",
    "        self.gender = gender\n",
    "    def info(self):\n",
    "        print(\"\"\"\n",
    "        =====个人信息=====\n",
    "        姓名：%s\n",
    "        年龄：%s\n",
    "        性别：%s\n",
    "        \"\"\"%(self.name,self.age,self.gender))\n",
    "class DeepshareTeacher(DeepsharePeople):\n",
    "    def __init__(self,name,age,gender,level,salary):\n",
    "        # self.name = name\n",
    "        # self.age = age\n",
    "        # self.gender = gender\n",
    "        # DeepsharePeople.__init__(self,name,age,gender )\n",
    "        super().__init__(name,age,gender)  # 这里调用的是父类的init，super()是一个对象\n",
    "        self.level = level\n",
    "        self.salary = salary\n",
    "    def modify_score(self):\n",
    "        print('teacher %s is modifying score' % self.name)\n",
    "    def info(self):\n",
    "        # DeepsharePeople.info(self)\n",
    "        super().info()  # 同理，super()返回值是一个对象，不要self，调用的info是父类的info\n",
    "        print(\"\"\"\n",
    "        等级：%s\n",
    "        薪资：%s\n",
    "        \"\"\"%(self.level,self.level))\n",
    "tea1 = DeepshareTeacher('albert', 18, 'male','10 ','3.1')\n",
    "tea1.info()"
   ]
  },
  {
   "cell_type": "markdown",
   "metadata": {},
   "source": [
    "新式类：继承object的类，以及该类的子类孙子类，都是新式类\n",
    "经典类：没有继承object的类，以及该类的子类，孙子类，都是经典类\n",
    "\n",
    "这就说明了Python3中只有新式类，而Python2中既有经典类，又有新式类，但其实即使是使用Python2的程序员，经典类也是用的比较少了，所以你会看到一些老的程序员或者一些老得项目上，定义类的时候后面都会加一个object，这样有两种可能，一 项目是是用Python2 写的，二 老程序员的习惯，因为他以前用Python2 都要加这个，并且当代码移植到Python2中也能使用"
   ]
  },
  {
   "cell_type": "markdown",
   "metadata": {},
   "source": [
    "##  组合\n",
    "严格来讲，其实组合与继承并没有直接的关系，但是组合和继承都是解决类与类之间代码冗余的方案，站在面向对象的角度考虑他们是同一类，所以我们这里放在一起来讲。区别是继承描述的是类与类之间的从属关系，也就是什么是什么的关系，而组合描述的是类与类之间的交叉关系，也就是什么有什么的关系\n",
    "\n",
    "一个类产生的对象，该对象拥有一个属性，这个属性的值是来自于另外一个类的对象\n",
    "\n",
    "我希望老师对象能够有出生日期这个属性，学生对象也有这个属性，这应该怎么操作呢？"
   ]
  },
  {
   "cell_type": "code",
   "execution_count": 6,
   "metadata": {},
   "outputs": [
    {
     "name": "stdout",
     "output_type": "stream",
     "text": [
      "出生年月日<2000-1-1>\n",
      "<__main__.Date object at 0x000001F7F0CD4D68>\n",
      "出生年月日<2000-1-1>\n",
      "teacher albert is changing score\n",
      "出生年月日<2002-3-3>\n"
     ]
    }
   ],
   "source": [
    "class Date:\n",
    "    def __init__(self,year,mon,day):\n",
    "        self.year = year\n",
    "        self.mon = mon\n",
    "        self.day = day\n",
    "    def tell_birth(self):\n",
    "        print('出生年月日<%s-%s-%s>' % (self.year, self.mon, self.day))\n",
    "class DeepsharePeople:\n",
    "    school = 'deepshare'\n",
    "    def __init__(self, name, age, gender):\n",
    "        self.name = name\n",
    "        self.age = age\n",
    "        self.gender = gender\n",
    "class DeepshareTeacher(DeepsharePeople):\n",
    "    def __init__(self,name,age,gender,level,salary):\n",
    "        super().__init__(name,age,gender)\n",
    "        self.level=level\n",
    "        self.salary=salary\n",
    "    def change_score(self):\n",
    "        print('teacher %s is changing score' %self.name)\n",
    "class DeepshareStudent(DeepsharePeople):\n",
    "    def __init__(self,name,age,gender,course,):\n",
    "        super().__init__(name,age,gender,)\n",
    "        self.course=course\n",
    "    def choose(self):\n",
    "        print('student %s choose course' %self.name)\n",
    "tea1=DeepshareTeacher('albert',18,'male',10,3.1)\n",
    "date_obj=Date(2000,1,1)\n",
    "date_obj.tell_birth()\n",
    "tea1.birth=date_obj\n",
    "print(tea1.birth)\n",
    "tea1.birth.tell_birth()\n",
    "tea1.change_score()\n",
    "stu1=DeepshareStudent('张三',16,'male','AI')\n",
    "stu1.birth=Date(2002,3,3)\n",
    "stu1.birth.tell_birth()"
   ]
  },
  {
   "cell_type": "markdown",
   "metadata": {},
   "source": [
    "## 封装\n",
    "1.封装基本介绍\n",
    "什么是封装\n",
    "先从字面意思来理解，封装就是封上口，装起来，让他跑不出来，你在外面不知道它里面有什么， 但是如果把你一块装进去，你肯定就是知道了，不过你就别想出来了\n",
    "装就是把属性存起来，封就是把这些属性隐藏起来\n",
    "\n",
    "封装但从字面意思看等同于隐藏，但绝对不是单纯意义的隐藏"
   ]
  },
  {
   "cell_type": "code",
   "execution_count": 8,
   "metadata": {},
   "outputs": [
    {
     "name": "stdout",
     "output_type": "stream",
     "text": [
      "111\n"
     ]
    }
   ],
   "source": [
    "# 如何用封装\n",
    "\n",
    "class Foo:\n",
    "    x = 111\n",
    "    def f1(self):\n",
    "        print('Foo.f1')\n",
    "obj = Foo()\n",
    "print(obj.x)\n",
    "# 以上这段代码，我想把x属性隐藏起来\n",
    "\n"
   ]
  },
  {
   "cell_type": "code",
   "execution_count": 15,
   "metadata": {},
   "outputs": [
    {
     "ename": "TypeError",
     "evalue": "__init__() missing 1 required positional argument: 'y'",
     "output_type": "error",
     "traceback": [
      "\u001b[1;31m---------------------------------------------------------------------------\u001b[0m",
      "\u001b[1;31mTypeError\u001b[0m                                 Traceback (most recent call last)",
      "\u001b[1;32m<ipython-input-15-9ae70224095b>\u001b[0m in \u001b[0;36m<module>\u001b[1;34m\u001b[0m\n\u001b[0;32m      7\u001b[0m     \u001b[1;32mdef\u001b[0m \u001b[0m__f1\u001b[0m\u001b[1;33m(\u001b[0m\u001b[0mself\u001b[0m\u001b[1;33m)\u001b[0m\u001b[1;33m:\u001b[0m\u001b[1;33m\u001b[0m\u001b[1;33m\u001b[0m\u001b[0m\n\u001b[0;32m      8\u001b[0m         \u001b[0mprint\u001b[0m\u001b[1;33m(\u001b[0m\u001b[1;34m'Foo.f1'\u001b[0m\u001b[1;33m)\u001b[0m\u001b[1;33m\u001b[0m\u001b[1;33m\u001b[0m\u001b[0m\n\u001b[1;32m----> 9\u001b[1;33m \u001b[0mobj\u001b[0m \u001b[1;33m=\u001b[0m \u001b[0mFoo\u001b[0m\u001b[1;33m(\u001b[0m\u001b[1;33m)\u001b[0m\u001b[1;33m\u001b[0m\u001b[1;33m\u001b[0m\u001b[0m\n\u001b[0m\u001b[0;32m     10\u001b[0m \u001b[0mprint\u001b[0m\u001b[1;33m(\u001b[0m\u001b[0mobj\u001b[0m\u001b[1;33m.\u001b[0m\u001b[0mx\u001b[0m\u001b[1;33m)\u001b[0m\u001b[1;33m\u001b[0m\u001b[1;33m\u001b[0m\u001b[0m\n\u001b[0;32m     11\u001b[0m \u001b[0mprint\u001b[0m\u001b[1;33m(\u001b[0m\u001b[0mobj\u001b[0m\u001b[1;33m.\u001b[0m\u001b[0m_x\u001b[0m\u001b[1;33m)\u001b[0m\u001b[1;33m\u001b[0m\u001b[1;33m\u001b[0m\u001b[0m\n",
      "\u001b[1;31mTypeError\u001b[0m: __init__() missing 1 required positional argument: 'y'"
     ]
    }
   ],
   "source": [
    "class Foo:\n",
    "    __x = 111  # 注意这里是__开头，没有__结尾，杠杠开头杠杠结尾的是在某种情况下自动触发的方法\n",
    "    def f1(self):\n",
    "        print('Foo.f1')\n",
    "    def __init__(self,y):  # 注意这不是封装\n",
    "        self.__y = y\n",
    "    def __f1(self):\n",
    "        print('Foo.f1')\n",
    "obj = Foo()\n",
    "print(obj.x)\n",
    "print(obj._x)\n",
    "print(obj.__x)\n",
    "# 现在你不管怎么访问，都访问不到，这就已经完成了隐藏，同理，如下"
   ]
  },
  {
   "cell_type": "code",
   "execution_count": null,
   "metadata": {},
   "outputs": [],
   "source": []
  },
  {
   "cell_type": "code",
   "execution_count": 16,
   "metadata": {},
   "outputs": [
    {
     "name": "stdout",
     "output_type": "stream",
     "text": [
      "111\n",
      "<bound method Foo.__f1 of <__main__.Foo object at 0x000001F7F0D8B198>>\n",
      "222\n"
     ]
    }
   ],
   "source": [
    "# x,y,f1属性都找不到了，如果我现在不告诉你，你能用所学知识找到他的属性吗？（据说十个人里有9个能找到）\n",
    "\n",
    "# 为一个属性名加__开头，会在类定义阶段将属性名变形：_属性名 ==> _类名__属性名\n",
    "# 复习：类定义阶段执行类体内的代码（类体内的函数只检测语法，不执行）\n",
    "# 怎么证明呢？这也是上面的问题的答案\n",
    "\n",
    "# 查看类的名称空间\n",
    "# 修改调用方式\n",
    "\n",
    "print(obj._Foo__x)\n",
    "print(obj._Foo__f1)\n",
    "print(obj._Foo__y)"
   ]
  },
  {
   "cell_type": "markdown",
   "metadata": {},
   "source": [
    " 10. 如下示例, 在没有学习类这个概念时，数据与功能是分离的,请用面向对象的形式优化以下代码"
   ]
  },
  {
   "cell_type": "code",
   "execution_count": 40,
   "metadata": {},
   "outputs": [],
   "source": [
    "def exc1(host,port,db,charset):  \n",
    "    conn=connect(host,port,db,charset) \n",
    "    conn.execute(sql)  \n",
    "    return xxx\n",
    "def exc2(host,port,db,charset,proc_name): \n",
    "    conn=connect(host,port,db,charset)   \n",
    "    conn.call_proc(sql)  \n",
    "    return xxx \n",
    "# 每次调用都需要重复传入一堆参数exc1('127.0.0.1',3306,'db1','utf8','select * from tb1;')\n",
    "# exc2(‘127.0.0.1’,3306,'db1','utf8','存储过程的名字')\n",
    "class exc:\n",
    "    def __init__(self,host,port,db,charset):\n",
    "        self.host=host\n",
    "        self.port=port\n",
    "        self.db=db\n",
    "        self.charset=charset\n",
    "    def connet(self):\n",
    "        conn=connect(host,port,db,charset)\n",
    "        conn.excute(sql)\n",
    "        return xxx\n",
    "class extent_exc(exc):\n",
    "    def __init__(self,host,port,db,charset,proc_name):\n",
    "        super().__init__(host,port,db,charset)\n",
    "        self.proc_name=proc_name\n",
    "    def connet():\n",
    "        conn=connect(host,port,db,charset)   \n",
    "        conn.call_proc(sql)  \n",
    "        return xxx \n",
    "    "
   ]
  },
  {
   "cell_type": "code",
   "execution_count": 41,
   "metadata": {},
   "outputs": [
    {
     "ename": "NameError",
     "evalue": "name 'connect' is not defined",
     "output_type": "error",
     "traceback": [
      "\u001b[1;31m---------------------------------------------------------------------------\u001b[0m",
      "\u001b[1;31mNameError\u001b[0m                                 Traceback (most recent call last)",
      "\u001b[1;32m<ipython-input-41-ec835ff273da>\u001b[0m in \u001b[0;36m<module>\u001b[1;34m\u001b[0m\n\u001b[0;32m      1\u001b[0m \u001b[0mexc1\u001b[0m\u001b[1;33m=\u001b[0m\u001b[0mexc\u001b[0m\u001b[1;33m(\u001b[0m\u001b[1;34m'127.0.0.1'\u001b[0m\u001b[1;33m,\u001b[0m\u001b[1;34m'3306'\u001b[0m\u001b[1;33m,\u001b[0m\u001b[1;34m'db1'\u001b[0m\u001b[1;33m,\u001b[0m\u001b[1;34m'utf8'\u001b[0m\u001b[1;33m)\u001b[0m\u001b[1;33m\u001b[0m\u001b[1;33m\u001b[0m\u001b[0m\n\u001b[0;32m      2\u001b[0m \u001b[0mexc2\u001b[0m\u001b[1;33m=\u001b[0m\u001b[0mextent_exc\u001b[0m\u001b[1;33m(\u001b[0m\u001b[1;34m'127.0.0.1'\u001b[0m\u001b[1;33m,\u001b[0m\u001b[1;34m'3306'\u001b[0m\u001b[1;33m,\u001b[0m\u001b[1;34m'db1'\u001b[0m\u001b[1;33m,\u001b[0m\u001b[1;34m'utf8'\u001b[0m\u001b[1;33m,\u001b[0m\u001b[1;34m'存储过程的名字'\u001b[0m\u001b[1;33m)\u001b[0m\u001b[1;33m\u001b[0m\u001b[1;33m\u001b[0m\u001b[0m\n\u001b[1;32m----> 3\u001b[1;33m \u001b[0mexc1\u001b[0m\u001b[1;33m.\u001b[0m\u001b[0mconnet\u001b[0m\u001b[1;33m(\u001b[0m\u001b[1;33m)\u001b[0m\u001b[1;33m\u001b[0m\u001b[1;33m\u001b[0m\u001b[0m\n\u001b[0m",
      "\u001b[1;32m<ipython-input-40-f2803b0d0dfe>\u001b[0m in \u001b[0;36mconnet\u001b[1;34m(self)\u001b[0m\n\u001b[0;32m     16\u001b[0m         \u001b[0mself\u001b[0m\u001b[1;33m.\u001b[0m\u001b[0mcharset\u001b[0m\u001b[1;33m=\u001b[0m\u001b[0mcharset\u001b[0m\u001b[1;33m\u001b[0m\u001b[1;33m\u001b[0m\u001b[0m\n\u001b[0;32m     17\u001b[0m     \u001b[1;32mdef\u001b[0m \u001b[0mconnet\u001b[0m\u001b[1;33m(\u001b[0m\u001b[0mself\u001b[0m\u001b[1;33m)\u001b[0m\u001b[1;33m:\u001b[0m\u001b[1;33m\u001b[0m\u001b[1;33m\u001b[0m\u001b[0m\n\u001b[1;32m---> 18\u001b[1;33m         \u001b[0mconn\u001b[0m\u001b[1;33m=\u001b[0m\u001b[0mconnect\u001b[0m\u001b[1;33m(\u001b[0m\u001b[0mhost\u001b[0m\u001b[1;33m,\u001b[0m\u001b[0mport\u001b[0m\u001b[1;33m,\u001b[0m\u001b[0mdb\u001b[0m\u001b[1;33m,\u001b[0m\u001b[0mcharset\u001b[0m\u001b[1;33m)\u001b[0m\u001b[1;33m\u001b[0m\u001b[1;33m\u001b[0m\u001b[0m\n\u001b[0m\u001b[0;32m     19\u001b[0m         \u001b[0mconn\u001b[0m\u001b[1;33m.\u001b[0m\u001b[0mexcute\u001b[0m\u001b[1;33m(\u001b[0m\u001b[0msql\u001b[0m\u001b[1;33m)\u001b[0m\u001b[1;33m\u001b[0m\u001b[1;33m\u001b[0m\u001b[0m\n\u001b[0;32m     20\u001b[0m         \u001b[1;32mreturn\u001b[0m \u001b[0mxxx\u001b[0m\u001b[1;33m\u001b[0m\u001b[1;33m\u001b[0m\u001b[0m\n",
      "\u001b[1;31mNameError\u001b[0m: name 'connect' is not defined"
     ]
    }
   ],
   "source": [
    "exc1=exc('127.0.0.1','3306','db1','utf8')\n",
    "exc2=extent_exc('127.0.0.1','3306','db1','utf8','存储过程的名字')\n",
    "exc1.connet()"
   ]
  },
  {
   "cell_type": "markdown",
   "metadata": {},
   "source": [
    "三、代码解释      11. 不运行程序看代码说出代码运行结果并解释"
   ]
  },
  {
   "cell_type": "code",
   "execution_count": 48,
   "metadata": {},
   "outputs": [
    {
     "name": "stdout",
     "output_type": "stream",
     "text": [
      "1 1 1\n",
      "1 2 1\n",
      "3 2 3\n"
     ]
    }
   ],
   "source": [
    "class Parent(object):  \n",
    "    x = 1\n",
    "class Child1(Parent): \n",
    "    pass\n",
    "class Child2(Parent): \n",
    "    pass\n",
    "print(Parent.x, Child1.x, Child2.x)\n",
    "Child1.x = 2\n",
    "print(Parent.x, Child1.x, Child2.x)\n",
    "Parent.x = 3\n",
    "print(Parent.x, Child1.x, Child2.x) "
   ]
  },
  {
   "cell_type": "markdown",
   "metadata": {},
   "source": [
    "先定义了一个父类 孩子1和孩子2都继承父类的x=1  \n",
    "输出 1 1 1\n",
    "\n",
    "孩子1的x=2  \n",
    "1 2 1\n",
    "\n",
    "父类改变 \n",
    "3 2 3 "
   ]
  },
  {
   "cell_type": "markdown",
   "metadata": {},
   "source": [
    "四、程序设计      12. 使用组合与继承设计一个学生选择课程的程序，使老师和学生初始化都具有课程属性，但是属性值为空，可以动态添加，可打印出老师教授的的课程和学生学习的课程，可以打印出课程名字和价格，尽量避免写重复代码（提示：学生和老师都是属于人，都有课程属性）    "
   ]
  },
  {
   "cell_type": "code",
   "execution_count": null,
   "metadata": {},
   "outputs": [],
   "source": [
    "class perpeo:\n",
    "    courseName=''\n",
    "    def __init__(self,courseName,price):\n",
    "        self.courseName=courseName\n",
    "        self.price=price\n",
    "    def print_course(self,courseName,price):\n",
    "        print('''\n",
    "        课程名字: %s \n",
    "        课程价格: %s \n",
    "        ''' % self.courseName,self.price)\n",
    "class teacher(perpeo):\n",
    "    def print_course(self):\n",
    "        super().print_course()\n",
    "        \n",
    "    "
   ]
  },
  {
   "cell_type": "markdown",
   "metadata": {},
   "source": [
    "  13. 使用多肽与封装设计一个虚拟宠物的程序，三个基础的宠物类 -- Cat类，Dog类，Pig类属性：\n",
    "  name(名字)、type(品种)，\n",
    "  name、type均为私有属性(对内可见，对外不可见)\n",
    "  type属性为成员属性(由构造器__init__方法赋初值)，\n",
    "  但type对外又是可读可写(利用property装饰器实现)，\n",
    "  name属性初始化操作由父类完成(子类利用super()来实现)方法：eat(self)   \n",
    "  均拥有eat的方法(父级继承)     \n",
    "  但实现体分别可以体现出 \"吃猫粮\"、\"吃狗粮\"、\"吃猪粮\"不同点(不同的实现)     \n",
    "  一个宠物的父类 -- Pet类    \n",
    "  属性：name(名字)            \n",
    "  name为私有属性(对内可见，对外不可见)  \n",
    "  name属性为成员属性(由构造器__init__方法赋初值)        \n",
    "  但name对外又是可读可写(利用property装饰器实现)     \n",
    "  方法：eat(self)        \n",
    "  拥有eat的方法(没有方法的实现体，利用abc模块实现)\n",
    "  一个主人类 -- Master类     \n",
    "  属性：name(名字)、pet(宠物)   \n",
    "  name、pet均为私有成员属性(具体操作同上面属性的操作)    \n",
    "  方法：feed(self)            \n",
    "  拥有feed方法(方法只有self一个参数，没有多余的参数)   \n",
    "  feed方法实现要求              \n",
    "  -- \"某某\"主人准备好宠物粮食         \n",
    "  -- \"某某品种\"的\"某某宠物\"来进食     \n",
    "  -- 吃...(调用宠物自身的eat方法)        \n",
    "  注：\"\"括起来的某某都是要被替换为具体的数据的创建三个宠物主人，分别养的是不同的三种宠物三个主人进行喂食的时候，对应养的宠物就会完成进食其他细节自由补充     "
   ]
  },
  {
   "cell_type": "code",
   "execution_count": null,
   "metadata": {},
   "outputs": [],
   "source": [
    "class Animal:\n",
    "    __name=''\n",
    "    __type=''\n",
    "    def __init__(self,name,Type):\n",
    "        self.__name=_name\n",
    "        self.__type=Type\n",
    "    def eat(self):\n",
    "        print('eat')\n",
    "        pass\n",
    "    def drink(self):\n",
    "        pass\n",
    "    def run(self):\n",
    "        pass\n",
    "    def bark(self):\n",
    "        pass\n",
    "class Cat(Animal):\n",
    "    def eat(self):\n",
    "        print('吃猫粮')\n",
    "class Dog(Animal):\n",
    "    def eat(self):\n",
    "        print('吃狗粮')\n",
    "class Pig(Animal):\n",
    "    def eat(self):\n",
    "        print('吃猪粮')"
   ]
  }
 ],
 "metadata": {
  "kernelspec": {
   "display_name": "Python 3",
   "language": "python",
   "name": "python3"
  },
  "language_info": {
   "codemirror_mode": {
    "name": "ipython",
    "version": 3
   },
   "file_extension": ".py",
   "mimetype": "text/x-python",
   "name": "python",
   "nbconvert_exporter": "python",
   "pygments_lexer": "ipython3",
   "version": "3.6.7"
  }
 },
 "nbformat": 4,
 "nbformat_minor": 2
}
