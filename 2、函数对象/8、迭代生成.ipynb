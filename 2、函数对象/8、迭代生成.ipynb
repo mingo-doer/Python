{
 "cells": [
  {
   "cell_type": "markdown",
   "metadata": {},
   "source": [
    "# 迭代器\n",
    "\n",
    "## 1、迭代器说明\n",
    "迭代器就是迭代的工具，迭代是一个重复的过程，并且每次重复都是基于上一次的结果而来。\n",
    "### 你肯定用过的容器、可迭代对象和迭代器\n",
    "容器这个概念非常好理解。我们说过，在 Python 中一切皆对象，对象的抽象就是类，而对象的集合就是容器。\n",
    "\n",
    "列表（list: [0, 1, 2]），元组（tuple: (0, 1, 2)），字典（dict: {0:0, 1:1, 2:2}），集合（set: set([0, 1, 2])）都是容器。对于容器，你可以很直观地想象成多个元素在一起的单元；而不同容器的区别，正是在于内部数据结构的实现方法。然后，你就可以针对不同场景，选择不同时间和空间复杂度的容器。\n",
    "\n",
    "所有的容器都是可迭代的（iterable）。这里的迭代，和枚举不完全一样。迭代可以想象成是你去买苹果，卖家并不告诉你他有多少库存。这样，每次你都需要告诉卖家，你要一个苹果，然后卖家采取行为：要么给你拿一个苹果；要么告诉你，苹果已经卖完了。你并不需要知道，卖家在仓库是怎么摆放苹果的。\n",
    "\n",
    "严谨地说，迭代器（iterator）提供了一个 next 的方法。调用这个方法后，你要么得到这个容器的下一个对象，要么得到一个 StopIteration 的错误（苹果卖完了）。你不需要像列表一样指定元素的索引，因为字典和集合这样的容器并没有索引一说。比如，字典采用哈希表实现，那么你就只需要知道，next 函数可以不重复不遗漏地一个一个拿到所有元素即可。\n",
    "\n",
    "而可迭代对象，通过 iter() 函数返回一个迭代器，再通过 next() 函数就可以实现遍历。for in 语句将这个过程隐式化，所以，你只需要知道它大概做了什么就行了。\n",
    "\n",
    "我们来看下面这段代码，主要向你展示怎么判断一个对象是否可迭代。当然，这还有另一种做法，是 isinstance(obj, Iterable)。"
   ]
  },
  {
   "cell_type": "code",
   "execution_count": 2,
   "metadata": {},
   "outputs": [
    {
     "name": "stdout",
     "output_type": "stream",
     "text": [
      "1234 is iterable? False\n",
      "1234 is iterable? True\n",
      "[1, 2, 3, 4] is iterable? True\n",
      "{1, 2, 3, 4} is iterable? True\n",
      "{1: 1, 2: 2, 3: 3, 4: 4} is iterable? True\n",
      "(1, 2, 3, 4) is iterable? True\n"
     ]
    }
   ],
   "source": [
    "def is_iterable(param):\n",
    "    try: \n",
    "        iter(param) \n",
    "        return True\n",
    "    except TypeError:\n",
    "        return False\n",
    "\n",
    "params = [\n",
    "    1234,\n",
    "    '1234',\n",
    "    [1, 2, 3, 4],\n",
    "    set([1, 2, 3, 4]),\n",
    "    {1:1, 2:2, 3:3, 4:4},\n",
    "    (1, 2, 3, 4)\n",
    "]\n",
    "    \n",
    "for param in params:\n",
    "    print('{} is iterable? {}'.format(param, is_iterable(param)))\n",
    "\n",
    "\n"
   ]
  },
  {
   "cell_type": "markdown",
   "metadata": {},
   "source": [
    "通过这段代码，你就可以知道，给出的类型中，除了数字 1234 之外，其它的数据类型都是可迭代的。"
   ]
  },
  {
   "cell_type": "code",
   "execution_count": 20,
   "metadata": {},
   "outputs": [
    {
     "name": "stdout",
     "output_type": "stream",
     "text": [
      "(0, 'x')\n",
      "(1, 'y')\n",
      "=------->\n",
      "=------->\n"
     ]
    }
   ],
   "source": [
    "# 这是一个迭代过程，虽然在重复，但是每次结果不一样\n",
    "dict1 = {'x': 1, 'y': 2}\n",
    "n = 0\n",
    "j=0\n",
    "while n < len(dict1):\n",
    "    for a in enumerate(dict1):\n",
    "        print(a)\n",
    "    \n",
    "        n += 1\n",
    "\n",
    "# 这不是迭代过程，一直在重复，却没有变化\n",
    "while j < len(dict1):\n",
    "    print('=------->')\n",
    "    j+=1"
   ]
  },
  {
   "cell_type": "code",
   "execution_count": 17,
   "metadata": {},
   "outputs": [
    {
     "name": "stdout",
     "output_type": "stream",
     "text": [
      "(0, 'x')\n",
      "(1, 'y')\n"
     ]
    }
   ],
   "source": [
    "dict1 = {'x': 1, 'y': 2}\n",
    "for a in enumerate(dict1):\n",
    "    print(a)"
   ]
  },
  {
   "cell_type": "markdown",
   "metadata": {},
   "source": [
    "## 2. 可迭代对象\n",
    "要想了解迭代器到底是什么？必须先要清楚一个概念，即什么是可迭代的对象？在python中，只要内置有__iter__方法的对象，都是可迭代的对象。"
   ]
  },
  {
   "cell_type": "code",
   "execution_count": 21,
   "metadata": {},
   "outputs": [],
   "source": [
    "# 这不是可迭代对象\n",
    "num = 1\n",
    "\n",
    "# 以下都是可迭代的对象\n",
    "str1 = 'hello'\n",
    "list1 = [1, 2, 3]\n",
    "tup1 = (1, 2, 3)\n",
    "dict1 = {'x': 1}\n",
    "set1 = {'a', 'b', 'c'}\n",
    "file1 = open('a.txt', 'w', encoding='utf-8')"
   ]
  },
  {
   "cell_type": "markdown",
   "metadata": {},
   "source": [
    "## 3、迭代器用法\n",
    "可迭代的对象执行__iter__方法得到的返回值就是迭代器对象。"
   ]
  },
  {
   "cell_type": "code",
   "execution_count": 22,
   "metadata": {},
   "outputs": [
    {
     "name": "stdout",
     "output_type": "stream",
     "text": [
      "x\n",
      "y\n",
      "z\n",
      "a\n",
      "c\n",
      "b\n",
      "1\n",
      "2\n",
      "3\n"
     ]
    }
   ],
   "source": [
    "dict1 = {'x': 1, 'y': 2, 'z': 3}\n",
    "iter_dict1 = dict1.__iter__()\n",
    "print(iter_dict1.__next__())\n",
    "print(iter_dict1.__next__())\n",
    "print(iter_dict1.__next__())\n",
    "# print(iter_dict1.__next__())  # 停止迭代\n",
    "\n",
    "set1 = {'a', 'b', 'c'}\n",
    "iter_set1 = set1.__iter__()\n",
    "print(iter_set1.__next__())\n",
    "print(iter_set1.__next__())\n",
    "print(iter_set1.__next__())\n",
    "# print(iter_set1.__next__())  # 停止迭代\n",
    "\n",
    "list1 = [1, 2, 3]\n",
    "iter_list1 = list1.__iter__()\n",
    "print(iter_list1.__next__())\n",
    "print(iter_list1.__next__())\n",
    "print(iter_list1.__next__())"
   ]
  },
  {
   "cell_type": "markdown",
   "metadata": {},
   "source": [
    "## 4. 可迭代对象VS迭代器对象\n",
    "(1) 可迭代对象\n",
    "可迭代对象无须获取，Python内置str，list，tuple，dict，set，file都是可迭代对象，它的特点是内置有__iter__方法，执行该方法会拿到一个返回值就是迭代器对象。\n",
    "\n",
    "(2) 迭代器对象\n",
    "文件对象本身既是可迭代对象又是迭代器对象，可迭代对象执行__iter__方法，拿到的返回值就是迭代器对象。迭代器对象的特点是内置有__next__方法，执行该方法会拿到迭代器对象中的一个值，迭代器对象内置有__iter__方法，执行该方法会拿到迭代器本身。"
   ]
  },
  {
   "cell_type": "code",
   "execution_count": 26,
   "metadata": {},
   "outputs": [
    {
     "name": "stdout",
     "output_type": "stream",
     "text": [
      "h\n",
      "True\n",
      "True\n",
      "True\n",
      "True\n",
      "hello\n",
      "\n",
      "yes\n",
      "\n",
      "no \n",
      "\n",
      "aha\n",
      "\n"
     ]
    }
   ],
   "source": [
    "str1 = 'hello'  # 可迭代对象\n",
    "\n",
    "iter_str1 = str1.__iter__()  # 迭代器对象\n",
    "print(iter_str1.__next__())  # 取出迭代器对象中的一个值\n",
    "print(iter_str1.__iter__() is iter_str1)\n",
    "print(iter_str1.__iter__().__iter__() is iter_str1)\n",
    "print(iter_str1.__iter__().__iter__().__iter__() is iter_str1)\n",
    "\n",
    "# 文件本身既是迭代器对象又是可迭代对象\n",
    "f = open('a.txt', 'r', encoding='utf-8')\n",
    "print(f.__iter__() is f)\n",
    "# 按行读取\n",
    "print(f.__next__())\n",
    "print(f.__next__())\n",
    "print(f.__next__())\n",
    "print(f.__next__())\n",
    "# print(f.__next__())"
   ]
  },
  {
   "cell_type": "markdown",
   "metadata": {},
   "source": [
    "## 5、 for 循环\n",
    "for循环称之为迭代器循环，in后跟的必须是可迭代的对象，for循环会执行in后对象的__iter__方法，拿到迭代器对象，然后调用迭代器对象的__next__方法，拿到一个返回值赋值给一个变量，周而复始，直到取值完毕，for循环会检测到异常自动结束循环。"
   ]
  },
  {
   "cell_type": "code",
   "execution_count": 28,
   "metadata": {},
   "outputs": [
    {
     "name": "stdout",
     "output_type": "stream",
     "text": [
      "hello\n",
      "\n",
      "yes\n",
      "\n",
      "no \n",
      "\n",
      "aha\n",
      "\n",
      "x\n",
      "y\n"
     ]
    }
   ],
   "source": [
    "file1 = open('a.txt', 'r', encoding='utf-8')\n",
    "for line in file1:  # iter_file1=file1.__iter__()\n",
    "    print(line)\n",
    "\n",
    "for item in {'x': 1, 'y': 2}:\n",
    "    print(item)"
   ]
  },
  {
   "cell_type": "markdown",
   "metadata": {},
   "source": [
    "# 生成器\n",
    "## 1. 生成器说明\n",
    "\n",
    "\n",
    "生成器其实本质就是迭代器，或者说生成器是特殊的迭代器，因为生成器是我们自己制造的迭代器。\n",
    "\n",
    "### 生成器，又是什么？\n",
    "\n",
    "据我所知，很多人对生成器这个概念会比较陌生，因为生成器在很多常用语言中，并没有相对应的模型。\n",
    "\n",
    "这里，你只需要记着一点：生成器是懒人版本的迭代器。\n",
    "\n",
    "我们知道，在迭代器中，如果我们想要枚举它的元素，这些元素需要事先生成。这里，我们先来看下面这个简单的样例。\n",
    "\n"
   ]
  },
  {
   "cell_type": "code",
   "execution_count": 3,
   "metadata": {},
   "outputs": [],
   "source": [
    "import os\n",
    "import psutil\n",
    "\n",
    "# 显示当前 python 程序占用的内存大小\n",
    "def show_memory_info(hint):\n",
    "    pid = os.getpid()\n",
    "    p = psutil.Process(pid)\n",
    "    \n",
    "    info = p.memory_full_info()\n",
    "    memory = info.uss / 1024. / 1024\n",
    "    print('{} memory used: {} MB'.format(hint, memory))\n"
   ]
  },
  {
   "cell_type": "code",
   "execution_count": 4,
   "metadata": {},
   "outputs": [
    {
     "name": "stdout",
     "output_type": "stream",
     "text": [
      "initing iterator memory used: 45.05078125 MB\n",
      "after iterator initiated memory used: 3917.26953125 MB\n",
      "4999999950000000\n",
      "after sum called memory used: 3917.26953125 MB\n",
      "Wall time: 15.2 s\n",
      "initing generator memory used: 46.2890625 MB\n",
      "after generator initiated memory used: 46.2890625 MB\n",
      "4999999950000000\n",
      "after sum called memory used: 46.24609375 MB\n",
      "Wall time: 9.27 s\n"
     ]
    }
   ],
   "source": [
    "def test_iterator():\n",
    "    show_memory_info('initing iterator')\n",
    "    list_1 = [i for i in range(100000000)]\n",
    "    show_memory_info('after iterator initiated')\n",
    "    print(sum(list_1))\n",
    "    show_memory_info('after sum called')\n",
    "\n",
    "def test_generator():\n",
    "    show_memory_info('initing generator')\n",
    "    list_2 = (i for i in range(100000000))\n",
    "    show_memory_info('after generator initiated')\n",
    "    print(sum(list_2))\n",
    "    show_memory_info('after sum called')\n",
    "\n",
    "%time test_iterator()\n",
    "%time test_generator()\n",
    "\n",
    "\n"
   ]
  },
  {
   "cell_type": "markdown",
   "metadata": {},
   "source": [
    "声明一个迭代器很简单，[i for i in range(100000000)]就可以生成一个包含一亿元素的列表。每个元素在生成后都会保存到内存中，你通过代码可以看到，它们占用了巨量的内存，内存不够的话就会出现 OOM 错误。\n",
    "\n",
    "不过，我们并不需要在内存中同时保存这么多东西，比如对元素求和，我们只需要知道每个元素在相加的那一刻是多少就行了，用完就可以扔掉了。\n",
    "\n",
    "于是，生成器的概念应运而生，在你调用 next() 函数的时候，才会生成下一个变量。生成器在 Python 的写法是用小括号括起来，(i for i in range(100000000))，即初始化了一个生成器。\n",
    "\n",
    "这样一来，你可以清晰地看到，生成器并不会像迭代器一样占用大量内存，只有在被使用的时候才会调用。而且生成器在初始化的时候，并不需要运行一次生成操作，相比于 test_iterator() ，test_generator() 函数节省了一次生成一亿个元素的过程，因此耗时明显比迭代器短。\n",
    "\n",
    "到这里，你可能说，生成器不过如此嘛，我有的是钱，不就是多占一些内存和计算资源嘛，我多出点钱就是了呗。\n",
    "\n",
    "哪怕你是土豪，请坐下先喝点茶，再听我继续讲完，这次，我们来实现一个自定义的生成器。"
   ]
  },
  {
   "cell_type": "markdown",
   "metadata": {},
   "source": [
    "### 生成器，还能玩什么花样？\n",
    "数学中有一个恒等式，(1 + 2 + 3 + ... + n)^2 = 1^3 + 2^3 + 3^3 + ... + n^3，想必你高中就应该学过它。现在，我们来验证一下这个公式的正确性。老规矩，先放代码，你先自己阅读一下，看不懂的也不要紧，接下来我再来详细讲解。"
   ]
  },
  {
   "cell_type": "code",
   "execution_count": 5,
   "metadata": {},
   "outputs": [
    {
     "name": "stdout",
     "output_type": "stream",
     "text": [
      "<generator object generator at 0x0000017F85E42F48>\n",
      "<generator object generator at 0x0000017F85E8D048>\n",
      "next_1 = 1, next_3 = 1\n",
      "next_1 = 2, next_3 = 8\n",
      "next_1 = 3, next_3 = 27\n",
      "next_1 = 4, next_3 = 64\n",
      "next_1 = 5, next_3 = 125\n",
      "next_1 = 6, next_3 = 216\n",
      "next_1 = 7, next_3 = 343\n",
      "next_1 = 8, next_3 = 512\n",
      "1296 1296\n"
     ]
    }
   ],
   "source": [
    "def generator(k):\n",
    "    i = 1\n",
    "    while True:\n",
    "        yield i ** k\n",
    "        i += 1\n",
    "\n",
    "gen_1 = generator(1)\n",
    "gen_3 = generator(3)\n",
    "print(gen_1)\n",
    "print(gen_3)\n",
    "\n",
    "def get_sum(n):\n",
    "    sum_1, sum_3 = 0, 0\n",
    "    for i in range(n):\n",
    "        next_1 = next(gen_1)\n",
    "        next_3 = next(gen_3)\n",
    "        print('next_1 = {}, next_3 = {}'.format(next_1, next_3))\n",
    "        sum_1 += next_1\n",
    "        sum_3 += next_3\n",
    "    print(sum_1 * sum_1, sum_3)\n",
    "\n",
    "get_sum(8)\n",
    "\n"
   ]
  },
  {
   "cell_type": "markdown",
   "metadata": {},
   "source": [
    "这段代码中，你首先注意一下 generator() 这个函数，它返回了一个生成器。\n",
    "\n",
    "接下来的 yield 是魔术的关键。对于初学者来说，你可以理解为，函数运行到这一行的时候，程序会从这里暂停，然后跳出，不过跳到哪里呢？答案是 next() 函数。那么 i ** k 是干什么的呢？它其实成了 next() 函数的返回值。\n",
    "\n",
    "这样，每次 next(gen) 函数被调用的时候，暂停的程序就又复活了，从 yield 这里向下继续执行；同时注意，局部变量 i 并没有被清除掉，而是会继续累加。我们可以看到 next_1 从 1 变到 8，next_3 从 1 变到 512。\n",
    "\n",
    "聪明的你应该注意到了，这个生成器居然可以一直进行下去！没错，事实上，迭代器是一个有限集合，生成器则可以成为一个无限集。我只管调用 next()，生成器根据运算会自动生成新的元素，然后返回给你，非常便捷。\n",
    "\n",
    "到这里，土豪同志应该也坐不住了吧，那么，还能再给力一点吗？\n",
    "\n",
    "别急，我们再来看一个问题：给定一个 list 和一个指定数字，求这个数字在 list 中的位置。\n",
    "\n",
    "下面这段代码你应该不陌生，也就是常规做法，枚举每个元素和它的 index，判断后加入 result，最后返回。"
   ]
  },
  {
   "cell_type": "code",
   "execution_count": 6,
   "metadata": {},
   "outputs": [
    {
     "name": "stdout",
     "output_type": "stream",
     "text": [
      "[2, 5, 9]\n"
     ]
    }
   ],
   "source": [
    "def index_normal(L, target):\n",
    "    result = []\n",
    "    for i, num in enumerate(L):\n",
    "        if num == target:\n",
    "            result.append(i)\n",
    "    return result\n",
    "\n",
    "print(index_normal([1, 6, 2, 4, 5, 2, 8, 6, 3, 2], 2))\n"
   ]
  },
  {
   "cell_type": "code",
   "execution_count": 7,
   "metadata": {},
   "outputs": [
    {
     "name": "stdout",
     "output_type": "stream",
     "text": [
      "[2, 5, 9]\n"
     ]
    }
   ],
   "source": [
    "# 那么使用迭代器可以怎么做呢？二话不说，先看代码。\n",
    "def index_generator(L, target):\n",
    "    for i, num in enumerate(L):\n",
    "        if num == target:\n",
    "            yield i\n",
    "\n",
    "print(list(index_generator([1, 6, 2, 4, 5, 2, 8, 6, 3, 2], 2)))\n",
    "\n",
    "\n"
   ]
  },
  {
   "cell_type": "markdown",
   "metadata": {},
   "source": [
    "聪明的你应该看到了明显的区别，我就不做过多解释了。唯一需要强调的是， index_generator 会返回一个 Generator 对象，需要使用 list 转换为列表后，才能用 print 输出。\n",
    "\n",
    "这里我再多说两句。在 Python 语言规范中，用更少、更清晰的代码实现相同功能，一直是被推崇的做法，因为这样能够很有效提高代码的可读性，减少出错概率，也方便别人快速准确理解你的意图。当然，要注意，这里“更少”的前提是清晰，而不是使用更多的魔术操作，虽说减少了代码却反而增加了阅读的难度。\n",
    "\n",
    "回归正题。接下来我们再来看一个问题：给定两个序列，判定第一个是不是第二个的子序列。\n",
    "（LeetCode 链接如下：https://leetcode.com/problems/is-subsequence/ ）\n",
    "\n",
    "先来解读一下这个问题本身。序列就是列表，子序列则指的是，一个列表的元素在第二个列表中都按顺序出现，但是并不必挨在一起。举个例子，[1, 3, 5] 是 [1, 2, 3, 4, 5] 的子序列，[1, 4, 3] 则不是。\n",
    "\n",
    "要解决这个问题，常规算法是贪心算法。我们维护两个指针指向两个列表的最开始，然后对第二个序列一路扫过去，如果某个数字和第一个指针指的一样，那么就把第一个指针前进一步。第一个指针移出第一个序列最后一个元素的时候，返回 True，否则返回 False。\n",
    "\n",
    "不过，这个算法正常写的话，写下来怎么也得十行左右。"
   ]
  },
  {
   "cell_type": "code",
   "execution_count": 8,
   "metadata": {},
   "outputs": [
    {
     "name": "stdout",
     "output_type": "stream",
     "text": [
      "True\n",
      "False\n"
     ]
    }
   ],
   "source": [
    "# 那么如果我们用迭代器和生成器呢？\n",
    "def is_subsequence(a, b):\n",
    "    b = iter(b)\n",
    "    return all(i in b for i in a)\n",
    "\n",
    "print(is_subsequence([1, 3, 5], [1, 2, 3, 4, 5]))\n",
    "print(is_subsequence([1, 4, 3], [1, 2, 3, 4, 5]))\n",
    "\n",
    "\n"
   ]
  },
  {
   "cell_type": "markdown",
   "metadata": {},
   "source": [
    "这简短的几行代码，你是不是看得一头雾水，不知道发生了什么？\n",
    "\n",
    "来，我们先把这段代码复杂化，然后一步步看。"
   ]
  },
  {
   "cell_type": "code",
   "execution_count": 9,
   "metadata": {},
   "outputs": [
    {
     "name": "stdout",
     "output_type": "stream",
     "text": [
      "<list_iterator object at 0x0000017F85E946A0>\n",
      "<generator object is_subsequence.<locals>.<genexpr> at 0x0000017F85E8D138>\n",
      "1\n",
      "3\n",
      "5\n",
      "<generator object is_subsequence.<locals>.<genexpr> at 0x0000017F85E8D1B0>\n",
      "True\n",
      "True\n",
      "True\n",
      "False\n",
      "<list_iterator object at 0x0000017F85DECDD8>\n",
      "<generator object is_subsequence.<locals>.<genexpr> at 0x0000017F85E8D1B0>\n",
      "1\n",
      "4\n",
      "3\n",
      "<generator object is_subsequence.<locals>.<genexpr> at 0x0000017F85E8D138>\n",
      "True\n",
      "True\n",
      "False\n",
      "False\n"
     ]
    }
   ],
   "source": [
    "def is_subsequence(a, b):\n",
    "    b = iter(b)\n",
    "    print(b)\n",
    "\n",
    "    gen = (i for i in a)\n",
    "    print(gen)\n",
    "\n",
    "    for i in gen:\n",
    "        print(i)\n",
    "\n",
    "    gen = ((i in b) for i in a)\n",
    "    print(gen)\n",
    "\n",
    "    for i in gen:\n",
    "        print(i)\n",
    "\n",
    "    return all(((i in b) for i in a))\n",
    "\n",
    "print(is_subsequence([1, 3, 5], [1, 2, 3, 4, 5]))\n",
    "print(is_subsequence([1, 4, 3], [1, 2, 3, 4, 5]))\n",
    "\n",
    "\n"
   ]
  },
  {
   "cell_type": "code",
   "execution_count": null,
   "metadata": {},
   "outputs": [],
   "source": [
    "# 没错，这里的(i in b)，大致等价于下面这段代码：\n",
    "while True:\n",
    "    val = next(b)\n",
    "    if val == i:\n",
    "        yield True\n"
   ]
  },
  {
   "cell_type": "code",
   "execution_count": 17,
   "metadata": {},
   "outputs": [
    {
     "name": "stdout",
     "output_type": "stream",
     "text": [
      "True\n",
      "True\n",
      "False\n"
     ]
    }
   ],
   "source": [
    "# 这里非常巧妙地利用生成器的特性，next() 函数运行的时候，保存了当前的指针。比如再看下面这个示例：\n",
    "b = (i for i in range(5))\n",
    "\n",
    "print(2 in b)\n",
    "print(3 in b)\n",
    "print(1 in b)\n",
    "\n",
    "\n"
   ]
  },
  {
   "cell_type": "markdown",
   "metadata": {},
   "source": [
    "### 总结\n",
    "总结一下，今天我们讲了四种不同的对象，分别是容器、可迭代对象、迭代器和生成器。\n",
    "\n",
    "容器是可迭代对象，可迭代对象调用 iter() 函数，可以得到一个迭代器。迭代器可以通过 next() 函数来得到下一个元素，从而支持遍历。\n",
    "生成器是一种特殊的迭代器（注意这个逻辑关系反之不成立）。使用生成器，你可以写出来更加清晰的代码；合理使用生成器，可以降低内存占用、优化程序结构、提高程序速度。\n",
    "生成器在 Python 2 的版本上，是协程的一种重要实现方式；而 Python 3.5 引入 async await 语法糖后，生成器实现协程的方式就已经落后了。我们会在下节课，继续深入讲解 Python 协程。"
   ]
  },
  {
   "cell_type": "markdown",
   "metadata": {},
   "source": [
    "## 2. yield两个用法总结\n",
    "yield为我们提供了一种自定义迭代器的方式，可以在函数内用yield关键字，调用函数拿到的结果就是一个生成器。\n",
    "yield可以像return一样用于返回值，区别是return只能返回一次值，而yield可返回多次，因为yield可以保存函数执行的状态。\n",
    "yield与return用法比较"
   ]
  },
  {
   "cell_type": "code",
   "execution_count": 29,
   "metadata": {},
   "outputs": [
    {
     "name": "stdout",
     "output_type": "stream",
     "text": [
      "<generator object test_yield at 0x000001B544B7AFC0>\n",
      "True\n",
      "=======>first\n",
      "1\n",
      "=======>second\n",
      "2\n",
      "=======>third\n",
      "3\n",
      "=======>first\n"
     ]
    }
   ],
   "source": [
    "# yield\n",
    "def test_yield():\n",
    "    print('=======>first')\n",
    "    yield 1\n",
    "    print('=======>second')\n",
    "    yield 2\n",
    "    print('=======>third')\n",
    "    yield 3\n",
    "\n",
    "\n",
    "# 使用yield返回，调用函数时，不会执行函数体代码，拿到的返回值就是一个生成器对象\n",
    "res = test_yield()\n",
    "print(res)  # <generator object test_yield at 0x1078f7660>\n",
    "print(res.__iter__() is res)\n",
    "print(res.__next__())\n",
    "print(res.__next__())\n",
    "print(res.__next__())\n",
    "\n",
    "# return\n",
    "def test_return():\n",
    "    print('=======>first')\n",
    "    return 1  # 使用return返回，函数执行结束\n",
    "    print('=======>second')\n",
    "    return 2\n",
    "    print('=======>third')\n",
    "    return 3\n",
    "\n",
    "\n",
    "res = test_return()"
   ]
  },
  {
   "cell_type": "markdown",
   "metadata": {},
   "source": [
    "## 3. 生成器的构造\n",
    "函数内包含有yield关键字，再调用函数，就不会执行函数体代码，拿到的返回值就是一个生成器对象。"
   ]
  },
  {
   "cell_type": "code",
   "execution_count": 30,
   "metadata": {},
   "outputs": [
    {
     "name": "stdout",
     "output_type": "stream",
     "text": [
      "<generator object chicken at 0x000001B544B7A780>\n",
      "True\n",
      "=====>first\n",
      "1\n",
      "=====>second\n",
      "2\n",
      "=====>third\n",
      "3\n"
     ]
    }
   ],
   "source": [
    "def chicken():\n",
    "    print('=====>first')\n",
    "    yield 1\n",
    "    print('=====>second')\n",
    "    yield 2\n",
    "    print('=====>third')\n",
    "    yield 3\n",
    "\n",
    "\n",
    "obj = chicken()\n",
    "print(obj)\n",
    "print(obj.__iter__() is obj)\n",
    "print(obj.__next__())\n",
    "print(obj.__next__())\n",
    "print(obj.__next__())"
   ]
  },
  {
   "cell_type": "code",
   "execution_count": 31,
   "metadata": {},
   "outputs": [
    {
     "name": "stdout",
     "output_type": "stream",
     "text": [
      "1\n",
      "4\n",
      "7\n"
     ]
    }
   ],
   "source": [
    "# (2) 自定义range\n",
    "#  简易版本range，只能接收两个位置参数或者三个位置参数，起始位置没有默认值\n",
    "def show_my_range(start, stop, step=1):\n",
    "    n = start\n",
    "    while n < stop:\n",
    "        yield n\n",
    "        n += step\n",
    "\n",
    "\n",
    "for item in show_my_range(1, 10, 3):\n",
    "    print(item)\n"
   ]
  },
  {
   "cell_type": "code",
   "execution_count": 33,
   "metadata": {},
   "outputs": [
    {
     "name": "stdout",
     "output_type": "stream",
     "text": [
      "1\n",
      "2\n",
      "3\n",
      "4\n",
      "5\n",
      "6\n",
      "7\n",
      "8\n",
      "9\n"
     ]
    }
   ],
   "source": [
    "# (1) range的用法\n",
    "\n",
    "for i in range(1, 10, 1):\n",
    "    \"\"\"\n",
    "    range最多可以接收三个参数，第一个是起始位置，默认值为0，\n",
    "    第二个是结束位置，无默认值，必须指定，\n",
    "    第三个是步长，默认值为1，\n",
    "    如果只传一个位置参数，那就是指的结束位置，\n",
    "    如果传两个位置参数，第一个为起始位置，\n",
    "    第二个为结束位置，\n",
    "    range第一个能取到，最后一个取不到，顾头不顾尾\n",
    "    \"\"\"\n",
    "    print(i)"
   ]
  },
  {
   "cell_type": "markdown",
   "metadata": {},
   "source": [
    "###  yield表达式\n",
    "yield可以把函数暂停住，那么自然就能保存函数的运行状态，我们可以使用yield表达式形式来做一些有意思的操作。"
   ]
  },
  {
   "cell_type": "code",
   "execution_count": 34,
   "metadata": {},
   "outputs": [
    {
     "name": "stdout",
     "output_type": "stream",
     "text": [
      "【1】Albert is ready for eating\n",
      "【2】Albert starts to eat None\n",
      "【1】Albert is ready for eating\n",
      "【2】Albert starts to eat 蒸羊羔\n",
      "【2】Albert starts to eat 蒸鹿茸\n",
      "【2】Albert starts to eat 蒸熊掌\n",
      "【2】Albert starts to eat 烧素鸭\n"
     ]
    }
   ],
   "source": [
    "def eat(name):\n",
    "    print('【1】%s is ready for eating' % name)\n",
    "    while True:\n",
    "        food = yield  # 这是yield表达式形式，yield可以赋值给一个变量\n",
    "        print('【2】%s starts to eat %s' % (name, food))\n",
    "\n",
    "\n",
    "person1 = eat('Albert')\n",
    "\n",
    "# 函数暂停在food = yield这行代码\n",
    "person1.__next__()\n",
    "\n",
    "# 继续执行代码，由于yield没有值，即yield = None，则food = None\n",
    "person1.__next__()\n",
    "# yield肯定不能一直为空，肯定有一种方法给yield传值，这种方法就是send。\n",
    "\n",
    "def eat(name):\n",
    "    print('【1】%s is ready for eating' % name)\n",
    "    while True:\n",
    "        food = yield\n",
    "        print('【2】%s starts to eat %s' % (name, food))\n",
    "\n",
    "\n",
    "person1 = eat('Albert')\n",
    "\"\"\"\n",
    "对于表达式形式的yield，在使用前必先初始化\n",
    "即第一次必须传None，或者用__next__方法\n",
    "\"\"\"\n",
    "# person1.send(None)  # 初始化，和下面一行代码同等效果\n",
    "person1.__next__()\n",
    "\n",
    "person1.send('蒸羊羔')  # send有两个功能：1 传值，2 初始化\n",
    "person1.send('蒸鹿茸')\n",
    "person1.send('蒸熊掌')\n",
    "person1.send('烧素鸭')\n",
    "person1.close()  # 关闭之后，后面的就吃不了了，也不能兜着走\n",
    "# person1.send('烧素鹅')\n",
    "# person1.send('烧鹿尾')"
   ]
  },
  {
   "cell_type": "code",
   "execution_count": 36,
   "metadata": {},
   "outputs": [
    {
     "name": "stdout",
     "output_type": "stream",
     "text": [
      "Albert is ready for eating\n",
      "Albert starts to eat 蒸羊羔\n",
      "Albert has eaten ['蒸羊羔']\n",
      "Albert starts to eat 蒸鹿茸\n",
      "Albert has eaten ['蒸羊羔', '蒸鹿茸']\n",
      "Albert starts to eat 蒸熊掌\n",
      "Albert has eaten ['蒸羊羔', '蒸鹿茸', '蒸熊掌']\n",
      "Albert starts to eat 烧素鸭\n",
      "Albert has eaten ['蒸羊羔', '蒸鹿茸', '蒸熊掌', '烧素鸭']\n"
     ]
    }
   ],
   "source": [
    "def eat(name):\n",
    "    print('%s is ready for eating' % name)\n",
    "    food_list = []\n",
    "    while True:\n",
    "        food = yield food_list\n",
    "        print('%s starts to eat %s' % (name, food))\n",
    "        food_list.append(food)\n",
    "        print('%s has eaten %s' % (name, food_list))\n",
    "\n",
    "\n",
    "person1 = eat('Albert')\n",
    "\n",
    "person1.send(None)\n",
    "\n",
    "person1.send('蒸羊羔')\n",
    "\n",
    "person1.send('蒸鹿茸')\n",
    "\n",
    "person1.send('蒸熊掌')\n",
    "\n",
    "person1.send('烧素鸭')\n",
    "\n",
    "person1.close()# 关闭之后，后面的就吃不了了，也不能兜着走\n"
   ]
  }
 ],
 "metadata": {
  "kernelspec": {
   "display_name": "Python 3",
   "language": "python",
   "name": "python3"
  },
  "language_info": {
   "codemirror_mode": {
    "name": "ipython",
    "version": 3
   },
   "file_extension": ".py",
   "mimetype": "text/x-python",
   "name": "python",
   "nbconvert_exporter": "python",
   "pygments_lexer": "ipython3",
   "version": "3.7.3"
  }
 },
 "nbformat": 4,
 "nbformat_minor": 2
}
