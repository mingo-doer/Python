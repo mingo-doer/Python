{
 "cells": [
  {
   "cell_type": "markdown",
   "metadata": {},
   "source": [
    "# 1、定义函数\n",
    "def f():\n",
    "    print('hello')\n",
    "     函数执行只会检查是否有语法错误，被调用才会知道是否有逻辑错误\n",
    "### 1.2 有参无参函数"
   ]
  },
  {
   "cell_type": "code",
   "execution_count": 2,
   "metadata": {},
   "outputs": [
    {
     "name": "stdout",
     "output_type": "stream",
     "text": [
      "Got a message: Hello World\n"
     ]
    }
   ],
   "source": [
    "def my_func(message):\n",
    "    print('Got a message: {}'.format(message))\n",
    "\n",
    "# 调用函数 my_func()\n",
    "my_func('Hello World')\n",
    "# 输出\n",
    "\n"
   ]
  },
  {
   "cell_type": "markdown",
   "metadata": {},
   "source": []
  },
  {
   "cell_type": "code",
   "execution_count": null,
   "metadata": {},
   "outputs": [],
   "source": []
  },
  {
   "cell_type": "markdown",
   "metadata": {},
   "source": [
    "# 2、调用函数\n",
    "## 2.1 函数返回值\n",
    "\n",
    "无return和None(就是直接返回None，或者不写返回值，默认返回None)两种返回值\n",
    "\n",
    " return 1个值->返回1个值\n",
    "\n",
    " return 逗号分隔多个值->元组\n",
    " \n",
    " 什么时候该有返回值？\n",
    "　　　　调用函数，经过一系列的操作，最后要拿到一个明确的结果，则必须要有返回值\n",
    "　　　　通常有参函数需要有返回值，输入参数，经过计算，得到一个最终的结果\n",
    "什么时候不需要有返回值？\n",
    "　　　　调用函数，仅仅只是执行一系列的操作，最后不需要得到什么结果，则无需有返回值\n",
    "　　　　通常无参函数不需要有返回值"
   ]
  },
  {
   "cell_type": "markdown",
   "metadata": {},
   "source": [
    "# 3、函数参数\n",
    "\n",
    "1 形参与实参\n",
    "\n",
    "形参即变量名，实参即变量值，函数调用时，将值绑定到变量名上，函数调用结束，解除绑定\n",
    "\n",
    "2 具体应用（重点）\n",
    "\n",
    "#1、位置参数：按照从左到右的顺序定义的参数\n",
    "        位置形参：必选参数\n",
    "        位置实参：按照位置给形参传值\n",
    "\n",
    "#2、关键字参数：按照key=value的形式定义的实参\n",
    "        无需按照位置为形参传值\n",
    "        注意的问题：\n",
    "                1. 关键字实参必须在位置实参右面\n",
    "                2. 对同一个形参不能重复传值\n",
    "\n",
    "#3、默认参数：形参在定义时就已经为其赋值\n",
    "        可以传值也可以不传值，经常需要变得参数定义成位置形参，变化较小的参数定义成默认参数（形参）\n",
    "        注意的问题：\n",
    "                1. 只在定义时赋值一次\n",
    "                2. 默认参数的定义应该在位置形参右面\n",
    "                3. 默认参数通常应该定义成不可变类型\n",
    "\n",
    "\n",
    "#4、可变长参数：\n",
    "        可变长指的是实参值的个数不固定\n",
    "        而实参有按位置和按关键字两种形式定义，针对这两种形式的可变长，形参对应有两种解决方案来完整地存放它们，分别是*args，**kwargs\n",
    "\n",
    "        ===========*args===========\n",
    "        def foo(x,y,*args):\n",
    "            print(x,y)\n",
    "            print(args)\n",
    "        foo(1,2,3,4,5)\n",
    "\n",
    "        def foo(x,y,*args):\n",
    "            print(x,y)\n",
    "            print(args)\n",
    "        foo(1,2,*[3,4,5])\n",
    "\n",
    "\n",
    "        def foo(x,y,z):\n",
    "            print(x,y,z)\n",
    "        foo(*[1,2,3])\n",
    "\n",
    "        ===========**kwargs===========\n",
    "        def foo(x,y,**kwargs):\n",
    "            print(x,y)\n",
    "            print(kwargs)\n",
    "        foo(1,y=2,a=1,b=2,c=3)\n",
    "\n",
    "        def foo(x,y,**kwargs):\n",
    "            print(x,y)\n",
    "            print(kwargs)\n",
    "        foo(1,y=2,**{'a':1,'b':2,'c':3})\n",
    "\n",
    "\n",
    "        def foo(x,y,z):\n",
    "            print(x,y,z)\n",
    "        foo(**{'z':1,'x':2,'y':3})\n",
    "\n",
    "        ===========*args+**kwargs===========\n",
    "\n",
    "        def foo(x,y):\n",
    "            print(x,y)\n",
    "\n",
    "        def wrapper(*args,**kwargs):\n",
    "            print('====>')\n",
    "            foo(*args,**kwargs)\n",
    "            \n",
    "      #5、命名关键字参数：*后定义的参数，必须被传值（有默认值的除外），且必须按照关键字实参的形式传递\n",
    "可以保证，传入的参数中一定包含某些关键字\n",
    "        def foo(x,y,*args,a=1,b,**kwargs):\n",
    "            print(x,y)\n",
    "            print(args)\n",
    "            print(a)\n",
    "            print(b)\n",
    "            print(kwargs)\n",
    "\n",
    "        foo(1,2,3,4,5,b=3,c=4,d=5)\n",
    "        结果：\n",
    "            (3, 4, 5)\n",
    "            {'c': 4, 'd': 5}"
   ]
  },
  {
   "cell_type": "markdown",
   "metadata": {},
   "source": [
    "# 闭包函数\n",
    "\n",
    "1 什么是闭包函数\n",
    "\n",
    "#内部函数包含对外部作用域而非全局作用域的引用\n",
    "\n",
    "#提示：之前我们都是通过参数将外部的值传给函数，闭包提供了另外一种思路，包起来喽，包起呦，包起来哇\n"
   ]
  },
  {
   "cell_type": "code",
   "execution_count": 15,
   "metadata": {},
   "outputs": [],
   "source": [
    "def counter():\n",
    "        n=0\n",
    "        def incr():\n",
    "            nonlocal n\n",
    "            x=n\n",
    "            n+=1\n",
    "            return x\n",
    "        return incr\n",
    "\n",
    "        c=counter()\n",
    "        print(c())\n",
    "        print(c())\n",
    "        print(c())\n",
    "        print(c.__closure__[0].cell_contents) #查看闭包的元素"
   ]
  },
  {
   "cell_type": "code",
   "execution_count": 2,
   "metadata": {},
   "outputs": [
    {
     "name": "stdout",
     "output_type": "stream",
     "text": [
      ">>: b\n"
     ]
    }
   ],
   "source": [
    "# 即函数可以当作数据传递\n",
    "#1 可以被引用\n",
    "#2 可以当作参数传递\n",
    "#3 返回值可以是函数\n",
    "#3 可以当作容器类型的元素\n",
    "def foo():\n",
    "    print('foo')\n",
    "\n",
    "def bar():\n",
    "    print('bar')\n",
    "\n",
    "dic={\n",
    "    'foo':foo,\n",
    "    'bar':bar,\n",
    "}\n",
    "while True:\n",
    "    choice=input('>>: ').strip()\n",
    "    if choice in dic:\n",
    "        dic[choice]()\n",
    "    break"
   ]
  },
  {
   "cell_type": "markdown",
   "metadata": {},
   "source": [
    "# 2 名称空间的加载顺序（重点）\n",
    "\n",
    " python test.py\n",
    "#1、python解释器先启动，因而首先加载的是：内置名称空间\n",
    "#2、执行test.py文件，然后以文件为基础，加载全局名称空间\n",
    "#3、在执行文件的过程中如果调用函数，则临时产生局部名称空间\n",
    "# 3 名字的查找顺序\n",
    "\n",
    "局部名称空间--->全局名称空间--->内置名称空间\n",
    "\n",
    "#需要注意的是：在全局无法查看局部的，在局部可以查看全局的，如下示例"
   ]
  },
  {
   "cell_type": "markdown",
   "metadata": {},
   "source": [
    "## 三 名称空间与作用域"
   ]
  },
  {
   "cell_type": "markdown",
   "metadata": {},
   "source": [
    "加载顺序：内置名称空间->全局名称空间->局部名称空间\n",
    "查找名字：局部名称空间->全局名称空间->内置名称空间"
   ]
  },
  {
   "cell_type": "code",
   "execution_count": 16,
   "metadata": {},
   "outputs": [
    {
     "name": "stdout",
     "output_type": "stream",
     "text": [
      "0\n"
     ]
    }
   ],
   "source": [
    "\n",
    "\n",
    "# 加载顺序很好理解，查找顺序是以当前位置为起始点\n",
    "\n",
    "len = 0  # 我们是为了测试，自己写代码千万不能覆盖内置名称空间\n",
    "\n",
    "\n",
    "def f1():\n",
    "    # len = 1\n",
    "\n",
    "    def f2():\n",
    "        # len = 2\n",
    "        print(len)\n",
    "\n",
    "    # len = 3\n",
    "    f2()\n",
    "\n",
    "\n",
    "f1()"
   ]
  },
  {
   "cell_type": "markdown",
   "metadata": {},
   "source": [
    "5 global和nonlocal\n",
    "\n",
    "（1）global关键字用来在函数或其他局部作用域中使用全局变量。但是如果不修改全局变量也可以不使用global关键字。"
   ]
  },
  {
   "cell_type": "code",
   "execution_count": 5,
   "metadata": {},
   "outputs": [
    {
     "ename": "UnboundLocalError",
     "evalue": "local variable 'gcount' referenced before assignment",
     "output_type": "error",
     "traceback": [
      "\u001b[1;31m---------------------------------------------------------------------------\u001b[0m",
      "\u001b[1;31mUnboundLocalError\u001b[0m                         Traceback (most recent call last)",
      "\u001b[1;32m<ipython-input-5-ee9bd1c2d1f8>\u001b[0m in \u001b[0;36m<module>\u001b[1;34m\u001b[0m\n\u001b[0;32m      4\u001b[0m     \u001b[0mgcount\u001b[0m\u001b[1;33m+=\u001b[0m\u001b[1;36m1\u001b[0m\u001b[1;33m\u001b[0m\u001b[1;33m\u001b[0m\u001b[0m\n\u001b[0;32m      5\u001b[0m     \u001b[0mprint\u001b[0m \u001b[1;33m(\u001b[0m\u001b[0mgcount\u001b[0m\u001b[1;33m)\u001b[0m\u001b[1;33m\u001b[0m\u001b[1;33m\u001b[0m\u001b[0m\n\u001b[1;32m----> 6\u001b[1;33m \u001b[0mglobal_test\u001b[0m\u001b[1;33m(\u001b[0m\u001b[1;33m)\u001b[0m\u001b[1;33m\u001b[0m\u001b[1;33m\u001b[0m\u001b[0m\n\u001b[0m\u001b[0;32m      7\u001b[0m \u001b[1;31m# 以上代码会报错：第一行定义了全局变量，在内部函数中又对外部函数进行了引用并修改，\u001b[0m\u001b[1;33m\u001b[0m\u001b[1;33m\u001b[0m\u001b[1;33m\u001b[0m\u001b[0m\n\u001b[0;32m      8\u001b[0m \u001b[1;31m# 那么python会认为它是一个局部变量，有因为内部函数没有对其gcount进行定义和赋值，所以报错。\u001b[0m\u001b[1;33m\u001b[0m\u001b[1;33m\u001b[0m\u001b[1;33m\u001b[0m\u001b[0m\n",
      "\u001b[1;32m<ipython-input-5-ee9bd1c2d1f8>\u001b[0m in \u001b[0;36mglobal_test\u001b[1;34m()\u001b[0m\n\u001b[0;32m      2\u001b[0m \u001b[1;33m\u001b[0m\u001b[0m\n\u001b[0;32m      3\u001b[0m \u001b[1;32mdef\u001b[0m \u001b[0mglobal_test\u001b[0m\u001b[1;33m(\u001b[0m\u001b[1;33m)\u001b[0m\u001b[1;33m:\u001b[0m\u001b[1;33m\u001b[0m\u001b[1;33m\u001b[0m\u001b[0m\n\u001b[1;32m----> 4\u001b[1;33m     \u001b[0mgcount\u001b[0m\u001b[1;33m+=\u001b[0m\u001b[1;36m1\u001b[0m\u001b[1;33m\u001b[0m\u001b[1;33m\u001b[0m\u001b[0m\n\u001b[0m\u001b[0;32m      5\u001b[0m     \u001b[0mprint\u001b[0m \u001b[1;33m(\u001b[0m\u001b[0mgcount\u001b[0m\u001b[1;33m)\u001b[0m\u001b[1;33m\u001b[0m\u001b[1;33m\u001b[0m\u001b[0m\n\u001b[0;32m      6\u001b[0m \u001b[0mglobal_test\u001b[0m\u001b[1;33m(\u001b[0m\u001b[1;33m)\u001b[0m\u001b[1;33m\u001b[0m\u001b[1;33m\u001b[0m\u001b[0m\n",
      "\u001b[1;31mUnboundLocalError\u001b[0m: local variable 'gcount' referenced before assignment"
     ]
    }
   ],
   "source": [
    "gcount = 0\n",
    "\n",
    "def global_test():\n",
    "    gcount+=1\n",
    "    print (gcount)\n",
    "global_test()\n",
    "# 以上代码会报错：第一行定义了全局变量，在内部函数中又对外部函数进行了引用并修改，\n",
    "# 那么python会认为它是一个局部变量，有因为内部函数没有对其gcount进行定义和赋值，所以报错。"
   ]
  },
  {
   "cell_type": "code",
   "execution_count": 7,
   "metadata": {},
   "outputs": [
    {
     "name": "stdout",
     "output_type": "stream",
     "text": [
      "1\n"
     ]
    }
   ],
   "source": [
    "# 如果局部要对全局变量修改，则在局部声明该全局变量\n",
    "gcount = 0\n",
    " \n",
    "def global_test():\n",
    "    global  gcount\n",
    "    gcount+=1\n",
    "    print (gcount)\n",
    "global_test()"
   ]
  },
  {
   "cell_type": "code",
   "execution_count": 9,
   "metadata": {},
   "outputs": [
    {
     "name": "stdout",
     "output_type": "stream",
     "text": [
      "0\n"
     ]
    }
   ],
   "source": [
    "# 如果局部不声明全局变量，并且不修改全局变量，则可以正常使用\n",
    "gcount = 0\n",
    " \n",
    "def global_test():\n",
    "    print (gcount)\n",
    "global_test()\n"
   ]
  },
  {
   "cell_type": "code",
   "execution_count": 12,
   "metadata": {},
   "outputs": [
    {
     "name": "stdout",
     "output_type": "stream",
     "text": [
      "1\n",
      "2\n",
      "3\n"
     ]
    }
   ],
   "source": [
    "# nonlocal声明的变量不是局部变量,也不是全局变量,而是外部嵌套函数内的变量\n",
    "def make_counter():\n",
    "    count = 0\n",
    "    def counter():\n",
    "        nonlocal count\n",
    "        count += 1\n",
    "        return count\n",
    "    return counter\n",
    "        \n",
    "def make_counter_test():\n",
    "    mc = make_counter()\n",
    "    print(mc() )\n",
    "    print(mc())\n",
    "    print(mc())\n",
    "\n",
    "make_counter_test()"
   ]
  },
  {
   "cell_type": "code",
   "execution_count": null,
   "metadata": {},
   "outputs": [
    {
     "name": "stdout",
     "output_type": "stream",
     "text": [
      "\n",
      "        1 登录\n",
      "        2 注册\n",
      "        3 查看\n",
      "        4 转账\n",
      "        5 支付\n",
      "        \n",
      ">>: 1\n",
      "登陆。。。。。\n",
      "\n",
      "        1 登录\n",
      "        2 注册\n",
      "        3 查看\n",
      "        4 转账\n",
      "        5 支付\n",
      "        \n",
      ">>: 2\n",
      "注册。。。。。\n",
      "\n",
      "        1 登录\n",
      "        2 注册\n",
      "        3 查看\n",
      "        4 转账\n",
      "        5 支付\n",
      "        \n",
      ">>: 5\n",
      "支付。。。。\n",
      "\n",
      "        1 登录\n",
      "        2 注册\n",
      "        3 查看\n",
      "        4 转账\n",
      "        5 支付\n",
      "        \n"
     ]
    }
   ],
   "source": [
    "# 2. 函数对象应用(重点)\n",
    "# 利用这一特性，可以优雅的取代原来的if多分支(elif这种多分支是我们写代码要尽可能避免的)。\n",
    "def auth():\n",
    "    print('登陆。。。。。')\n",
    "\n",
    "\n",
    "def register():\n",
    "    print('注册。。。。。')\n",
    "\n",
    "\n",
    "def check():\n",
    "    print('查看。。。。')\n",
    "\n",
    "\n",
    "def transfer():\n",
    "    print('转账。。。。')\n",
    "\n",
    "\n",
    "def pay():\n",
    "    print('支付。。。。')\n",
    "\n",
    "\n",
    "func_dict = {\n",
    "    '1': auth,\n",
    "    '2': register,\n",
    "    '3': check,\n",
    "    '4': transfer,\n",
    "    '5': pay\n",
    "}\n",
    "\n",
    "\n",
    "def interactive():\n",
    "    while True:\n",
    "        print(\"\"\"\n",
    "        1 登录\n",
    "        2 注册\n",
    "        3 查看\n",
    "        4 转账\n",
    "        5 支付\n",
    "        \"\"\")\n",
    "        choice = input('>>: ').strip()\n",
    "        if choice in func_dict:\n",
    "            func_dict[choice]()\n",
    "        else:\n",
    "            print('非法操作')\n",
    "\n",
    "\n",
    "interactive()"
   ]
  },
  {
   "cell_type": "markdown",
   "metadata": {},
   "source": [
    "1. 装饰器说明\n",
    "器指的工具(只要是工具，你就应该想到函数)，装饰指的是为被装饰对象添加新功能，需要注意的是：项目一旦上线之后，就应该遵循开发封闭的原则。开放封闭指的是对修改函数内的源代码和调用方式是封闭的，对功能的扩展是开放的。看起来有点矛盾，但这就是我们要做的。在这样的要求下，我们必须要找到一种解决方案，能够在不修改一个功能内源代码以及调用方式的前提下，为其添加新功能。这就用到了装饰器，它能够在不修改被装饰对象源代码与调用方式的前提下，为被装饰器对象添加新功能。"
   ]
  },
  {
   "cell_type": "markdown",
   "metadata": {},
   "source": [
    "2. 无参装饰器\n",
    "(1) 无参装饰器实现过程\n",
    "无参装饰器指的是装饰器本身没有参数。"
   ]
  },
  {
   "cell_type": "code",
   "execution_count": 2,
   "metadata": {},
   "outputs": [
    {
     "name": "stdout",
     "output_type": "stream",
     "text": [
      "welcome to index page\n"
     ]
    }
   ],
   "source": [
    "# 要求：为index函数添加一个统计时间的功能\n",
    "import time  # 这是一个与时间相关的模块\n",
    "\n",
    "\n",
    "def index():\n",
    "    time.sleep(3)  # 睡3秒\n",
    "    print('welcome to index page')\n",
    "\n",
    "\n",
    "index()"
   ]
  },
  {
   "cell_type": "code",
   "execution_count": 3,
   "metadata": {},
   "outputs": [
    {
     "name": "stdout",
     "output_type": "stream",
     "text": [
      "welcome to index page\n",
      "run time is 3.001028299331665\n"
     ]
    }
   ],
   "source": [
    "# 版本一(只有index函数可以使用)\n",
    "import time  # 这是一个与时间相关的模块\n",
    "\n",
    "\n",
    "def index():\n",
    "    time.sleep(3)  # 睡3秒\n",
    "    print('welcome to index page')\n",
    "\n",
    "\n",
    "start_time = time.time()  # 从1970年开始计时的时间戳\n",
    "index()\n",
    "end_time = time.time()\n",
    "print('run time is %s' % (end_time - start_time))\n"
   ]
  },
  {
   "cell_type": "code",
   "execution_count": 4,
   "metadata": {},
   "outputs": [
    {
     "name": "stdout",
     "output_type": "stream",
     "text": [
      "welcome to index page\n",
      "run time is 3.0009586811065674\n",
      "welcome Albert to home page\n",
      "run time is 5.001621246337891\n"
     ]
    }
   ],
   "source": [
    "# 版本二(两个函数都可以使用，但是有大量重复代码)\n",
    "def index():\n",
    "    time.sleep(3)\n",
    "    print('welcome to index page')\n",
    "\n",
    "\n",
    "def home(name):\n",
    "    time.sleep(5)\n",
    "    print('welcome %s to home page' % name)\n",
    "\n",
    "\n",
    "start_time = time.time()\n",
    "index()\n",
    "stop_time = time.time()\n",
    "print('run time is %s' % (stop_time - start_time))\n",
    "\n",
    "start_time = time.time()\n",
    "home('Albert')\n",
    "stop_time = time.time()\n",
    "print('run time is %s' % (stop_time - start_time))"
   ]
  },
  {
   "cell_type": "code",
   "execution_count": 5,
   "metadata": {},
   "outputs": [
    {
     "name": "stdout",
     "output_type": "stream",
     "text": [
      "welcome to index page\n",
      "run time is 3.000007152557373\n"
     ]
    }
   ],
   "source": [
    "# 版本三(修改了源函数的调用方式)\n",
    "import time\n",
    "\n",
    "\n",
    "def index():\n",
    "    time.sleep(3)\n",
    "    print('welcome to index page')\n",
    "\n",
    "\n",
    "def home(name):\n",
    "    time.sleep(5)\n",
    "    print('welcome %s to home page' % name)\n",
    "\n",
    "\n",
    "def wrapper(func):  # func=index\n",
    "    start_time = time.time()\n",
    "    func()  # index()\n",
    "    stop_time = time.time()\n",
    "    print('run time is %s' % (stop_time - start_time))\n",
    "\n",
    "\n",
    "wrapper(index)\n"
   ]
  },
  {
   "cell_type": "code",
   "execution_count": 6,
   "metadata": {},
   "outputs": [
    {
     "name": "stdout",
     "output_type": "stream",
     "text": [
      "welcome to index page\n",
      "3.000972270965576\n"
     ]
    }
   ],
   "source": [
    "# 版本四(使用闭包函数，不修改源函数调用方式)\n",
    "import time\n",
    "\n",
    "\n",
    "def index():\n",
    "    time.sleep(3)\n",
    "    print('welcome to index page')\n",
    "\n",
    "\n",
    "def outer(func):  # func=最原始的index\n",
    "    # func=最原始的index\n",
    "    def wrapper():\n",
    "        start_time = time.time()\n",
    "        func()\n",
    "        stop_time = time.time()\n",
    "        print(stop_time - start_time)\n",
    "\n",
    "    return wrapper\n",
    "\n",
    "index = outer(index)  # 赋值给index覆盖原来的index，index = wrapper\n",
    "\n",
    "index()  # wrapper()"
   ]
  },
  {
   "cell_type": "code",
   "execution_count": 11,
   "metadata": {},
   "outputs": [
    {
     "name": "stdout",
     "output_type": "stream",
     "text": [
      "welcome Albert to home page\n",
      "welcome Albert to home page\n",
      "welcome to index page\n",
      "1.0003652572631836\n"
     ]
    },
    {
     "data": {
      "text/plain": [
       "1"
      ]
     },
     "execution_count": 11,
     "metadata": {},
     "output_type": "execute_result"
    }
   ],
   "source": [
    "# 版本六(终极版，解决有参函数和无参函数通用的问题)\n",
    "\n",
    "import time\n",
    "\n",
    "\n",
    "def index():\n",
    "    time.sleep(1)\n",
    "    print('welcome to index page')\n",
    "    return 1\n",
    "\n",
    "\n",
    "def home(name):\n",
    "    time.sleep(2)\n",
    "    print('welcome %s to home page' % name)\n",
    "\n",
    "\n",
    "def timer(func):  # 装饰器也是一个函数，我们给他一个好听的名字\n",
    "    def wrapper(*args, **kwargs):  # wrapper函数有无参数由源函数决定\n",
    "        start_time = time.time()\n",
    "        res = func(*args, **kwargs)\n",
    "        stop_time = time.time()\n",
    "        print(stop_time - start_time)\n",
    "        return res\n",
    "\n",
    "    return wrapper\n",
    "\n",
    "\n",
    "index = timer(index)  # 新的index=wrapper\n",
    "# home = timer(home)  # 新的home=wrapper\n",
    "\n",
    "home(name='Albert')  # wrapper(name='Albert')\n",
    "home('Albert')  # wrapper('Albert')\n",
    "index()  # wrapper()"
   ]
  },
  {
   "cell_type": "markdown",
   "metadata": {},
   "source": [
    "装饰器语法"
   ]
  },
  {
   "cell_type": "code",
   "execution_count": 12,
   "metadata": {},
   "outputs": [
    {
     "name": "stdout",
     "output_type": "stream",
     "text": [
      "welcome to index page\n",
      "1.0003225803375244\n",
      "welcome Albert to home page\n"
     ]
    }
   ],
   "source": [
    "# 装饰器也是一个函数，使用函数必先定义，所以装饰器放在最上方\n",
    "def timer(func):\n",
    "    def wrapper(*args, **kwargs):\n",
    "        start_time = time.time()\n",
    "        res = func(*args, **kwargs)\n",
    "        stop_time = time.time()\n",
    "        print(stop_time - start_time)\n",
    "        return res\n",
    "\n",
    "    return wrapper\n",
    "\n",
    "\n",
    "@timer  # 在被装饰对象正上方单独一行添加，相当于执行index=timer(index)\n",
    "def index():\n",
    "    time.sleep(1)\n",
    "    print('welcome to index page')\n",
    "    return 1\n",
    "\n",
    "\n",
    "# @timer  # home=timer(home) 当不需要装饰器的时候只需注释这一行即可\n",
    "def home(name):\n",
    "    time.sleep(2)\n",
    "    print('welcome %s to home page' % name)\n",
    "\n",
    "\n",
    "index()\n",
    "home('Albert')"
   ]
  },
  {
   "cell_type": "code",
   "execution_count": 15,
   "metadata": {},
   "outputs": [
    {
     "name": "stdout",
     "output_type": "stream",
     "text": [
      "用户名>>: Albert\n",
      "密码>>: 1\n",
      "登陆成功\n",
      "welcome to index page\n",
      "15.3399658203125\n"
     ]
    },
    {
     "data": {
      "text/plain": [
       "1"
      ]
     },
     "execution_count": 15,
     "metadata": {},
     "output_type": "execute_result"
    }
   ],
   "source": [
    "# 多个修饰器叠加\n",
    "\n",
    "current_user = {\n",
    "    'username': None,\n",
    "}\n",
    "\n",
    "\n",
    "def auth(func):\n",
    "    def wrapper(*args, **kwargs):\n",
    "        if current_user['username']:\n",
    "            print('已经登陆过了')\n",
    "            res = func(*args, **kwargs)\n",
    "            return res\n",
    "\n",
    "        name = input('用户名>>: ').strip()\n",
    "        pwd = input('密码>>: ').strip()\n",
    "        if name == 'Albert' and pwd == '1':\n",
    "            print('登陆成功')\n",
    "            current_user['username'] = name\n",
    "            res = func(*args, **kwargs)\n",
    "            return res\n",
    "        else:\n",
    "            print('用户名或密码错误')\n",
    "\n",
    "    return wrapper\n",
    "\n",
    "\n",
    "def timer(func):\n",
    "    def wrapper(*args, **kwargs):\n",
    "        start_time = time.time()\n",
    "        res = func(*args, **kwargs)\n",
    "        stop_time = time.time()\n",
    "        print(stop_time - start_time)\n",
    "        return res\n",
    "\n",
    "    return wrapper\n",
    "\n",
    "\n",
    "\"\"\"\n",
    "@auth  \n",
    "@timer  # 这样写的话timer只统计index的执行时间\n",
    "\"\"\"\n",
    "\n",
    "\n",
    "@timer  # timer 统计的是auth+index的执行时间\n",
    "@auth\n",
    "def index():\n",
    "    time.sleep(1)\n",
    "    print('welcome to index page')\n",
    "    return 1\n",
    "\n",
    "index()"
   ]
  },
  {
   "cell_type": "markdown",
   "metadata": {},
   "source": [
    "## 有参装饰器\n",
    "有参装饰器就是装饰器本身需要一个参数，结合我们以前讲过的文件操作，其实文件就是存放数据的仓库，类似于数据库，数据库分很多种，常见的有MySQL，Oracle，PostgreSQL和DB2等等，在一些项目的需求中，不同的数据会分散存储在不同的数据库中，这时我们使用基于对象的数据模型(通俗讲就是使用编程语言来操作数据库)操作不同数据库就要执行不同的代码。"
   ]
  },
  {
   "cell_type": "code",
   "execution_count": 23,
   "metadata": {},
   "outputs": [
    {
     "name": "stdout",
     "output_type": "stream",
     "text": [
      "基于MyQL的认证\n",
      "welcome to index page\n"
     ]
    }
   ],
   "source": [
    "current_user = {\n",
    "    'username': None,\n",
    "}\n",
    "\n",
    "\n",
    "def auth(engine):\n",
    "    def user_auth(func):\n",
    "        def wrapper(*args, **kwargs):\n",
    "            if engine == 'file':\n",
    "                print('基于文件的认证')\n",
    "                if current_user['username']:\n",
    "                    print('已经登陆过了')\n",
    "                    res = func(*args, **kwargs)\n",
    "                    return res\n",
    "\n",
    "                name = input('用户名>>: ').strip()\n",
    "                pwd = input('密码>>: ').strip()\n",
    "                if name == 'Albert' and pwd == '1':\n",
    "                    print('登陆成功')\n",
    "                    current_user['username'] = name\n",
    "                    res = func(*args, **kwargs)\n",
    "                    return res\n",
    "                else:\n",
    "                    print('用户名或密码错误')\n",
    "            elif engine == 'mysql':\n",
    "                print('基于MyQL的认证')\n",
    "#                 这里才是真正调用index函数里的内容，不然就只是将index作为传值\n",
    "                res = func(*args, **kwargs)\n",
    "            elif engine == 'ldap':\n",
    "                print('基于LDAP的认证')\n",
    "            elif engine == 'postgresql':\n",
    "                print('基于PostgreSQL的认证')\n",
    "\n",
    "        return wrapper\n",
    "\n",
    "    return user_auth\n",
    "\n",
    "\n",
    "@auth('mysql')  # auth装饰器本身是一个函数，在语法糖中也可以传参数\n",
    "def index():\n",
    "    time.sleep(1)\n",
    "    print('welcome to index page')\n",
    "    return 1\n",
    "\n",
    "\n",
    "index()"
   ]
  },
  {
   "cell_type": "code",
   "execution_count": 24,
   "metadata": {},
   "outputs": [],
   "source": [
    "# 修饰器补充\n",
    "from functools import wraps\n",
    "\n",
    "\n",
    "def deco(func):\n",
    "    @wraps(func)  # 加在最内层函数正上方\n",
    "    def wrapper(*args, **kwargs):\n",
    "        return func(*args, **kwargs)\n",
    "\n",
    "    return wrapper\n",
    "\n",
    "\n",
    "@deco\n",
    "def index():\n",
    "    '''哈哈哈哈'''\n",
    "    print('from index')"
   ]
  },
  {
   "cell_type": "markdown",
   "metadata": {},
   "source": [
    "装饰器使用的是闭包函数的原理，返回的是和原来函数同名字的函数地址，再加上()就能调用这个函数，所以给我们的感觉是原来的函数没有变化，却添加了新的功能，其实已经不是原来的函数了，你可以把以上代码的第三行注释掉，运行代码，打印结果为None，就是因为你运行的函数已经不是原来的函数了，所以这其实是一个伪装饰器，要想让装饰器真的是装饰器，调用别人写好的包，返回结果还是原函数，以上写法就是。"
   ]
  },
  {
   "cell_type": "markdown",
   "metadata": {},
   "source": [
    "\n",
    "## 课后练习\n",
    "第一问：如果让你对一个字典，根据值进行由高到底的排序，该怎么做呢？\n"
   ]
  },
  {
   "cell_type": "code",
   "execution_count": 8,
   "metadata": {},
   "outputs": [
    {
     "data": {
      "text/plain": [
       "[('ben', 30), ('mike', 10), ('lucy', 2)]"
      ]
     },
     "execution_count": 8,
     "metadata": {},
     "output_type": "execute_result"
    }
   ],
   "source": [
    "d = {'mike': 10, 'lucy': 2, 'ben': 30}\n",
    "sorted(d.items(),key=lambda x:x[1],reverse=True)"
   ]
  },
  {
   "cell_type": "markdown",
   "metadata": {},
   "source": [
    "## 函数回顾\n",
    "### 1、函数也是对象，可以把函数赋予变量\n",
    "func（）赋予send_message  之后调用send_message 就是相当于调用func"
   ]
  },
  {
   "cell_type": "code",
   "execution_count": 2,
   "metadata": {},
   "outputs": [
    {
     "name": "stdout",
     "output_type": "stream",
     "text": [
      "Got a message: hello world\n"
     ]
    }
   ],
   "source": [
    "def func(message):\n",
    "    print('Got a message: {}'.format(message))\n",
    "    \n",
    "send_message = func\n",
    "send_message('hello world')\n",
    "\n"
   ]
  },
  {
   "cell_type": "markdown",
   "metadata": {},
   "source": [
    "### 2、函数可以当成参数  传入另一个函数中\n"
   ]
  },
  {
   "cell_type": "code",
   "execution_count": 3,
   "metadata": {},
   "outputs": [
    {
     "name": "stdout",
     "output_type": "stream",
     "text": [
      "Got a message: hello world\n"
     ]
    }
   ],
   "source": [
    "def get_message(message):\n",
    "    return 'Got a message: ' + message\n",
    "\n",
    "\n",
    "def root_call(func, message):\n",
    "    print(func(message))\n",
    "    \n",
    "root_call(get_message, 'hello world')\n"
   ]
  },
  {
   "cell_type": "markdown",
   "metadata": {},
   "source": [
    "### 3、可以在函数里定义函数  也就是函数嵌套"
   ]
  },
  {
   "cell_type": "code",
   "execution_count": 4,
   "metadata": {},
   "outputs": [
    {
     "name": "stdout",
     "output_type": "stream",
     "text": [
      "Got a message: hello world\n"
     ]
    }
   ],
   "source": [
    "def func(message):\n",
    "    def get_message(message):\n",
    "        print('Got a message: {}'.format(message))\n",
    "    return get_message(message)\n",
    "\n",
    "func('hello world')\n",
    "\n"
   ]
  },
  {
   "cell_type": "markdown",
   "metadata": {},
   "source": [
    "### 4、函数的返回值也可以是函数对象（闭包）\n",
    "\n",
    "这里，函数 func_closure() 的返回值是函数对象get_message本身  之后再将其赋予send_message 再调用send_message"
   ]
  },
  {
   "cell_type": "code",
   "execution_count": null,
   "metadata": {},
   "outputs": [],
   "source": [
    "def func_closure():\n",
    "    def get_message(message):\n",
    "        print('Got a message: {}'.format(message))\n",
    "    return get_message\n",
    "\n",
    "send_message = func_closure()\n",
    "send_message('hello world')\n",
    "\n"
   ]
  },
  {
   "cell_type": "markdown",
   "metadata": {},
   "source": [
    "## 简单的装饰器\n",
    "在这段函数中  greet指向内部函数wrapper() 而内部函数 wrapper()中又会调用原函数greet()  因此，最后调用greet时，就会先打印wrapper of decorator 然后输出 hello world 这里的my_decorator 就是一个装饰器，把需要执行的greet 包裹在内，改变行为，但greet不变。"
   ]
  },
  {
   "cell_type": "code",
   "execution_count": 5,
   "metadata": {},
   "outputs": [
    {
     "name": "stdout",
     "output_type": "stream",
     "text": [
      "wrapper of decorator\n",
      "hello world\n"
     ]
    }
   ],
   "source": [
    "def my_decorator(func):\n",
    "    def wrapper():\n",
    "        print('wrapper of decorator')\n",
    "        func()\n",
    "    return wrapper\n",
    "\n",
    "def greet():\n",
    "    print('hello world')\n",
    "\n",
    "greet = my_decorator(greet)\n",
    "greet()\n",
    "\n"
   ]
  },
  {
   "cell_type": "markdown",
   "metadata": {},
   "source": [
    "在python 中 有种更简单 更优雅的表示\n",
    "\n"
   ]
  },
  {
   "cell_type": "code",
   "execution_count": 6,
   "metadata": {},
   "outputs": [
    {
     "name": "stdout",
     "output_type": "stream",
     "text": [
      "wrapper of decorator\n",
      "hello world\n"
     ]
    }
   ],
   "source": [
    "def my_decorator(func):\n",
    "    def wrapper():\n",
    "        print('wrapper of decorator')\n",
    "        func()\n",
    "    return wrapper\n",
    "\n",
    "@my_decorator\n",
    "def greet():\n",
    "    print('hello world')\n",
    "\n",
    "greet()"
   ]
  },
  {
   "cell_type": "markdown",
   "metadata": {},
   "source": [
    "@my_decorator就相当于前面的greet=my_decorator\n",
    "\n",
    "### 带有参数的装饰器 "
   ]
  },
  {
   "cell_type": "code",
   "execution_count": 8,
   "metadata": {},
   "outputs": [
    {
     "name": "stdout",
     "output_type": "stream",
     "text": [
      "wrapper of decorator\n",
      "hello world\n"
     ]
    }
   ],
   "source": [
    "def my_decorator(func):\n",
    "    def wrapper(message):\n",
    "        print('wrapper of decorator')\n",
    "        func(message)\n",
    "    return wrapper\n",
    "\n",
    "\n",
    "@my_decorator\n",
    "def greet(message):\n",
    "    print(message)\n",
    "\n",
    "\n",
    "greet('hello world')\n",
    "\n"
   ]
  },
  {
   "cell_type": "markdown",
   "metadata": {},
   "source": [
    "装饰器 多参数怎么办呢？\n",
    "事实上，通常情况下，我们会把*args和**kwargs，作为装饰器内部函数 wrapper() 的参数。*args和**kwargs，表示接受任意数量和类型的参数\n",
    "\n",
    "\n"
   ]
  },
  {
   "cell_type": "code",
   "execution_count": 9,
   "metadata": {},
   "outputs": [],
   "source": [
    "def my_decorator(func):\n",
    "    def wrapper(*args, **kwargs):\n",
    "        print('wrapper of decorator')\n",
    "        func(*args, **kwargs)\n",
    "    return wrapper\n"
   ]
  },
  {
   "cell_type": "markdown",
   "metadata": {},
   "source": [
    "### 带自定义参数的装饰器 \n",
    "举个例子，比如我想要定义一个参数，来表示装饰器内部函数被执行次数\n",
    "\n"
   ]
  },
  {
   "cell_type": "code",
   "execution_count": 10,
   "metadata": {},
   "outputs": [
    {
     "name": "stdout",
     "output_type": "stream",
     "text": [
      "wrapper of decorator\n",
      "hello world\n",
      "wrapper of decorator\n",
      "hello world\n",
      "wrapper of decorator\n",
      "hello world\n",
      "wrapper of decorator\n",
      "hello world\n"
     ]
    }
   ],
   "source": [
    "def repeat(num):\n",
    "    def my_decorator(func):\n",
    "        def wrapper(*args, **kwargs):\n",
    "            for i in range(num):\n",
    "                print('wrapper of decorator')\n",
    "                func(*args, **kwargs)\n",
    "        return wrapper\n",
    "    return my_decorator\n",
    "\n",
    "\n",
    "@repeat(4)\n",
    "def greet(message):\n",
    "    print(message)\n",
    "\n",
    "greet('hello world')\n",
    "\n"
   ]
  },
  {
   "cell_type": "markdown",
   "metadata": {},
   "source": [
    "## 原函数还是原函数吗？\n",
    "现在，我们再来看个有趣的现象。还是之前的例子\n"
   ]
  },
  {
   "cell_type": "code",
   "execution_count": 11,
   "metadata": {},
   "outputs": [
    {
     "name": "stdout",
     "output_type": "stream",
     "text": [
      "Help on function wrapper in module __main__:\n",
      "\n",
      "wrapper(*args, **kwargs)\n",
      "\n"
     ]
    }
   ],
   "source": [
    "greet.__name__\n",
    "## 输出\n",
    "'wrapper'\n",
    "\n",
    "help(greet)\n",
    "\n"
   ]
  },
  {
   "cell_type": "markdown",
   "metadata": {},
   "source": [
    "很明显 被装饰后，greet的元信息变了。不再是原来的greet 而是被wrapper 取代了\n",
    "为了解决这个问题，我们通常使用 内置的装饰器 @functools.wrap 它会帮助保留原函数元信息  也就是将原函数的元信息，拷贝到对应装饰器函数里"
   ]
  },
  {
   "cell_type": "code",
   "execution_count": 12,
   "metadata": {},
   "outputs": [
    {
     "data": {
      "text/plain": [
       "'greet'"
      ]
     },
     "execution_count": 12,
     "metadata": {},
     "output_type": "execute_result"
    }
   ],
   "source": [
    "import functools\n",
    "\n",
    "def my_decorator(func):\n",
    "    @functools.wraps(func)\n",
    "    def wrapper(*args, **kwargs):\n",
    "        print('wrapper of decorator')\n",
    "        func(*args, **kwargs)\n",
    "    return wrapper\n",
    "    \n",
    "@my_decorator\n",
    "def greet(message):\n",
    "    print(message)\n",
    "\n",
    "greet.__name__\n",
    "\n",
    "\n"
   ]
  },
  {
   "cell_type": "markdown",
   "metadata": {},
   "source": [
    "## 类装饰器\n",
    "\n",
    "实际上，类也可以作为装饰器，类装饰器主要依赖于函数__call__ () 每当你调用一个类的示例，函数 __call__() 就会执行一次"
   ]
  },
  {
   "cell_type": "code",
   "execution_count": 16,
   "metadata": {},
   "outputs": [
    {
     "name": "stdout",
     "output_type": "stream",
     "text": [
      "num of calls is: 1\n",
      "hello world\n",
      "num of calls is: 2\n",
      "hello world\n"
     ]
    }
   ],
   "source": [
    "class Count:\n",
    "    def __init__(self, func):\n",
    "        self.func = func\n",
    "        self.num_calls = 0\n",
    "\n",
    "    def __call__(self, *args, **kwargs):\n",
    "        self.num_calls += 1\n",
    "        print('num of calls is: {}'.format(self.num_calls))\n",
    "        return self.func(*args, **kwargs)\n",
    "\n",
    "@Count\n",
    "def example():\n",
    "    print(\"hello world\")\n",
    "\n",
    "example()\n",
    "example()\n",
    "\n",
    "\n"
   ]
  },
  {
   "cell_type": "markdown",
   "metadata": {},
   "source": [
    "## 装饰器用法实例\n",
    "\n",
    "### 1、身份认证  \n",
    "在这段代码中 我们定义了装饰器 authenticate 而函数post_comment 表示用户对于文章的评论，每次调用这个函数前，都会先检查用户是否处于登录状态，如果是登录状态，则允许操作，否则，不允许"
   ]
  },
  {
   "cell_type": "code",
   "execution_count": 22,
   "metadata": {},
   "outputs": [
    {
     "ename": "SyntaxError",
     "evalue": "invalid syntax (<ipython-input-22-e92ab8ca28a1>, line 14)",
     "output_type": "error",
     "traceback": [
      "\u001b[1;36m  File \u001b[1;32m\"<ipython-input-22-e92ab8ca28a1>\"\u001b[1;36m, line \u001b[1;32m14\u001b[0m\n\u001b[1;33m    def post_comment(request,i)\u001b[0m\n\u001b[1;37m                               ^\u001b[0m\n\u001b[1;31mSyntaxError\u001b[0m\u001b[1;31m:\u001b[0m invalid syntax\n"
     ]
    }
   ],
   "source": [
    "import functools\n",
    "\n",
    "def authenticate(func):\n",
    "    @functools.wraps(func)\n",
    "    def wrapper(*args, **kwargs):\n",
    "        request = args[0]\n",
    "        if check_user_logged_in(request): # 如果用户处于登录状态\n",
    "            return func(*args, **kwargs) # 执行函数 post_comment() \n",
    "        else:\n",
    "            raise Exception('Authentication failed')\n",
    "    return wrapper\n",
    "    \n",
    "@authenticate\n",
    "def post_comment(request,...)\n",
    "    pass\n",
    " \n"
   ]
  },
  {
   "cell_type": "markdown",
   "metadata": {},
   "source": [
    "## 2、 日志操作\n",
    "如果你怀疑某些函数的耗时过长，导致整个系统延迟增加，所以想测试某些函数的执行时间，那么装饰器就是一种常用手段\n",
    "\n"
   ]
  },
  {
   "cell_type": "code",
   "execution_count": 23,
   "metadata": {},
   "outputs": [],
   "source": [
    "import time\n",
    "import functools\n",
    "\n",
    "def log_execution_time(func):\n",
    "    @functools.wraps(func)\n",
    "    def wrapper(*args, **kwargs):\n",
    "        start = time.perf_counter()\n",
    "        res = func(*args, **kwargs)\n",
    "        end = time.perf_counter()\n",
    "        print('{} took {} ms'.format(func.__name__, (end - start) * 1000))\n",
    "        return res\n",
    "    return wrapper\n",
    "    \n",
    "@log_execution_time\n",
    "def calculate_similarity(items):\n",
    "    pass\n"
   ]
  },
  {
   "cell_type": "markdown",
   "metadata": {},
   "source": [
    "### 3、输入合理性检查\n",
    "\n",
    "在大型机器学习框架中，调用机器集群进行模型训练，往往用装饰器对其输入 （很长的json文件）进行合理性检查，这些可以大大避免，输入不正确对机器造成的巨大开销。"
   ]
  },
  {
   "cell_type": "code",
   "execution_count": null,
   "metadata": {},
   "outputs": [],
   "source": [
    "import functools\n",
    "\n",
    "def validation_check(input):\n",
    "    @functools.wraps(func)\n",
    "    def wrapper(*args, **kwargs): \n",
    "        ... # 检查输入是否合法\n",
    "    \n",
    "@validation_check\n",
    "def neural_network_training(param1, param2, ...):\n",
    "    ...\n"
   ]
  },
  {
   "cell_type": "markdown",
   "metadata": {},
   "source": [
    "### 4、 缓存 \n",
    "\n",
    "最后，我们来看缓存方面的应用。关于缓存装饰器的用法，其实十分常见，这里我以 Python 内置的 LRU cache 为例来说明（如果你不了解 LRU cache，可以点击链接自行查阅）。\n",
    "\n",
    "LRU cache，在 Python 中的表示形式是@lru_cache。@lru_cache会缓存进程中的函数参数和结果，当缓存满了以后，会删除 least recenly used 的数据。\n",
    "\n",
    "正确使用缓存装饰器，往往能极大地提高程序运行效率。为什么呢？我举一个常见的例子来说明。\n",
    "\n",
    "大型公司服务器端的代码中往往存在很多关于设备的检查，比如你使用的设备是安卓还是 iPhone，版本号是多少。这其中的一个原因，就是一些新的 feature，往往只在某些特定的手机系统或版本上才有（比如 Android v200+）。\n",
    "\n",
    "这样一来，我们通常使用缓存装饰器，来包裹这些检查函数，避免其被反复调用，进而提高程序运行效率，比如写成下面这样："
   ]
  },
  {
   "cell_type": "code",
   "execution_count": null,
   "metadata": {},
   "outputs": [],
   "source": [
    "@lru_cache\n",
    "def check(param1, param2, ...) # 检查用户设备类型，版本号等等\n",
    "    ...\n"
   ]
  },
  {
   "cell_type": "markdown",
   "metadata": {},
   "source": [
    "## 总结\n",
    "这节课，我们一起学习了装饰器的概念及用法。所谓的装饰器，其实就是通过装饰器函数，来修改原函数的一些功能，使得原函数不需要修改。\n",
    "\n",
    "Decorators is to modify the behavior of the function through a wrapper so we don’t have to actually modify the function.\n",
    "\n",
    "而实际工作中，装饰器通常运用在身份认证、日志记录、输入合理性检查以及缓存等多个领域中。合理使用装饰器，往往能极大地提高程序的可读性以及运行效率。"
   ]
  },
  {
   "cell_type": "code",
   "execution_count": null,
   "metadata": {},
   "outputs": [],
   "source": []
  }
 ],
 "metadata": {
  "kernelspec": {
   "display_name": "Python 3",
   "language": "python",
   "name": "python3"
  },
  "language_info": {
   "codemirror_mode": {
    "name": "ipython",
    "version": 3
   },
   "file_extension": ".py",
   "mimetype": "text/x-python",
   "name": "python",
   "nbconvert_exporter": "python",
   "pygments_lexer": "ipython3",
   "version": "3.7.3"
  }
 },
 "nbformat": 4,
 "nbformat_minor": 2
}
