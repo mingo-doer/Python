{
 "cells": [
  {
   "cell_type": "markdown",
   "metadata": {},
   "source": [
    "# 模块介绍\n",
    "## 1. 模块基本说明\n",
    "我们之前讲函数的时候，一个函数是一个功能或者功能，我们可以重复使用这个功能，当程序中有多个功能的时候，为了给这些功能分组，我们有了模块的概念。模块是一系列功能的集合体，在Python中，一个Python文件就是一个模块，比如module.py,其中模块名module，Pyhon中一切皆对象，一个模块也是一个对象。\n",
    "\n",
    "## 2. 模块的基本使用\n",
    "我们使用import关键字导入一个模块，在一个Python文件中首次导入模块的过程分为三个阶段：\n",
    "\n",
    "创建一个模块的名称空间\n",
    "执行模块对应文件，将产生的名字存放于模块文件所对应的名称空间\n",
    "在当前执行文件中拿到一个模块名，该模块名指向模块文件所对应的名称空间\n",
    "需要注意的是：导入一个模块，模块中功能的执行始终以模块自己的名称空间为准，如果与导入模块的文件内的全局变量重名了，这也只是巧合，他们之间没有任何关系(最好不要有命名一样的)。\n",
    "\n",
    "##  3、为模块起别名\n",
    "import spam as sm\n",
    "## 4. 一行导入多个模块(不推荐使用)\n",
    "## 5. from... import...\n",
    "我们在使用import导入一个模块的时候，每次使用都要使用模块名.属性名的方式，有一种更简单的方式就是使用from...import...导入，它的执行前两个阶段与import导入一致，第三个阶段不同：在当前名称空间中直接拿到模块中的名字，可以直接使用，不用加任何前缀。\n",
    "\n",
    "## 6. 星的导入\n",
    "星指的是导入该模块内的全部功能，如果模块内有很多功能，调用者并不会全部都用到，这是为了调用者的方便，但是作为调用者不可避免的出现：自己的定义的名字与模块中的名字冲突，这时作为模块的设计者可以定义星的调用。\n",
    "\n",
    "## 7. Python文件的两种用途\n",
    "一个Python文件可以当作可执行文件被执行，这种用途一般我们叫做脚本文件，另外一种就是我们刚才所讲的，作为模块导入。为了测试方便，我们需要区别对待。\n",
    "## 8. 模块的查找路径\n",
    "模块搜索查找的循序是：\n",
    "\n",
    "内存中已经加载的模块\n",
    "内置模块\n",
    "sys.path路径中包含的模块"
   ]
  },
  {
   "cell_type": "markdown",
   "metadata": {},
   "source": [
    "# 包的介绍\n",
    "\n",
    "## 1. 包的基本介绍\n",
    "包是一个特殊的模块，你的计算机上不同类型的文件分别保存的不同的文件夹内，程序中也是一样。一个文件夹就是一个包，Python语言的设计为了兼顾统一，包的使用和模块一致。需要注意的是，一个包内必须要有一个初始化文件__init__.py。\n",
    "\n",
    "## 2. 导入包注意事项\n",
    "在导入时带点的，点的左边必须是一个包，这是导入包特有的语法\n",
    "包内模块直接的导入应该使用from。。。import 。。。\n",
    "from 。。。 import。。。，import后必须是一个明确的名字，没有任何的前缀，不能加点\n",
    "## 3. 绝对导入与相对导入\n",
    "绝对导入是以当前执行文件所在的文件夹(sys.path的第一个路径)为参照点导入的，相对导入是以当前执行文件为参照点导入的。"
   ]
  },
  {
   "cell_type": "markdown",
   "metadata": {},
   "source": [
    "# 三 常用模块\n",
    "### time "
   ]
  },
  {
   "cell_type": "code",
   "execution_count": 1,
   "metadata": {},
   "outputs": [
    {
     "name": "stdout",
     "output_type": "stream",
     "text": [
      "1556889113.2009807\n",
      "3.0009818077087402\n",
      "2019-05-03 21:11:56 PM\n",
      "2019-05-03 21:11:56 PM\n",
      "time.struct_time(tm_year=2019, tm_mon=5, tm_mday=3, tm_hour=21, tm_min=11, tm_sec=56, tm_wday=4, tm_yday=123, tm_isdst=0)\n",
      "2019\n",
      "3\n",
      "time.struct_time(tm_year=2019, tm_mon=5, tm_mday=3, tm_hour=13, tm_min=11, tm_sec=56, tm_wday=4, tm_yday=123, tm_isdst=0)\n",
      "8\n",
      "3\n",
      "1556889116.0\n",
      "2019/05/03\n",
      "time.struct_time(tm_year=2017, tm_mon=4, tm_mday=8, tm_hour=0, tm_min=0, tm_sec=0, tm_wday=5, tm_yday=98, tm_isdst=-1)\n",
      "Fri May  3 21:11:56 2019\n",
      "Thu Jan  1 08:02:03 1970\n"
     ]
    }
   ],
   "source": [
    "import time\n",
    "\n",
    "# 时间分为三种形式\n",
    "# 1、时间戳\n",
    "print(time.time())\n",
    "start_time = time.time()\n",
    "time.sleep(3)\n",
    "stop_time = time.time()\n",
    "print(stop_time - start_time)\n",
    "\n",
    "# 2、格式化的字符串\n",
    "print(time.strftime('%Y-%m-%d %H:%M:%S %p'))\n",
    "print(time.strftime('%Y-%m-%d %X %p'))\n",
    "\n",
    "# 3、struct_time对象\n",
    "print(time.localtime())  # 上海：东八区\n",
    "print(time.localtime().tm_year)\n",
    "print(time.localtime().tm_mday)\n",
    "\n",
    "print(time.gmtime())  # UTC时区\n",
    "\n",
    "# 以下为了解的知识\n",
    "print(time.localtime(111).tm_hour)\n",
    "print(time.gmtime(11111).tm_hour)\n",
    "\n",
    "print(time.mktime(time.localtime()))\n",
    "\n",
    "print(time.strftime('%Y/%m/%d', time.localtime()))\n",
    "print(time.strptime('2017/04/08', '%Y/%m/%d'))\n",
    "\n",
    "print(time.asctime(time.localtime()))\n",
    "print(time.ctime(123))"
   ]
  },
  {
   "cell_type": "code",
   "execution_count": 16,
   "metadata": {},
   "outputs": [
    {
     "name": "stdout",
     "output_type": "stream",
     "text": [
      "[##################################################] 100%"
     ]
    }
   ],
   "source": [
    "# 用time模块来模拟网络延迟打印进度条\n",
    "# 打印过程\n",
    "\n",
    "# print('[                 ]')\n",
    "# print('[##               ]')\n",
    "# print('[###              ]')\n",
    "# print('[####             ]')\n",
    "# print('[#####            ]')\n",
    "\n",
    "\n",
    "# # 显示数字\n",
    "\n",
    "# print('[%-50s]' %'#')\n",
    "# print('[%-50s]' %'##')\n",
    "# print('[%-50s]' %'###')\n",
    "\n",
    "\n",
    "\n",
    "# # 说明\n",
    "# # 第一个%是取消第二个%号的特殊意义的\n",
    "# num=30\n",
    "# print('%s%%' %num)\n",
    "# width=30\n",
    "# print(('[%%-%ds]' %width) %'#')\n",
    "# print(('[%%-%ds]' %width) %'##')\n",
    "# print(('[%%-%ds]' %width) %'###')\n",
    "\n",
    "\n",
    "def progress(percent, width=50):\n",
    "    if percent > 1:\n",
    "        percent = 1\n",
    "    show_str = ('[%%-%ds]' % width) % (int(width * percent) * '#')\n",
    "#     print(show_str)\n",
    "    print('\\r%s %d%%' % (show_str, int(100 * percent)), end='')\n",
    "\n",
    "\n",
    "import time\n",
    "\n",
    "recv_size = 0\n",
    "total_size = 100\n",
    "while recv_size < total_size:\n",
    "    time.sleep(0.1)\n",
    "    recv_size += 1\n",
    "    percent = recv_size / total_size\n",
    "    progress(percent)"
   ]
  },
  {
   "cell_type": "markdown",
   "metadata": {},
   "source": [
    "# shutil与tarfile\n",
    "\n",
    "https://www.cnblogs.com/wushuaishuai/articles/9222279.html"
   ]
  },
  {
   "cell_type": "markdown",
   "metadata": {},
   "source": [
    "### logging模块 \n",
    "https://www.cnblogs.com/Nicholas0707/p/9021672.html"
   ]
  },
  {
   "cell_type": "code",
   "execution_count": 20,
   "metadata": {},
   "outputs": [
    {
     "name": "stderr",
     "output_type": "stream",
     "text": [
      "2019-04-21 11:53:56,703 - 出错了\n",
      "2019-04-21 11:53:56,703 - 出错了\n",
      "2019-04-21 11:53:56,703 - 出错了\n",
      "2019-04-21 11:53:56,708 - 问题很严重\n",
      "2019-04-21 11:53:56,708 - 问题很严重\n",
      "2019-04-21 11:53:56,708 - 问题很严重\n"
     ]
    }
   ],
   "source": [
    "\n",
    "\n",
    "import logging\n",
    "\n",
    "logging.basicConfig(\n",
    "    filename='access.log',\n",
    "    format='%(asctime)s - %(name)s - %(levelname)s -%(module)s:  %(message)s',\n",
    "    datefmt='%Y-%m-%d %H:%M:%S %p',\n",
    "    level=20,\n",
    ")\n",
    "\n",
    "logging.debug('debug...')  # 10\n",
    "logging.info('info....')  # 20\n",
    "logging.warning('可能着火...')  # 30\n",
    "logging.error('着火啦快跑')  # 40\n",
    "logging.critical('火越烧越大')  # 50\n",
    "\n",
    "# logging模块的四种对象\n",
    "\n",
    "# 1 logger:负责产生日志\n",
    "logger1 = logging.getLogger('xxx')\n",
    "\n",
    "# 2 filter：过滤日志（不常用）\n",
    "\n",
    "# 3 handler：控制日志打印到文件or终端\n",
    "fh1 = logging.FileHandler(filename='a1.log', encoding='utf-8')\n",
    "fh2 = logging.FileHandler(filename='a2.log', encoding='utf-8')\n",
    "sh = logging.StreamHandler()\n",
    "\n",
    "# 4 formatter：控制日志的格式\n",
    "formatter1 = logging.Formatter(\n",
    "    fmt='%(asctime)s - %(name)s - %(levelname)s -%(module)s:  %(message)s',\n",
    "    datefmt='%Y-%m-%d %H:%M:%S %p',\n",
    ")\n",
    "\n",
    "formatter2 = logging.Formatter(fmt='%(asctime)s - %(message)s', )\n",
    "\n",
    "# 为logger1对象绑定handler\n",
    "logger1.addHandler(fh1)\n",
    "logger1.addHandler(fh2)\n",
    "logger1.addHandler(sh)\n",
    "\n",
    "# 为handler对象绑定日志格式\n",
    "fh1.setFormatter(formatter1)\n",
    "fh2.setFormatter(formatter1)\n",
    "sh.setFormatter(formatter2)\n",
    "\n",
    "# 日志级别: 两层关卡，必须都通过，日志才能正常记录\n",
    "# logger1.setLevel(10)\n",
    "# logger1.setLevel(20)\n",
    "logger1.setLevel(30)\n",
    "\n",
    "fh1.setLevel(10)\n",
    "fh2.setLevel(10)\n",
    "sh.setLevel(10)\n",
    "\n",
    "# 调用logger1对象下的方法，产生日志，然后交给不同的handler，控制日志记录到不同的地方\n",
    "logger1.debug('调试信息')\n",
    "logger1.info('使用中')\n",
    "logger1.warning('出错了')\n",
    "logger1.critical('问题很严重')"
   ]
  },
  {
   "cell_type": "markdown",
   "metadata": {},
   "source": [
    "## json与pickle\n",
    "https://www.cnblogs.com/haishiniu123/p/6775510.html"
   ]
  },
  {
   "cell_type": "code",
   "execution_count": null,
   "metadata": {},
   "outputs": [],
   "source": []
  },
  {
   "cell_type": "code",
   "execution_count": null,
   "metadata": {},
   "outputs": [],
   "source": [
    "# json序列化\n",
    "import json\n",
    "\n",
    "dic = {'name': 'Albert', 'age': 18}\n",
    "\n",
    "with open('db1.json', 'wt', encoding='utf-8') as f:\n",
    "    json.dump(dic, f)  # 写入\n",
    "\n",
    "# 反序列化\n",
    "with open('db1.json', 'rt', encoding='utf-8') as f:\n",
    "    dic = json.load(f)  # 读取\n",
    "    print(dic['name'])\n",
    "\n",
    "# pickle序列化\n",
    "import pickle\n",
    "\n",
    "s = {1, 2, 3, 4, }\n",
    "res = pickle.dumps(s)\n",
    "print(res, type(res))\n",
    "\n",
    "with open('db.pkl', 'wb') as f:  # 二进制模式\n",
    "    f.write(res)\n",
    "\n",
    "# 反序列化\n",
    "with open('db.pkl', 'rb') as f:\n",
    "    data = f.read()\n",
    "    s = pickle.loads(data)\n",
    "    print(s, type(s))\n",
    "\n",
    "# dump与load\n",
    "import pickle\n",
    "\n",
    "s = {1, 2, 3}\n",
    "with open('db1.pkl', 'wb') as f:\n",
    "    pickle.dump(s, f)\n",
    "\n",
    "with open('db1.pkl', 'rb') as f:\n",
    "    s = pickle.load(f)\n",
    "    print(s, type(s))"
   ]
  },
  {
   "cell_type": "markdown",
   "metadata": {},
   "source": [
    " ## os 模块"
   ]
  },
  {
   "cell_type": "markdown",
   "metadata": {},
   "source": [
    "https://blog.csdn.net/weixin_39541558/article/details/79971971"
   ]
  },
  {
   "cell_type": "markdown",
   "metadata": {},
   "source": [
    "## 8. re模块(正则表达式)\n",
    "正则就是用一些具有特殊含义的符号组合到一起（称为正则表达式）来描述字符或者字符串的方，或者说：正则就是用来描述一类事物的规则。它内嵌在Python中，并通过 re 模块实现。正则表达式模式被编译成一系列的字节码，然后由用 C 编写的匹配引擎执行。\n",
    "\n",
    "生活中处处都是正则，比如我们描述一个四条腿的东西，你可能会想到的是四条腿的动物或者桌子，椅子等，如果我在继续添加限制继续描述：四条腿的活的东西，就只剩下四条腿的动物这一类了，如果我再添加限制，四条腿的活的喜欢拆家，那估计这个东西是什么就会非常明确了。"
   ]
  },
  {
   "cell_type": "code",
   "execution_count": 2,
   "metadata": {},
   "outputs": [
    {
     "name": "stdout",
     "output_type": "stream",
     "text": [
      "['a', 'b', '1', '2', '_']\n",
      "[' ', '\\\\', '+', '-', ' ', '*', '&']\n",
      "[' ', '\\r', '\\n', '\\t', ' ']\n",
      "['a', 'b', '1', '2', '\\\\', '+', '-', '*', '&', '_']\n",
      "['1', '2']\n",
      "['a', 'b', ' ', '\\r', '\\n', '\\t', '\\\\', '+', '-', ' ', '*', '&', '_']\n",
      "['s_nb', 'y_nb', 'n_nb']\n"
     ]
    }
   ],
   "source": [
    "import re\n",
    "\n",
    "# 基本使用\n",
    "print(re.findall('\\w', 'ab 12\\+- *&_'))  # 匹配字母数字和下划线\n",
    "print(re.findall('\\W', 'ab 12\\+- *&_'))  # 匹配非字母数字下划线\n",
    "print(re.findall('\\s', 'ab \\r1\\n2\\t\\+- *&_'))  # 匹配任意空白字符\n",
    "print(re.findall('\\S', 'ab \\r1\\n2\\t\\+- *&_'))  # 匹配任意非空字符\n",
    "print(re.findall('\\d', 'ab \\r1\\n2\\t\\+- *&_'))  # 匹配任意数字\n",
    "print(re.findall('\\D', 'ab \\r1\\n2\\t\\+- *&_'))  # 匹配任意非数字\n",
    "print(re.findall('\\w_nb', 'albert james_nb123123curry_nb,harden_nb'))\n",
    "\n"
   ]
  },
  {
   "cell_type": "code",
   "execution_count": 3,
   "metadata": {},
   "outputs": [
    {
     "name": "stdout",
     "output_type": "stream",
     "text": [
      "[]\n",
      "['albert']\n",
      "['albert']\n",
      "['nba']\n",
      "['albert']\n",
      "['a\\nc']\n"
     ]
    }
   ],
   "source": [
    "print(re.findall('\\Aalbert', 'abcalbertx is nb'))  # 匹配不到\n",
    "print(re.findall('\\Aalbert', 'albert is nb'))  # 匹配字符串开始\n",
    "print(re.findall('^albert', 'albert is nalbertb'))  # 匹配albert开头的字符串\n",
    "print(re.findall('nba$', 'albertnba is super nba alertanba'))  # 匹配nba结尾\n",
    "print(re.findall('^albert$', 'albert'))  # 以albert并以albert结尾\n",
    "print(re.findall('a\\nc', 'a\\nc a\\tc a1c'))  # 匹配一个换行符\n"
   ]
  },
  {
   "cell_type": "code",
   "execution_count": 29,
   "metadata": {},
   "outputs": [
    {
     "name": "stdout",
     "output_type": "stream",
     "text": [
      "['abc', 'a1c', 'aAc', 'aac']\n",
      "['abc', 'a1c', 'aAc', 'aac', 'a\\nc']\n"
     ]
    }
   ],
   "source": [
    "\n",
    "# 重复匹配：\n",
    "# .   ?   *   +  {m,n}  .*  .*?\n",
    "# 1 .:代表除了换行符外的任意一个字符\n",
    "print(re.findall('a.c', 'abc a1c aAc aaaaaca\\nc'))\n",
    "print(re.findall('a.c', 'abc a1c aAc aaaaaca\\nc', re.DOTALL))\n",
    "\n"
   ]
  },
  {
   "cell_type": "code",
   "execution_count": 31,
   "metadata": {},
   "outputs": [
    {
     "name": "stdout",
     "output_type": "stream",
     "text": [
      "['a', 'ab', 'ab', 'ab', 'ab', 'ab']\n",
      "['a', 'ab', 'abb', 'abbb', 'abbbb', 'abbbb', 'a']\n",
      "['ab', 'abb', 'abbb', 'abbbb', 'abbbb']\n"
     ]
    }
   ],
   "source": [
    "# 2 ？：代表左边那一个字符重复0次或1次\n",
    "print(re.findall('ab?','a ab abb abbb abbbb abbbb'))\n",
    "\n",
    "# 3 *：代表左边那一个字符出现0次或无穷次\n",
    "print(re.findall('ab*', 'a ab abb abbb abbbb abbbb a1bbbbbbb'))\n",
    "\n",
    "# 4 + ：代表左边那一个字符出现1次或无穷次\n",
    "print(re.findall('ab+', 'a ab abb abbb abbbb abbbb a1bbbbbbb'))\n",
    "\n"
   ]
  },
  {
   "cell_type": "code",
   "execution_count": 32,
   "metadata": {},
   "outputs": [
    {
     "name": "stdout",
     "output_type": "stream",
     "text": [
      "['a', 'ab', 'ab', 'ab', 'ab', 'ab']\n",
      "['a', 'ab', 'ab', 'ab', 'ab', 'ab']\n",
      "['a', 'ab', 'abb', 'abbb', 'abbbb', 'abbbb', 'a']\n",
      "['a', 'ab', 'abb', 'abbb', 'abbbb', 'abbbb', 'a']\n",
      "['ab', 'abb', 'abbb', 'abbbb', 'abbbb']\n",
      "['ab', 'abb', 'abbb', 'abbbb', 'abbbb']\n",
      "['ab', 'abb', 'abbb', 'abbb', 'abbb']\n",
      "['ac a123c aaaac a *123)()c']\n",
      "['a123c']\n",
      "[]\n",
      "['albert']\n",
      "albert\n",
      "None\n"
     ]
    }
   ],
   "source": [
    "# 5、{m,n}:代表左边那一个字符出现m次到n次\n",
    "print(re.findall('ab?', 'a ab abb abbb abbbb abbbb'))\n",
    "print(re.findall('ab{0,1}', 'a ab abb abbb abbbb abbbb'))\n",
    "print(re.findall('ab*', 'a ab abb abbb abbbb abbbb a1bbbbbbb'))\n",
    "print(re.findall('ab{0,}', 'a ab abb abbb abbbb abbbb a1bbbbbbb'))\n",
    "print(re.findall('ab+', 'a ab abb abbb abbbb abbbb a1bbbbbbb'))\n",
    "print(re.findall('ab{1,}', 'a ab abb abbb abbbb abbbb a1bbbbbbb'))\n",
    "print(re.findall('ab{1,3}', 'a ab abb abbb abbbb abbbb a1bbbbbbb'))\n",
    "\n",
    "# 6 贪婪匹配：.*：匹配任意长度，任意的字符\n",
    "print(re.findall('a.*c', 'ac a123c aaaac a *123)()c asdfasfdsadf'))\n",
    "\n",
    "# 7 非贪婪匹配：.*？\n",
    "print(re.findall('a.*?c', 'a123c456c'))\n",
    "\n",
    "\n",
    "# 8 其他方法：\n",
    "print(re.findall('\\Aalbert', '123albert say........'))\n",
    "print(re.findall('^albert', 'albert say........'))\n",
    "print(re.search('albert', '123albert say........').group())  # 整个字符串中查找\n",
    "print(re.match('albert', '123albert say........'))  # 从开头找"
   ]
  },
  {
   "cell_type": "markdown",
   "metadata": {},
   "source": [
    "## 9. hashlib模块\n",
    "哈希是一种算法，该算法接受传入的内容，经过运算得到一串hash值。hash值的特点有三个：\n",
    "\n",
    "只要传入的内容一样，得到的hash值必然一样=====>文件完整性校验\n",
    "不能由hash值返解成内容，把密码做成hash值，不应该在网络传输明文密码\n",
    "只要使用的hash算法不变，无论校验的内容有多大，得到的hash值长度是固定的"
   ]
  },
  {
   "cell_type": "code",
   "execution_count": 34,
   "metadata": {},
   "outputs": [
    {
     "name": "stdout",
     "output_type": "stream",
     "text": [
      "字符串md5值： 9b904c5a3b6b865bf0ac9413887c375b\n",
      "密码md5值： ac5d5a21cac5ca06247e13969f18bc31\n"
     ]
    }
   ],
   "source": [
    "import hashlib\n",
    "\n",
    "# 1 字符串加密\n",
    "m = hashlib.md5()  # md5是加密算法的一种\n",
    "# m = hashlib.sha256()\n",
    "# m = hashlib.sha512()\n",
    "m.update('hello'.encode('utf-8'))\n",
    "m.update('world'.encode('utf-8'))\n",
    "m.update('Albert'.encode('utf-8'))\n",
    "print('字符串md5值：', m.hexdigest())  # 9b904c5a3b6b865bf0ac9413887c375b\n",
    "\n",
    "# 2 文件md5值效验\n",
    "# m = hashlib.md5()\n",
    "# with open(r'/Users/albert/Desktop/函数/05模块对象.py', 'rb') as f:\n",
    "#     for line in f:\n",
    "#         m.update(line)\n",
    "#     file_md5 = m.hexdigest()\n",
    "# print('文件md5值：', file_md5)\n",
    "\n",
    "# 3 密码加盐\n",
    "import hashlib\n",
    "\n",
    "pwd = 'albert123'\n",
    "\n",
    "m = hashlib.md5()\n",
    "m.update('天王盖地虎'.encode('utf-8'))\n",
    "m.update(pwd.encode('utf-8'))\n",
    "m.update('宝塔炖蘑菇'.encode('utf-8'))\n",
    "print('密码md5值：', m.hexdigest())"
   ]
  },
  {
   "cell_type": "code",
   "execution_count": 5,
   "metadata": {},
   "outputs": [
    {
     "name": "stdout",
     "output_type": "stream",
     "text": [
      "albert male 18 3000\n",
      "james male 38 30000\n",
      "林志玲 female 28 20000\n",
      "新垣结衣 female 28 10000\n"
     ]
    }
   ],
   "source": [
    "with open('a.txt', 'r', encoding='utf-8') as f:\n",
    "    data = f.read()\n",
    "    print(data)"
   ]
  },
  {
   "cell_type": "code",
   "execution_count": 6,
   "metadata": {},
   "outputs": [
    {
     "data": {
      "text/plain": [
       "['albert male 18 3000',\n",
       " 'james male 38 30000',\n",
       " '林志玲 female 28 20000',\n",
       " '新垣结衣 female 28 10000']"
      ]
     },
     "execution_count": 6,
     "metadata": {},
     "output_type": "execute_result"
    }
   ],
   "source": [
    "for i in data:\n",
    "    info=data.split('\\n')\n",
    "info\n"
   ]
  },
  {
   "cell_type": "code",
   "execution_count": 7,
   "metadata": {},
   "outputs": [
    {
     "data": {
      "text/plain": [
       "[['albert', 'male', '18', '3000'],\n",
       " ['james', 'male', '38', '30000'],\n",
       " ['林志玲', 'female', '28', '20000'],\n",
       " ['新垣结衣', 'female', '28', '10000']]"
      ]
     },
     "execution_count": 7,
     "metadata": {},
     "output_type": "execute_result"
    }
   ],
   "source": [
    "datas=[]\n",
    "for line in info:\n",
    "    datas.append(line.split(' '))\n",
    "datas"
   ]
  },
  {
   "cell_type": "code",
   "execution_count": 8,
   "metadata": {},
   "outputs": [
    {
     "data": {
      "text/plain": [
       "[{'name': 'albert', 'gender': 'male', 'age': 18, 'salary': '3000'},\n",
       " {'name': 'james', 'gender': 'male', 'age': 38, 'salary': '30000'},\n",
       " {'name': '林志玲', 'gender': 'female', 'age': 28, 'salary': '20000'},\n",
       " {'name': '新垣结衣', 'gender': 'female', 'age': 28, 'salary': '10000'}]"
      ]
     },
     "execution_count": 8,
     "metadata": {},
     "output_type": "execute_result"
    }
   ],
   "source": [
    "with open('a.txt', 'r', encoding='utf-8') as f:\n",
    "    info=[{\n",
    "        'name': line.split()[0],\n",
    "        'gender':line.split()[1],\n",
    "        'age':int(line.split()[2]),\n",
    "        'salary':line.split()[3]\n",
    "    } for line in f]\n",
    "info"
   ]
  },
  {
   "cell_type": "code",
   "execution_count": 9,
   "metadata": {},
   "outputs": [
    {
     "data": {
      "text/plain": [
       "{'name': 'james', 'gender': 'male', 'age': 38, 'salary': '30000'}"
      ]
     },
     "execution_count": 9,
     "metadata": {},
     "output_type": "execute_result"
    }
   ],
   "source": [
    "# 取出薪资最高的人信息:\n",
    "max(info,key=lambda dic:dic['salary'])"
   ]
  },
  {
   "cell_type": "code",
   "execution_count": 10,
   "metadata": {},
   "outputs": [
    {
     "data": {
      "text/plain": [
       "{'name': 'albert', 'gender': 'male', 'age': 18, 'salary': '3000'}"
      ]
     },
     "execution_count": 10,
     "metadata": {},
     "output_type": "execute_result"
    }
   ],
   "source": [
    "# 年龄最小的信息\n",
    "\n",
    "min(info,key=lambda dic:dic['age'])"
   ]
  },
  {
   "cell_type": "code",
   "execution_count": 15,
   "metadata": {},
   "outputs": [
    {
     "data": {
      "text/plain": [
       "[{'name': 'Albert', 'gender': 'male', 'age': 18, 'salary': '3000'},\n",
       " {'name': 'James', 'gender': 'male', 'age': 38, 'salary': '30000'},\n",
       " {'name': '林志玲', 'gender': 'female', 'age': 28, 'salary': '20000'},\n",
       " {'name': '新垣结衣', 'gender': 'female', 'age': 28, 'salary': '10000'}]"
      ]
     },
     "execution_count": 15,
     "metadata": {},
     "output_type": "execute_result"
    }
   ],
   "source": [
    "# 根据题目1得到的列表,将每个人的信息中的名字映射成首字母大写的形式\n",
    "info_new=map(lambda item: {\n",
    "    'name':item['name'].capitalize(),\n",
    "    'gender':item['gender'],\n",
    "    'age':item['age'],\n",
    "    'salary':item['salary'],},info)\n",
    "list(info_new)"
   ]
  },
  {
   "cell_type": "code",
   "execution_count": 29,
   "metadata": {},
   "outputs": [
    {
     "data": {
      "text/plain": [
       "[{'name': 'james', 'gender': 'male', 'age': 38, 'salary': '30000'},\n",
       " {'name': '林志玲', 'gender': 'female', 'age': 28, 'salary': '20000'},\n",
       " {'name': '新垣结衣', 'gender': 'female', 'age': 28, 'salary': '10000'}]"
      ]
     },
     "execution_count": 29,
     "metadata": {},
     "output_type": "execute_result"
    }
   ],
   "source": [
    "# # 根据1得到的列表,过滤掉名字以a开头的人的信filter() 函数用于过滤序列，过滤掉不符合条件的元素，\n",
    "# 返回一个迭代器对象，如果要转换为列表，可以使用 list() 来转换。\n",
    "\n",
    "# 该接收两个参数，第一个为函数，第二个为序列，序列的每个元素作为参数传递给函数进行判，\n",
    "# 然后返回 True 或 False，最后将返回 True 的元素放到新列表中。\n",
    "\n",
    "g=filter(lambda item:not item['name'].startswith('a'),info)\n",
    "\n",
    "list(g)\n",
    "\n"
   ]
  },
  {
   "cell_type": "code",
   "execution_count": 36,
   "metadata": {},
   "outputs": [
    {
     "name": "stdout",
     "output_type": "stream",
     "text": [
      "0 1 1 2 3 5 8 "
     ]
    },
    {
     "data": {
      "text/plain": [
       "(13, 21)"
      ]
     },
     "execution_count": 36,
     "metadata": {},
     "output_type": "execute_result"
    }
   ],
   "source": [
    "# 使用递归打印斐波那契数列(前两个数的和得到第三个数，如：0 1 1 2 3 4 7...)\n",
    "\n",
    "# 非递归\n",
    "\n",
    "def lib(n):\n",
    "    a,b=0,1\n",
    "    while a<n:\n",
    "        print(a, end=' ')\n",
    "        a,b=b,a+b\n",
    "       \n",
    "    return a,b\n",
    "lib(10)"
   ]
  },
  {
   "cell_type": "code",
   "execution_count": 38,
   "metadata": {},
   "outputs": [
    {
     "name": "stdout",
     "output_type": "stream",
     "text": [
      "0 1 1 2 3 5 8 "
     ]
    },
    {
     "data": {
      "text/plain": [
       "(13, 21)"
      ]
     },
     "execution_count": 38,
     "metadata": {},
     "output_type": "execute_result"
    }
   ],
   "source": [
    "# 递归\n",
    "def lib2(a,b,stop):\n",
    "    if a>stop:\n",
    "        return\n",
    "    print(a, end=' ')\n",
    "    lib2(b,a+b,stop)\n",
    "lib(10)  "
   ]
  },
  {
   "cell_type": "code",
   "execution_count": 42,
   "metadata": {},
   "outputs": [
    {
     "name": "stdout",
     "output_type": "stream",
     "text": [
      "1 2 3 4 5 6 7 8 9 10 11 12 13 14 15 "
     ]
    }
   ],
   "source": [
    "# 一个嵌套很多层的列表，如l=［1,2,[3,[4,5,6,[7,8,[9,10,[11,12,13,[14,15]]]]]]］，用递归取出所有的值\n",
    "l=[1,2,[3,[4,5,6,[7,8,[9,10,[11,12,13,[14,15]]]]]]]\n",
    "def get(seq):\n",
    "    for item in seq:\n",
    "        if type(item) is list :\n",
    "            get(item)\n",
    "        else:\n",
    "            print(item, end=' ')\n",
    "get(l)"
   ]
  }
 ],
 "metadata": {
  "kernelspec": {
   "display_name": "Python 3",
   "language": "python",
   "name": "python3"
  },
  "language_info": {
   "codemirror_mode": {
    "name": "ipython",
    "version": 3
   },
   "file_extension": ".py",
   "mimetype": "text/x-python",
   "name": "python",
   "nbconvert_exporter": "python",
   "pygments_lexer": "ipython3",
   "version": "3.7.3"
  }
 },
 "nbformat": 4,
 "nbformat_minor": 2
}
