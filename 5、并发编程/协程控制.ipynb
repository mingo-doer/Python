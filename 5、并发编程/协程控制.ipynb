{
 "cells": [
  {
   "cell_type": "markdown",
   "metadata": {},
   "source": [
    "任务名称：协程控制任务简介：\n",
    "1.    深入理解协程的理论\n",
    "2.    掌握查看源码的方式\n",
    "3.    熟练掌握gevent模块的用法 \n",
    "社群话题：Python能够提升执行效率的协程是怎么样实现的 说明：           我们之前分别写过百度和腾讯的产品的简易版，而阿里作为三巨头的老大显然也不能错过，阿里比较有特点产品之一就是双十一淘宝天猫的高并发量，从2009年开始提出双十一的概念，最初的前几年为了实现大数据量的处理，一方面由阿里云CTO王坚带领团队研究云计算架构，另一面淘宝团队就在研究Nginx，力求把它的并发量发挥到极致，现在我们就来自己写一个吧。\n",
    "\n",
    "完成以下练习（上传代码链接）：      用尽毕生所学写一个自己Nginx，我们只需要写TCP协议的套接字服务端，客户端发送任何数据给服务端，服务端只需要回一个“Hello World”+ 客户端编号就可以了，\n",
    "比如：“Hello World1”,”Hello World2”就可以了，越快越好，要求如下：    \n",
    "1 首先确保数据安全，不论并发还是并行，回的内容不能出现重复的数字    \n",
    "2 能够从一定程度上抵御 SYN洪水攻击      \n",
    "3 使用池的概念，在机器硬件承受范围内自己加以控制      \n",
    "4 程序不能出现明显的阻塞        \n",
    "5 进程，线程，协程综合使用，至少能处理每秒百万的并发量\n"
   ]
  },
  {
   "cell_type": "code",
   "execution_count": null,
   "metadata": {},
   "outputs": [],
   "source": []
  }
 ],
 "metadata": {
  "kernelspec": {
   "display_name": "Python 3",
   "language": "python",
   "name": "python3"
  },
  "language_info": {
   "codemirror_mode": {
    "name": "ipython",
    "version": 3
   },
   "file_extension": ".py",
   "mimetype": "text/x-python",
   "name": "python",
   "nbconvert_exporter": "python",
   "pygments_lexer": "ipython3",
   "version": "3.7.3"
  }
 },
 "nbformat": 4,
 "nbformat_minor": 2
}
