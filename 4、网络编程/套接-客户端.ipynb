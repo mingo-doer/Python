{
 "cells": [
  {
   "cell_type": "code",
   "execution_count": 1,
   "metadata": {},
   "outputs": [
    {
     "name": "stdout",
     "output_type": "stream",
     "text": [
      "你好Albert\n"
     ]
    }
   ],
   "source": [
    "import socket\n",
    "phone = socket.socket(socket.AF_INET, socket.SOCK_STREAM)  # 买电话\n",
    "phone.connect(('127.0.0.1', 8084))  # 拨电话，地址为服务端的ip和端口\n",
    "phone.send('你好'.encode('utf-8'))  # 发消息b'你好'\n",
    "data = phone.recv(1024)  # 收消息\n",
    "print(data.decode('utf-8'))\n",
    "phone.close()"
   ]
  },
  {
   "cell_type": "code",
   "execution_count": null,
   "metadata": {},
   "outputs": [
    {
     "name": "stdout",
     "output_type": "stream",
     "text": [
      "请输入你的名字>>:dmm\n",
      "dmmSB\n"
     ]
    }
   ],
   "source": [
    "import socket\n",
    "phone = socket.socket(socket.AF_INET, socket.SOCK_STREAM)\n",
    "phone.connect(('127.0.0.1', 8082))\n",
    "while True:\n",
    "    msg = input('请输入你的名字>>:').strip()\n",
    "    if msg in ['albert', 'Albert', 'mayite', '马一特']:\n",
    "        msg = '机器禁止发送，请重新输入'\n",
    "        print(msg)\n",
    "        continue\n",
    "    phone.send(msg.encode('utf-8'))\n",
    "    data = phone.recv(1024)\n",
    "    print(data.decode('utf-8'))\n",
    "phone.close()"
   ]
  },
  {
   "cell_type": "code",
   "execution_count": 3,
   "metadata": {},
   "outputs": [
    {
     "name": "stdout",
     "output_type": "stream",
     "text": [
      "请输入你的名字>>:dmm\n",
      "dmmSB\n",
      "请输入你的名字>>:albert\n",
      "机器禁止发送，请重新输入\n"
     ]
    }
   ],
   "source": [
    "#客户端代码\n",
    "\n",
    "import socket\n",
    "phone = socket.socket(socket.AF_INET, socket.SOCK_STREAM)\n",
    "phone.connect(('127.0.0.1', 8083))\n",
    "while True:\n",
    "    msg = input('请输入你的名字>>:').strip()\n",
    "    if msg in ['albert', 'Albert', 'mayite', '马一特']:\n",
    "        msg = '机器禁止发送，请重新输入'\n",
    "        print(msg)\n",
    "        break\n",
    "    phone.send(msg.encode('utf-8'))\n",
    "    data = phone.recv(1024)\n",
    "    print(data.decode('utf-8'))\n",
    "phone.close()"
   ]
  },
  {
   "cell_type": "code",
   "execution_count": null,
   "metadata": {},
   "outputs": [
    {
     "name": "stdout",
     "output_type": "stream",
     "text": [
      ">>>: ..\n",
      "..SB\n"
     ]
    }
   ],
   "source": [
    "import socket\n",
    "phone = socket.socket(socket.AF_INET, socket.SOCK_STREAM)\n",
    "phone.connect(('127.0.0.1', 8081))\n",
    "while True:\n",
    "    msg = input('>>>: ').strip()\n",
    "    if msg in ['albert', 'Albert', 'mayite', '马一特']:\n",
    "        msg = '机器禁止发送，请重新输入'\n",
    "        print(msg)\n",
    "        continue\n",
    "    phone.send(msg.encode('utf-8'))\n",
    "    data = phone.recv(1024)\n",
    "    print(data.decode('utf-8'))\n",
    "phone.close()"
   ]
  },
  {
   "cell_type": "code",
   "execution_count": null,
   "metadata": {},
   "outputs": [
    {
     "name": "stdout",
     "output_type": "stream",
     "text": [
      "输入用户名abc\n",
      "输入密码123\n",
      "success\n",
      "success\n"
     ]
    }
   ],
   "source": [
    "# -*- coding: utf-8 -*-\n",
    "#远程执行命令\n",
    "import socket\n",
    "phone=socket.socket(socket.AF_INET,socket.SOCK_STREAM)\n",
    "phone.connect(('127.0.0.1',8086))\n",
    "while True:\n",
    "    name=input('输入用户名').strip()\n",
    "    pwd=input('输入密码').strip()\n",
    "    \n",
    "    if name=='abc' and pwd=='123':\n",
    "        msg='success'\n",
    "        print(msg)\n",
    "    else:\n",
    "        msg='fail'\n",
    "        print(msg)\n",
    "        continue\n",
    "    phone.send(msg.encode('utf-8'))\n",
    "    data=phone.recv(1024)\n",
    "    print(data.decode('utf-8'))\n",
    "phone.close()"
   ]
  },
  {
   "cell_type": "code",
   "execution_count": null,
   "metadata": {},
   "outputs": [
    {
     "name": "stdout",
     "output_type": "stream",
     "text": [
      ">>dir /?\n",
      "显示目录中的文件和子目录列表。\n",
      "\n",
      "DIR [drive:][path][filename] [/A[[:]attributes]] [/B] [/C] [/D] [/L] [/N]\n",
      "  [/O[[:]sortorder]] [/P] [/Q] [/R] [/S] [/T[[:]timefield]] [/W] [/X] [/4]\n",
      "\n",
      "  [drive:][path][filename]\n",
      "              指定要列出的驱动器、目录和/或文件。\n",
      "\n",
      "  /A          显示具有指定属性的文件。\n",
      "  属性         D  目录                R  只读文件\n",
      "               H  隐藏文件            A  准备存档的文件\n",
      "               S  系统文件            I  无内容索引文件\n",
      "               L  解析点             -  表示“否”的前缀\n",
      "  /B          使用空格式(没有标题信息或摘要)。\n",
      "  /C          在文件大小中显示千位数分隔符。这是默认值。用 /-C 来\n",
      "              禁用分隔符显示。\n",
      "  /D          跟宽式相同，但文件是按栏分类列出的。\n",
      "  /L          用小写。\n",
      "  /N          新的长列表格式，其中文件名在最右边。\n",
      "  /O          用分类顺序列出文件。\n",
      "  排列顺序     N  按名称(字母顺序)     S  按大小(从小到大)\n",
      "               E  按扩展名(字母顺序)   D  按日期/时间(从先到后)\n",
      "               G  组目录优先           -  反转顺序的前缀\n"
     ]
    }
   ],
   "source": [
    "from socket import *\n",
    "\n",
    "ip_port = ('127.0.0.1', 8087)\n",
    "buf_size = 1024\n",
    "\n",
    "tcp_client = socket(AF_INET, SOCK_STREAM)\n",
    "tcp_client.connect(ip_port)\n",
    "\n",
    "while True:\n",
    "    msg = input('>>').strip()\n",
    "    if not msg: continue\n",
    "    if msg == 'quit': break\n",
    "    tcp_client.send(msg.encode(encoding='utf-8'))\n",
    "    data = tcp_client.recv(buf_size)\n",
    "    print(data.decode(encoding='gbk'))\n",
    "\n",
    "tcp_client.close()\n",
    "\n"
   ]
  },
  {
   "cell_type": "code",
   "execution_count": null,
   "metadata": {},
   "outputs": [
    {
     "name": "stdout",
     "output_type": "stream",
     "text": [
      ">>>: ls\n"
     ]
    }
   ],
   "source": [
    "from socket import *\n",
    "client = socket(AF_INET, SOCK_STREAM)\n",
    "client.connect(('127.0.0.1', 8080))\n",
    "while True:\n",
    "    cmd = input('>>>: ').strip()\n",
    "    if not cmd: continue\n",
    "    client.send(cmd.encode('utf-8'))\n",
    "    res = client.recv(1024)\n",
    "    print(res.decode('gbk'))  # Windows系统为gbk\n",
    "client.close()"
   ]
  },
  {
   "cell_type": "code",
   "execution_count": 6,
   "metadata": {},
   "outputs": [],
   "source": [
    "#不黏包\n",
    "from socket import *\n",
    "import time\n",
    "\n",
    "client = socket(AF_INET, SOCK_STREAM)\n",
    "client.connect(('127.0.0.1', 8080))\n",
    "\n",
    "client.send(b'hello')\n",
    "time.sleep(1)  # 只要睡一秒就好\n",
    "client.send(b'world')\n",
    "\n",
    "client.close()"
   ]
  },
  {
   "cell_type": "code",
   "execution_count": null,
   "metadata": {},
   "outputs": [
    {
     "name": "stdout",
     "output_type": "stream",
     "text": [
      "\n",
      "    1 登录\n",
      "    2 注册\n",
      "    3 聊天\n",
      "    \n",
      "输入你的选择3\n",
      "输入聊天内容（输入q退出）hello\n",
      "输入聊天内容（输入q退出）world\n",
      "输入聊天内容（输入q退出）q\n",
      "\n",
      "    1 登录\n",
      "    2 注册\n",
      "    3 聊天\n",
      "    \n"
     ]
    }
   ],
   "source": [
    "# 模拟qq\n",
    "import socket\n",
    "client=socket.socket(socket.AF_INET,socket.SOCK_DGRAM) # 数据报协议\n",
    "ip='127.0.0.1'\n",
    "port=8080\n",
    "while True:\n",
    "    print('''\n",
    "    1 登录\n",
    "    2 注册\n",
    "    3 聊天\n",
    "    ''')\n",
    "    choice=input('输入你的选择').strip()\n",
    "    if not choice : continue\n",
    "    if choice=='1':\n",
    "        name=input('用户名')\n",
    "        pwd=input('密码')\n",
    "        if name=='admin' and pwd=='123':\n",
    "            msg='success！'\n",
    "            client.sendto(msg,(ip,port))\n",
    "        else:\n",
    "            msg='error!'\n",
    "            client.sendto(msg,(ip,port))\n",
    "    if choice=='2':\n",
    "        name=input('用户名')\n",
    "        pwd=input('密码')\n",
    "        pwd1=input('再次输入密码')\n",
    "        if pwd==pwd1:\n",
    "            msg='success！'\n",
    "            client.sendto(bytes(msg),(ip,port))\n",
    "        else:\n",
    "            msg='error!'\n",
    "            client.sendto(msg,(ip,port))\n",
    "    if choice=='3':\n",
    "        while True:\n",
    "            msg=input('输入聊天内容（输入q退出）')\n",
    "            if msg != 'q':\n",
    "                client.sendto(bytes(msg,encoding='gbk'),(ip,port))\n",
    "            else :\n",
    "                break\n",
    "            \n",
    "            "
   ]
  },
  {
   "cell_type": "code",
   "execution_count": null,
   "metadata": {},
   "outputs": [
    {
     "name": "stdout",
     "output_type": "stream",
     "text": [
      "客户端输入：>>>123\n",
      "来自服务端的时间： b'2019-05-21 16:19:45'\n"
     ]
    }
   ],
   "source": [
    "from socket import *\n",
    "ip_port=('127.0.0.1',8085)\n",
    "buffer_size=1024\n",
    "\n",
    "udp_client=socket(AF_INET,SOCK_DGRAM)\n",
    "while True:\n",
    "    msg = input('客户端输入：>>>').strip()\n",
    "    udp_client.sendto(msg.encode('utf-8'),ip_port) #无面向连接，所以要指定IP_port\n",
    "    data,addr=udp_client.recvfrom(buffer_size)\n",
    "    print('来自服务端的时间：',data)"
   ]
  }
 ],
 "metadata": {
  "kernelspec": {
   "display_name": "Python 3",
   "language": "python",
   "name": "python3"
  },
  "language_info": {
   "codemirror_mode": {
    "name": "ipython",
    "version": 3
   },
   "file_extension": ".py",
   "mimetype": "text/x-python",
   "name": "python",
   "nbconvert_exporter": "python",
   "pygments_lexer": "ipython3",
   "version": "3.7.3"
  }
 },
 "nbformat": 4,
 "nbformat_minor": 2
}
