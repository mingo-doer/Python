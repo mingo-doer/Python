{
 "cells": [
  {
   "cell_type": "markdown",
   "metadata": {},
   "source": [
    "任务名称：套接编程任务简介：\n",
    "1.    了解套接字层的由来\n",
    "2.    理解套接字编程客户端与服务端相互之间的数据传递\n",
    "3.    记住套接字编程客户端和服务端代码怎么写 社群话题：套接字编程的是如何控制计算机建立连接的详细说明：\n",
    "无打卡要求：完成以下练习（第一题可以口述或者发文，第三题上传代码链接地址）：\n",
    "1.    说明套接字层的由来以及它如何控制操作系统进行数据传递的\n",
    "2.    客户端和服务端代码写熟练\n",
    "3.    程序设计基于TCP开发一款远程执行命令的程序，什么是远程执行命令可以参考计算机基础与操作系统（https://www.cnblogs.com/mayite/p/9972720.html）"
   ]
  },
  {
   "cell_type": "markdown",
   "metadata": {},
   "source": [
    "# 一 套接字层介绍\n",
    "## 1. 套接字层的由来\n",
    "通过前面章节的学习，你明白了计算机网络，计算机硬件和写软件怎么写，那么接下里我们就会使用所学过的东西来写一个客户端与服务端软件。按照网络协议把数据组织好，再沿着网络协议发送出去，送给对方之后在按照网络协议把数据解包，这样就会到达了对方的软件。\n",
    "![avatar](https://cdn.nlark.com/yuque/0/2019/png/281865/1554572834413-deefd5b5-fd3b-4417-ab9c-0cf4fd2facfc.png#align=left&display=inline&height=448&originHeight=448&originWidth=592&size=0&status=done&width=592)\n",
    "以后我们的工作在应用层，应用层产生数据交给下面的传输层去负责传输 ，你需要控制你的操作系统与目标主机建立三次握手和四次挥手，还需要控制操作系统把数据的格式封装好，先封装传输层的head，再封装网络层的head，再封装数据链路层的head，再转成二进制调网卡发送数据。如果按照这种方式写程序，你写一个TCP通信可能就要半年，软件核心逻辑还没写好，你就被开除了，紧接着你们公司就倒闭了。我们在文件操作那一章节操作硬盘的时候是用的open，并没有直接操作硬件，open本身就是硬盘高度封装的给我们使用的结果，这就像是一个接口，我们可以直接使用。同理， 我们可以使用别人写好的代码来完成这个通信的过程，在IT届有一个说法是避免重复造轮子，我们可以使用别人已经造好的轮子，但是要想称为真正的高手造轮子就是你的必经之路。这套课程，我们不教造轮子。\n",
    "如果我们要基于网络通信写程序，要弄明白TCP/UDP协议，ip协议和以太网协议，那就真的要把每一层的协议都研究明白， 并不能说研究不明白，TCP/IP协议你研究一两年都不敢说自己精通，TCP协议自从网络开始就一直存在，这个协议非常古老，非常重要，重要到就像阳光和雨露一样，大家有时候甚至都可以把它忽略，在这样的前提下，创新的可能性非常低，你学习了当然有好处，但是没有必要详细的去了解。所以，对于软件开发来说，最好就是只负责处理应用层，传输层和传输层以下最好是封装好，只要了解工作原理就好了。\n",
    "\n",
    "## 2. 套接字层\n",
    "Socket层就是套接字层，套接字层在应用层和传输层之间，它的作用就是把传输层和传输层以下的协议都封装好， 所以以后写程序我们把应用层软件写好了之后，只要遵循套接字层的标准写出来的程序自然就是遵循TCP/UDP和ip协议和以太网协议的标准的。那套接字协议的标准是什么标准呢？非常简单，只需要记住几个接口就可以了。\n",
    "![avatar](https://cdn.nlark.com/yuque/0/2019/png/281865/1554572834475-13f6d105-2b8b-4b8d-9748-bf43a9d245f9.png#align=left&display=inline&height=374&originHeight=374&originWidth=425&size=0&status=done&width=425)\n",
    "## 3. Socket层介绍\n",
    "Socket是应用层与TCP/IP协议族通信的中间的软件抽象层，它是一组接口。在设计模式中，Socket其实就是一个门面模式，他把复杂的TCP/IP协议隐藏在接口后面，对于用户来说，一组简单的接口就是全部，让Socket去组织数据，以符合指定的协议。\n",
    "\n",
    "利用套接字写出来的程序是希望能在客户端和服务端之间实现通信，\n",
    "客户端和服务端的通信必不可少的就是ip和端口，\n",
    "所以，一提到套接字，有人会说就是一堆ip和端口，\n",
    "指的是套接字的工作原理，客户端和服务端都要有一个对应的ip和端口\n",
    "套接字起源于 20 世纪 70 年代加利福尼亚大学伯克利分校版本的 Unix,即人们所说的 BSD Unix。 因此,有时人们也把套接字称为“伯克利套接字”或“BSD 套接字”。一开始,套接字被设计用在同 一台主机上多个应用程序之间的通讯。这也被称进程间通讯,或 IPC。套接字有两种（或者称为有两个种族）,分别是基于文件型的和基于网络型的。 \n",
    "\n",
    " **基于文件类型的套接字家族套接字家族的名字：**\n",
    "AF_UNIXunix一切皆文件，基于文件的套接字调用的就是底层的文件系统来取数据，两个套接字进程运行在同一机器，可以通过访问同一个文件系统间接完成通信\n",
    "\n",
    " **基于网络类型的套接字家族套接字家族的名字：**\n",
    "AF_INET(还有AF_INET6被用于ipv6，还有一些其他的地址家族，不过，他们要么是只用于某个平台，要么就是已经被废弃，或者是很少被使用，或者是根本没有实现，所有地址家族中，AF_INET是使用最广泛的一个，Python支持很多种地址家族，但是由于我们只关心网络编程，所以大部分时候我们只使用AF_INET)\n",
    "\n",
    "## 4. Socket工作流程\n",
    "这是一个基于TCP通信的客户端和服务端，我们先来看服务端，以前学过面向对象，socket其实就是一个类，加括号调用这个类，就是实例化产生一个套接字对象。接下来是绑定，客户端和服务端都有ip和端口，对于服务端来说是提供服务的，那么就必须要有一个固定的地址，所以服务端的ip和端口需要与服务端机器绑定，这也就是宣告了我的服务端机器在这里，你们所有的客户端机器就来向我这个地址发送请求就可以了。下一步是监听，也就是服务端需要监听客户端发过来的syn请求，再往下面是accept，也就是接收客户端的连接。当客户端发送过来一个connect，正好对应服务端的accept。\n",
    "![avatar](https://cdn.nlark.com/yuque/0/2019/png/281865/1554572834406-57f3644a-ae58-40e1-b334-c522e51cbd86.png#align=left&display=inline&height=519&originHeight=519&originWidth=500&size=0&status=done&width=500)\n",
    "基于TCP协议的数据通信需要通过三次握手建立连接，有了套接字之后非常简单，你只需要记住客户端的connect和服务端的accept，他们在底层就是客户端与服务端三次握手建立连接。建立好了双向连接之后，客户端与服务端就开始通信了，客户端可以发送数据给服务端，服务端也可以发送数据给客户端，这就是一个通信循环，完了之后客户端可以关连接，服务端也可以关连接。\n",
    "\n",
    "# 二 套接字编程\n",
    "## 1. Socket编程\n",
    "基于套接字来写程序，以后必须要有一个服务端和一个客户端，接下来我们分别用代码来实现服务端和客户端。\n",
    "一个生活中的场景，我们打电话的过程，要先有一个电话，然后是插卡，最后是拨号或者是待机等待别人拨号，电话接通后，这时你和你的朋友就建立起了连接，就可以讲话了。等交流结束，挂断电话结束此次交谈。\n",
    "\n",
    "服务端代码:"
   ]
  },
  {
   "cell_type": "code",
   "execution_count": 1,
   "metadata": {},
   "outputs": [
    {
     "name": "stdout",
     "output_type": "stream",
     "text": [
      "start...\n",
      "连接来了： <socket.socket fd=852, family=AddressFamily.AF_INET, type=SocketKind.SOCK_STREAM, proto=0, laddr=('127.0.0.1', 8084), raddr=('127.0.0.1', 4710)> ('127.0.0.1', 4710)\n",
      "客户端的消息:  b'\\xe4\\xbd\\xa0\\xe5\\xa5\\xbd'\n"
     ]
    }
   ],
   "source": [
    "import socket\n",
    "phone = socket.socket(socket.AF_INET, socket.SOCK_STREAM)  # 买电话\n",
    "phone.bind(('127.0.0.1', 8084))  # 插手机卡，补充：0-65535 0-1024给系统用的\n",
    "phone.listen(5)  # 进入待机状态，5指的是挂起连接数，就是backlog，指的是同一时间可以来五个请求\n",
    "print('start...')\n",
    "conn, client_address = phone.accept()  # 等电话连接\n",
    "print('连接来了：', conn, client_address)\n",
    "# 收发消息\n",
    "msg = conn.recv(1024)  # 收消息，1024个字节（bytes）是一个最大的限制\n",
    "print('客户端的消息: ', msg)\n",
    "conn.send(msg + b'Albert')\n",
    "# 挂电话，回收系统资源\n",
    "conn.close()\n",
    "# 关机\n",
    "phone.close()"
   ]
  },
  {
   "cell_type": "code",
   "execution_count": null,
   "metadata": {},
   "outputs": [],
   "source": [
    "import socket\n",
    "phone = socket.socket(socket.AF_INET, socket.SOCK_STREAM)  # 买电话\n",
    "phone.connect(('127.0.0.1', 8084))  # 拨电话，地址为服务端的ip和端口\n",
    "phone.send('你好'.encode('utf-8'))  # 发消息b'你好'\n",
    "data = phone.recv(1024)  # 收消息\n",
    "print(data.decode('utf-8'))\n",
    "phone.close()"
   ]
  },
  {
   "cell_type": "markdown",
   "metadata": {},
   "source": [
    "对于客户端来说，ip和端口不是需要固定的，所以并不需要绑定，只需要知道目标主机的ip和端口，直接拨号连接就好了\n",
    "需要注意的是当服务端关掉再重启之后，我们写的程序会给操作系统发一个指令：清理刚才建立连接的资源，与机器的硬件配置相关，可能有的机器不会立即清理掉，就会提示端口被占用， 这时候换一个端口就可以了。\n",
    "\n",
    "## 2. 通信循环\n",
    "试想一个场景，半夜十二点，我半夜十二点给一个朋友打电话，我说了一个“你好”，他回了一个“你好，Albert”，然后两个人把电话就挂掉了，如果是这样，这两人肯定有毛病。\n",
    "计算机通信的过程和打电话类似，肯定不能是发一个消息就结束了，应该可以不断多次的发消息和收消息，这就是通信循环。\n",
    "服务端代码"
   ]
  },
  {
   "cell_type": "code",
   "execution_count": 2,
   "metadata": {},
   "outputs": [
    {
     "name": "stdout",
     "output_type": "stream",
     "text": [
      "start...\n",
      "连接来了： <socket.socket fd=852, family=AddressFamily.AF_INET, type=SocketKind.SOCK_STREAM, proto=0, laddr=('127.0.0.1', 8082), raddr=('127.0.0.1', 4733)> ('127.0.0.1', 4733)\n",
      "客户端的消息:  b'dmm'\n"
     ]
    },
    {
     "ename": "ConnectionResetError",
     "evalue": "[WinError 10054] 远程主机强迫关闭了一个现有的连接。",
     "output_type": "error",
     "traceback": [
      "\u001b[1;31m---------------------------------------------------------------------------\u001b[0m",
      "\u001b[1;31mConnectionResetError\u001b[0m                      Traceback (most recent call last)",
      "\u001b[1;32m<ipython-input-2-16c134546f54>\u001b[0m in \u001b[0;36m<module>\u001b[1;34m\u001b[0m\n\u001b[0;32m      7\u001b[0m \u001b[0mprint\u001b[0m\u001b[1;33m(\u001b[0m\u001b[1;34m'连接来了：'\u001b[0m\u001b[1;33m,\u001b[0m \u001b[0mconn\u001b[0m\u001b[1;33m,\u001b[0m \u001b[0mclient_address\u001b[0m\u001b[1;33m)\u001b[0m\u001b[1;33m\u001b[0m\u001b[1;33m\u001b[0m\u001b[0m\n\u001b[0;32m      8\u001b[0m \u001b[1;32mwhile\u001b[0m \u001b[1;32mTrue\u001b[0m\u001b[1;33m:\u001b[0m\u001b[1;33m\u001b[0m\u001b[1;33m\u001b[0m\u001b[0m\n\u001b[1;32m----> 9\u001b[1;33m     \u001b[0mmsg\u001b[0m \u001b[1;33m=\u001b[0m \u001b[0mconn\u001b[0m\u001b[1;33m.\u001b[0m\u001b[0mrecv\u001b[0m\u001b[1;33m(\u001b[0m\u001b[1;36m1024\u001b[0m\u001b[1;33m)\u001b[0m\u001b[1;33m\u001b[0m\u001b[1;33m\u001b[0m\u001b[0m\n\u001b[0m\u001b[0;32m     10\u001b[0m     \u001b[0mprint\u001b[0m\u001b[1;33m(\u001b[0m\u001b[1;34m'客户端的消息: '\u001b[0m\u001b[1;33m,\u001b[0m \u001b[0mmsg\u001b[0m\u001b[1;33m)\u001b[0m\u001b[1;33m\u001b[0m\u001b[1;33m\u001b[0m\u001b[0m\n\u001b[0;32m     11\u001b[0m     \u001b[0mconn\u001b[0m\u001b[1;33m.\u001b[0m\u001b[0msend\u001b[0m\u001b[1;33m(\u001b[0m\u001b[0mmsg\u001b[0m \u001b[1;33m+\u001b[0m \u001b[1;34mb'SB'\u001b[0m\u001b[1;33m)\u001b[0m\u001b[1;33m\u001b[0m\u001b[1;33m\u001b[0m\u001b[0m\n",
      "\u001b[1;31mConnectionResetError\u001b[0m: [WinError 10054] 远程主机强迫关闭了一个现有的连接。"
     ]
    }
   ],
   "source": [
    "import socket\n",
    "phone = socket.socket(socket.AF_INET, socket.SOCK_STREAM)\n",
    "phone.bind(('127.0.0.1', 8082))\n",
    "phone.listen(5)\n",
    "print('start...')\n",
    "conn, client_address = phone.accept()\n",
    "print('连接来了：', conn, client_address)\n",
    "while True:\n",
    "    msg = conn.recv(1024)\n",
    "    print('客户端的消息: ', msg)\n",
    "    conn.send(msg + b'SB')\n",
    "conn.close()\n",
    "phone.close()"
   ]
  },
  {
   "cell_type": "code",
   "execution_count": null,
   "metadata": {},
   "outputs": [],
   "source": [
    "#客户端代码\n",
    "\n",
    "import socket\n",
    "phone = socket.socket(socket.AF_INET, socket.SOCK_STREAM)\n",
    "phone.connect(('127.0.0.1', 8082))\n",
    "while True:\n",
    "    msg = input('请输入你的名字>>:').strip()\n",
    "    if msg in ['albert', 'Albert', 'mayite', '马一特']:\n",
    "        msg = '机器禁止发送，请重新输入'\n",
    "        print(msg)\n",
    "        continue\n",
    "    phone.send(msg.encode('utf-8'))\n",
    "    data = phone.recv(1024)\n",
    "    print(data.decode('utf-8'))\n",
    "phone.close()"
   ]
  },
  {
   "cell_type": "code",
   "execution_count": null,
   "metadata": {},
   "outputs": [],
   "source": []
  },
  {
   "cell_type": "markdown",
   "metadata": {},
   "source": [
    "现在如果我们客户端单方面关闭程序，对于服务端来说还会等待接收，但是客户端已经跑路了，服务端程序也就崩溃了，如果是这样的话，在淘宝天猫双十一的时候，你把程序突然关掉了，天猫淘宝的程序就瘫痪了，这是我们绝对不允许出现的，那么我们要怎么解决呢？\n",
    "用户关掉客户端这就是一个异常，当出现可以预测的异常的时候，我们可以使用if来进行判断，但是当用户行为无法预测而这个异常又一定会发生的时候，我们使用try来进行异常的捕获。\n",
    "服务端代码"
   ]
  },
  {
   "cell_type": "code",
   "execution_count": null,
   "metadata": {},
   "outputs": [],
   "source": [
    "import socket\n",
    "phone = socket.socket(socket.AF_INET, socket.SOCK_STREAM)\n",
    "phone.bind(('127.0.0.1', 8083))\n",
    "phone.listen(5)\n",
    "print('start...')\n",
    "conn, client_address = phone.accept()\n",
    "print('连接来了：', conn, client_address)\n",
    "while True:\n",
    "    try:\n",
    "        msg = conn.recv(1024)\n",
    "        print('客户端的消息: ', msg)\n",
    "        conn.send(msg + b'SB')\n",
    "    except Exception:\n",
    "        break\n",
    "conn.close()\n",
    "phone.close()"
   ]
  },
  {
   "cell_type": "markdown",
   "metadata": {},
   "source": [
    "## 3. 连接循环\n",
    "基于我们刚才写的通信循环，客户端退出了，服务器虽然没有报错，但是也跟着一块终结，这肯定是不合理的，我们需要的服务器是能够持续不断的为客户端机器提供服务的，某一个客户端退出了，这并不能影响服务端为其他的客户端提供服务，所以，我们还需要再加入一个连接循环。\n",
    "\n",
    "**服务端代码**"
   ]
  },
  {
   "cell_type": "code",
   "execution_count": null,
   "metadata": {},
   "outputs": [
    {
     "name": "stdout",
     "output_type": "stream",
     "text": [
      "start...\n",
      "客户端  ('127.0.0.1', 9797)\n",
      "客户端的消息:  b'success'\n"
     ]
    }
   ],
   "source": [
    "import socket\n",
    "phone = socket.socket(socket.AF_INET, socket.SOCK_STREAM)\n",
    "phone.bind(('127.0.0.1', 8086))\n",
    "phone.listen(5)\n",
    "print('start...')\n",
    "while True:  # 连接循环\n",
    "    conn, client_address = phone.accept()\n",
    "    print('客户端 ', client_address)\n",
    "    while True:  # 通信循环\n",
    "        try:\n",
    "            msg = conn.recv(1024)\n",
    "            print('客户端的消息: ', msg)\n",
    "            conn.send(msg + b'')\n",
    "        except Exception:\n",
    "            break\n",
    "    conn.close()\n",
    "phone.close()"
   ]
  },
  {
   "cell_type": "code",
   "execution_count": null,
   "metadata": {},
   "outputs": [],
   "source": [
    "import socket\n",
    "import subprocess\n",
    "\n",
    "phone = socket.socket(socket.AF_INET, socket.SOCK_STREAM)\n",
    "phone.setsockopt(socket.SOL_SOCKET, socket.SO_REUSEADDR, 1)\n",
    "phone.bind(('127.0.0.1', 8086))\n",
    "\n",
    "phone.listen(5)\n",
    "\n",
    "print('starting...')\n",
    "while 1:\n",
    "\n",
    "    conn, addr = phone.accept()\n",
    "    #print(conn, addr)\n",
    "    while 1:\n",
    "        try:\n",
    "            data = conn.recv(1024)\n",
    "            if not data: break\n",
    "            res = subprocess.Popen(data.decode('utf-8'), shell=True,\n",
    "                                   stdout=subprocess.PIPE,\n",
    "                                   stderr=subprocess.PIPE)\n",
    "\n",
    "            stdout = res.stdout.read()\n",
    "            stderr = res.stderr.read()\n",
    "\n",
    "            conn.send(stdout + stderr)\n",
    "        except Exception as e:\n",
    "            break\n",
    "    conn.close()\n",
    "\n",
    "phone.close()\n"
   ]
  },
  {
   "cell_type": "markdown",
   "metadata": {},
   "source": [
    "服务端代码只需要一份，客户端代码你可以复制7份，先运行服务端，再按照客户端文件顺序依次运行七个客户端代码，你会发现你的服务端机器只能同时服务于一台客户端机器，只有第一台客户端机器关掉之后才能服务于第二胎客户端机器，这就是通信循环。除此之外，你还会发现第七个运行客户端是没有效果的，因为我们服务端最大挂起连接数是5，除了有一个正在服务的，已经挂起了5个连接请求了。\n",
    "\n",
    "上面我们写的程序只能同时服务与一个用户，就像是一个小饭店只有一个服务员，来一个客人就先服务这个客人，后面还有5位客人在排队等着，屋里空间小，外面在下雨，第六个人不会在屋外面排队，只有当这个服务员把第一位客人服务走了之后，后面排队的客人才能坐下点餐吃饭。"
   ]
  },
  {
   "cell_type": "code",
   "execution_count": null,
   "metadata": {},
   "outputs": [
    {
     "name": "stdout",
     "output_type": "stream",
     "text": [
      "starting...\n",
      "b'dir /?'\n",
      "<subprocess.Popen object at 0x0000021FB0F8B630>\n"
     ]
    }
   ],
   "source": [
    "from socket import *\n",
    "import subprocess\n",
    "\n",
    "ip_port = ('127.0.0.1', 8087)\n",
    "back_log = 5\n",
    "buf_size = 1024\n",
    "\n",
    "tcp_server = socket(AF_INET, SOCK_STREAM)\n",
    "tcp_server.bind(ip_port)\n",
    "tcp_server.listen(back_log)\n",
    "print('starting...')\n",
    "while True:\n",
    "    conn, addr = tcp_server.accept()\n",
    "    while True:\n",
    "        # try except在客户端异常退出处理错误，防止服务端异常退出\n",
    "        try:\n",
    "            cmd = conn.recv(buf_size)\n",
    "            print(cmd)\n",
    "            cmd_res = subprocess.Popen(cmd.decode(encoding='utf-8'), shell=True, stdout=subprocess.PIPE, stdin=subprocess.PIPE,\n",
    "                                       stderr=subprocess.PIPE)\n",
    "            print(cmd_res)\n",
    "            # 在客户端主动退出做处理，防止循环recev空\n",
    "            if not cmd: break\n",
    "            if cmd_res.stderr.read():\n",
    "                continue\n",
    "            else:\n",
    "                conn.send(cmd_res.stdout.read())\n",
    "        except Exception as err:\n",
    "            print(err)\n",
    "            break\n",
    "\n",
    "tcp_server.close()\n",
    "\n"
   ]
  }
 ],
 "metadata": {
  "kernelspec": {
   "display_name": "Python 3",
   "language": "python",
   "name": "python3"
  },
  "language_info": {
   "codemirror_mode": {
    "name": "ipython",
    "version": 3
   },
   "file_extension": ".py",
   "mimetype": "text/x-python",
   "name": "python",
   "nbconvert_exporter": "python",
   "pygments_lexer": "ipython3",
   "version": "3.7.3"
  }
 },
 "nbformat": 4,
 "nbformat_minor": 2
}
