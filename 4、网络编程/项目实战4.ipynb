{
 "cells": [
  {
   "cell_type": "markdown",
   "metadata": {},
   "source": [
    "# 第四阶段项目\n",
    "## 共享网盘(SharedNetworkDisk)\n",
    "\n",
    "写一个共享网盘的程序，要求使用面向对象且按照软件开发规范进行设计，必须具备以下功能：\n",
    "\n",
    "至少包含用户和文件两个类，用户可以注册登陆\n",
    "用户上传的文件可以是普通文件，图片或者视频\n",
    "上传的数据要用md5加密\n",
    "上传的时候不能粘包\n",
    "存储的时候保证文件名，文件md5值和文件内容都保存在服务端机器上\n",
    "用md5值校验重复文件内容，用户上传的重复文件，不通过网络传输\n"
   ]
  }
 ],
 "metadata": {
  "kernelspec": {
   "display_name": "Python 3",
   "language": "python",
   "name": "python3"
  },
  "language_info": {
   "codemirror_mode": {
    "name": "ipython",
    "version": 3
   },
   "file_extension": ".py",
   "mimetype": "text/x-python",
   "name": "python",
   "nbconvert_exporter": "python",
   "pygments_lexer": "ipython3",
   "version": "3.7.3"
  }
 },
 "nbformat": 4,
 "nbformat_minor": 2
}
