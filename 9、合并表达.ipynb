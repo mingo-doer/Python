{
 "cells": [
  {
   "cell_type": "markdown",
   "metadata": {},
   "source": [
    "# 三元表达式\n",
    "在学习三元表达式之前，我们如需比较两个值的最大值。"
   ]
  },
  {
   "cell_type": "code",
   "execution_count": 2,
   "metadata": {},
   "outputs": [
    {
     "name": "stdout",
     "output_type": "stream",
     "text": [
      "11\n"
     ]
    }
   ],
   "source": [
    "def max2(x, y):\n",
    "    if x > y:\n",
    "        return x\n",
    "    else:\n",
    "        return y\n",
    "\n",
    "\n",
    "res = max2(10, 11)\n",
    "print(res)"
   ]
  },
  {
   "cell_type": "code",
   "execution_count": 4,
   "metadata": {},
   "outputs": [
    {
     "name": "stdout",
     "output_type": "stream",
     "text": [
      "12\n"
     ]
    }
   ],
   "source": [
    "# 三元表达式仅应用于：条件成立返回 一个值，条件不成立返回一个值。\n",
    "x = 12\n",
    "y = 11\n",
    "\n",
    "# 三元分别指的是if左边，else右边和if条件语句\n",
    "res = x if x > y else y  # 注意不要有逗号或者冒号\n",
    "print(res)"
   ]
  },
  {
   "cell_type": "code",
   "execution_count": 6,
   "metadata": {},
   "outputs": [
    {
     "name": "stdout",
     "output_type": "stream",
     "text": [
      "11\n"
     ]
    }
   ],
   "source": [
    "def max2(x, y):\n",
    "    return x if x > y else y\n",
    "\n",
    "\n",
    "print(max2(10, 11))"
   ]
  },
  {
   "cell_type": "markdown",
   "metadata": {},
   "source": [
    "# 函数递归调用\n",
    "\n",
    "函数的递归调用指的是在函数调用的过程中，又直接或间接地调用了函数本身，是函数嵌套调用的一种特殊形式。\n",
    "递归阶段性说明\n",
    "递归分为两个阶段：\n",
    "\n",
    "回溯\n",
    "递推\n",
    "注意：一定要在满足某种条件结束回溯，否则的无限递归。\n",
    "\n",
    "假如有这样一个小学数学题目，老师询问五位学生的年龄，第一位学生说，他比第二位学生大两岁，这时老师就要问第二个位学生，第二位学生说，他比第三位学生大两岁，问三，三说，比四大两岁，问四，四说，比五大两岁，问五，五说：“18岁”。求这五位学生分别多少岁？\n",
    "\n",
    "老师依次询问的过程就是回溯，老师根据第五位学生的年龄推导出其他四位学生的年龄的过程就是递推，可用如下图表示。\n",
    "\n",
    "把以上问题整理成数学表达式，并使用递归来完成。"
   ]
  },
  {
   "cell_type": "code",
   "execution_count": 8,
   "metadata": {},
   "outputs": [
    {
     "name": "stdout",
     "output_type": "stream",
     "text": [
      "26\n"
     ]
    }
   ],
   "source": [
    "def get_age(n):\n",
    "    if n == 1:\n",
    "        return 18\n",
    "    return get_age(n - 1) + 2  # age(4)+2\n",
    "\n",
    "    # 可以写成以下三元表达式形式，貌似高端，但是会让程序看起来不够简洁\n",
    "    # return 18 if n == 1 else age(n - 1) + 2\n",
    "\n",
    "\n",
    "print(get_age(5))"
   ]
  },
  {
   "cell_type": "markdown",
   "metadata": {},
   "source": [
    "正确使用递归：\n",
    "\n",
    "递归一定要有一个明确地结束条件\n",
    "进入下一次递归之前，问题的规模都应该减小\n",
    "在Python中没有尾递归优化\n",
    "Python语言不像一些其他编程语言有尾递归优化，Python会全部保存每一层递归的状态，而一些其他的编程语言会去掉一些无结果的状态，这样能够从一定程度上更省内存。关于尾递归优化大家不必深究，需要提醒的是：以后再看到一些讲Python尾递归优化的文章，那就是虾扯蛋，肯定扯不动，就直接跳过吧，因为Python根本就没有。"
   ]
  },
  {
   "cell_type": "markdown",
   "metadata": {},
   "source": [
    "# 内置函数\n",
    "1、 format\n"
   ]
  },
  {
   "cell_type": "code",
   "execution_count": 10,
   "metadata": {},
   "outputs": [
    {
     "name": "stdout",
     "output_type": "stream",
     "text": [
      "Albert 18 male\n",
      "18 Albert 18\n",
      "Albert 18 male\n"
     ]
    }
   ],
   "source": [
    "res = '{} {} {}'.format('Albert', 18, 'male')  # 相当于%s，其占位符的作用\n",
    "print(res)\n",
    "res = '{1} {0} {1}'.format('Albert', 18, 'male')  # 按照索引对应值，与索引序列相关\n",
    "print(res)\n",
    "res = '{name} {age} {sex}'.format(sex='male', name='Albert', age=18)  # 按照关键字对应值，只与key对应\n",
    "print(res)"
   ]
  },
  {
   "cell_type": "markdown",
   "metadata": {},
   "source": [
    "(2) format与%s用法异同\n",
    "<1> 相同点\n",
    "formate与% 都可以用作对象属性格式化，两者都是用作字符串中的占位符，一般基础阶段的程序员只会用%，而且不管多麻烦，你都会想到用%的办法，我首先为你的执着点个赞，但是我要说的是，简单的可以用%，复杂一些，我还是推荐使用formate或者说是 { }。"
   ]
  },
  {
   "cell_type": "code",
   "execution_count": 12,
   "metadata": {},
   "outputs": [
    {
     "ename": "TypeError",
     "evalue": "not all arguments converted during string formatting",
     "output_type": "error",
     "traceback": [
      "\u001b[1;31m---------------------------------------------------------------------------\u001b[0m",
      "\u001b[1;31mTypeError\u001b[0m                                 Traceback (most recent call last)",
      "\u001b[1;32m<ipython-input-12-159bffea475d>\u001b[0m in \u001b[0;36m<module>\u001b[1;34m\u001b[0m\n\u001b[0;32m      5\u001b[0m \u001b[0mc\u001b[0m \u001b[1;33m=\u001b[0m \u001b[1;33m(\u001b[0m\u001b[1;36m250\u001b[0m\u001b[1;33m,\u001b[0m \u001b[1;36m250\u001b[0m\u001b[1;33m)\u001b[0m\u001b[1;33m\u001b[0m\u001b[1;33m\u001b[0m\u001b[0m\n\u001b[0;32m      6\u001b[0m \u001b[1;31m# 使用%来格式化\u001b[0m\u001b[1;33m\u001b[0m\u001b[1;33m\u001b[0m\u001b[1;33m\u001b[0m\u001b[0m\n\u001b[1;32m----> 7\u001b[1;33m \u001b[0ms1\u001b[0m \u001b[1;33m=\u001b[0m \u001b[1;34m\"敌人坐标：%s\"\u001b[0m \u001b[1;33m%\u001b[0m \u001b[0mc\u001b[0m\u001b[1;33m\u001b[0m\u001b[1;33m\u001b[0m\u001b[0m\n\u001b[0m\u001b[0;32m      8\u001b[0m \u001b[0mprint\u001b[0m\u001b[1;33m(\u001b[0m\u001b[0ms1\u001b[0m\u001b[1;33m)\u001b[0m\u001b[1;33m\u001b[0m\u001b[1;33m\u001b[0m\u001b[0m\n\u001b[0;32m      9\u001b[0m \u001b[1;33m\u001b[0m\u001b[0m\n",
      "\u001b[1;31mTypeError\u001b[0m: not all arguments converted during string formatting"
     ]
    }
   ],
   "source": [
    "# <2> 不同点\n",
    "# [1] 占位形态\n",
    "\n",
    "# 定义一个坐标值\n",
    "c = (250, 250)\n",
    "# 使用%来格式化\n",
    "s1 = \"敌人坐标：%s\" % c\n",
    "print(s1)\n",
    "\n",
    "\"\"\"\n",
    "报错说明：\n",
    "not all arguments converted during string formatting\n",
    "翻译：在执行字符串格式化期间，不是所有的字符串都能被转化\n",
    "其实道理很简单，因为执行字符串转化的时候，程序以为变量c是一个字符串才去进行转化的，然而一转化，才发现：\n",
    "老兄，你坑我啊，你这个字符串我怎么看不明白啊（用 % 去执行这个程序的时候，默认以为 c 是一个字符串），\n",
    "从始至终至终程序都是为c是一个字符串，其实它不是，所以才会有这样的报错\n",
    "\"\"\"\n"
   ]
  },
  {
   "cell_type": "code",
   "execution_count": 15,
   "metadata": {},
   "outputs": [
    {
     "name": "stdout",
     "output_type": "stream",
     "text": [
      "敌人坐标：(250, 250)\n"
     ]
    }
   ],
   "source": [
    "\n",
    "# 定义一个坐标值\n",
    "c = (250, 250)\n",
    "# 使用format来格式化\n",
    "s1 = \"敌人坐标：{}\".format(c)\n",
    "print(s1)\n",
    "\n",
    "# \"\"\"\n",
    "# 区别：\n",
    "#     format本意就是变形的意思，72变，需要什么我就变什么\n",
    "#     % 是一个基本的占位符，只能给字符串，哦，怕程序不理解，是真正的字符串占位\n",
    "# \"\"\""
   ]
  },
  {
   "cell_type": "code",
   "execution_count": 17,
   "metadata": {},
   "outputs": [
    {
     "name": "stdout",
     "output_type": "stream",
     "text": [
      "3.14159\n",
      "1,234,567,890\n",
      "10010\n",
      "18\n",
      "22\n",
      "12\n"
     ]
    }
   ],
   "source": [
    "# [4] float精度调整\n",
    "print('{:.5f}'.format(3.14159265753))\n",
    "\n",
    "# 进度通常和float类型一起使用\n",
    "# 其中.5表示长度为5的精度\n",
    "# 3.14159\n",
    "# [5] 千位分隔符\n",
    "print(\"{:,}\".format(1234567890))\n",
    "\n",
    "# '1,234,567,890'\n",
    "# [6] 进制转换\n",
    "# b、d、o、x分别是二进制、十进制、八进制、十六进制\n",
    "\n",
    "print(\"{:b}\".format(18))\n",
    "print(\"{:d}\".format(18))\n",
    "print(\"{:o}\".format(18))\n",
    "print(\"{:x}\".format(18))"
   ]
  },
  {
   "cell_type": "markdown",
   "metadata": {},
   "source": [
    "2. 其他内置函数"
   ]
  },
  {
   "cell_type": "code",
   "execution_count": 20,
   "metadata": {},
   "outputs": [
    {
     "name": "stdout",
     "output_type": "stream",
     "text": [
      "1\n",
      "True\n",
      "True\n",
      "False\n",
      "0b1011\n",
      "0o13\n",
      "0xb\n",
      "False\n",
      "b'\\xe4\\xbd\\xa0\\xe5\\xa5\\xbdAlbert'\n",
      "True\n",
      "True\n",
      "True\n",
      "Z\n",
      "90\n",
      "['__add__', '__class__', '__contains__', '__delattr__', '__dir__', '__doc__', '__eq__', '__format__', '__ge__', '__getattribute__', '__getitem__', '__getnewargs__', '__gt__', '__hash__', '__init__', '__init_subclass__', '__iter__', '__le__', '__len__', '__lt__', '__mod__', '__mul__', '__ne__', '__new__', '__reduce__', '__reduce_ex__', '__repr__', '__rmod__', '__rmul__', '__setattr__', '__sizeof__', '__str__', '__subclasshook__', 'capitalize', 'casefold', 'center', 'count', 'encode', 'endswith', 'expandtabs', 'find', 'format', 'format_map', 'index', 'isalnum', 'isalpha', 'isdecimal', 'isdigit', 'isidentifier', 'islower', 'isnumeric', 'isprintable', 'isspace', 'istitle', 'isupper', 'join', 'ljust', 'lower', 'lstrip', 'maketrans', 'partition', 'replace', 'rfind', 'rindex', 'rjust', 'rpartition', 'rsplit', 'rstrip', 'split', 'splitlines', 'startswith', 'strip', 'swapcase', 'title', 'translate', 'upper', 'zfill']\n",
      "(52, 11)\n",
      "6 <class 'int'>\n",
      "[1, 2, 3, 4] <class 'list'>\n",
      "{'name': 'Albert', 'age': 18} <class 'dict'>\n",
      "{1, 2, 3, 4}\n",
      "{'__name__': '__main__', '__doc__': 'Automatically created module for IPython interactive environment', '__package__': None, '__loader__': None, '__spec__': None, '__builtin__': <module 'builtins' (built-in)>, '__builtins__': <module 'builtins' (built-in)>, '_ih': ['', 'def max2(x, y):\\n    if x > y:\\n        return x\\n    else:\\n        return y\\n\\n\\nres = max2(10, 11)\\nprint(res)', 'def max2(x, y):\\n    if x > y:\\n        return x\\n    else:\\n        return y\\n\\n\\nres = max2(10, 11)\\nprint(res)', '# 三元表达式仅应用于：条件成立返回 一个值，条件不成立返回一个值。\\nx = 12\\ny = 11\\n\\n# 三元分别指的是if左边，else右边和if条件语句\\nres = x if x > y else y  # 注意不要有逗号或者冒号\\nprint(res)', '# 三元表达式仅应用于：条件成立返回 一个值，条件不成立返回一个值。\\nx = 12\\ny = 11\\n\\n# 三元分别指的是if左边，else右边和if条件语句\\nres = x if x > y else y  # 注意不要有逗号或者冒号\\nprint(res)', 'def max2(x, y):\\n    return x if x > y else y\\n\\n\\nprint(max2(10, 11))', 'def max2(x, y):\\n    return x if x > y else y\\n\\n\\nprint(max2(10, 11))', 'def get_age(n):\\n    if n == 1:\\n        return 18\\n    return get_age(n - 1) + 2  # age(4)+2\\n\\n    # 可以写成以下三元表达式形式，貌似高端，但是会让程序看起来不够简洁\\n    # return 18 if n == 1 else age(n - 1) + 2\\n\\n\\nprint(get_age(5))', 'def get_age(n):\\n    if n == 1:\\n        return 18\\n    return get_age(n - 1) + 2  # age(4)+2\\n\\n    # 可以写成以下三元表达式形式，貌似高端，但是会让程序看起来不够简洁\\n    # return 18 if n == 1 else age(n - 1) + 2\\n\\n\\nprint(get_age(5))', \"res = '{} {} {}'.format('Albert', 18, 'male')  # 相当于%s，其占位符的作用\\nprint(res)\\nres = '{1} {0} {1}'.format('Albert', 18, 'male')  # 按照索引对应值，与索引序列相关\\nprint(res)\\nres = '{name} {age} {sex}'.format(sex='male', name='Albert', age=18)  # 按照关键字对应值，只与key对应\\nprint(res)\", \"res = '{} {} {}'.format('Albert', 18, 'male')  # 相当于%s，其占位符的作用\\nprint(res)\\nres = '{1} {0} {1}'.format('Albert', 18, 'male')  # 按照索引对应值，与索引序列相关\\nprint(res)\\nres = '{name} {age} {sex}'.format(sex='male', name='Albert', age=18)  # 按照关键字对应值，只与key对应\\nprint(res)\", '# <2> 不同点\\n# [1] 占位形态\\n\\n# 定义一个坐标值\\nc = (250, 250)\\n# 使用%来格式化\\ns1 = \"敌人坐标：%s\" % c\\nprint(s1)\\n\\n\"\"\"\\n报错说明：\\nnot all arguments converted during string formatting\\n翻译：在执行字符串格式化期间，不是所有的字符串都能被转化\\n其实道理很简单，因为执行字符串转化的时候，程序以为变量c是一个字符串才去进行转化的，然而一转化，才发现：\\n老兄，你坑我啊，你这个字符串我怎么看不明白啊（用 % 去执行这个程序的时候，默认以为 c 是一个字符串），\\n从始至终至终程序都是为c是一个字符串，其实它不是，所以才会有这样的报错\\n\"\"\"\\n\\n# 定义一个坐标值\\nc = (250, 250)\\n# 使用format来格式化\\ns1 = \"敌人坐标：{}\".format(c)\\nprint(s1)\\n\\n\"\"\"\\n区别：\\n    format本意就是变形的意思，72变，需要什么我就变什么\\n    % 是一个基本的占位符，只能给字符串，哦，怕程序不理解，是真正的字符串占位\\n\"\"\"', '# <2> 不同点\\n# [1] 占位形态\\n\\n# 定义一个坐标值\\nc = (250, 250)\\n# 使用%来格式化\\ns1 = \"敌人坐标：%s\" % c\\nprint(s1)\\n\\n\"\"\"\\n报错说明：\\nnot all arguments converted during string formatting\\n翻译：在执行字符串格式化期间，不是所有的字符串都能被转化\\n其实道理很简单，因为执行字符串转化的时候，程序以为变量c是一个字符串才去进行转化的，然而一转化，才发现：\\n老兄，你坑我啊，你这个字符串我怎么看不明白啊（用 % 去执行这个程序的时候，默认以为 c 是一个字符串），\\n从始至终至终程序都是为c是一个字符串，其实它不是，所以才会有这样的报错\\n\"\"\"', '\\n# 定义一个坐标值\\nc = (250, 250)\\n# 使用format来格式化\\ns1 = \"敌人坐标：{}\".format(c)\\nprint(s1)\\n\\n\"\"\"\\n区别：\\n    format本意就是变形的意思，72变，需要什么我就变什么\\n    % 是一个基本的占位符，只能给字符串，哦，怕程序不理解，是真正的字符串占位\\n\"\"\"', '\\n# 定义一个坐标值\\nc = (250, 250)\\n# 使用format来格式化\\ns1 = \"敌人坐标：{}\".format(c)\\nprint(s1)\\n\\n# \"\"\"\\n# 区别：\\n#     format本意就是变形的意思，72变，需要什么我就变什么\\n#     % 是一个基本的占位符，只能给字符串，哦，怕程序不理解，是真正的字符串占位\\n# \"\"\"', '\\n# 定义一个坐标值\\nc = (250, 250)\\n# 使用format来格式化\\ns1 = \"敌人坐标：{}\".format(c)\\nprint(s1)\\n\\n# \"\"\"\\n# 区别：\\n#     format本意就是变形的意思，72变，需要什么我就变什么\\n#     % 是一个基本的占位符，只能给字符串，哦，怕程序不理解，是真正的字符串占位\\n# \"\"\"', '# [4] float精度调整\\nprint(\\'{:.5f}\\'.format(3.14159265753))\\n\\n# 进度通常和float类型一起使用\\n# 其中.5表示长度为5的精度\\n# 3.14159\\n# [5] 千位分隔符\\nprint(\"{:,}\".format(1234567890))\\n\\n# \\'1,234,567,890\\'\\n# [6] 进制转换\\n# b、d、o、x分别是二进制、十进制、八进制、十六进制\\n\\nprint(\"{:b}\".format(18))\\nprint(\"{:d}\".format(18))\\nprint(\"{:o}\".format(18))\\nprint(\"{:x}\".format(18))', '# [4] float精度调整\\nprint(\\'{:.5f}\\'.format(3.14159265753))\\n\\n# 进度通常和float类型一起使用\\n# 其中.5表示长度为5的精度\\n# 3.14159\\n# [5] 千位分隔符\\nprint(\"{:,}\".format(1234567890))\\n\\n# \\'1,234,567,890\\'\\n# [6] 进制转换\\n# b、d、o、x分别是二进制、十进制、八进制、十六进制\\n\\nprint(\"{:b}\".format(18))\\nprint(\"{:d}\".format(18))\\nprint(\"{:o}\".format(18))\\nprint(\"{:x}\".format(18))', '# 1 取绝对值\\nprint(abs(-1))  # 绝对值\\n\\n# 2 逻辑判断\\nprint(all([1, \\'a\\', True]))  # 列表中所有元素的布尔值为真，最终结果才为真\\nprint(any([0, \\'a\\', None, False]))  # 列表中所有元素的布尔值只要有一个为真，最终结果就为真\\nprint(any([]))  # 传给any的可迭代对象如果为空，最终结果为假\\n\\n# 3 进制转换\\nprint(bin(11))  # 十进制转二进制\\nprint(oct(11))  # 十进制转八进制\\nprint(hex(11))  # 十进制转十六进制\\n\\n# 4 布尔值判断\\nprint(bool(0))  # 0,None,空的布尔值为假\\n\\n# 5 bytes类型构造\\n# res=\\'你好Albert\\'.encode(\\'utf-8\\') # unicode按照utf-8进行编码，得到的结果为bytes类型\\nres = bytes(\\'你好Albert\\', encoding=\\'utf-8\\')  # 同上\\nprint(res)\\n\\n\\n# 6 对象是否可调用\\ndef func():\\n    pass\\n\\n\\nprint(callable(func))  # 判断某个对象是否是可以调用的，可调用指的是可以加括号执行某个功能\\nprint(callable(\\'abc\\'.strip))  # 判断某个对象是否是可以调用的，可调用指的是可以加括号执行某个功能\\nprint(callable(max))  # 判断某个对象是否是可以调用的，可调用指的是可以加括号执行某个功能\\n\\n# 7 字符与十进制转换\\nprint(chr(90))  # 按照ascii码表将十进制数字转成字符\\nprint(ord(\\'Z\\'))  # 按照ascii码表将字符转成十进制数字\\n\\n# 8 查看对象下可调用的方法\\nprint(dir(\\'abc\\'))  # 查看某个对象下可以调用到哪些方法\\n\\n# 9 去商和余数，返回元组\\nprint(divmod(1311, 25))\\n\\n# 10 将字符内的表达式拿出运行一下，并拿到该表达式的执行结果\\nres1 = eval(\\'2*3\\')\\nprint(res1, type(res1))\\nres2 = eval(\\'[1,2,3,4]\\')\\nprint(res2, type(res2))\\nres3 = eval(\\'{\"name\":\"Albert\",\"age\":18}\\')\\nprint(res3, type(res3))\\n\\n# 11 集合添加\\ns = {1, 2, 3}\\ns.add(4)  # 集合添加一个元素\\nprint(s)\\n\\n# 12 不可变集合\\nf_set = frozenset({1, 2, 3})  # 不可变集合\\n\\n# 13 名字与值的绑定关系\\nx = 2\\nprint(globals())  # 查看全局作用域中的名字与值的绑定关系\\nprint(dir(globals()[\\'__builtins__\\']))\\n\\n\\ndef func():\\n    x = 1\\n    print(locals())  # 查看局部作用域中的名字与值的绑定关系\\n\\n\\nfunc()\\n\\n# 14 哈希\\nprint(hash(\\'a\\'))\\nprint(hash((1, 2, 3, 4)))\\n\\n\\n# dict1 = {[1, 2, 3]: \\'a\\'}  # 报错，字典的key必须是不可变类型\\n\\n# 不可hash的类型list,dict,set==  可变的类型\\n# 可hash的类型int,float,str,tuple ==  不可变的类型\\n\\n# 哈希下一章节会有更加详细的讲解，这里先了解即可\\n\\n# 15 查看文档注释\\ndef func():\\n    \"\"\"\\n    帮助信息\\n    :return:\\n    \"\"\"\\n    pass\\n\\n\\nprint(help(max))  # 查看文档注释\\nprint(help(func))\\n\\n# 16 len，next，iter等自动执行的方法\\n# __开头__结尾的方法都是在某种情况下自动触发执行，通常我们不需要自己写\\nprint(len({\\'x\\': 1, \\'y\\': 2}))  # 触发 {\\'x\\':1,\\'y\\':2}.__len__()\\nprint({\\'x\\': 1, \\'y\\': 2}.__len__())  # 与上面等同\\nobj = iter(\\'Albert\\')  # \\'Albert\\'.__iter__()\\nprint(next(obj))  # obj.__next__()\\n\\n# 17 2**3 % 3\\nprint(pow(2, 3, 3))  # 2 ** 3 % 3\\n\\n# 18 反转顺序\\nl = [1, 4, 3, 5]\\nres = reversed(l)\\nprint(list(res))\\nprint(l)\\n\\n# 19 四舍五入\\nprint(round(3.5))\\nprint(round(3.4))\\n\\n# 20 切片对象\\nsc = slice(1, 5, 2)  # 1:5:2\\nl = [\\'a\\', \\'b\\', \\'c\\', \\'d\\', \\'e\\', \\'f\\']\\n# print(l[1:5:2])\\nprint(l[sc])\\n\\nt = (1, 2, 3, 4, 5, 6, 7, 8)\\n# print(t[1:5:2])\\nprint(t[sc])\\n\\n# 21 求和\\nprint(sum([1, 2, 3, 4]))\\n\\n# 22 拉链函数\\nleft = \\'hello\\'\\nright1 = {\\'x\\': 1, \\'y\\': 2, \\'z\\': 3}\\nright2 = [1, 2, 3, 4, 5]\\n\\nres1 = zip(left, right1)\\nres2 = zip(left, right2)\\nprint(list(res1))\\nprint(list(res2))', '# 1 取绝对值\\nprint(abs(-1))  # 绝对值\\n\\n# 2 逻辑判断\\nprint(all([1, \\'a\\', True]))  # 列表中所有元素的布尔值为真，最终结果才为真\\nprint(any([0, \\'a\\', None, False]))  # 列表中所有元素的布尔值只要有一个为真，最终结果就为真\\nprint(any([]))  # 传给any的可迭代对象如果为空，最终结果为假\\n\\n# 3 进制转换\\nprint(bin(11))  # 十进制转二进制\\nprint(oct(11))  # 十进制转八进制\\nprint(hex(11))  # 十进制转十六进制\\n\\n# 4 布尔值判断\\nprint(bool(0))  # 0,None,空的布尔值为假\\n\\n# 5 bytes类型构造\\n# res=\\'你好Albert\\'.encode(\\'utf-8\\') # unicode按照utf-8进行编码，得到的结果为bytes类型\\nres = bytes(\\'你好Albert\\', encoding=\\'utf-8\\')  # 同上\\nprint(res)\\n\\n\\n# 6 对象是否可调用\\ndef func():\\n    pass\\n\\n\\nprint(callable(func))  # 判断某个对象是否是可以调用的，可调用指的是可以加括号执行某个功能\\nprint(callable(\\'abc\\'.strip))  # 判断某个对象是否是可以调用的，可调用指的是可以加括号执行某个功能\\nprint(callable(max))  # 判断某个对象是否是可以调用的，可调用指的是可以加括号执行某个功能\\n\\n# 7 字符与十进制转换\\nprint(chr(90))  # 按照ascii码表将十进制数字转成字符\\nprint(ord(\\'Z\\'))  # 按照ascii码表将字符转成十进制数字\\n\\n# 8 查看对象下可调用的方法\\nprint(dir(\\'abc\\'))  # 查看某个对象下可以调用到哪些方法\\n\\n# 9 去商和余数，返回元组\\nprint(divmod(1311, 25))\\n\\n# 10 将字符内的表达式拿出运行一下，并拿到该表达式的执行结果\\nres1 = eval(\\'2*3\\')\\nprint(res1, type(res1))\\nres2 = eval(\\'[1,2,3,4]\\')\\nprint(res2, type(res2))\\nres3 = eval(\\'{\"name\":\"Albert\",\"age\":18}\\')\\nprint(res3, type(res3))\\n\\n# 11 集合添加\\ns = {1, 2, 3}\\ns.add(4)  # 集合添加一个元素\\nprint(s)\\n\\n# 12 不可变集合\\nf_set = frozenset({1, 2, 3})  # 不可变集合\\n\\n# 13 名字与值的绑定关系\\nx = 2\\nprint(globals())  # 查看全局作用域中的名字与值的绑定关系\\nprint(dir(globals()[\\'__builtins__\\']))\\n\\n\\ndef func():\\n    x = 1\\n    print(locals())  # 查看局部作用域中的名字与值的绑定关系\\n\\n\\nfunc()\\n\\n# 14 哈希\\nprint(hash(\\'a\\'))\\nprint(hash((1, 2, 3, 4)))\\n\\n\\n# dict1 = {[1, 2, 3]: \\'a\\'}  # 报错，字典的key必须是不可变类型\\n\\n# 不可hash的类型list,dict,set==  可变的类型\\n# 可hash的类型int,float,str,tuple ==  不可变的类型\\n\\n# 哈希下一章节会有更加详细的讲解，这里先了解即可\\n\\n# 15 查看文档注释\\ndef func():\\n#     \"\"\"\\n#     帮助信息\\n#     :return:\\n#     \"\"\"\\n    pass\\n\\n\\nprint(help(max))  # 查看文档注释\\nprint(help(func))\\n\\n# 16 len，next，iter等自动执行的方法\\n# __开头__结尾的方法都是在某种情况下自动触发执行，通常我们不需要自己写\\nprint(len({\\'x\\': 1, \\'y\\': 2}))  # 触发 {\\'x\\':1,\\'y\\':2}.__len__()\\nprint({\\'x\\': 1, \\'y\\': 2}.__len__())  # 与上面等同\\nobj = iter(\\'Albert\\')  # \\'Albert\\'.__iter__()\\nprint(next(obj))  # obj.__next__()\\n\\n# 17 2**3 % 3\\nprint(pow(2, 3, 3))  # 2 ** 3 % 3\\n\\n# 18 反转顺序\\nl = [1, 4, 3, 5]\\nres = reversed(l)\\nprint(list(res))\\nprint(l)\\n\\n# 19 四舍五入\\nprint(round(3.5))\\nprint(round(3.4))\\n\\n# 20 切片对象\\nsc = slice(1, 5, 2)  # 1:5:2\\nl = [\\'a\\', \\'b\\', \\'c\\', \\'d\\', \\'e\\', \\'f\\']\\n# print(l[1:5:2])\\nprint(l[sc])\\n\\nt = (1, 2, 3, 4, 5, 6, 7, 8)\\n# print(t[1:5:2])\\nprint(t[sc])\\n\\n# 21 求和\\nprint(sum([1, 2, 3, 4]))\\n\\n# 22 拉链函数\\nleft = \\'hello\\'\\nright1 = {\\'x\\': 1, \\'y\\': 2, \\'z\\': 3}\\nright2 = [1, 2, 3, 4, 5]\\n\\nres1 = zip(left, right1)\\nres2 = zip(left, right2)\\nprint(list(res1))\\nprint(list(res2))', '# 1 取绝对值\\nprint(abs(-1))  # 绝对值\\n\\n# 2 逻辑判断\\nprint(all([1, \\'a\\', True]))  # 列表中所有元素的布尔值为真，最终结果才为真\\nprint(any([0, \\'a\\', None, False]))  # 列表中所有元素的布尔值只要有一个为真，最终结果就为真\\nprint(any([]))  # 传给any的可迭代对象如果为空，最终结果为假\\n\\n# 3 进制转换\\nprint(bin(11))  # 十进制转二进制\\nprint(oct(11))  # 十进制转八进制\\nprint(hex(11))  # 十进制转十六进制\\n\\n# 4 布尔值判断\\nprint(bool(0))  # 0,None,空的布尔值为假\\n\\n# 5 bytes类型构造\\n# res=\\'你好Albert\\'.encode(\\'utf-8\\') # unicode按照utf-8进行编码，得到的结果为bytes类型\\nres = bytes(\\'你好Albert\\', encoding=\\'utf-8\\')  # 同上\\nprint(res)\\n\\n\\n# 6 对象是否可调用\\ndef func():\\n    pass\\n\\n\\nprint(callable(func))  # 判断某个对象是否是可以调用的，可调用指的是可以加括号执行某个功能\\nprint(callable(\\'abc\\'.strip))  # 判断某个对象是否是可以调用的，可调用指的是可以加括号执行某个功能\\nprint(callable(max))  # 判断某个对象是否是可以调用的，可调用指的是可以加括号执行某个功能\\n\\n# 7 字符与十进制转换\\nprint(chr(90))  # 按照ascii码表将十进制数字转成字符\\nprint(ord(\\'Z\\'))  # 按照ascii码表将字符转成十进制数字\\n\\n# 8 查看对象下可调用的方法\\nprint(dir(\\'abc\\'))  # 查看某个对象下可以调用到哪些方法\\n\\n# 9 去商和余数，返回元组\\nprint(divmod(1311, 25))\\n\\n# 10 将字符内的表达式拿出运行一下，并拿到该表达式的执行结果\\nres1 = eval(\\'2*3\\')\\nprint(res1, type(res1))\\nres2 = eval(\\'[1,2,3,4]\\')\\nprint(res2, type(res2))\\nres3 = eval(\\'{\"name\":\"Albert\",\"age\":18}\\')\\nprint(res3, type(res3))\\n\\n# 11 集合添加\\ns = {1, 2, 3}\\ns.add(4)  # 集合添加一个元素\\nprint(s)\\n\\n# 12 不可变集合\\nf_set = frozenset({1, 2, 3})  # 不可变集合\\n\\n# 13 名字与值的绑定关系\\nx = 2\\nprint(globals())  # 查看全局作用域中的名字与值的绑定关系\\nprint(dir(globals()[\\'__builtins__\\']))\\n\\n\\ndef func():\\n    x = 1\\n    print(locals())  # 查看局部作用域中的名字与值的绑定关系\\n\\n\\nfunc()\\n\\n# 14 哈希\\nprint(hash(\\'a\\'))\\nprint(hash((1, 2, 3, 4)))\\n\\n\\n# dict1 = {[1, 2, 3]: \\'a\\'}  # 报错，字典的key必须是不可变类型\\n\\n# 不可hash的类型list,dict,set==  可变的类型\\n# 可hash的类型int,float,str,tuple ==  不可变的类型\\n\\n# 哈希下一章节会有更加详细的讲解，这里先了解即可\\n\\n# 15 查看文档注释\\ndef func():\\n#     \"\"\"\\n#     帮助信息\\n#     :return:\\n#     \"\"\"\\n    pass\\n\\n\\nprint(help(max))  # 查看文档注释\\nprint(help(func))\\n\\n# 16 len，next，iter等自动执行的方法\\n# __开头__结尾的方法都是在某种情况下自动触发执行，通常我们不需要自己写\\nprint(len({\\'x\\': 1, \\'y\\': 2}))  # 触发 {\\'x\\':1,\\'y\\':2}.__len__()\\nprint({\\'x\\': 1, \\'y\\': 2}.__len__())  # 与上面等同\\nobj = iter(\\'Albert\\')  # \\'Albert\\'.__iter__()\\nprint(next(obj))  # obj.__next__()\\n\\n# 17 2**3 % 3\\nprint(pow(2, 3, 3))  # 2 ** 3 % 3\\n\\n# 18 反转顺序\\nl = [1, 4, 3, 5]\\nres = reversed(l)\\nprint(list(res))\\nprint(l)\\n\\n# 19 四舍五入\\nprint(round(3.5))\\nprint(round(3.4))\\n\\n# 20 切片对象\\nsc = slice(1, 5, 2)  # 1:5:2\\nl = [\\'a\\', \\'b\\', \\'c\\', \\'d\\', \\'e\\', \\'f\\']\\n# print(l[1:5:2])\\nprint(l[sc])\\n\\nt = (1, 2, 3, 4, 5, 6, 7, 8)\\n# print(t[1:5:2])\\nprint(t[sc])\\n\\n# 21 求和\\nprint(sum([1, 2, 3, 4]))\\n\\n# 22 拉链函数\\nleft = \\'hello\\'\\nright1 = {\\'x\\': 1, \\'y\\': 2, \\'z\\': 3}\\nright2 = [1, 2, 3, 4, 5]\\n\\nres1 = zip(left, right1)\\nres2 = zip(left, right2)\\nprint(list(res1))\\nprint(list(res2))'], '_oh': {13: '\\n区别：\\n    format本意就是变形的意思，72变，需要什么我就变什么\\n    % 是一个基本的占位符，只能给字符串，哦，怕程序不理解，是真正的字符串占位\\n'}, '_dh': ['D:\\\\Juypter_NoteBook\\\\Python'], 'In': ['', 'def max2(x, y):\\n    if x > y:\\n        return x\\n    else:\\n        return y\\n\\n\\nres = max2(10, 11)\\nprint(res)', 'def max2(x, y):\\n    if x > y:\\n        return x\\n    else:\\n        return y\\n\\n\\nres = max2(10, 11)\\nprint(res)', '# 三元表达式仅应用于：条件成立返回 一个值，条件不成立返回一个值。\\nx = 12\\ny = 11\\n\\n# 三元分别指的是if左边，else右边和if条件语句\\nres = x if x > y else y  # 注意不要有逗号或者冒号\\nprint(res)', '# 三元表达式仅应用于：条件成立返回 一个值，条件不成立返回一个值。\\nx = 12\\ny = 11\\n\\n# 三元分别指的是if左边，else右边和if条件语句\\nres = x if x > y else y  # 注意不要有逗号或者冒号\\nprint(res)', 'def max2(x, y):\\n    return x if x > y else y\\n\\n\\nprint(max2(10, 11))', 'def max2(x, y):\\n    return x if x > y else y\\n\\n\\nprint(max2(10, 11))', 'def get_age(n):\\n    if n == 1:\\n        return 18\\n    return get_age(n - 1) + 2  # age(4)+2\\n\\n    # 可以写成以下三元表达式形式，貌似高端，但是会让程序看起来不够简洁\\n    # return 18 if n == 1 else age(n - 1) + 2\\n\\n\\nprint(get_age(5))', 'def get_age(n):\\n    if n == 1:\\n        return 18\\n    return get_age(n - 1) + 2  # age(4)+2\\n\\n    # 可以写成以下三元表达式形式，貌似高端，但是会让程序看起来不够简洁\\n    # return 18 if n == 1 else age(n - 1) + 2\\n\\n\\nprint(get_age(5))', \"res = '{} {} {}'.format('Albert', 18, 'male')  # 相当于%s，其占位符的作用\\nprint(res)\\nres = '{1} {0} {1}'.format('Albert', 18, 'male')  # 按照索引对应值，与索引序列相关\\nprint(res)\\nres = '{name} {age} {sex}'.format(sex='male', name='Albert', age=18)  # 按照关键字对应值，只与key对应\\nprint(res)\", \"res = '{} {} {}'.format('Albert', 18, 'male')  # 相当于%s，其占位符的作用\\nprint(res)\\nres = '{1} {0} {1}'.format('Albert', 18, 'male')  # 按照索引对应值，与索引序列相关\\nprint(res)\\nres = '{name} {age} {sex}'.format(sex='male', name='Albert', age=18)  # 按照关键字对应值，只与key对应\\nprint(res)\", '# <2> 不同点\\n# [1] 占位形态\\n\\n# 定义一个坐标值\\nc = (250, 250)\\n# 使用%来格式化\\ns1 = \"敌人坐标：%s\" % c\\nprint(s1)\\n\\n\"\"\"\\n报错说明：\\nnot all arguments converted during string formatting\\n翻译：在执行字符串格式化期间，不是所有的字符串都能被转化\\n其实道理很简单，因为执行字符串转化的时候，程序以为变量c是一个字符串才去进行转化的，然而一转化，才发现：\\n老兄，你坑我啊，你这个字符串我怎么看不明白啊（用 % 去执行这个程序的时候，默认以为 c 是一个字符串），\\n从始至终至终程序都是为c是一个字符串，其实它不是，所以才会有这样的报错\\n\"\"\"\\n\\n# 定义一个坐标值\\nc = (250, 250)\\n# 使用format来格式化\\ns1 = \"敌人坐标：{}\".format(c)\\nprint(s1)\\n\\n\"\"\"\\n区别：\\n    format本意就是变形的意思，72变，需要什么我就变什么\\n    % 是一个基本的占位符，只能给字符串，哦，怕程序不理解，是真正的字符串占位\\n\"\"\"', '# <2> 不同点\\n# [1] 占位形态\\n\\n# 定义一个坐标值\\nc = (250, 250)\\n# 使用%来格式化\\ns1 = \"敌人坐标：%s\" % c\\nprint(s1)\\n\\n\"\"\"\\n报错说明：\\nnot all arguments converted during string formatting\\n翻译：在执行字符串格式化期间，不是所有的字符串都能被转化\\n其实道理很简单，因为执行字符串转化的时候，程序以为变量c是一个字符串才去进行转化的，然而一转化，才发现：\\n老兄，你坑我啊，你这个字符串我怎么看不明白啊（用 % 去执行这个程序的时候，默认以为 c 是一个字符串），\\n从始至终至终程序都是为c是一个字符串，其实它不是，所以才会有这样的报错\\n\"\"\"', '\\n# 定义一个坐标值\\nc = (250, 250)\\n# 使用format来格式化\\ns1 = \"敌人坐标：{}\".format(c)\\nprint(s1)\\n\\n\"\"\"\\n区别：\\n    format本意就是变形的意思，72变，需要什么我就变什么\\n    % 是一个基本的占位符，只能给字符串，哦，怕程序不理解，是真正的字符串占位\\n\"\"\"', '\\n# 定义一个坐标值\\nc = (250, 250)\\n# 使用format来格式化\\ns1 = \"敌人坐标：{}\".format(c)\\nprint(s1)\\n\\n# \"\"\"\\n# 区别：\\n#     format本意就是变形的意思，72变，需要什么我就变什么\\n#     % 是一个基本的占位符，只能给字符串，哦，怕程序不理解，是真正的字符串占位\\n# \"\"\"', '\\n# 定义一个坐标值\\nc = (250, 250)\\n# 使用format来格式化\\ns1 = \"敌人坐标：{}\".format(c)\\nprint(s1)\\n\\n# \"\"\"\\n# 区别：\\n#     format本意就是变形的意思，72变，需要什么我就变什么\\n#     % 是一个基本的占位符，只能给字符串，哦，怕程序不理解，是真正的字符串占位\\n# \"\"\"', '# [4] float精度调整\\nprint(\\'{:.5f}\\'.format(3.14159265753))\\n\\n# 进度通常和float类型一起使用\\n# 其中.5表示长度为5的精度\\n# 3.14159\\n# [5] 千位分隔符\\nprint(\"{:,}\".format(1234567890))\\n\\n# \\'1,234,567,890\\'\\n# [6] 进制转换\\n# b、d、o、x分别是二进制、十进制、八进制、十六进制\\n\\nprint(\"{:b}\".format(18))\\nprint(\"{:d}\".format(18))\\nprint(\"{:o}\".format(18))\\nprint(\"{:x}\".format(18))', '# [4] float精度调整\\nprint(\\'{:.5f}\\'.format(3.14159265753))\\n\\n# 进度通常和float类型一起使用\\n# 其中.5表示长度为5的精度\\n# 3.14159\\n# [5] 千位分隔符\\nprint(\"{:,}\".format(1234567890))\\n\\n# \\'1,234,567,890\\'\\n# [6] 进制转换\\n# b、d、o、x分别是二进制、十进制、八进制、十六进制\\n\\nprint(\"{:b}\".format(18))\\nprint(\"{:d}\".format(18))\\nprint(\"{:o}\".format(18))\\nprint(\"{:x}\".format(18))', '# 1 取绝对值\\nprint(abs(-1))  # 绝对值\\n\\n# 2 逻辑判断\\nprint(all([1, \\'a\\', True]))  # 列表中所有元素的布尔值为真，最终结果才为真\\nprint(any([0, \\'a\\', None, False]))  # 列表中所有元素的布尔值只要有一个为真，最终结果就为真\\nprint(any([]))  # 传给any的可迭代对象如果为空，最终结果为假\\n\\n# 3 进制转换\\nprint(bin(11))  # 十进制转二进制\\nprint(oct(11))  # 十进制转八进制\\nprint(hex(11))  # 十进制转十六进制\\n\\n# 4 布尔值判断\\nprint(bool(0))  # 0,None,空的布尔值为假\\n\\n# 5 bytes类型构造\\n# res=\\'你好Albert\\'.encode(\\'utf-8\\') # unicode按照utf-8进行编码，得到的结果为bytes类型\\nres = bytes(\\'你好Albert\\', encoding=\\'utf-8\\')  # 同上\\nprint(res)\\n\\n\\n# 6 对象是否可调用\\ndef func():\\n    pass\\n\\n\\nprint(callable(func))  # 判断某个对象是否是可以调用的，可调用指的是可以加括号执行某个功能\\nprint(callable(\\'abc\\'.strip))  # 判断某个对象是否是可以调用的，可调用指的是可以加括号执行某个功能\\nprint(callable(max))  # 判断某个对象是否是可以调用的，可调用指的是可以加括号执行某个功能\\n\\n# 7 字符与十进制转换\\nprint(chr(90))  # 按照ascii码表将十进制数字转成字符\\nprint(ord(\\'Z\\'))  # 按照ascii码表将字符转成十进制数字\\n\\n# 8 查看对象下可调用的方法\\nprint(dir(\\'abc\\'))  # 查看某个对象下可以调用到哪些方法\\n\\n# 9 去商和余数，返回元组\\nprint(divmod(1311, 25))\\n\\n# 10 将字符内的表达式拿出运行一下，并拿到该表达式的执行结果\\nres1 = eval(\\'2*3\\')\\nprint(res1, type(res1))\\nres2 = eval(\\'[1,2,3,4]\\')\\nprint(res2, type(res2))\\nres3 = eval(\\'{\"name\":\"Albert\",\"age\":18}\\')\\nprint(res3, type(res3))\\n\\n# 11 集合添加\\ns = {1, 2, 3}\\ns.add(4)  # 集合添加一个元素\\nprint(s)\\n\\n# 12 不可变集合\\nf_set = frozenset({1, 2, 3})  # 不可变集合\\n\\n# 13 名字与值的绑定关系\\nx = 2\\nprint(globals())  # 查看全局作用域中的名字与值的绑定关系\\nprint(dir(globals()[\\'__builtins__\\']))\\n\\n\\ndef func():\\n    x = 1\\n    print(locals())  # 查看局部作用域中的名字与值的绑定关系\\n\\n\\nfunc()\\n\\n# 14 哈希\\nprint(hash(\\'a\\'))\\nprint(hash((1, 2, 3, 4)))\\n\\n\\n# dict1 = {[1, 2, 3]: \\'a\\'}  # 报错，字典的key必须是不可变类型\\n\\n# 不可hash的类型list,dict,set==  可变的类型\\n# 可hash的类型int,float,str,tuple ==  不可变的类型\\n\\n# 哈希下一章节会有更加详细的讲解，这里先了解即可\\n\\n# 15 查看文档注释\\ndef func():\\n    \"\"\"\\n    帮助信息\\n    :return:\\n    \"\"\"\\n    pass\\n\\n\\nprint(help(max))  # 查看文档注释\\nprint(help(func))\\n\\n# 16 len，next，iter等自动执行的方法\\n# __开头__结尾的方法都是在某种情况下自动触发执行，通常我们不需要自己写\\nprint(len({\\'x\\': 1, \\'y\\': 2}))  # 触发 {\\'x\\':1,\\'y\\':2}.__len__()\\nprint({\\'x\\': 1, \\'y\\': 2}.__len__())  # 与上面等同\\nobj = iter(\\'Albert\\')  # \\'Albert\\'.__iter__()\\nprint(next(obj))  # obj.__next__()\\n\\n# 17 2**3 % 3\\nprint(pow(2, 3, 3))  # 2 ** 3 % 3\\n\\n# 18 反转顺序\\nl = [1, 4, 3, 5]\\nres = reversed(l)\\nprint(list(res))\\nprint(l)\\n\\n# 19 四舍五入\\nprint(round(3.5))\\nprint(round(3.4))\\n\\n# 20 切片对象\\nsc = slice(1, 5, 2)  # 1:5:2\\nl = [\\'a\\', \\'b\\', \\'c\\', \\'d\\', \\'e\\', \\'f\\']\\n# print(l[1:5:2])\\nprint(l[sc])\\n\\nt = (1, 2, 3, 4, 5, 6, 7, 8)\\n# print(t[1:5:2])\\nprint(t[sc])\\n\\n# 21 求和\\nprint(sum([1, 2, 3, 4]))\\n\\n# 22 拉链函数\\nleft = \\'hello\\'\\nright1 = {\\'x\\': 1, \\'y\\': 2, \\'z\\': 3}\\nright2 = [1, 2, 3, 4, 5]\\n\\nres1 = zip(left, right1)\\nres2 = zip(left, right2)\\nprint(list(res1))\\nprint(list(res2))', '# 1 取绝对值\\nprint(abs(-1))  # 绝对值\\n\\n# 2 逻辑判断\\nprint(all([1, \\'a\\', True]))  # 列表中所有元素的布尔值为真，最终结果才为真\\nprint(any([0, \\'a\\', None, False]))  # 列表中所有元素的布尔值只要有一个为真，最终结果就为真\\nprint(any([]))  # 传给any的可迭代对象如果为空，最终结果为假\\n\\n# 3 进制转换\\nprint(bin(11))  # 十进制转二进制\\nprint(oct(11))  # 十进制转八进制\\nprint(hex(11))  # 十进制转十六进制\\n\\n# 4 布尔值判断\\nprint(bool(0))  # 0,None,空的布尔值为假\\n\\n# 5 bytes类型构造\\n# res=\\'你好Albert\\'.encode(\\'utf-8\\') # unicode按照utf-8进行编码，得到的结果为bytes类型\\nres = bytes(\\'你好Albert\\', encoding=\\'utf-8\\')  # 同上\\nprint(res)\\n\\n\\n# 6 对象是否可调用\\ndef func():\\n    pass\\n\\n\\nprint(callable(func))  # 判断某个对象是否是可以调用的，可调用指的是可以加括号执行某个功能\\nprint(callable(\\'abc\\'.strip))  # 判断某个对象是否是可以调用的，可调用指的是可以加括号执行某个功能\\nprint(callable(max))  # 判断某个对象是否是可以调用的，可调用指的是可以加括号执行某个功能\\n\\n# 7 字符与十进制转换\\nprint(chr(90))  # 按照ascii码表将十进制数字转成字符\\nprint(ord(\\'Z\\'))  # 按照ascii码表将字符转成十进制数字\\n\\n# 8 查看对象下可调用的方法\\nprint(dir(\\'abc\\'))  # 查看某个对象下可以调用到哪些方法\\n\\n# 9 去商和余数，返回元组\\nprint(divmod(1311, 25))\\n\\n# 10 将字符内的表达式拿出运行一下，并拿到该表达式的执行结果\\nres1 = eval(\\'2*3\\')\\nprint(res1, type(res1))\\nres2 = eval(\\'[1,2,3,4]\\')\\nprint(res2, type(res2))\\nres3 = eval(\\'{\"name\":\"Albert\",\"age\":18}\\')\\nprint(res3, type(res3))\\n\\n# 11 集合添加\\ns = {1, 2, 3}\\ns.add(4)  # 集合添加一个元素\\nprint(s)\\n\\n# 12 不可变集合\\nf_set = frozenset({1, 2, 3})  # 不可变集合\\n\\n# 13 名字与值的绑定关系\\nx = 2\\nprint(globals())  # 查看全局作用域中的名字与值的绑定关系\\nprint(dir(globals()[\\'__builtins__\\']))\\n\\n\\ndef func():\\n    x = 1\\n    print(locals())  # 查看局部作用域中的名字与值的绑定关系\\n\\n\\nfunc()\\n\\n# 14 哈希\\nprint(hash(\\'a\\'))\\nprint(hash((1, 2, 3, 4)))\\n\\n\\n# dict1 = {[1, 2, 3]: \\'a\\'}  # 报错，字典的key必须是不可变类型\\n\\n# 不可hash的类型list,dict,set==  可变的类型\\n# 可hash的类型int,float,str,tuple ==  不可变的类型\\n\\n# 哈希下一章节会有更加详细的讲解，这里先了解即可\\n\\n# 15 查看文档注释\\ndef func():\\n#     \"\"\"\\n#     帮助信息\\n#     :return:\\n#     \"\"\"\\n    pass\\n\\n\\nprint(help(max))  # 查看文档注释\\nprint(help(func))\\n\\n# 16 len，next，iter等自动执行的方法\\n# __开头__结尾的方法都是在某种情况下自动触发执行，通常我们不需要自己写\\nprint(len({\\'x\\': 1, \\'y\\': 2}))  # 触发 {\\'x\\':1,\\'y\\':2}.__len__()\\nprint({\\'x\\': 1, \\'y\\': 2}.__len__())  # 与上面等同\\nobj = iter(\\'Albert\\')  # \\'Albert\\'.__iter__()\\nprint(next(obj))  # obj.__next__()\\n\\n# 17 2**3 % 3\\nprint(pow(2, 3, 3))  # 2 ** 3 % 3\\n\\n# 18 反转顺序\\nl = [1, 4, 3, 5]\\nres = reversed(l)\\nprint(list(res))\\nprint(l)\\n\\n# 19 四舍五入\\nprint(round(3.5))\\nprint(round(3.4))\\n\\n# 20 切片对象\\nsc = slice(1, 5, 2)  # 1:5:2\\nl = [\\'a\\', \\'b\\', \\'c\\', \\'d\\', \\'e\\', \\'f\\']\\n# print(l[1:5:2])\\nprint(l[sc])\\n\\nt = (1, 2, 3, 4, 5, 6, 7, 8)\\n# print(t[1:5:2])\\nprint(t[sc])\\n\\n# 21 求和\\nprint(sum([1, 2, 3, 4]))\\n\\n# 22 拉链函数\\nleft = \\'hello\\'\\nright1 = {\\'x\\': 1, \\'y\\': 2, \\'z\\': 3}\\nright2 = [1, 2, 3, 4, 5]\\n\\nres1 = zip(left, right1)\\nres2 = zip(left, right2)\\nprint(list(res1))\\nprint(list(res2))', '# 1 取绝对值\\nprint(abs(-1))  # 绝对值\\n\\n# 2 逻辑判断\\nprint(all([1, \\'a\\', True]))  # 列表中所有元素的布尔值为真，最终结果才为真\\nprint(any([0, \\'a\\', None, False]))  # 列表中所有元素的布尔值只要有一个为真，最终结果就为真\\nprint(any([]))  # 传给any的可迭代对象如果为空，最终结果为假\\n\\n# 3 进制转换\\nprint(bin(11))  # 十进制转二进制\\nprint(oct(11))  # 十进制转八进制\\nprint(hex(11))  # 十进制转十六进制\\n\\n# 4 布尔值判断\\nprint(bool(0))  # 0,None,空的布尔值为假\\n\\n# 5 bytes类型构造\\n# res=\\'你好Albert\\'.encode(\\'utf-8\\') # unicode按照utf-8进行编码，得到的结果为bytes类型\\nres = bytes(\\'你好Albert\\', encoding=\\'utf-8\\')  # 同上\\nprint(res)\\n\\n\\n# 6 对象是否可调用\\ndef func():\\n    pass\\n\\n\\nprint(callable(func))  # 判断某个对象是否是可以调用的，可调用指的是可以加括号执行某个功能\\nprint(callable(\\'abc\\'.strip))  # 判断某个对象是否是可以调用的，可调用指的是可以加括号执行某个功能\\nprint(callable(max))  # 判断某个对象是否是可以调用的，可调用指的是可以加括号执行某个功能\\n\\n# 7 字符与十进制转换\\nprint(chr(90))  # 按照ascii码表将十进制数字转成字符\\nprint(ord(\\'Z\\'))  # 按照ascii码表将字符转成十进制数字\\n\\n# 8 查看对象下可调用的方法\\nprint(dir(\\'abc\\'))  # 查看某个对象下可以调用到哪些方法\\n\\n# 9 去商和余数，返回元组\\nprint(divmod(1311, 25))\\n\\n# 10 将字符内的表达式拿出运行一下，并拿到该表达式的执行结果\\nres1 = eval(\\'2*3\\')\\nprint(res1, type(res1))\\nres2 = eval(\\'[1,2,3,4]\\')\\nprint(res2, type(res2))\\nres3 = eval(\\'{\"name\":\"Albert\",\"age\":18}\\')\\nprint(res3, type(res3))\\n\\n# 11 集合添加\\ns = {1, 2, 3}\\ns.add(4)  # 集合添加一个元素\\nprint(s)\\n\\n# 12 不可变集合\\nf_set = frozenset({1, 2, 3})  # 不可变集合\\n\\n# 13 名字与值的绑定关系\\nx = 2\\nprint(globals())  # 查看全局作用域中的名字与值的绑定关系\\nprint(dir(globals()[\\'__builtins__\\']))\\n\\n\\ndef func():\\n    x = 1\\n    print(locals())  # 查看局部作用域中的名字与值的绑定关系\\n\\n\\nfunc()\\n\\n# 14 哈希\\nprint(hash(\\'a\\'))\\nprint(hash((1, 2, 3, 4)))\\n\\n\\n# dict1 = {[1, 2, 3]: \\'a\\'}  # 报错，字典的key必须是不可变类型\\n\\n# 不可hash的类型list,dict,set==  可变的类型\\n# 可hash的类型int,float,str,tuple ==  不可变的类型\\n\\n# 哈希下一章节会有更加详细的讲解，这里先了解即可\\n\\n# 15 查看文档注释\\ndef func():\\n#     \"\"\"\\n#     帮助信息\\n#     :return:\\n#     \"\"\"\\n    pass\\n\\n\\nprint(help(max))  # 查看文档注释\\nprint(help(func))\\n\\n# 16 len，next，iter等自动执行的方法\\n# __开头__结尾的方法都是在某种情况下自动触发执行，通常我们不需要自己写\\nprint(len({\\'x\\': 1, \\'y\\': 2}))  # 触发 {\\'x\\':1,\\'y\\':2}.__len__()\\nprint({\\'x\\': 1, \\'y\\': 2}.__len__())  # 与上面等同\\nobj = iter(\\'Albert\\')  # \\'Albert\\'.__iter__()\\nprint(next(obj))  # obj.__next__()\\n\\n# 17 2**3 % 3\\nprint(pow(2, 3, 3))  # 2 ** 3 % 3\\n\\n# 18 反转顺序\\nl = [1, 4, 3, 5]\\nres = reversed(l)\\nprint(list(res))\\nprint(l)\\n\\n# 19 四舍五入\\nprint(round(3.5))\\nprint(round(3.4))\\n\\n# 20 切片对象\\nsc = slice(1, 5, 2)  # 1:5:2\\nl = [\\'a\\', \\'b\\', \\'c\\', \\'d\\', \\'e\\', \\'f\\']\\n# print(l[1:5:2])\\nprint(l[sc])\\n\\nt = (1, 2, 3, 4, 5, 6, 7, 8)\\n# print(t[1:5:2])\\nprint(t[sc])\\n\\n# 21 求和\\nprint(sum([1, 2, 3, 4]))\\n\\n# 22 拉链函数\\nleft = \\'hello\\'\\nright1 = {\\'x\\': 1, \\'y\\': 2, \\'z\\': 3}\\nright2 = [1, 2, 3, 4, 5]\\n\\nres1 = zip(left, right1)\\nres2 = zip(left, right2)\\nprint(list(res1))\\nprint(list(res2))'], 'Out': {13: '\\n区别：\\n    format本意就是变形的意思，72变，需要什么我就变什么\\n    % 是一个基本的占位符，只能给字符串，哦，怕程序不理解，是真正的字符串占位\\n'}, 'get_ipython': <bound method InteractiveShell.get_ipython of <ipykernel.zmqshell.ZMQInteractiveShell object at 0x000001F46FC5E3C8>>, 'exit': <IPython.core.autocall.ZMQExitAutocall object at 0x000001F46FCBDF98>, 'quit': <IPython.core.autocall.ZMQExitAutocall object at 0x000001F46FCBDF98>, '_': '\\n区别：\\n    format本意就是变形的意思，72变，需要什么我就变什么\\n    % 是一个基本的占位符，只能给字符串，哦，怕程序不理解，是真正的字符串占位\\n', '__': '', '___': '', '_i': '# 1 取绝对值\\nprint(abs(-1))  # 绝对值\\n\\n# 2 逻辑判断\\nprint(all([1, \\'a\\', True]))  # 列表中所有元素的布尔值为真，最终结果才为真\\nprint(any([0, \\'a\\', None, False]))  # 列表中所有元素的布尔值只要有一个为真，最终结果就为真\\nprint(any([]))  # 传给any的可迭代对象如果为空，最终结果为假\\n\\n# 3 进制转换\\nprint(bin(11))  # 十进制转二进制\\nprint(oct(11))  # 十进制转八进制\\nprint(hex(11))  # 十进制转十六进制\\n\\n# 4 布尔值判断\\nprint(bool(0))  # 0,None,空的布尔值为假\\n\\n# 5 bytes类型构造\\n# res=\\'你好Albert\\'.encode(\\'utf-8\\') # unicode按照utf-8进行编码，得到的结果为bytes类型\\nres = bytes(\\'你好Albert\\', encoding=\\'utf-8\\')  # 同上\\nprint(res)\\n\\n\\n# 6 对象是否可调用\\ndef func():\\n    pass\\n\\n\\nprint(callable(func))  # 判断某个对象是否是可以调用的，可调用指的是可以加括号执行某个功能\\nprint(callable(\\'abc\\'.strip))  # 判断某个对象是否是可以调用的，可调用指的是可以加括号执行某个功能\\nprint(callable(max))  # 判断某个对象是否是可以调用的，可调用指的是可以加括号执行某个功能\\n\\n# 7 字符与十进制转换\\nprint(chr(90))  # 按照ascii码表将十进制数字转成字符\\nprint(ord(\\'Z\\'))  # 按照ascii码表将字符转成十进制数字\\n\\n# 8 查看对象下可调用的方法\\nprint(dir(\\'abc\\'))  # 查看某个对象下可以调用到哪些方法\\n\\n# 9 去商和余数，返回元组\\nprint(divmod(1311, 25))\\n\\n# 10 将字符内的表达式拿出运行一下，并拿到该表达式的执行结果\\nres1 = eval(\\'2*3\\')\\nprint(res1, type(res1))\\nres2 = eval(\\'[1,2,3,4]\\')\\nprint(res2, type(res2))\\nres3 = eval(\\'{\"name\":\"Albert\",\"age\":18}\\')\\nprint(res3, type(res3))\\n\\n# 11 集合添加\\ns = {1, 2, 3}\\ns.add(4)  # 集合添加一个元素\\nprint(s)\\n\\n# 12 不可变集合\\nf_set = frozenset({1, 2, 3})  # 不可变集合\\n\\n# 13 名字与值的绑定关系\\nx = 2\\nprint(globals())  # 查看全局作用域中的名字与值的绑定关系\\nprint(dir(globals()[\\'__builtins__\\']))\\n\\n\\ndef func():\\n    x = 1\\n    print(locals())  # 查看局部作用域中的名字与值的绑定关系\\n\\n\\nfunc()\\n\\n# 14 哈希\\nprint(hash(\\'a\\'))\\nprint(hash((1, 2, 3, 4)))\\n\\n\\n# dict1 = {[1, 2, 3]: \\'a\\'}  # 报错，字典的key必须是不可变类型\\n\\n# 不可hash的类型list,dict,set==  可变的类型\\n# 可hash的类型int,float,str,tuple ==  不可变的类型\\n\\n# 哈希下一章节会有更加详细的讲解，这里先了解即可\\n\\n# 15 查看文档注释\\ndef func():\\n#     \"\"\"\\n#     帮助信息\\n#     :return:\\n#     \"\"\"\\n    pass\\n\\n\\nprint(help(max))  # 查看文档注释\\nprint(help(func))\\n\\n# 16 len，next，iter等自动执行的方法\\n# __开头__结尾的方法都是在某种情况下自动触发执行，通常我们不需要自己写\\nprint(len({\\'x\\': 1, \\'y\\': 2}))  # 触发 {\\'x\\':1,\\'y\\':2}.__len__()\\nprint({\\'x\\': 1, \\'y\\': 2}.__len__())  # 与上面等同\\nobj = iter(\\'Albert\\')  # \\'Albert\\'.__iter__()\\nprint(next(obj))  # obj.__next__()\\n\\n# 17 2**3 % 3\\nprint(pow(2, 3, 3))  # 2 ** 3 % 3\\n\\n# 18 反转顺序\\nl = [1, 4, 3, 5]\\nres = reversed(l)\\nprint(list(res))\\nprint(l)\\n\\n# 19 四舍五入\\nprint(round(3.5))\\nprint(round(3.4))\\n\\n# 20 切片对象\\nsc = slice(1, 5, 2)  # 1:5:2\\nl = [\\'a\\', \\'b\\', \\'c\\', \\'d\\', \\'e\\', \\'f\\']\\n# print(l[1:5:2])\\nprint(l[sc])\\n\\nt = (1, 2, 3, 4, 5, 6, 7, 8)\\n# print(t[1:5:2])\\nprint(t[sc])\\n\\n# 21 求和\\nprint(sum([1, 2, 3, 4]))\\n\\n# 22 拉链函数\\nleft = \\'hello\\'\\nright1 = {\\'x\\': 1, \\'y\\': 2, \\'z\\': 3}\\nright2 = [1, 2, 3, 4, 5]\\n\\nres1 = zip(left, right1)\\nres2 = zip(left, right2)\\nprint(list(res1))\\nprint(list(res2))', '_ii': '# 1 取绝对值\\nprint(abs(-1))  # 绝对值\\n\\n# 2 逻辑判断\\nprint(all([1, \\'a\\', True]))  # 列表中所有元素的布尔值为真，最终结果才为真\\nprint(any([0, \\'a\\', None, False]))  # 列表中所有元素的布尔值只要有一个为真，最终结果就为真\\nprint(any([]))  # 传给any的可迭代对象如果为空，最终结果为假\\n\\n# 3 进制转换\\nprint(bin(11))  # 十进制转二进制\\nprint(oct(11))  # 十进制转八进制\\nprint(hex(11))  # 十进制转十六进制\\n\\n# 4 布尔值判断\\nprint(bool(0))  # 0,None,空的布尔值为假\\n\\n# 5 bytes类型构造\\n# res=\\'你好Albert\\'.encode(\\'utf-8\\') # unicode按照utf-8进行编码，得到的结果为bytes类型\\nres = bytes(\\'你好Albert\\', encoding=\\'utf-8\\')  # 同上\\nprint(res)\\n\\n\\n# 6 对象是否可调用\\ndef func():\\n    pass\\n\\n\\nprint(callable(func))  # 判断某个对象是否是可以调用的，可调用指的是可以加括号执行某个功能\\nprint(callable(\\'abc\\'.strip))  # 判断某个对象是否是可以调用的，可调用指的是可以加括号执行某个功能\\nprint(callable(max))  # 判断某个对象是否是可以调用的，可调用指的是可以加括号执行某个功能\\n\\n# 7 字符与十进制转换\\nprint(chr(90))  # 按照ascii码表将十进制数字转成字符\\nprint(ord(\\'Z\\'))  # 按照ascii码表将字符转成十进制数字\\n\\n# 8 查看对象下可调用的方法\\nprint(dir(\\'abc\\'))  # 查看某个对象下可以调用到哪些方法\\n\\n# 9 去商和余数，返回元组\\nprint(divmod(1311, 25))\\n\\n# 10 将字符内的表达式拿出运行一下，并拿到该表达式的执行结果\\nres1 = eval(\\'2*3\\')\\nprint(res1, type(res1))\\nres2 = eval(\\'[1,2,3,4]\\')\\nprint(res2, type(res2))\\nres3 = eval(\\'{\"name\":\"Albert\",\"age\":18}\\')\\nprint(res3, type(res3))\\n\\n# 11 集合添加\\ns = {1, 2, 3}\\ns.add(4)  # 集合添加一个元素\\nprint(s)\\n\\n# 12 不可变集合\\nf_set = frozenset({1, 2, 3})  # 不可变集合\\n\\n# 13 名字与值的绑定关系\\nx = 2\\nprint(globals())  # 查看全局作用域中的名字与值的绑定关系\\nprint(dir(globals()[\\'__builtins__\\']))\\n\\n\\ndef func():\\n    x = 1\\n    print(locals())  # 查看局部作用域中的名字与值的绑定关系\\n\\n\\nfunc()\\n\\n# 14 哈希\\nprint(hash(\\'a\\'))\\nprint(hash((1, 2, 3, 4)))\\n\\n\\n# dict1 = {[1, 2, 3]: \\'a\\'}  # 报错，字典的key必须是不可变类型\\n\\n# 不可hash的类型list,dict,set==  可变的类型\\n# 可hash的类型int,float,str,tuple ==  不可变的类型\\n\\n# 哈希下一章节会有更加详细的讲解，这里先了解即可\\n\\n# 15 查看文档注释\\ndef func():\\n    \"\"\"\\n    帮助信息\\n    :return:\\n    \"\"\"\\n    pass\\n\\n\\nprint(help(max))  # 查看文档注释\\nprint(help(func))\\n\\n# 16 len，next，iter等自动执行的方法\\n# __开头__结尾的方法都是在某种情况下自动触发执行，通常我们不需要自己写\\nprint(len({\\'x\\': 1, \\'y\\': 2}))  # 触发 {\\'x\\':1,\\'y\\':2}.__len__()\\nprint({\\'x\\': 1, \\'y\\': 2}.__len__())  # 与上面等同\\nobj = iter(\\'Albert\\')  # \\'Albert\\'.__iter__()\\nprint(next(obj))  # obj.__next__()\\n\\n# 17 2**3 % 3\\nprint(pow(2, 3, 3))  # 2 ** 3 % 3\\n\\n# 18 反转顺序\\nl = [1, 4, 3, 5]\\nres = reversed(l)\\nprint(list(res))\\nprint(l)\\n\\n# 19 四舍五入\\nprint(round(3.5))\\nprint(round(3.4))\\n\\n# 20 切片对象\\nsc = slice(1, 5, 2)  # 1:5:2\\nl = [\\'a\\', \\'b\\', \\'c\\', \\'d\\', \\'e\\', \\'f\\']\\n# print(l[1:5:2])\\nprint(l[sc])\\n\\nt = (1, 2, 3, 4, 5, 6, 7, 8)\\n# print(t[1:5:2])\\nprint(t[sc])\\n\\n# 21 求和\\nprint(sum([1, 2, 3, 4]))\\n\\n# 22 拉链函数\\nleft = \\'hello\\'\\nright1 = {\\'x\\': 1, \\'y\\': 2, \\'z\\': 3}\\nright2 = [1, 2, 3, 4, 5]\\n\\nres1 = zip(left, right1)\\nres2 = zip(left, right2)\\nprint(list(res1))\\nprint(list(res2))', '_iii': '# [4] float精度调整\\nprint(\\'{:.5f}\\'.format(3.14159265753))\\n\\n# 进度通常和float类型一起使用\\n# 其中.5表示长度为5的精度\\n# 3.14159\\n# [5] 千位分隔符\\nprint(\"{:,}\".format(1234567890))\\n\\n# \\'1,234,567,890\\'\\n# [6] 进制转换\\n# b、d、o、x分别是二进制、十进制、八进制、十六进制\\n\\nprint(\"{:b}\".format(18))\\nprint(\"{:d}\".format(18))\\nprint(\"{:o}\".format(18))\\nprint(\"{:x}\".format(18))', '_i1': 'def max2(x, y):\\n    if x > y:\\n        return x\\n    else:\\n        return y\\n\\n\\nres = max2(10, 11)\\nprint(res)', 'max2': <function max2 at 0x000001F46FDB2BF8>, 'res': b'\\xe4\\xbd\\xa0\\xe5\\xa5\\xbdAlbert', '_i2': 'def max2(x, y):\\n    if x > y:\\n        return x\\n    else:\\n        return y\\n\\n\\nres = max2(10, 11)\\nprint(res)', '_i3': '# 三元表达式仅应用于：条件成立返回 一个值，条件不成立返回一个值。\\nx = 12\\ny = 11\\n\\n# 三元分别指的是if左边，else右边和if条件语句\\nres = x if x > y else y  # 注意不要有逗号或者冒号\\nprint(res)', 'x': 2, 'y': 11, '_i4': '# 三元表达式仅应用于：条件成立返回 一个值，条件不成立返回一个值。\\nx = 12\\ny = 11\\n\\n# 三元分别指的是if左边，else右边和if条件语句\\nres = x if x > y else y  # 注意不要有逗号或者冒号\\nprint(res)', '_i5': 'def max2(x, y):\\n    return x if x > y else y\\n\\n\\nprint(max2(10, 11))', '_i6': 'def max2(x, y):\\n    return x if x > y else y\\n\\n\\nprint(max2(10, 11))', '_i7': 'def get_age(n):\\n    if n == 1:\\n        return 18\\n    return get_age(n - 1) + 2  # age(4)+2\\n\\n    # 可以写成以下三元表达式形式，貌似高端，但是会让程序看起来不够简洁\\n    # return 18 if n == 1 else age(n - 1) + 2\\n\\n\\nprint(get_age(5))', 'get_age': <function get_age at 0x000001F46FDB2B70>, '_i8': 'def get_age(n):\\n    if n == 1:\\n        return 18\\n    return get_age(n - 1) + 2  # age(4)+2\\n\\n    # 可以写成以下三元表达式形式，貌似高端，但是会让程序看起来不够简洁\\n    # return 18 if n == 1 else age(n - 1) + 2\\n\\n\\nprint(get_age(5))', '_i9': \"res = '{} {} {}'.format('Albert', 18, 'male')  # 相当于%s，其占位符的作用\\nprint(res)\\nres = '{1} {0} {1}'.format('Albert', 18, 'male')  # 按照索引对应值，与索引序列相关\\nprint(res)\\nres = '{name} {age} {sex}'.format(sex='male', name='Albert', age=18)  # 按照关键字对应值，只与key对应\\nprint(res)\", '_i10': \"res = '{} {} {}'.format('Albert', 18, 'male')  # 相当于%s，其占位符的作用\\nprint(res)\\nres = '{1} {0} {1}'.format('Albert', 18, 'male')  # 按照索引对应值，与索引序列相关\\nprint(res)\\nres = '{name} {age} {sex}'.format(sex='male', name='Albert', age=18)  # 按照关键字对应值，只与key对应\\nprint(res)\", '_i11': '# <2> 不同点\\n# [1] 占位形态\\n\\n# 定义一个坐标值\\nc = (250, 250)\\n# 使用%来格式化\\ns1 = \"敌人坐标：%s\" % c\\nprint(s1)\\n\\n\"\"\"\\n报错说明：\\nnot all arguments converted during string formatting\\n翻译：在执行字符串格式化期间，不是所有的字符串都能被转化\\n其实道理很简单，因为执行字符串转化的时候，程序以为变量c是一个字符串才去进行转化的，然而一转化，才发现：\\n老兄，你坑我啊，你这个字符串我怎么看不明白啊（用 % 去执行这个程序的时候，默认以为 c 是一个字符串），\\n从始至终至终程序都是为c是一个字符串，其实它不是，所以才会有这样的报错\\n\"\"\"\\n\\n# 定义一个坐标值\\nc = (250, 250)\\n# 使用format来格式化\\ns1 = \"敌人坐标：{}\".format(c)\\nprint(s1)\\n\\n\"\"\"\\n区别：\\n    format本意就是变形的意思，72变，需要什么我就变什么\\n    % 是一个基本的占位符，只能给字符串，哦，怕程序不理解，是真正的字符串占位\\n\"\"\"', 'c': (250, 250), '_i12': '# <2> 不同点\\n# [1] 占位形态\\n\\n# 定义一个坐标值\\nc = (250, 250)\\n# 使用%来格式化\\ns1 = \"敌人坐标：%s\" % c\\nprint(s1)\\n\\n\"\"\"\\n报错说明：\\nnot all arguments converted during string formatting\\n翻译：在执行字符串格式化期间，不是所有的字符串都能被转化\\n其实道理很简单，因为执行字符串转化的时候，程序以为变量c是一个字符串才去进行转化的，然而一转化，才发现：\\n老兄，你坑我啊，你这个字符串我怎么看不明白啊（用 % 去执行这个程序的时候，默认以为 c 是一个字符串），\\n从始至终至终程序都是为c是一个字符串，其实它不是，所以才会有这样的报错\\n\"\"\"', '_i13': '\\n# 定义一个坐标值\\nc = (250, 250)\\n# 使用format来格式化\\ns1 = \"敌人坐标：{}\".format(c)\\nprint(s1)\\n\\n\"\"\"\\n区别：\\n    format本意就是变形的意思，72变，需要什么我就变什么\\n    % 是一个基本的占位符，只能给字符串，哦，怕程序不理解，是真正的字符串占位\\n\"\"\"', 's1': '敌人坐标：(250, 250)', '_13': '\\n区别：\\n    format本意就是变形的意思，72变，需要什么我就变什么\\n    % 是一个基本的占位符，只能给字符串，哦，怕程序不理解，是真正的字符串占位\\n', '_i14': '\\n# 定义一个坐标值\\nc = (250, 250)\\n# 使用format来格式化\\ns1 = \"敌人坐标：{}\".format(c)\\nprint(s1)\\n\\n# \"\"\"\\n# 区别：\\n#     format本意就是变形的意思，72变，需要什么我就变什么\\n#     % 是一个基本的占位符，只能给字符串，哦，怕程序不理解，是真正的字符串占位\\n# \"\"\"', '_i15': '\\n# 定义一个坐标值\\nc = (250, 250)\\n# 使用format来格式化\\ns1 = \"敌人坐标：{}\".format(c)\\nprint(s1)\\n\\n# \"\"\"\\n# 区别：\\n#     format本意就是变形的意思，72变，需要什么我就变什么\\n#     % 是一个基本的占位符，只能给字符串，哦，怕程序不理解，是真正的字符串占位\\n# \"\"\"', '_i16': '# [4] float精度调整\\nprint(\\'{:.5f}\\'.format(3.14159265753))\\n\\n# 进度通常和float类型一起使用\\n# 其中.5表示长度为5的精度\\n# 3.14159\\n# [5] 千位分隔符\\nprint(\"{:,}\".format(1234567890))\\n\\n# \\'1,234,567,890\\'\\n# [6] 进制转换\\n# b、d、o、x分别是二进制、十进制、八进制、十六进制\\n\\nprint(\"{:b}\".format(18))\\nprint(\"{:d}\".format(18))\\nprint(\"{:o}\".format(18))\\nprint(\"{:x}\".format(18))', '_i17': '# [4] float精度调整\\nprint(\\'{:.5f}\\'.format(3.14159265753))\\n\\n# 进度通常和float类型一起使用\\n# 其中.5表示长度为5的精度\\n# 3.14159\\n# [5] 千位分隔符\\nprint(\"{:,}\".format(1234567890))\\n\\n# \\'1,234,567,890\\'\\n# [6] 进制转换\\n# b、d、o、x分别是二进制、十进制、八进制、十六进制\\n\\nprint(\"{:b}\".format(18))\\nprint(\"{:d}\".format(18))\\nprint(\"{:o}\".format(18))\\nprint(\"{:x}\".format(18))', '_i18': '# 1 取绝对值\\nprint(abs(-1))  # 绝对值\\n\\n# 2 逻辑判断\\nprint(all([1, \\'a\\', True]))  # 列表中所有元素的布尔值为真，最终结果才为真\\nprint(any([0, \\'a\\', None, False]))  # 列表中所有元素的布尔值只要有一个为真，最终结果就为真\\nprint(any([]))  # 传给any的可迭代对象如果为空，最终结果为假\\n\\n# 3 进制转换\\nprint(bin(11))  # 十进制转二进制\\nprint(oct(11))  # 十进制转八进制\\nprint(hex(11))  # 十进制转十六进制\\n\\n# 4 布尔值判断\\nprint(bool(0))  # 0,None,空的布尔值为假\\n\\n# 5 bytes类型构造\\n# res=\\'你好Albert\\'.encode(\\'utf-8\\') # unicode按照utf-8进行编码，得到的结果为bytes类型\\nres = bytes(\\'你好Albert\\', encoding=\\'utf-8\\')  # 同上\\nprint(res)\\n\\n\\n# 6 对象是否可调用\\ndef func():\\n    pass\\n\\n\\nprint(callable(func))  # 判断某个对象是否是可以调用的，可调用指的是可以加括号执行某个功能\\nprint(callable(\\'abc\\'.strip))  # 判断某个对象是否是可以调用的，可调用指的是可以加括号执行某个功能\\nprint(callable(max))  # 判断某个对象是否是可以调用的，可调用指的是可以加括号执行某个功能\\n\\n# 7 字符与十进制转换\\nprint(chr(90))  # 按照ascii码表将十进制数字转成字符\\nprint(ord(\\'Z\\'))  # 按照ascii码表将字符转成十进制数字\\n\\n# 8 查看对象下可调用的方法\\nprint(dir(\\'abc\\'))  # 查看某个对象下可以调用到哪些方法\\n\\n# 9 去商和余数，返回元组\\nprint(divmod(1311, 25))\\n\\n# 10 将字符内的表达式拿出运行一下，并拿到该表达式的执行结果\\nres1 = eval(\\'2*3\\')\\nprint(res1, type(res1))\\nres2 = eval(\\'[1,2,3,4]\\')\\nprint(res2, type(res2))\\nres3 = eval(\\'{\"name\":\"Albert\",\"age\":18}\\')\\nprint(res3, type(res3))\\n\\n# 11 集合添加\\ns = {1, 2, 3}\\ns.add(4)  # 集合添加一个元素\\nprint(s)\\n\\n# 12 不可变集合\\nf_set = frozenset({1, 2, 3})  # 不可变集合\\n\\n# 13 名字与值的绑定关系\\nx = 2\\nprint(globals())  # 查看全局作用域中的名字与值的绑定关系\\nprint(dir(globals()[\\'__builtins__\\']))\\n\\n\\ndef func():\\n    x = 1\\n    print(locals())  # 查看局部作用域中的名字与值的绑定关系\\n\\n\\nfunc()\\n\\n# 14 哈希\\nprint(hash(\\'a\\'))\\nprint(hash((1, 2, 3, 4)))\\n\\n\\n# dict1 = {[1, 2, 3]: \\'a\\'}  # 报错，字典的key必须是不可变类型\\n\\n# 不可hash的类型list,dict,set==  可变的类型\\n# 可hash的类型int,float,str,tuple ==  不可变的类型\\n\\n# 哈希下一章节会有更加详细的讲解，这里先了解即可\\n\\n# 15 查看文档注释\\ndef func():\\n    \"\"\"\\n    帮助信息\\n    :return:\\n    \"\"\"\\n    pass\\n\\n\\nprint(help(max))  # 查看文档注释\\nprint(help(func))\\n\\n# 16 len，next，iter等自动执行的方法\\n# __开头__结尾的方法都是在某种情况下自动触发执行，通常我们不需要自己写\\nprint(len({\\'x\\': 1, \\'y\\': 2}))  # 触发 {\\'x\\':1,\\'y\\':2}.__len__()\\nprint({\\'x\\': 1, \\'y\\': 2}.__len__())  # 与上面等同\\nobj = iter(\\'Albert\\')  # \\'Albert\\'.__iter__()\\nprint(next(obj))  # obj.__next__()\\n\\n# 17 2**3 % 3\\nprint(pow(2, 3, 3))  # 2 ** 3 % 3\\n\\n# 18 反转顺序\\nl = [1, 4, 3, 5]\\nres = reversed(l)\\nprint(list(res))\\nprint(l)\\n\\n# 19 四舍五入\\nprint(round(3.5))\\nprint(round(3.4))\\n\\n# 20 切片对象\\nsc = slice(1, 5, 2)  # 1:5:2\\nl = [\\'a\\', \\'b\\', \\'c\\', \\'d\\', \\'e\\', \\'f\\']\\n# print(l[1:5:2])\\nprint(l[sc])\\n\\nt = (1, 2, 3, 4, 5, 6, 7, 8)\\n# print(t[1:5:2])\\nprint(t[sc])\\n\\n# 21 求和\\nprint(sum([1, 2, 3, 4]))\\n\\n# 22 拉链函数\\nleft = \\'hello\\'\\nright1 = {\\'x\\': 1, \\'y\\': 2, \\'z\\': 3}\\nright2 = [1, 2, 3, 4, 5]\\n\\nres1 = zip(left, right1)\\nres2 = zip(left, right2)\\nprint(list(res1))\\nprint(list(res2))', 'func': <function func at 0x000001F46FE87EA0>, 'res1': 6, 'res2': [1, 2, 3, 4], 'res3': {'name': 'Albert', 'age': 18}, 's': {1, 2, 3, 4}, 'f_set': frozenset({1, 2, 3}), 'obj': <str_iterator object at 0x000001F46FE83B70>, 'l': ['a', 'b', 'c', 'd', 'e', 'f'], 'sc': slice(1, 5, 2), 't': (1, 2, 3, 4, 5, 6, 7, 8), 'left': 'hello', 'right1': {'x': 1, 'y': 2, 'z': 3}, 'right2': [1, 2, 3, 4, 5], '_i19': '# 1 取绝对值\\nprint(abs(-1))  # 绝对值\\n\\n# 2 逻辑判断\\nprint(all([1, \\'a\\', True]))  # 列表中所有元素的布尔值为真，最终结果才为真\\nprint(any([0, \\'a\\', None, False]))  # 列表中所有元素的布尔值只要有一个为真，最终结果就为真\\nprint(any([]))  # 传给any的可迭代对象如果为空，最终结果为假\\n\\n# 3 进制转换\\nprint(bin(11))  # 十进制转二进制\\nprint(oct(11))  # 十进制转八进制\\nprint(hex(11))  # 十进制转十六进制\\n\\n# 4 布尔值判断\\nprint(bool(0))  # 0,None,空的布尔值为假\\n\\n# 5 bytes类型构造\\n# res=\\'你好Albert\\'.encode(\\'utf-8\\') # unicode按照utf-8进行编码，得到的结果为bytes类型\\nres = bytes(\\'你好Albert\\', encoding=\\'utf-8\\')  # 同上\\nprint(res)\\n\\n\\n# 6 对象是否可调用\\ndef func():\\n    pass\\n\\n\\nprint(callable(func))  # 判断某个对象是否是可以调用的，可调用指的是可以加括号执行某个功能\\nprint(callable(\\'abc\\'.strip))  # 判断某个对象是否是可以调用的，可调用指的是可以加括号执行某个功能\\nprint(callable(max))  # 判断某个对象是否是可以调用的，可调用指的是可以加括号执行某个功能\\n\\n# 7 字符与十进制转换\\nprint(chr(90))  # 按照ascii码表将十进制数字转成字符\\nprint(ord(\\'Z\\'))  # 按照ascii码表将字符转成十进制数字\\n\\n# 8 查看对象下可调用的方法\\nprint(dir(\\'abc\\'))  # 查看某个对象下可以调用到哪些方法\\n\\n# 9 去商和余数，返回元组\\nprint(divmod(1311, 25))\\n\\n# 10 将字符内的表达式拿出运行一下，并拿到该表达式的执行结果\\nres1 = eval(\\'2*3\\')\\nprint(res1, type(res1))\\nres2 = eval(\\'[1,2,3,4]\\')\\nprint(res2, type(res2))\\nres3 = eval(\\'{\"name\":\"Albert\",\"age\":18}\\')\\nprint(res3, type(res3))\\n\\n# 11 集合添加\\ns = {1, 2, 3}\\ns.add(4)  # 集合添加一个元素\\nprint(s)\\n\\n# 12 不可变集合\\nf_set = frozenset({1, 2, 3})  # 不可变集合\\n\\n# 13 名字与值的绑定关系\\nx = 2\\nprint(globals())  # 查看全局作用域中的名字与值的绑定关系\\nprint(dir(globals()[\\'__builtins__\\']))\\n\\n\\ndef func():\\n    x = 1\\n    print(locals())  # 查看局部作用域中的名字与值的绑定关系\\n\\n\\nfunc()\\n\\n# 14 哈希\\nprint(hash(\\'a\\'))\\nprint(hash((1, 2, 3, 4)))\\n\\n\\n# dict1 = {[1, 2, 3]: \\'a\\'}  # 报错，字典的key必须是不可变类型\\n\\n# 不可hash的类型list,dict,set==  可变的类型\\n# 可hash的类型int,float,str,tuple ==  不可变的类型\\n\\n# 哈希下一章节会有更加详细的讲解，这里先了解即可\\n\\n# 15 查看文档注释\\ndef func():\\n#     \"\"\"\\n#     帮助信息\\n#     :return:\\n#     \"\"\"\\n    pass\\n\\n\\nprint(help(max))  # 查看文档注释\\nprint(help(func))\\n\\n# 16 len，next，iter等自动执行的方法\\n# __开头__结尾的方法都是在某种情况下自动触发执行，通常我们不需要自己写\\nprint(len({\\'x\\': 1, \\'y\\': 2}))  # 触发 {\\'x\\':1,\\'y\\':2}.__len__()\\nprint({\\'x\\': 1, \\'y\\': 2}.__len__())  # 与上面等同\\nobj = iter(\\'Albert\\')  # \\'Albert\\'.__iter__()\\nprint(next(obj))  # obj.__next__()\\n\\n# 17 2**3 % 3\\nprint(pow(2, 3, 3))  # 2 ** 3 % 3\\n\\n# 18 反转顺序\\nl = [1, 4, 3, 5]\\nres = reversed(l)\\nprint(list(res))\\nprint(l)\\n\\n# 19 四舍五入\\nprint(round(3.5))\\nprint(round(3.4))\\n\\n# 20 切片对象\\nsc = slice(1, 5, 2)  # 1:5:2\\nl = [\\'a\\', \\'b\\', \\'c\\', \\'d\\', \\'e\\', \\'f\\']\\n# print(l[1:5:2])\\nprint(l[sc])\\n\\nt = (1, 2, 3, 4, 5, 6, 7, 8)\\n# print(t[1:5:2])\\nprint(t[sc])\\n\\n# 21 求和\\nprint(sum([1, 2, 3, 4]))\\n\\n# 22 拉链函数\\nleft = \\'hello\\'\\nright1 = {\\'x\\': 1, \\'y\\': 2, \\'z\\': 3}\\nright2 = [1, 2, 3, 4, 5]\\n\\nres1 = zip(left, right1)\\nres2 = zip(left, right2)\\nprint(list(res1))\\nprint(list(res2))', '_i20': '# 1 取绝对值\\nprint(abs(-1))  # 绝对值\\n\\n# 2 逻辑判断\\nprint(all([1, \\'a\\', True]))  # 列表中所有元素的布尔值为真，最终结果才为真\\nprint(any([0, \\'a\\', None, False]))  # 列表中所有元素的布尔值只要有一个为真，最终结果就为真\\nprint(any([]))  # 传给any的可迭代对象如果为空，最终结果为假\\n\\n# 3 进制转换\\nprint(bin(11))  # 十进制转二进制\\nprint(oct(11))  # 十进制转八进制\\nprint(hex(11))  # 十进制转十六进制\\n\\n# 4 布尔值判断\\nprint(bool(0))  # 0,None,空的布尔值为假\\n\\n# 5 bytes类型构造\\n# res=\\'你好Albert\\'.encode(\\'utf-8\\') # unicode按照utf-8进行编码，得到的结果为bytes类型\\nres = bytes(\\'你好Albert\\', encoding=\\'utf-8\\')  # 同上\\nprint(res)\\n\\n\\n# 6 对象是否可调用\\ndef func():\\n    pass\\n\\n\\nprint(callable(func))  # 判断某个对象是否是可以调用的，可调用指的是可以加括号执行某个功能\\nprint(callable(\\'abc\\'.strip))  # 判断某个对象是否是可以调用的，可调用指的是可以加括号执行某个功能\\nprint(callable(max))  # 判断某个对象是否是可以调用的，可调用指的是可以加括号执行某个功能\\n\\n# 7 字符与十进制转换\\nprint(chr(90))  # 按照ascii码表将十进制数字转成字符\\nprint(ord(\\'Z\\'))  # 按照ascii码表将字符转成十进制数字\\n\\n# 8 查看对象下可调用的方法\\nprint(dir(\\'abc\\'))  # 查看某个对象下可以调用到哪些方法\\n\\n# 9 去商和余数，返回元组\\nprint(divmod(1311, 25))\\n\\n# 10 将字符内的表达式拿出运行一下，并拿到该表达式的执行结果\\nres1 = eval(\\'2*3\\')\\nprint(res1, type(res1))\\nres2 = eval(\\'[1,2,3,4]\\')\\nprint(res2, type(res2))\\nres3 = eval(\\'{\"name\":\"Albert\",\"age\":18}\\')\\nprint(res3, type(res3))\\n\\n# 11 集合添加\\ns = {1, 2, 3}\\ns.add(4)  # 集合添加一个元素\\nprint(s)\\n\\n# 12 不可变集合\\nf_set = frozenset({1, 2, 3})  # 不可变集合\\n\\n# 13 名字与值的绑定关系\\nx = 2\\nprint(globals())  # 查看全局作用域中的名字与值的绑定关系\\nprint(dir(globals()[\\'__builtins__\\']))\\n\\n\\ndef func():\\n    x = 1\\n    print(locals())  # 查看局部作用域中的名字与值的绑定关系\\n\\n\\nfunc()\\n\\n# 14 哈希\\nprint(hash(\\'a\\'))\\nprint(hash((1, 2, 3, 4)))\\n\\n\\n# dict1 = {[1, 2, 3]: \\'a\\'}  # 报错，字典的key必须是不可变类型\\n\\n# 不可hash的类型list,dict,set==  可变的类型\\n# 可hash的类型int,float,str,tuple ==  不可变的类型\\n\\n# 哈希下一章节会有更加详细的讲解，这里先了解即可\\n\\n# 15 查看文档注释\\ndef func():\\n#     \"\"\"\\n#     帮助信息\\n#     :return:\\n#     \"\"\"\\n    pass\\n\\n\\nprint(help(max))  # 查看文档注释\\nprint(help(func))\\n\\n# 16 len，next，iter等自动执行的方法\\n# __开头__结尾的方法都是在某种情况下自动触发执行，通常我们不需要自己写\\nprint(len({\\'x\\': 1, \\'y\\': 2}))  # 触发 {\\'x\\':1,\\'y\\':2}.__len__()\\nprint({\\'x\\': 1, \\'y\\': 2}.__len__())  # 与上面等同\\nobj = iter(\\'Albert\\')  # \\'Albert\\'.__iter__()\\nprint(next(obj))  # obj.__next__()\\n\\n# 17 2**3 % 3\\nprint(pow(2, 3, 3))  # 2 ** 3 % 3\\n\\n# 18 反转顺序\\nl = [1, 4, 3, 5]\\nres = reversed(l)\\nprint(list(res))\\nprint(l)\\n\\n# 19 四舍五入\\nprint(round(3.5))\\nprint(round(3.4))\\n\\n# 20 切片对象\\nsc = slice(1, 5, 2)  # 1:5:2\\nl = [\\'a\\', \\'b\\', \\'c\\', \\'d\\', \\'e\\', \\'f\\']\\n# print(l[1:5:2])\\nprint(l[sc])\\n\\nt = (1, 2, 3, 4, 5, 6, 7, 8)\\n# print(t[1:5:2])\\nprint(t[sc])\\n\\n# 21 求和\\nprint(sum([1, 2, 3, 4]))\\n\\n# 22 拉链函数\\nleft = \\'hello\\'\\nright1 = {\\'x\\': 1, \\'y\\': 2, \\'z\\': 3}\\nright2 = [1, 2, 3, 4, 5]\\n\\nres1 = zip(left, right1)\\nres2 = zip(left, right2)\\nprint(list(res1))\\nprint(list(res2))'}\n",
      "['ArithmeticError', 'AssertionError', 'AttributeError', 'BaseException', 'BlockingIOError', 'BrokenPipeError', 'BufferError', 'BytesWarning', 'ChildProcessError', 'ConnectionAbortedError', 'ConnectionError', 'ConnectionRefusedError', 'ConnectionResetError', 'DeprecationWarning', 'EOFError', 'Ellipsis', 'EnvironmentError', 'Exception', 'False', 'FileExistsError', 'FileNotFoundError', 'FloatingPointError', 'FutureWarning', 'GeneratorExit', 'IOError', 'ImportError', 'ImportWarning', 'IndentationError', 'IndexError', 'InterruptedError', 'IsADirectoryError', 'KeyError', 'KeyboardInterrupt', 'LookupError', 'MemoryError', 'ModuleNotFoundError', 'NameError', 'None', 'NotADirectoryError', 'NotImplemented', 'NotImplementedError', 'OSError', 'OverflowError', 'PendingDeprecationWarning', 'PermissionError', 'ProcessLookupError', 'RecursionError', 'ReferenceError', 'ResourceWarning', 'RuntimeError', 'RuntimeWarning', 'StopAsyncIteration', 'StopIteration', 'SyntaxError', 'SyntaxWarning', 'SystemError', 'SystemExit', 'TabError', 'TimeoutError', 'True', 'TypeError', 'UnboundLocalError', 'UnicodeDecodeError', 'UnicodeEncodeError', 'UnicodeError', 'UnicodeTranslateError', 'UnicodeWarning', 'UserWarning', 'ValueError', 'Warning', 'WindowsError', 'ZeroDivisionError', '__IPYTHON__', '__build_class__', '__debug__', '__doc__', '__import__', '__loader__', '__name__', '__package__', '__spec__', 'abs', 'all', 'any', 'ascii', 'bin', 'bool', 'bytearray', 'bytes', 'callable', 'chr', 'classmethod', 'compile', 'complex', 'copyright', 'credits', 'delattr', 'dict', 'dir', 'display', 'divmod', 'enumerate', 'eval', 'exec', 'filter', 'float', 'format', 'frozenset', 'get_ipython', 'getattr', 'globals', 'hasattr', 'hash', 'help', 'hex', 'id', 'input', 'int', 'isinstance', 'issubclass', 'iter', 'len', 'license', 'list', 'locals', 'map', 'max', 'memoryview', 'min', 'next', 'object', 'oct', 'open', 'ord', 'pow', 'print', 'property', 'range', 'repr', 'reversed', 'round', 'set', 'setattr', 'slice', 'sorted', 'staticmethod', 'str', 'sum', 'super', 'tuple', 'type', 'vars', 'zip']\n",
      "{'x': 1}\n",
      "3422929751597760572\n",
      "485696759010151909\n",
      "Help on built-in function max in module builtins:\n",
      "\n",
      "max(...)\n",
      "    max(iterable, *[, default=obj, key=func]) -> value\n",
      "    max(arg1, arg2, *args, *[, key=func]) -> value\n",
      "    \n",
      "    With a single iterable argument, return its biggest item. The\n",
      "    default keyword-only argument specifies an object to return if\n",
      "    the provided iterable is empty.\n",
      "    With two or more arguments, return the largest argument.\n",
      "\n",
      "None\n",
      "Help on function func in module __main__:\n",
      "\n",
      "func()\n",
      "    # 15 查看文档注释\n",
      "\n",
      "None\n",
      "2\n",
      "2\n",
      "A\n",
      "2\n",
      "[5, 3, 4, 1]\n",
      "[1, 4, 3, 5]\n",
      "4\n",
      "3\n",
      "['b', 'd']\n",
      "(2, 4)\n",
      "10\n",
      "[('h', 'x'), ('e', 'y'), ('l', 'z')]\n",
      "[('h', 1), ('e', 2), ('l', 3), ('l', 4), ('o', 5)]\n"
     ]
    }
   ],
   "source": [
    "# 1 取绝对值\n",
    "print(abs(-1))  # 绝对值\n",
    "\n",
    "# 2 逻辑判断\n",
    "print(all([1, 'a', True]))  # 列表中所有元素的布尔值为真，最终结果才为真\n",
    "print(any([0, 'a', None, False]))  # 列表中所有元素的布尔值只要有一个为真，最终结果就为真\n",
    "print(any([]))  # 传给any的可迭代对象如果为空，最终结果为假\n",
    "\n",
    "# 3 进制转换\n",
    "print(bin(11))  # 十进制转二进制\n",
    "print(oct(11))  # 十进制转八进制\n",
    "print(hex(11))  # 十进制转十六进制\n",
    "\n",
    "# 4 布尔值判断\n",
    "print(bool(0))  # 0,None,空的布尔值为假\n",
    "\n",
    "# 5 bytes类型构造\n",
    "# res='你好Albert'.encode('utf-8') # unicode按照utf-8进行编码，得到的结果为bytes类型\n",
    "res = bytes('你好Albert', encoding='utf-8')  # 同上\n",
    "print(res)\n",
    "\n",
    "\n",
    "# 6 对象是否可调用\n",
    "def func():\n",
    "    pass\n",
    "\n",
    "\n",
    "print(callable(func))  # 判断某个对象是否是可以调用的，可调用指的是可以加括号执行某个功能\n",
    "print(callable('abc'.strip))  # 判断某个对象是否是可以调用的，可调用指的是可以加括号执行某个功能\n",
    "print(callable(max))  # 判断某个对象是否是可以调用的，可调用指的是可以加括号执行某个功能\n",
    "\n",
    "# 7 字符与十进制转换\n",
    "print(chr(90))  # 按照ascii码表将十进制数字转成字符\n",
    "print(ord('Z'))  # 按照ascii码表将字符转成十进制数字\n",
    "\n",
    "# 8 查看对象下可调用的方法\n",
    "print(dir('abc'))  # 查看某个对象下可以调用到哪些方法\n",
    "\n",
    "# 9 去商和余数，返回元组\n",
    "print(divmod(1311, 25))\n",
    "\n",
    "# 10 将字符内的表达式拿出运行一下，并拿到该表达式的执行结果\n",
    "res1 = eval('2*3')\n",
    "print(res1, type(res1))\n",
    "res2 = eval('[1,2,3,4]')\n",
    "print(res2, type(res2))\n",
    "res3 = eval('{\"name\":\"Albert\",\"age\":18}')\n",
    "print(res3, type(res3))\n",
    "\n",
    "# 11 集合添加\n",
    "s = {1, 2, 3}\n",
    "s.add(4)  # 集合添加一个元素\n",
    "print(s)\n",
    "\n",
    "# 12 不可变集合\n",
    "f_set = frozenset({1, 2, 3})  # 不可变集合\n",
    "\n",
    "# 13 名字与值的绑定关系\n",
    "x = 2\n",
    "print(globals())  # 查看全局作用域中的名字与值的绑定关系\n",
    "print(dir(globals()['__builtins__']))\n",
    "\n",
    "\n",
    "def func():\n",
    "    x = 1\n",
    "    print(locals())  # 查看局部作用域中的名字与值的绑定关系\n",
    "\n",
    "\n",
    "func()\n",
    "\n",
    "# 14 哈希\n",
    "print(hash('a'))\n",
    "print(hash((1, 2, 3, 4)))\n",
    "\n",
    "\n",
    "# dict1 = {[1, 2, 3]: 'a'}  # 报错，字典的key必须是不可变类型\n",
    "\n",
    "# 不可hash的类型list,dict,set==  可变的类型\n",
    "# 可hash的类型int,float,str,tuple ==  不可变的类型\n",
    "\n",
    "# 哈希下一章节会有更加详细的讲解，这里先了解即可\n",
    "\n",
    "# 15 查看文档注释\n",
    "def func():\n",
    "#     \"\"\"\n",
    "#     帮助信息\n",
    "#     :return:\n",
    "#     \"\"\"\n",
    "    pass\n",
    "\n",
    "\n",
    "print(help(max))  # 查看文档注释\n",
    "print(help(func))\n",
    "\n",
    "# 16 len，next，iter等自动执行的方法\n",
    "# __开头__结尾的方法都是在某种情况下自动触发执行，通常我们不需要自己写\n",
    "print(len({'x': 1, 'y': 2}))  # 触发 {'x':1,'y':2}.__len__()\n",
    "print({'x': 1, 'y': 2}.__len__())  # 与上面等同\n",
    "obj = iter('Albert')  # 'Albert'.__iter__()\n",
    "print(next(obj))  # obj.__next__()\n",
    "\n",
    "# 17 2**3 % 3\n",
    "print(pow(2, 3, 3))  # 2 ** 3 % 3\n",
    "\n",
    "# 18 反转顺序\n",
    "l = [1, 4, 3, 5]\n",
    "res = reversed(l)\n",
    "print(list(res))\n",
    "print(l)\n",
    "\n",
    "# 19 四舍五入\n",
    "print(round(3.5))\n",
    "print(round(3.4))\n",
    "\n",
    "# 20 切片对象\n",
    "sc = slice(1, 5, 2)  # 1:5:2\n",
    "l = ['a', 'b', 'c', 'd', 'e', 'f']\n",
    "# print(l[1:5:2])\n",
    "print(l[sc])\n",
    "\n",
    "t = (1, 2, 3, 4, 5, 6, 7, 8)\n",
    "# print(t[1:5:2])\n",
    "print(t[sc])\n",
    "\n",
    "# 21 求和\n",
    "print(sum([1, 2, 3, 4]))\n",
    "\n",
    "# 22 拉链函数\n",
    "left = 'hello'\n",
    "right1 = {'x': 1, 'y': 2, 'z': 3}\n",
    "right2 = [1, 2, 3, 4, 5]\n",
    "\n",
    "res1 = zip(left, right1)\n",
    "res2 = zip(left, right2)\n",
    "print(list(res1))\n",
    "print(list(res2))"
   ]
  },
  {
   "cell_type": "markdown",
   "metadata": {},
   "source": [
    "# 列表生成式！ "
   ]
  },
  {
   "cell_type": "code",
   "execution_count": 25,
   "metadata": {},
   "outputs": [
    {
     "name": "stdout",
     "output_type": "stream",
     "text": [
      "['egg0', 'egg1', 'egg2', 'egg3', 'egg4', 'egg5', 'egg6', 'egg7', 'egg8', 'egg9']\n",
      "['egg11', 'egg12', 'egg13', 'egg14', 'egg15', 'egg16', 'egg17', 'egg18', 'egg19']\n"
     ]
    }
   ],
   "source": [
    "# 要求：造出来1000个蛋\n",
    "l = []\n",
    "for i in range(1000):\n",
    "    l.append('egg%s' % i)\n",
    "\n",
    "# 使用列表生成式\n",
    "l1 = ['egg%s' % i for i in range(10)]\n",
    "l2 = ['egg%s' % i for i in range(20) if i > 10]  # 可以有if条件，注意和三元表达式的区别\n",
    "print(l1)\n",
    "print(l2)\n",
    "\n",
    "# 列表生成式语法格式\n",
    "# \"\"\"\n",
    "# [\n",
    "# expression for item1 in iterable1 if condition1\n",
    "#                 for item2 in iterable2 if condition2\n",
    "#                     ...\n",
    "#                         for itemN in iterableN if conditionN\n",
    "# ]\n",
    "# \"\"\""
   ]
  },
  {
   "cell_type": "markdown",
   "metadata": {},
   "source": [
    "## 2. 使用注意事项\n",
    "使用列表生成式可以有多个for循环和多个if条件，但是一般情况下我们只写一组，就像上面代码中写的，如果你在列表生成式中写了多个for循环和if条件就丧失了程序设计的简洁性，这并不符合Python的语法风格。\n",
    "\n",
    "## 3. 列表生成式提升效率\n",
    "从底层上讲，列表生成式是在构建列表的过程中，在列表中放入多个元素，而我们前面普通的方式是先创建一个空列表，再逐一添加元素，很明显这种普通的方式会徒增插入的时间，这个时间虽然并不是很多，但是当数据量足够大的时候会有明显的差距。\n",
    "\n",
    "举例说明一下，你需要一个一个的清洗10个苹果，然后再把这10个苹果放进冰箱，第一种方案：把10个苹果分别清洗好了，逐一放进冰箱，这中间肯定有多次重复开关冰箱门的操作；第二种方案：先清洗好10个苹果，一次开关冰箱门，统一放进冰箱。"
   ]
  },
  {
   "cell_type": "code",
   "execution_count": 28,
   "metadata": {},
   "outputs": [
    {
     "name": "stdout",
     "output_type": "stream",
     "text": [
      "0.313159704208374\n",
      "0.7131059169769287\n"
     ]
    }
   ],
   "source": [
    "# \"\"\"\n",
    "# 因为我们要造的数据内容是一样的，为了避免你多余的顾虑（后面的代码覆盖前面的数据，这其实不存在）\n",
    "# 因而后面的可能会快一些这种错误的想法，我们把列表生成式放到前面\n",
    "# \"\"\"\n",
    "\n",
    "import time\n",
    "\n",
    "# 使用列表生成式\n",
    "time1 = time.time()\n",
    "\n",
    "l1 = ['egg%s' % i for i in range(1000000)]\n",
    "\n",
    "time2 = time.time()\n",
    "print(time2 - time1)\n",
    "\n",
    "# 使用普通方式\n",
    "time3 = time.time()\n",
    "\n",
    "l = []\n",
    "for i in range(1000000):\n",
    "    l.append('egg%s' % i)\n",
    "time4 = time.time()\n",
    "\n",
    "print(time4 - time1)"
   ]
  },
  {
   "cell_type": "markdown",
   "metadata": {},
   "source": [
    "你可以清楚的看到使用列表生成式的执行效率明显高于普通的方式，所以，在合适的场景下使用列表生成式是一个不错的选择，既能简化代码，又能提高效率，但是比如有些情况，你需要优化程序，而所有的优化手段都用上了还不够，再优化的话就是使用比较复杂的列表生成式了，这也未尝不可，具体还要自己权衡。我需要告诉你的是：\n",
    "\n",
    "如果真的要用复杂的列表生成式，前提一定是你已经使用了所有的其他优化方式还不能到达预期，因为列表生成式提升效率并不是按照数量级来提升的。\n",
    "提升硬件性能的优化远比从软件上深层优化容易得多，提升硬件性能的花费一定会比工程师时间上的花费所兑换的金钱要少。"
   ]
  },
  {
   "cell_type": "code",
   "execution_count": null,
   "metadata": {},
   "outputs": [],
   "source": []
  }
 ],
 "metadata": {
  "kernelspec": {
   "display_name": "Python 3",
   "language": "python",
   "name": "python3"
  },
  "language_info": {
   "codemirror_mode": {
    "name": "ipython",
    "version": 3
   },
   "file_extension": ".py",
   "mimetype": "text/x-python",
   "name": "python",
   "nbconvert_exporter": "python",
   "pygments_lexer": "ipython3",
   "version": "3.6.7"
  }
 },
 "nbformat": 4,
 "nbformat_minor": 2
}
