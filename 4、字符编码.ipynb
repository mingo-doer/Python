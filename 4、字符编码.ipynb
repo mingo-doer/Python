{
 "cells": [
  {
   "cell_type": "markdown",
   "metadata": {},
   "source": [
    "1.    理解字符编码的原理，了解字符编码的发展过程2.    清楚知道Python2 和Python3中字符串类型的区别思考话题：使用Python什么情况下会出现乱码详细说明"
   ]
  },
  {
   "cell_type": "markdown",
   "metadata": {},
   "source": [
    "python什么时候会出乱码\n",
    "1、解释器读取文件时字符编码异同\n",
    "2、解释器执行文件时字符编码异同\n",
    "3. 字符编码的转换\n",
    "4. Python2两种字符串类型的区别\n",
    "5. 字符编码的保存与取值原理"
   ]
  },
  {
   "cell_type": "markdown",
   "metadata": {},
   "source": [
    "在Python3中所有的字符串都是用unicode编码来保存（不需要前面加“u”），字符串的数据类型也只有一个，就是str，只要是用unicode来保存的，那么所有的字符串在任何情况下都不会出现乱码，"
   ]
  },
  {
   "cell_type": "markdown",
   "metadata": {},
   "source": [
    "1.    字符编码的原理8个二进制位是一个字节（byte），1000b=1kb，1000kb=1M2.    保证不乱码的核心就是用什么编码存的，就用什么编码读取，原则上，我们要在自己写的代码头部加上代码声明，详见第一章尾部文件头的概念，# -*- coding: utf-8 -*- "
   ]
  },
  {
   "cell_type": "markdown",
   "metadata": {},
   "source": [
    " Utf-8是通用的编码，如果没有特殊要求，尽可能使所有都是utf-8格式"
   ]
  }
 ],
 "metadata": {
  "kernelspec": {
   "display_name": "Python 3",
   "language": "python",
   "name": "python3"
  },
  "language_info": {
   "codemirror_mode": {
    "name": "ipython",
    "version": 3
   },
   "file_extension": ".py",
   "mimetype": "text/x-python",
   "name": "python",
   "nbconvert_exporter": "python",
   "pygments_lexer": "ipython3",
   "version": "3.6.7"
  }
 },
 "nbformat": 4,
 "nbformat_minor": 2
}
